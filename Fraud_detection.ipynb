{
  "nbformat": 4,
  "nbformat_minor": 0,
  "metadata": {
    "colab": {
      "name": "Fraud_detection.ipynb",
      "version": "0.3.2",
      "provenance": []
    },
    "kernelspec": {
      "name": "python3",
      "display_name": "Python 3"
    }
  },
  "cells": [
    {
      "cell_type": "markdown",
      "metadata": {
        "id": "2p6KMezD4z9n",
        "colab_type": "text"
      },
      "source": [
        "# Introduction "
      ]
    },
    {
      "cell_type": "code",
      "metadata": {
        "id": "8VtLrJIiYlN-",
        "colab_type": "code",
        "outputId": "0bd18e10-e5af-4c69-cb4c-81cea52e7f1e",
        "colab": {
          "base_uri": "https://localhost:8080/",
          "height": 34
        }
      },
      "source": [
        "from google.colab import drive \n",
        "drive.mount('/content/gdrive')"
      ],
      "execution_count": 1,
      "outputs": [
        {
          "output_type": "stream",
          "text": [
            "Drive already mounted at /content/gdrive; to attempt to forcibly remount, call drive.mount(\"/content/gdrive\", force_remount=True).\n"
          ],
          "name": "stdout"
        }
      ]
    },
    {
      "cell_type": "code",
      "metadata": {
        "id": "iGhTWQGAYlSf",
        "colab_type": "code",
        "outputId": "236d45e4-fc05-4019-8de3-a5af4c2b3d52",
        "colab": {
          "base_uri": "https://localhost:8080/",
          "height": 71
        }
      },
      "source": [
        "#import libraries \n",
        "import pandas as pd\n",
        "import numpy as np\n",
        "import seaborn as sns\n",
        "from imblearn.over_sampling import SMOTE\n",
        "from sklearn.metrics import confusion_matrix\n",
        "from sklearn.preprocessing import Imputer\n",
        "from sklearn.metrics import f1_score\n",
        "\n",
        "from sklearn.svm import SVC\n",
        "\n",
        "import xgboost as XGB\n",
        "from sklearn.ensemble import RandomForestClassifier, GradientBoostingClassifier\n",
        "from sklearn.model_selection import train_test_split\n",
        "from sklearn.preprocessing import LabelEncoder\n",
        "import warnings\n",
        "warnings.filterwarnings('ignore')"
      ],
      "execution_count": 2,
      "outputs": [
        {
          "output_type": "stream",
          "text": [
            "/usr/local/lib/python3.6/dist-packages/sklearn/externals/six.py:31: DeprecationWarning: The module is deprecated in version 0.21 and will be removed in version 0.23 since we've dropped support for Python 2.7. Please rely on the official version of six (https://pypi.org/project/six/).\n",
            "  \"(https://pypi.org/project/six/).\", DeprecationWarning)\n"
          ],
          "name": "stderr"
        }
      ]
    },
    {
      "cell_type": "code",
      "metadata": {
        "id": "drA1YzhhYlUQ",
        "colab_type": "code",
        "colab": {}
      },
      "source": [
        "var_def = pd.read_csv('gdrive/My Drive/Colab Notebooks/Busura/Fraud_Detection/Variable_def.csv')\n",
        "test_df = pd.read_csv('gdrive/My Drive/Colab Notebooks/Busura/Fraud_Detection/test.csv')\n",
        "training_df = pd.read_csv('gdrive/My Drive/Colab Notebooks/Busura/Fraud_Detection/training.csv')\n"
      ],
      "execution_count": 0,
      "outputs": []
    },
    {
      "cell_type": "code",
      "metadata": {
        "id": "srDT1sLsxxwy",
        "colab_type": "code",
        "outputId": "ccce2c62-6862-4c82-aa99-bf7903b77023",
        "colab": {
          "base_uri": "https://localhost:8080/",
          "height": 545
        }
      },
      "source": [
        "var_def"
      ],
      "execution_count": 4,
      "outputs": [
        {
          "output_type": "execute_result",
          "data": {
            "text/html": [
              "<div>\n",
              "<style scoped>\n",
              "    .dataframe tbody tr th:only-of-type {\n",
              "        vertical-align: middle;\n",
              "    }\n",
              "\n",
              "    .dataframe tbody tr th {\n",
              "        vertical-align: top;\n",
              "    }\n",
              "\n",
              "    .dataframe thead th {\n",
              "        text-align: right;\n",
              "    }\n",
              "</style>\n",
              "<table border=\"1\" class=\"dataframe\">\n",
              "  <thead>\n",
              "    <tr style=\"text-align: right;\">\n",
              "      <th></th>\n",
              "      <th>Column Name</th>\n",
              "      <th>Definition</th>\n",
              "    </tr>\n",
              "  </thead>\n",
              "  <tbody>\n",
              "    <tr>\n",
              "      <th>0</th>\n",
              "      <td>TransactionId</td>\n",
              "      <td>Unique �transaction identifier on platform</td>\n",
              "    </tr>\n",
              "    <tr>\n",
              "      <th>1</th>\n",
              "      <td>BatchId</td>\n",
              "      <td>Unique number assigned to a batch of transacti...</td>\n",
              "    </tr>\n",
              "    <tr>\n",
              "      <th>2</th>\n",
              "      <td>AccountId</td>\n",
              "      <td>Unique number identifying the customer on plat...</td>\n",
              "    </tr>\n",
              "    <tr>\n",
              "      <th>3</th>\n",
              "      <td>SubscriptionId</td>\n",
              "      <td>Unique number identifying the customer subscri...</td>\n",
              "    </tr>\n",
              "    <tr>\n",
              "      <th>4</th>\n",
              "      <td>CustomerId</td>\n",
              "      <td>Unique identifier attached to Account</td>\n",
              "    </tr>\n",
              "    <tr>\n",
              "      <th>5</th>\n",
              "      <td>CurrencyCode</td>\n",
              "      <td>Country currency</td>\n",
              "    </tr>\n",
              "    <tr>\n",
              "      <th>6</th>\n",
              "      <td>CountryCode</td>\n",
              "      <td>Numerical geographical code of country</td>\n",
              "    </tr>\n",
              "    <tr>\n",
              "      <th>7</th>\n",
              "      <td>ProviderId</td>\n",
              "      <td>Source provider of Item �bought.</td>\n",
              "    </tr>\n",
              "    <tr>\n",
              "      <th>8</th>\n",
              "      <td>ProductId</td>\n",
              "      <td>Item name being bought.</td>\n",
              "    </tr>\n",
              "    <tr>\n",
              "      <th>9</th>\n",
              "      <td>ProductCategory</td>\n",
              "      <td>ProductIds are organized into these broader pr...</td>\n",
              "    </tr>\n",
              "    <tr>\n",
              "      <th>10</th>\n",
              "      <td>ChannelId</td>\n",
              "      <td>Identifies if customer used web,Android, IOS, ...</td>\n",
              "    </tr>\n",
              "    <tr>\n",
              "      <th>11</th>\n",
              "      <td>Amount</td>\n",
              "      <td>Value of the transaction. Positive for debits ...</td>\n",
              "    </tr>\n",
              "    <tr>\n",
              "      <th>12</th>\n",
              "      <td>Value</td>\n",
              "      <td>Absolute value of the amount</td>\n",
              "    </tr>\n",
              "    <tr>\n",
              "      <th>13</th>\n",
              "      <td>TransactionStartTime</td>\n",
              "      <td>Transaction start time</td>\n",
              "    </tr>\n",
              "    <tr>\n",
              "      <th>14</th>\n",
              "      <td>PricingStrategy</td>\n",
              "      <td>Category of Xente's pricing structure for merc...</td>\n",
              "    </tr>\n",
              "    <tr>\n",
              "      <th>15</th>\n",
              "      <td>FraudResult</td>\n",
              "      <td>Fraud status of transaction 1 -yes or 0-No</td>\n",
              "    </tr>\n",
              "  </tbody>\n",
              "</table>\n",
              "</div>"
            ],
            "text/plain": [
              "             Column Name                                         Definition\n",
              "0          TransactionId         Unique �transaction identifier on platform\n",
              "1                BatchId  Unique number assigned to a batch of transacti...\n",
              "2              AccountId  Unique number identifying the customer on plat...\n",
              "3         SubscriptionId  Unique number identifying the customer subscri...\n",
              "4             CustomerId              Unique identifier attached to Account\n",
              "5           CurrencyCode                                   Country currency\n",
              "6            CountryCode             Numerical geographical code of country\n",
              "7             ProviderId                   Source provider of Item �bought.\n",
              "8              ProductId                            Item name being bought.\n",
              "9        ProductCategory  ProductIds are organized into these broader pr...\n",
              "10             ChannelId  Identifies if customer used web,Android, IOS, ...\n",
              "11                Amount  Value of the transaction. Positive for debits ...\n",
              "12                 Value                       Absolute value of the amount\n",
              "13  TransactionStartTime                             Transaction start time\n",
              "14       PricingStrategy  Category of Xente's pricing structure for merc...\n",
              "15           FraudResult         Fraud status of transaction 1 -yes or 0-No"
            ]
          },
          "metadata": {
            "tags": []
          },
          "execution_count": 4
        }
      ]
    },
    {
      "cell_type": "code",
      "metadata": {
        "id": "_zsbtxh9x0hC",
        "colab_type": "code",
        "outputId": "41022f88-6b36-424a-ff5e-31752c46d949",
        "colab": {
          "base_uri": "https://localhost:8080/",
          "height": 224
        }
      },
      "source": [
        "test_df.head()"
      ],
      "execution_count": 5,
      "outputs": [
        {
          "output_type": "execute_result",
          "data": {
            "text/html": [
              "<div>\n",
              "<style scoped>\n",
              "    .dataframe tbody tr th:only-of-type {\n",
              "        vertical-align: middle;\n",
              "    }\n",
              "\n",
              "    .dataframe tbody tr th {\n",
              "        vertical-align: top;\n",
              "    }\n",
              "\n",
              "    .dataframe thead th {\n",
              "        text-align: right;\n",
              "    }\n",
              "</style>\n",
              "<table border=\"1\" class=\"dataframe\">\n",
              "  <thead>\n",
              "    <tr style=\"text-align: right;\">\n",
              "      <th></th>\n",
              "      <th>TransactionId</th>\n",
              "      <th>BatchId</th>\n",
              "      <th>AccountId</th>\n",
              "      <th>SubscriptionId</th>\n",
              "      <th>CustomerId</th>\n",
              "      <th>CurrencyCode</th>\n",
              "      <th>CountryCode</th>\n",
              "      <th>ProviderId</th>\n",
              "      <th>ProductId</th>\n",
              "      <th>ProductCategory</th>\n",
              "      <th>ChannelId</th>\n",
              "      <th>Amount</th>\n",
              "      <th>Value</th>\n",
              "      <th>TransactionStartTime</th>\n",
              "      <th>PricingStrategy</th>\n",
              "    </tr>\n",
              "  </thead>\n",
              "  <tbody>\n",
              "    <tr>\n",
              "      <th>0</th>\n",
              "      <td>TransactionId_50600</td>\n",
              "      <td>BatchId_35028</td>\n",
              "      <td>AccountId_2441</td>\n",
              "      <td>SubscriptionId_4426</td>\n",
              "      <td>CustomerId_2857</td>\n",
              "      <td>UGX</td>\n",
              "      <td>256</td>\n",
              "      <td>ProviderId_5</td>\n",
              "      <td>ProductId_3</td>\n",
              "      <td>airtime</td>\n",
              "      <td>ChannelId_3</td>\n",
              "      <td>1000.0</td>\n",
              "      <td>1000</td>\n",
              "      <td>2019-02-13T10:01:40Z</td>\n",
              "      <td>4</td>\n",
              "    </tr>\n",
              "    <tr>\n",
              "      <th>1</th>\n",
              "      <td>TransactionId_95109</td>\n",
              "      <td>BatchId_45139</td>\n",
              "      <td>AccountId_3439</td>\n",
              "      <td>SubscriptionId_2643</td>\n",
              "      <td>CustomerId_3874</td>\n",
              "      <td>UGX</td>\n",
              "      <td>256</td>\n",
              "      <td>ProviderId_5</td>\n",
              "      <td>ProductId_15</td>\n",
              "      <td>financial_services</td>\n",
              "      <td>ChannelId_3</td>\n",
              "      <td>2000.0</td>\n",
              "      <td>2000</td>\n",
              "      <td>2019-02-13T10:02:12Z</td>\n",
              "      <td>2</td>\n",
              "    </tr>\n",
              "    <tr>\n",
              "      <th>2</th>\n",
              "      <td>TransactionId_47357</td>\n",
              "      <td>BatchId_74887</td>\n",
              "      <td>AccountId_4841</td>\n",
              "      <td>SubscriptionId_3829</td>\n",
              "      <td>CustomerId_2857</td>\n",
              "      <td>UGX</td>\n",
              "      <td>256</td>\n",
              "      <td>ProviderId_4</td>\n",
              "      <td>ProductId_6</td>\n",
              "      <td>financial_services</td>\n",
              "      <td>ChannelId_2</td>\n",
              "      <td>-50.0</td>\n",
              "      <td>50</td>\n",
              "      <td>2019-02-13T10:02:30Z</td>\n",
              "      <td>2</td>\n",
              "    </tr>\n",
              "    <tr>\n",
              "      <th>3</th>\n",
              "      <td>TransactionId_28185</td>\n",
              "      <td>BatchId_11025</td>\n",
              "      <td>AccountId_2685</td>\n",
              "      <td>SubscriptionId_4626</td>\n",
              "      <td>CustomerId_3105</td>\n",
              "      <td>UGX</td>\n",
              "      <td>256</td>\n",
              "      <td>ProviderId_5</td>\n",
              "      <td>ProductId_10</td>\n",
              "      <td>airtime</td>\n",
              "      <td>ChannelId_3</td>\n",
              "      <td>3000.0</td>\n",
              "      <td>3000</td>\n",
              "      <td>2019-02-13T10:02:38Z</td>\n",
              "      <td>4</td>\n",
              "    </tr>\n",
              "    <tr>\n",
              "      <th>4</th>\n",
              "      <td>TransactionId_22140</td>\n",
              "      <td>BatchId_29804</td>\n",
              "      <td>AccountId_4841</td>\n",
              "      <td>SubscriptionId_3829</td>\n",
              "      <td>CustomerId_3105</td>\n",
              "      <td>UGX</td>\n",
              "      <td>256</td>\n",
              "      <td>ProviderId_4</td>\n",
              "      <td>ProductId_6</td>\n",
              "      <td>financial_services</td>\n",
              "      <td>ChannelId_2</td>\n",
              "      <td>-60.0</td>\n",
              "      <td>60</td>\n",
              "      <td>2019-02-13T10:02:58Z</td>\n",
              "      <td>2</td>\n",
              "    </tr>\n",
              "  </tbody>\n",
              "</table>\n",
              "</div>"
            ],
            "text/plain": [
              "         TransactionId        BatchId  ...  TransactionStartTime PricingStrategy\n",
              "0  TransactionId_50600  BatchId_35028  ...  2019-02-13T10:01:40Z               4\n",
              "1  TransactionId_95109  BatchId_45139  ...  2019-02-13T10:02:12Z               2\n",
              "2  TransactionId_47357  BatchId_74887  ...  2019-02-13T10:02:30Z               2\n",
              "3  TransactionId_28185  BatchId_11025  ...  2019-02-13T10:02:38Z               4\n",
              "4  TransactionId_22140  BatchId_29804  ...  2019-02-13T10:02:58Z               2\n",
              "\n",
              "[5 rows x 15 columns]"
            ]
          },
          "metadata": {
            "tags": []
          },
          "execution_count": 5
        }
      ]
    },
    {
      "cell_type": "code",
      "metadata": {
        "id": "RfJcDMT6x7EH",
        "colab_type": "code",
        "outputId": "32f25352-1d0b-4626-ccf1-8a8779300dcf",
        "colab": {
          "base_uri": "https://localhost:8080/",
          "height": 34
        }
      },
      "source": [
        "test_df.shape[0]"
      ],
      "execution_count": 6,
      "outputs": [
        {
          "output_type": "execute_result",
          "data": {
            "text/plain": [
              "45019"
            ]
          },
          "metadata": {
            "tags": []
          },
          "execution_count": 6
        }
      ]
    },
    {
      "cell_type": "code",
      "metadata": {
        "id": "iBJV3QJKx9Fk",
        "colab_type": "code",
        "outputId": "d5fa4779-4c3d-4ef9-ab47-b1bed478e84e",
        "colab": {
          "base_uri": "https://localhost:8080/",
          "height": 224
        }
      },
      "source": [
        "training_df.head()"
      ],
      "execution_count": 7,
      "outputs": [
        {
          "output_type": "execute_result",
          "data": {
            "text/html": [
              "<div>\n",
              "<style scoped>\n",
              "    .dataframe tbody tr th:only-of-type {\n",
              "        vertical-align: middle;\n",
              "    }\n",
              "\n",
              "    .dataframe tbody tr th {\n",
              "        vertical-align: top;\n",
              "    }\n",
              "\n",
              "    .dataframe thead th {\n",
              "        text-align: right;\n",
              "    }\n",
              "</style>\n",
              "<table border=\"1\" class=\"dataframe\">\n",
              "  <thead>\n",
              "    <tr style=\"text-align: right;\">\n",
              "      <th></th>\n",
              "      <th>TransactionId</th>\n",
              "      <th>BatchId</th>\n",
              "      <th>AccountId</th>\n",
              "      <th>SubscriptionId</th>\n",
              "      <th>CustomerId</th>\n",
              "      <th>CurrencyCode</th>\n",
              "      <th>CountryCode</th>\n",
              "      <th>ProviderId</th>\n",
              "      <th>ProductId</th>\n",
              "      <th>ProductCategory</th>\n",
              "      <th>ChannelId</th>\n",
              "      <th>Amount</th>\n",
              "      <th>Value</th>\n",
              "      <th>TransactionStartTime</th>\n",
              "      <th>PricingStrategy</th>\n",
              "      <th>FraudResult</th>\n",
              "    </tr>\n",
              "  </thead>\n",
              "  <tbody>\n",
              "    <tr>\n",
              "      <th>0</th>\n",
              "      <td>TransactionId_76871</td>\n",
              "      <td>BatchId_36123</td>\n",
              "      <td>AccountId_3957</td>\n",
              "      <td>SubscriptionId_887</td>\n",
              "      <td>CustomerId_4406</td>\n",
              "      <td>UGX</td>\n",
              "      <td>256</td>\n",
              "      <td>ProviderId_6</td>\n",
              "      <td>ProductId_10</td>\n",
              "      <td>airtime</td>\n",
              "      <td>ChannelId_3</td>\n",
              "      <td>1000.0</td>\n",
              "      <td>1000</td>\n",
              "      <td>2018-11-15T02:18:49Z</td>\n",
              "      <td>2</td>\n",
              "      <td>0</td>\n",
              "    </tr>\n",
              "    <tr>\n",
              "      <th>1</th>\n",
              "      <td>TransactionId_73770</td>\n",
              "      <td>BatchId_15642</td>\n",
              "      <td>AccountId_4841</td>\n",
              "      <td>SubscriptionId_3829</td>\n",
              "      <td>CustomerId_4406</td>\n",
              "      <td>UGX</td>\n",
              "      <td>256</td>\n",
              "      <td>ProviderId_4</td>\n",
              "      <td>ProductId_6</td>\n",
              "      <td>financial_services</td>\n",
              "      <td>ChannelId_2</td>\n",
              "      <td>-20.0</td>\n",
              "      <td>20</td>\n",
              "      <td>2018-11-15T02:19:08Z</td>\n",
              "      <td>2</td>\n",
              "      <td>0</td>\n",
              "    </tr>\n",
              "    <tr>\n",
              "      <th>2</th>\n",
              "      <td>TransactionId_26203</td>\n",
              "      <td>BatchId_53941</td>\n",
              "      <td>AccountId_4229</td>\n",
              "      <td>SubscriptionId_222</td>\n",
              "      <td>CustomerId_4683</td>\n",
              "      <td>UGX</td>\n",
              "      <td>256</td>\n",
              "      <td>ProviderId_6</td>\n",
              "      <td>ProductId_1</td>\n",
              "      <td>airtime</td>\n",
              "      <td>ChannelId_3</td>\n",
              "      <td>500.0</td>\n",
              "      <td>500</td>\n",
              "      <td>2018-11-15T02:44:21Z</td>\n",
              "      <td>2</td>\n",
              "      <td>0</td>\n",
              "    </tr>\n",
              "    <tr>\n",
              "      <th>3</th>\n",
              "      <td>TransactionId_380</td>\n",
              "      <td>BatchId_102363</td>\n",
              "      <td>AccountId_648</td>\n",
              "      <td>SubscriptionId_2185</td>\n",
              "      <td>CustomerId_988</td>\n",
              "      <td>UGX</td>\n",
              "      <td>256</td>\n",
              "      <td>ProviderId_1</td>\n",
              "      <td>ProductId_21</td>\n",
              "      <td>utility_bill</td>\n",
              "      <td>ChannelId_3</td>\n",
              "      <td>20000.0</td>\n",
              "      <td>21800</td>\n",
              "      <td>2018-11-15T03:32:55Z</td>\n",
              "      <td>2</td>\n",
              "      <td>0</td>\n",
              "    </tr>\n",
              "    <tr>\n",
              "      <th>4</th>\n",
              "      <td>TransactionId_28195</td>\n",
              "      <td>BatchId_38780</td>\n",
              "      <td>AccountId_4841</td>\n",
              "      <td>SubscriptionId_3829</td>\n",
              "      <td>CustomerId_988</td>\n",
              "      <td>UGX</td>\n",
              "      <td>256</td>\n",
              "      <td>ProviderId_4</td>\n",
              "      <td>ProductId_6</td>\n",
              "      <td>financial_services</td>\n",
              "      <td>ChannelId_2</td>\n",
              "      <td>-644.0</td>\n",
              "      <td>644</td>\n",
              "      <td>2018-11-15T03:34:21Z</td>\n",
              "      <td>2</td>\n",
              "      <td>0</td>\n",
              "    </tr>\n",
              "  </tbody>\n",
              "</table>\n",
              "</div>"
            ],
            "text/plain": [
              "         TransactionId         BatchId  ... PricingStrategy FraudResult\n",
              "0  TransactionId_76871   BatchId_36123  ...               2           0\n",
              "1  TransactionId_73770   BatchId_15642  ...               2           0\n",
              "2  TransactionId_26203   BatchId_53941  ...               2           0\n",
              "3    TransactionId_380  BatchId_102363  ...               2           0\n",
              "4  TransactionId_28195   BatchId_38780  ...               2           0\n",
              "\n",
              "[5 rows x 16 columns]"
            ]
          },
          "metadata": {
            "tags": []
          },
          "execution_count": 7
        }
      ]
    },
    {
      "cell_type": "code",
      "metadata": {
        "id": "Te0U8hLDyBr7",
        "colab_type": "code",
        "outputId": "df3824f0-b817-42de-c768-feb4c4d08d97",
        "colab": {
          "base_uri": "https://localhost:8080/",
          "height": 34
        }
      },
      "source": [
        "training_df.shape[0]"
      ],
      "execution_count": 8,
      "outputs": [
        {
          "output_type": "execute_result",
          "data": {
            "text/plain": [
              "95662"
            ]
          },
          "metadata": {
            "tags": []
          },
          "execution_count": 8
        }
      ]
    },
    {
      "cell_type": "markdown",
      "metadata": {
        "id": "xtVrvsBnyI3s",
        "colab_type": "text"
      },
      "source": [
        "**NaN values**\n",
        "\n",
        "Lets see if there is any NaN values in the training and test dataset. "
      ]
    },
    {
      "cell_type": "code",
      "metadata": {
        "id": "u3Ig-IrFyD_4",
        "colab_type": "code",
        "outputId": "c436d760-3a19-478b-f59e-fbb75a3d2029",
        "colab": {
          "base_uri": "https://localhost:8080/",
          "height": 306
        }
      },
      "source": [
        "training_df.isna().sum() "
      ],
      "execution_count": 9,
      "outputs": [
        {
          "output_type": "execute_result",
          "data": {
            "text/plain": [
              "TransactionId           0\n",
              "BatchId                 0\n",
              "AccountId               0\n",
              "SubscriptionId          0\n",
              "CustomerId              0\n",
              "CurrencyCode            0\n",
              "CountryCode             0\n",
              "ProviderId              0\n",
              "ProductId               0\n",
              "ProductCategory         0\n",
              "ChannelId               0\n",
              "Amount                  0\n",
              "Value                   0\n",
              "TransactionStartTime    0\n",
              "PricingStrategy         0\n",
              "FraudResult             0\n",
              "dtype: int64"
            ]
          },
          "metadata": {
            "tags": []
          },
          "execution_count": 9
        }
      ]
    },
    {
      "cell_type": "code",
      "metadata": {
        "id": "loZURpFdyPC_",
        "colab_type": "code",
        "outputId": "0a77a9c4-5bc3-4244-83e9-6c37bd8b328f",
        "colab": {
          "base_uri": "https://localhost:8080/",
          "height": 289
        }
      },
      "source": [
        "test_df.isna().sum() "
      ],
      "execution_count": 10,
      "outputs": [
        {
          "output_type": "execute_result",
          "data": {
            "text/plain": [
              "TransactionId           0\n",
              "BatchId                 0\n",
              "AccountId               0\n",
              "SubscriptionId          0\n",
              "CustomerId              0\n",
              "CurrencyCode            0\n",
              "CountryCode             0\n",
              "ProviderId              0\n",
              "ProductId               0\n",
              "ProductCategory         0\n",
              "ChannelId               0\n",
              "Amount                  0\n",
              "Value                   0\n",
              "TransactionStartTime    0\n",
              "PricingStrategy         0\n",
              "dtype: int64"
            ]
          },
          "metadata": {
            "tags": []
          },
          "execution_count": 10
        }
      ]
    },
    {
      "cell_type": "markdown",
      "metadata": {
        "id": "b4Dfojc5ySjP",
        "colab_type": "text"
      },
      "source": [
        "**Ratio between fraud and non-fraud**\n",
        "\n",
        "We will now analyze the number of transaction that are fraud and the number of transaction that are non fraud. The target varaible is \"FraudResult\" and is found in the training dataset. \n"
      ]
    },
    {
      "cell_type": "code",
      "metadata": {
        "id": "5O2xiunQyRE0",
        "colab_type": "code",
        "outputId": "a43de4de-95d7-4787-da50-631ed7a822ca",
        "colab": {
          "base_uri": "https://localhost:8080/",
          "height": 515
        }
      },
      "source": [
        "from matplotlib import pyplot\n",
        "\n",
        "a4_dims = (11.7, 8.27)\n",
        "fig, ax = pyplot.subplots(figsize=a4_dims)\n",
        "sns.countplot(ax=ax,x='FraudResult',data=training_df);"
      ],
      "execution_count": 11,
      "outputs": [
        {
          "output_type": "display_data",
          "data": {
            "image/png": "[encoded data removed]",
            "text/plain": [
              "<Figure size 842.4x595.44 with 1 Axes>"
            ]
          },
          "metadata": {
            "tags": []
          }
        }
      ]
    },
    {
      "cell_type": "code",
      "metadata": {
        "id": "Bd-4ndWhzWOi",
        "colab_type": "code",
        "outputId": "b3534f93-dbdb-4ec8-ad7a-032f2e84f21c",
        "colab": {
          "base_uri": "https://localhost:8080/",
          "height": 68
        }
      },
      "source": [
        "training_df['FraudResult'].value_counts()"
      ],
      "execution_count": 12,
      "outputs": [
        {
          "output_type": "execute_result",
          "data": {
            "text/plain": [
              "0    95469\n",
              "1      193\n",
              "Name: FraudResult, dtype: int64"
            ]
          },
          "metadata": {
            "tags": []
          },
          "execution_count": 12
        }
      ]
    },
    {
      "cell_type": "markdown",
      "metadata": {
        "id": "XM9WccU5z7om",
        "colab_type": "text"
      },
      "source": [
        "As we can see the distribution of fraud vs non-fraud is skewed. With fraud being about 1/500 of the transactions. The conclusion is thus that it will be necessary to oversample or undersample the fraud subset of the data. "
      ]
    },
    {
      "cell_type": "markdown",
      "metadata": {
        "id": "0w5Uuh210mIK",
        "colab_type": "text"
      },
      "source": [
        "**Correlation between features and fraudresult**"
      ]
    },
    {
      "cell_type": "code",
      "metadata": {
        "id": "ss0JkZmzz5BP",
        "colab_type": "code",
        "outputId": "714c4365-ef04-43b7-b5ca-b6c2d02c8adc",
        "colab": {
          "base_uri": "https://localhost:8080/",
          "height": 523
        }
      },
      "source": [
        "sns.set(rc={'figure.figsize':(11.7,8.27)})\n",
        "sns.heatmap(training_df.corr(),annot=True)"
      ],
      "execution_count": 13,
      "outputs": [
        {
          "output_type": "execute_result",
          "data": {
            "text/plain": [
              "<matplotlib.axes._subplots.AxesSubplot at 0x7f576e757828>"
            ]
          },
          "metadata": {
            "tags": []
          },
          "execution_count": 13
        },
        {
          "output_type": "display_data",
          "data": {
            "image/png": "[encoded data removed]",
            "text/plain": [
              "<Figure size 842.4x595.44 with 2 Axes>"
            ]
          },
          "metadata": {
            "tags": []
          }
        }
      ]
    },
    {
      "cell_type": "code",
      "metadata": {
        "id": "RARwMVY80zz4",
        "colab_type": "code",
        "colab": {}
      },
      "source": [
        "fraud = training_df.loc[training_df['FraudResult'] == 1]\n"
      ],
      "execution_count": 0,
      "outputs": []
    },
    {
      "cell_type": "code",
      "metadata": {
        "id": "_AsF-xYC1xVs",
        "colab_type": "code",
        "outputId": "0d951ff3-65f6-4e0f-847d-463338022a0e",
        "colab": {
          "base_uri": "https://localhost:8080/",
          "height": 224
        }
      },
      "source": [
        "fraud.head()"
      ],
      "execution_count": 15,
      "outputs": [
        {
          "output_type": "execute_result",
          "data": {
            "text/html": [
              "<div>\n",
              "<style scoped>\n",
              "    .dataframe tbody tr th:only-of-type {\n",
              "        vertical-align: middle;\n",
              "    }\n",
              "\n",
              "    .dataframe tbody tr th {\n",
              "        vertical-align: top;\n",
              "    }\n",
              "\n",
              "    .dataframe thead th {\n",
              "        text-align: right;\n",
              "    }\n",
              "</style>\n",
              "<table border=\"1\" class=\"dataframe\">\n",
              "  <thead>\n",
              "    <tr style=\"text-align: right;\">\n",
              "      <th></th>\n",
              "      <th>TransactionId</th>\n",
              "      <th>BatchId</th>\n",
              "      <th>AccountId</th>\n",
              "      <th>SubscriptionId</th>\n",
              "      <th>CustomerId</th>\n",
              "      <th>CurrencyCode</th>\n",
              "      <th>CountryCode</th>\n",
              "      <th>ProviderId</th>\n",
              "      <th>ProductId</th>\n",
              "      <th>ProductCategory</th>\n",
              "      <th>ChannelId</th>\n",
              "      <th>Amount</th>\n",
              "      <th>Value</th>\n",
              "      <th>TransactionStartTime</th>\n",
              "      <th>PricingStrategy</th>\n",
              "      <th>FraudResult</th>\n",
              "    </tr>\n",
              "  </thead>\n",
              "  <tbody>\n",
              "    <tr>\n",
              "      <th>131</th>\n",
              "      <td>TransactionId_60873</td>\n",
              "      <td>BatchId_93685</td>\n",
              "      <td>AccountId_3832</td>\n",
              "      <td>SubscriptionId_4161</td>\n",
              "      <td>CustomerId_4275</td>\n",
              "      <td>UGX</td>\n",
              "      <td>256</td>\n",
              "      <td>ProviderId_3</td>\n",
              "      <td>ProductId_15</td>\n",
              "      <td>financial_services</td>\n",
              "      <td>ChannelId_3</td>\n",
              "      <td>700000.0</td>\n",
              "      <td>700000</td>\n",
              "      <td>2018-11-15T08:04:51Z</td>\n",
              "      <td>0</td>\n",
              "      <td>1</td>\n",
              "    </tr>\n",
              "    <tr>\n",
              "      <th>146</th>\n",
              "      <td>TransactionId_28016</td>\n",
              "      <td>BatchId_125553</td>\n",
              "      <td>AccountId_2366</td>\n",
              "      <td>SubscriptionId_4834</td>\n",
              "      <td>CustomerId_7414</td>\n",
              "      <td>UGX</td>\n",
              "      <td>256</td>\n",
              "      <td>ProviderId_5</td>\n",
              "      <td>ProductId_9</td>\n",
              "      <td>financial_services</td>\n",
              "      <td>ChannelId_1</td>\n",
              "      <td>725000.0</td>\n",
              "      <td>725000</td>\n",
              "      <td>2018-11-15T08:20:09Z</td>\n",
              "      <td>2</td>\n",
              "      <td>1</td>\n",
              "    </tr>\n",
              "    <tr>\n",
              "      <th>155</th>\n",
              "      <td>TransactionId_1149</td>\n",
              "      <td>BatchId_10381</td>\n",
              "      <td>AccountId_3832</td>\n",
              "      <td>SubscriptionId_4161</td>\n",
              "      <td>CustomerId_4275</td>\n",
              "      <td>UGX</td>\n",
              "      <td>256</td>\n",
              "      <td>ProviderId_3</td>\n",
              "      <td>ProductId_15</td>\n",
              "      <td>financial_services</td>\n",
              "      <td>ChannelId_3</td>\n",
              "      <td>700000.0</td>\n",
              "      <td>700000</td>\n",
              "      <td>2018-11-15T08:31:57Z</td>\n",
              "      <td>0</td>\n",
              "      <td>1</td>\n",
              "    </tr>\n",
              "    <tr>\n",
              "      <th>2376</th>\n",
              "      <td>TransactionId_136904</td>\n",
              "      <td>BatchId_52644</td>\n",
              "      <td>AccountId_3692</td>\n",
              "      <td>SubscriptionId_3451</td>\n",
              "      <td>CustomerId_4134</td>\n",
              "      <td>UGX</td>\n",
              "      <td>256</td>\n",
              "      <td>ProviderId_1</td>\n",
              "      <td>ProductId_15</td>\n",
              "      <td>financial_services</td>\n",
              "      <td>ChannelId_3</td>\n",
              "      <td>700000.0</td>\n",
              "      <td>700000</td>\n",
              "      <td>2018-11-17T09:15:23Z</td>\n",
              "      <td>0</td>\n",
              "      <td>1</td>\n",
              "    </tr>\n",
              "    <tr>\n",
              "      <th>2452</th>\n",
              "      <td>TransactionId_88818</td>\n",
              "      <td>BatchId_54481</td>\n",
              "      <td>AccountId_3832</td>\n",
              "      <td>SubscriptionId_4161</td>\n",
              "      <td>CustomerId_4275</td>\n",
              "      <td>UGX</td>\n",
              "      <td>256</td>\n",
              "      <td>ProviderId_3</td>\n",
              "      <td>ProductId_15</td>\n",
              "      <td>financial_services</td>\n",
              "      <td>ChannelId_3</td>\n",
              "      <td>700000.0</td>\n",
              "      <td>700000</td>\n",
              "      <td>2018-11-17T11:49:46Z</td>\n",
              "      <td>0</td>\n",
              "      <td>1</td>\n",
              "    </tr>\n",
              "  </tbody>\n",
              "</table>\n",
              "</div>"
            ],
            "text/plain": [
              "             TransactionId         BatchId  ... PricingStrategy FraudResult\n",
              "131    TransactionId_60873   BatchId_93685  ...               0           1\n",
              "146    TransactionId_28016  BatchId_125553  ...               2           1\n",
              "155     TransactionId_1149   BatchId_10381  ...               0           1\n",
              "2376  TransactionId_136904   BatchId_52644  ...               0           1\n",
              "2452   TransactionId_88818   BatchId_54481  ...               0           1\n",
              "\n",
              "[5 rows x 16 columns]"
            ]
          },
          "metadata": {
            "tags": []
          },
          "execution_count": 15
        }
      ]
    },
    {
      "cell_type": "code",
      "metadata": {
        "id": "OVeJbSwc2eEa",
        "colab_type": "code",
        "outputId": "e957a3a7-813d-4aa8-9e80-dcc4e30fd200",
        "colab": {
          "base_uri": "https://localhost:8080/",
          "height": 523
        }
      },
      "source": [
        "a4_dims = (11.7, 8.27)\n",
        "fig, ax = pyplot.subplots(figsize=a4_dims)\n",
        "sns.countplot(ax=ax,x='PricingStrategy',data=fraud);"
      ],
      "execution_count": 16,
      "outputs": [
        {
          "output_type": "display_data",
          "data": {
            "image/png": "[encoded data removed]",
            "text/plain": [
              "<Figure size 842.4x595.44 with 1 Axes>"
            ]
          },
          "metadata": {
            "tags": []
          }
        }
      ]
    },
    {
      "cell_type": "code",
      "metadata": {
        "id": "bpeqG4zJ2zc9",
        "colab_type": "code",
        "outputId": "74cfb46d-8e6e-40ea-84e1-e4d04617286f",
        "colab": {
          "base_uri": "https://localhost:8080/",
          "height": 524
        }
      },
      "source": [
        "a4_dims = (11.7, 8.27)\n",
        "fig, ax = pyplot.subplots(figsize=a4_dims)\n",
        "sns.countplot(ax=ax,x='ChannelId',data=fraud);"
      ],
      "execution_count": 17,
      "outputs": [
        {
          "output_type": "display_data",
          "data": {
            "image/png": "[encoded data removed]",
            "text/plain": [
              "<Figure size 842.4x595.44 with 1 Axes>"
            ]
          },
          "metadata": {
            "tags": []
          }
        }
      ]
    },
    {
      "cell_type": "code",
      "metadata": {
        "id": "_TdAwJyN25jD",
        "colab_type": "code",
        "outputId": "b720df7a-fb68-4df7-bdcc-034c5747b9bd",
        "colab": {
          "base_uri": "https://localhost:8080/",
          "height": 524
        }
      },
      "source": [
        "a4_dims = (11.7, 8.27)\n",
        "fig, ax = pyplot.subplots(figsize=a4_dims)\n",
        "sns.countplot(ax=ax,x='ProductCategory',data=fraud);"
      ],
      "execution_count": 18,
      "outputs": [
        {
          "output_type": "display_data",
          "data": {
            "image/png": "[encoded data removed]",
            "text/plain": [
              "<Figure size 842.4x595.44 with 1 Axes>"
            ]
          },
          "metadata": {
            "tags": []
          }
        }
      ]
    },
    {
      "cell_type": "code",
      "metadata": {
        "id": "hU1eUWV96Zlo",
        "colab_type": "code",
        "outputId": "f481d0e8-8aee-46c0-8bc6-83d0083e28b8",
        "colab": {
          "base_uri": "https://localhost:8080/",
          "height": 524
        }
      },
      "source": [
        "a4_dims = (11.7, 8.27)\n",
        "fig, ax = pyplot.subplots(figsize=a4_dims)\n",
        "sns.countplot(ax=ax,x='ProductId',data=fraud);"
      ],
      "execution_count": 19,
      "outputs": [
        {
          "output_type": "display_data",
          "data": {
            "image/png": "[encoded data removed]",
            "text/plain": [
              "<Figure size 842.4x595.44 with 1 Axes>"
            ]
          },
          "metadata": {
            "tags": []
          }
        }
      ]
    },
    {
      "cell_type": "code",
      "metadata": {
        "id": "NqVYfool6du7",
        "colab_type": "code",
        "outputId": "6df1b15e-a1c7-46cd-eebc-0fbe15cc532a",
        "colab": {
          "base_uri": "https://localhost:8080/",
          "height": 524
        }
      },
      "source": [
        "a4_dims = (11.7, 8.27)\n",
        "fig, ax = pyplot.subplots(figsize=a4_dims)\n",
        "sns.countplot(ax=ax,x='ProviderId',data=fraud);"
      ],
      "execution_count": 20,
      "outputs": [
        {
          "output_type": "display_data",
          "data": {
            "image/png": "[encoded data removed]",
            "text/plain": [
              "<Figure size 842.4x595.44 with 1 Axes>"
            ]
          },
          "metadata": {
            "tags": []
          }
        }
      ]
    },
    {
      "cell_type": "code",
      "metadata": {
        "id": "xF9Qu9gD28qc",
        "colab_type": "code",
        "outputId": "8ba73ff9-3c68-4419-dc6d-0eef9e680956",
        "colab": {
          "base_uri": "https://localhost:8080/",
          "height": 523
        }
      },
      "source": [
        "a4_dims = (11.7, 8.27)\n",
        "fig, ax = pyplot.subplots(figsize=a4_dims)\n",
        "sns.countplot(ax=ax,x='CurrencyCode',data=fraud);"
      ],
      "execution_count": 21,
      "outputs": [
        {
          "output_type": "display_data",
          "data": {
            "image/png": "[encoded data removed]",
            "text/plain": [
              "<Figure size 842.4x595.44 with 1 Axes>"
            ]
          },
          "metadata": {
            "tags": []
          }
        }
      ]
    },
    {
      "cell_type": "code",
      "metadata": {
        "id": "O2-fXWDJ3Gka",
        "colab_type": "code",
        "outputId": "93801f7e-07e5-4543-a95f-bd3d28bee21d",
        "colab": {
          "base_uri": "https://localhost:8080/",
          "height": 523
        }
      },
      "source": [
        "a4_dims = (11.7, 8.27)\n",
        "fig, ax = pyplot.subplots(figsize=a4_dims)\n",
        "sns.countplot(ax=ax,x='CountryCode',data=fraud);"
      ],
      "execution_count": 22,
      "outputs": [
        {
          "output_type": "display_data",
          "data": {
            "image/png": "[encoded data removed]",
            "text/plain": [
              "<Figure size 842.4x595.44 with 1 Axes>"
            ]
          },
          "metadata": {
            "tags": []
          }
        }
      ]
    },
    {
      "cell_type": "markdown",
      "metadata": {
        "id": "kBCtSqEv3Uhv",
        "colab_type": "text"
      },
      "source": [
        "As we can see in the countrycode and the currencycode all the values are equal, meaning that there is only one  (1) single value in all rows. Therefore, we want to look at the entire dataset to see if this holds true there as well. "
      ]
    },
    {
      "cell_type": "code",
      "metadata": {
        "id": "W1eA4ppi3QgK",
        "colab_type": "code",
        "outputId": "0dafb444-1e85-4a68-b503-5c9ad359b091",
        "colab": {
          "base_uri": "https://localhost:8080/",
          "height": 51
        }
      },
      "source": [
        "training_df['CountryCode'].value_counts()"
      ],
      "execution_count": 23,
      "outputs": [
        {
          "output_type": "execute_result",
          "data": {
            "text/plain": [
              "256    95662\n",
              "Name: CountryCode, dtype: int64"
            ]
          },
          "metadata": {
            "tags": []
          },
          "execution_count": 23
        }
      ]
    },
    {
      "cell_type": "code",
      "metadata": {
        "id": "pXbodHPt3kBR",
        "colab_type": "code",
        "outputId": "94a37296-c681-4ae7-b823-6d495bbc0faa",
        "colab": {
          "base_uri": "https://localhost:8080/",
          "height": 51
        }
      },
      "source": [
        "training_df['CurrencyCode'].value_counts()"
      ],
      "execution_count": 24,
      "outputs": [
        {
          "output_type": "execute_result",
          "data": {
            "text/plain": [
              "UGX    95662\n",
              "Name: CurrencyCode, dtype: int64"
            ]
          },
          "metadata": {
            "tags": []
          },
          "execution_count": 24
        }
      ]
    },
    {
      "cell_type": "markdown",
      "metadata": {
        "id": "GHCVod9I3m_I",
        "colab_type": "text"
      },
      "source": [
        "As we can see all the entries in the currencycode and the countrycode are with countrycode = 256, and Currencycode = UGX. This means that this features does not give us any information about how fraudulent a transaction is. "
      ]
    },
    {
      "cell_type": "code",
      "metadata": {
        "id": "vPct_Etn3mDw",
        "colab_type": "code",
        "outputId": "778823eb-164c-4efb-e53b-08e6741beaa9",
        "colab": {
          "base_uri": "https://localhost:8080/",
          "height": 528
        }
      },
      "source": [
        "import seaborn as sns; sns.set()\n",
        "import matplotlib.pyplot as plt\n",
        "ax = sns.scatterplot(y=\"Amount\", x=\"FraudResult\", data=training_df)\n"
      ],
      "execution_count": 25,
      "outputs": [
        {
          "output_type": "display_data",
          "data": {
            "image/png": "[encoded data removed]",
            "text/plain": [
              "<Figure size 842.4x595.44 with 1 Axes>"
            ]
          },
          "metadata": {
            "tags": []
          }
        }
      ]
    },
    {
      "cell_type": "code",
      "metadata": {
        "id": "2jAxtdT55i5B",
        "colab_type": "code",
        "outputId": "77fa937a-aec6-40af-ecb4-8f340e9d0b79",
        "colab": {
          "base_uri": "https://localhost:8080/",
          "height": 528
        }
      },
      "source": [
        "import seaborn as sns; sns.set()\n",
        "import matplotlib.pyplot as plt\n",
        "ax = sns.scatterplot(y=\"Value\", x=\"FraudResult\", data=training_df)\n"
      ],
      "execution_count": 26,
      "outputs": [
        {
          "output_type": "display_data",
          "data": {
            "image/png": "[encoded data removed]",
            "text/plain": [
              "<Figure size 842.4x595.44 with 1 Axes>"
            ]
          },
          "metadata": {
            "tags": []
          }
        }
      ]
    },
    {
      "cell_type": "markdown",
      "metadata": {
        "id": "Z8uPyOdJ-M__",
        "colab_type": "text"
      },
      "source": [
        "Les nalyze if we can see a pattern between the weekday of the transaction and the fraudresult. "
      ]
    },
    {
      "cell_type": "code",
      "metadata": {
        "id": "b5g3mb3e536L",
        "colab_type": "code",
        "colab": {}
      },
      "source": [
        "from datetime import datetime\n",
        "L = []\n",
        "for index in range(0,training_df.shape[0]):\n",
        "  date = training_df['TransactionStartTime'][index][:10]\n",
        "  year = int(date[:4])\n",
        "  month = int(date[5:7])\n",
        "  day = int(date[8:10])\n",
        "  day_of_week = datetime(year, month, day).weekday()\n",
        "  L.append(day_of_week)\n",
        "weekday_df = pd.DataFrame(L, columns=['Weekday'])\n"
      ],
      "execution_count": 0,
      "outputs": []
    },
    {
      "cell_type": "code",
      "metadata": {
        "id": "dEVoSWHu7A4V",
        "colab_type": "code",
        "outputId": "f0283f1c-22e4-41c8-9bb2-f2dab2d25b78",
        "colab": {
          "base_uri": "https://localhost:8080/",
          "height": 266
        }
      },
      "source": [
        "weekday_df.apply(pd.value_counts)\n"
      ],
      "execution_count": 28,
      "outputs": [
        {
          "output_type": "execute_result",
          "data": {
            "text/html": [
              "<div>\n",
              "<style scoped>\n",
              "    .dataframe tbody tr th:only-of-type {\n",
              "        vertical-align: middle;\n",
              "    }\n",
              "\n",
              "    .dataframe tbody tr th {\n",
              "        vertical-align: top;\n",
              "    }\n",
              "\n",
              "    .dataframe thead th {\n",
              "        text-align: right;\n",
              "    }\n",
              "</style>\n",
              "<table border=\"1\" class=\"dataframe\">\n",
              "  <thead>\n",
              "    <tr style=\"text-align: right;\">\n",
              "      <th></th>\n",
              "      <th>Weekday</th>\n",
              "    </tr>\n",
              "  </thead>\n",
              "  <tbody>\n",
              "    <tr>\n",
              "      <th>4</th>\n",
              "      <td>27716</td>\n",
              "    </tr>\n",
              "    <tr>\n",
              "      <th>1</th>\n",
              "      <td>15049</td>\n",
              "    </tr>\n",
              "    <tr>\n",
              "      <th>0</th>\n",
              "      <td>11837</td>\n",
              "    </tr>\n",
              "    <tr>\n",
              "      <th>3</th>\n",
              "      <td>11039</td>\n",
              "    </tr>\n",
              "    <tr>\n",
              "      <th>2</th>\n",
              "      <td>10232</td>\n",
              "    </tr>\n",
              "    <tr>\n",
              "      <th>5</th>\n",
              "      <td>10103</td>\n",
              "    </tr>\n",
              "    <tr>\n",
              "      <th>6</th>\n",
              "      <td>9686</td>\n",
              "    </tr>\n",
              "  </tbody>\n",
              "</table>\n",
              "</div>"
            ],
            "text/plain": [
              "   Weekday\n",
              "4    27716\n",
              "1    15049\n",
              "0    11837\n",
              "3    11039\n",
              "2    10232\n",
              "5    10103\n",
              "6     9686"
            ]
          },
          "metadata": {
            "tags": []
          },
          "execution_count": 28
        }
      ]
    },
    {
      "cell_type": "markdown",
      "metadata": {
        "id": "N3tAyTQe-TpY",
        "colab_type": "text"
      },
      "source": [
        "Now we will also extract the hour of the transaction."
      ]
    },
    {
      "cell_type": "code",
      "metadata": {
        "id": "5EydjA527Ip0",
        "colab_type": "code",
        "colab": {}
      },
      "source": [
        "from datetime import datetime\n",
        "L = []\n",
        "for index in range(0,training_df.shape[0]):\n",
        "  hour_of_transaction = int(training_df['TransactionStartTime'][index][11:13])\n",
        "  L.append(hour_of_transaction)\n",
        "transaction_hour_df = pd.DataFrame(L, columns=['Hour_of_transaction'])\n"
      ],
      "execution_count": 0,
      "outputs": []
    },
    {
      "cell_type": "code",
      "metadata": {
        "id": "ZIUIBdLU83Qo",
        "colab_type": "code",
        "outputId": "5b567d97-18c6-4df6-c99e-278df0f993a3",
        "colab": {
          "base_uri": "https://localhost:8080/",
          "height": 793
        }
      },
      "source": [
        "transaction_hour_df.apply(pd.value_counts)\n",
        "\n"
      ],
      "execution_count": 30,
      "outputs": [
        {
          "output_type": "execute_result",
          "data": {
            "text/html": [
              "<div>\n",
              "<style scoped>\n",
              "    .dataframe tbody tr th:only-of-type {\n",
              "        vertical-align: middle;\n",
              "    }\n",
              "\n",
              "    .dataframe tbody tr th {\n",
              "        vertical-align: top;\n",
              "    }\n",
              "\n",
              "    .dataframe thead th {\n",
              "        text-align: right;\n",
              "    }\n",
              "</style>\n",
              "<table border=\"1\" class=\"dataframe\">\n",
              "  <thead>\n",
              "    <tr style=\"text-align: right;\">\n",
              "      <th></th>\n",
              "      <th>Hour_of_transaction</th>\n",
              "    </tr>\n",
              "  </thead>\n",
              "  <tbody>\n",
              "    <tr>\n",
              "      <th>16</th>\n",
              "      <td>7306</td>\n",
              "    </tr>\n",
              "    <tr>\n",
              "      <th>17</th>\n",
              "      <td>7291</td>\n",
              "    </tr>\n",
              "    <tr>\n",
              "      <th>18</th>\n",
              "      <td>6332</td>\n",
              "    </tr>\n",
              "    <tr>\n",
              "      <th>15</th>\n",
              "      <td>6285</td>\n",
              "    </tr>\n",
              "    <tr>\n",
              "      <th>11</th>\n",
              "      <td>6226</td>\n",
              "    </tr>\n",
              "    <tr>\n",
              "      <th>10</th>\n",
              "      <td>5986</td>\n",
              "    </tr>\n",
              "    <tr>\n",
              "      <th>7</th>\n",
              "      <td>5723</td>\n",
              "    </tr>\n",
              "    <tr>\n",
              "      <th>8</th>\n",
              "      <td>5639</td>\n",
              "    </tr>\n",
              "    <tr>\n",
              "      <th>9</th>\n",
              "      <td>5443</td>\n",
              "    </tr>\n",
              "    <tr>\n",
              "      <th>6</th>\n",
              "      <td>5325</td>\n",
              "    </tr>\n",
              "    <tr>\n",
              "      <th>12</th>\n",
              "      <td>5262</td>\n",
              "    </tr>\n",
              "    <tr>\n",
              "      <th>13</th>\n",
              "      <td>5224</td>\n",
              "    </tr>\n",
              "    <tr>\n",
              "      <th>14</th>\n",
              "      <td>5179</td>\n",
              "    </tr>\n",
              "    <tr>\n",
              "      <th>19</th>\n",
              "      <td>5132</td>\n",
              "    </tr>\n",
              "    <tr>\n",
              "      <th>5</th>\n",
              "      <td>4161</td>\n",
              "    </tr>\n",
              "    <tr>\n",
              "      <th>20</th>\n",
              "      <td>3026</td>\n",
              "    </tr>\n",
              "    <tr>\n",
              "      <th>4</th>\n",
              "      <td>2329</td>\n",
              "    </tr>\n",
              "    <tr>\n",
              "      <th>21</th>\n",
              "      <td>1479</td>\n",
              "    </tr>\n",
              "    <tr>\n",
              "      <th>3</th>\n",
              "      <td>714</td>\n",
              "    </tr>\n",
              "    <tr>\n",
              "      <th>22</th>\n",
              "      <td>683</td>\n",
              "    </tr>\n",
              "    <tr>\n",
              "      <th>2</th>\n",
              "      <td>289</td>\n",
              "    </tr>\n",
              "    <tr>\n",
              "      <th>23</th>\n",
              "      <td>284</td>\n",
              "    </tr>\n",
              "    <tr>\n",
              "      <th>1</th>\n",
              "      <td>176</td>\n",
              "    </tr>\n",
              "    <tr>\n",
              "      <th>0</th>\n",
              "      <td>168</td>\n",
              "    </tr>\n",
              "  </tbody>\n",
              "</table>\n",
              "</div>"
            ],
            "text/plain": [
              "    Hour_of_transaction\n",
              "16                 7306\n",
              "17                 7291\n",
              "18                 6332\n",
              "15                 6285\n",
              "11                 6226\n",
              "10                 5986\n",
              "7                  5723\n",
              "8                  5639\n",
              "9                  5443\n",
              "6                  5325\n",
              "12                 5262\n",
              "13                 5224\n",
              "14                 5179\n",
              "19                 5132\n",
              "5                  4161\n",
              "20                 3026\n",
              "4                  2329\n",
              "21                 1479\n",
              "3                   714\n",
              "22                  683\n",
              "2                   289\n",
              "23                  284\n",
              "1                   176\n",
              "0                   168"
            ]
          },
          "metadata": {
            "tags": []
          },
          "execution_count": 30
        }
      ]
    },
    {
      "cell_type": "code",
      "metadata": {
        "id": "vLTKkkSh_996",
        "colab_type": "code",
        "colab": {}
      },
      "source": [
        "training_df = pd.concat([training_df, weekday_df], axis=1)"
      ],
      "execution_count": 0,
      "outputs": []
    },
    {
      "cell_type": "code",
      "metadata": {
        "id": "bAfIqQ4zAEco",
        "colab_type": "code",
        "colab": {}
      },
      "source": [
        "training_df = pd.concat([training_df, transaction_hour_df], axis=1)"
      ],
      "execution_count": 0,
      "outputs": []
    },
    {
      "cell_type": "code",
      "metadata": {
        "id": "3yIPfbNS83x8",
        "colab_type": "code",
        "outputId": "4fbe104f-8eb5-4a40-f21c-27115f5c518f",
        "colab": {
          "base_uri": "https://localhost:8080/",
          "height": 224
        }
      },
      "source": [
        "training_df.head()"
      ],
      "execution_count": 33,
      "outputs": [
        {
          "output_type": "execute_result",
          "data": {
            "text/html": [
              "<div>\n",
              "<style scoped>\n",
              "    .dataframe tbody tr th:only-of-type {\n",
              "        vertical-align: middle;\n",
              "    }\n",
              "\n",
              "    .dataframe tbody tr th {\n",
              "        vertical-align: top;\n",
              "    }\n",
              "\n",
              "    .dataframe thead th {\n",
              "        text-align: right;\n",
              "    }\n",
              "</style>\n",
              "<table border=\"1\" class=\"dataframe\">\n",
              "  <thead>\n",
              "    <tr style=\"text-align: right;\">\n",
              "      <th></th>\n",
              "      <th>TransactionId</th>\n",
              "      <th>BatchId</th>\n",
              "      <th>AccountId</th>\n",
              "      <th>SubscriptionId</th>\n",
              "      <th>CustomerId</th>\n",
              "      <th>CurrencyCode</th>\n",
              "      <th>CountryCode</th>\n",
              "      <th>ProviderId</th>\n",
              "      <th>ProductId</th>\n",
              "      <th>ProductCategory</th>\n",
              "      <th>ChannelId</th>\n",
              "      <th>Amount</th>\n",
              "      <th>Value</th>\n",
              "      <th>TransactionStartTime</th>\n",
              "      <th>PricingStrategy</th>\n",
              "      <th>FraudResult</th>\n",
              "      <th>Weekday</th>\n",
              "      <th>Hour_of_transaction</th>\n",
              "    </tr>\n",
              "  </thead>\n",
              "  <tbody>\n",
              "    <tr>\n",
              "      <th>0</th>\n",
              "      <td>TransactionId_76871</td>\n",
              "      <td>BatchId_36123</td>\n",
              "      <td>AccountId_3957</td>\n",
              "      <td>SubscriptionId_887</td>\n",
              "      <td>CustomerId_4406</td>\n",
              "      <td>UGX</td>\n",
              "      <td>256</td>\n",
              "      <td>ProviderId_6</td>\n",
              "      <td>ProductId_10</td>\n",
              "      <td>airtime</td>\n",
              "      <td>ChannelId_3</td>\n",
              "      <td>1000.0</td>\n",
              "      <td>1000</td>\n",
              "      <td>2018-11-15T02:18:49Z</td>\n",
              "      <td>2</td>\n",
              "      <td>0</td>\n",
              "      <td>3</td>\n",
              "      <td>2</td>\n",
              "    </tr>\n",
              "    <tr>\n",
              "      <th>1</th>\n",
              "      <td>TransactionId_73770</td>\n",
              "      <td>BatchId_15642</td>\n",
              "      <td>AccountId_4841</td>\n",
              "      <td>SubscriptionId_3829</td>\n",
              "      <td>CustomerId_4406</td>\n",
              "      <td>UGX</td>\n",
              "      <td>256</td>\n",
              "      <td>ProviderId_4</td>\n",
              "      <td>ProductId_6</td>\n",
              "      <td>financial_services</td>\n",
              "      <td>ChannelId_2</td>\n",
              "      <td>-20.0</td>\n",
              "      <td>20</td>\n",
              "      <td>2018-11-15T02:19:08Z</td>\n",
              "      <td>2</td>\n",
              "      <td>0</td>\n",
              "      <td>3</td>\n",
              "      <td>2</td>\n",
              "    </tr>\n",
              "    <tr>\n",
              "      <th>2</th>\n",
              "      <td>TransactionId_26203</td>\n",
              "      <td>BatchId_53941</td>\n",
              "      <td>AccountId_4229</td>\n",
              "      <td>SubscriptionId_222</td>\n",
              "      <td>CustomerId_4683</td>\n",
              "      <td>UGX</td>\n",
              "      <td>256</td>\n",
              "      <td>ProviderId_6</td>\n",
              "      <td>ProductId_1</td>\n",
              "      <td>airtime</td>\n",
              "      <td>ChannelId_3</td>\n",
              "      <td>500.0</td>\n",
              "      <td>500</td>\n",
              "      <td>2018-11-15T02:44:21Z</td>\n",
              "      <td>2</td>\n",
              "      <td>0</td>\n",
              "      <td>3</td>\n",
              "      <td>2</td>\n",
              "    </tr>\n",
              "    <tr>\n",
              "      <th>3</th>\n",
              "      <td>TransactionId_380</td>\n",
              "      <td>BatchId_102363</td>\n",
              "      <td>AccountId_648</td>\n",
              "      <td>SubscriptionId_2185</td>\n",
              "      <td>CustomerId_988</td>\n",
              "      <td>UGX</td>\n",
              "      <td>256</td>\n",
              "      <td>ProviderId_1</td>\n",
              "      <td>ProductId_21</td>\n",
              "      <td>utility_bill</td>\n",
              "      <td>ChannelId_3</td>\n",
              "      <td>20000.0</td>\n",
              "      <td>21800</td>\n",
              "      <td>2018-11-15T03:32:55Z</td>\n",
              "      <td>2</td>\n",
              "      <td>0</td>\n",
              "      <td>3</td>\n",
              "      <td>3</td>\n",
              "    </tr>\n",
              "    <tr>\n",
              "      <th>4</th>\n",
              "      <td>TransactionId_28195</td>\n",
              "      <td>BatchId_38780</td>\n",
              "      <td>AccountId_4841</td>\n",
              "      <td>SubscriptionId_3829</td>\n",
              "      <td>CustomerId_988</td>\n",
              "      <td>UGX</td>\n",
              "      <td>256</td>\n",
              "      <td>ProviderId_4</td>\n",
              "      <td>ProductId_6</td>\n",
              "      <td>financial_services</td>\n",
              "      <td>ChannelId_2</td>\n",
              "      <td>-644.0</td>\n",
              "      <td>644</td>\n",
              "      <td>2018-11-15T03:34:21Z</td>\n",
              "      <td>2</td>\n",
              "      <td>0</td>\n",
              "      <td>3</td>\n",
              "      <td>3</td>\n",
              "    </tr>\n",
              "  </tbody>\n",
              "</table>\n",
              "</div>"
            ],
            "text/plain": [
              "         TransactionId         BatchId  ... Weekday Hour_of_transaction\n",
              "0  TransactionId_76871   BatchId_36123  ...       3                   2\n",
              "1  TransactionId_73770   BatchId_15642  ...       3                   2\n",
              "2  TransactionId_26203   BatchId_53941  ...       3                   2\n",
              "3    TransactionId_380  BatchId_102363  ...       3                   3\n",
              "4  TransactionId_28195   BatchId_38780  ...       3                   3\n",
              "\n",
              "[5 rows x 18 columns]"
            ]
          },
          "metadata": {
            "tags": []
          },
          "execution_count": 33
        }
      ]
    },
    {
      "cell_type": "code",
      "metadata": {
        "id": "7AZFharu-oCw",
        "colab_type": "code",
        "outputId": "a32f715a-1abf-46c4-f353-8a6c13adec37",
        "colab": {
          "base_uri": "https://localhost:8080/",
          "height": 523
        }
      },
      "source": [
        "fraud = training_df.loc[training_df['FraudResult'] == 1]\n",
        "sns.countplot(x='Weekday',data=fraud);\n"
      ],
      "execution_count": 34,
      "outputs": [
        {
          "output_type": "display_data",
          "data": {
            "image/png": "[encoded data removed]",
            "text/plain": [
              "<Figure size 842.4x595.44 with 1 Axes>"
            ]
          },
          "metadata": {
            "tags": []
          }
        }
      ]
    },
    {
      "cell_type": "code",
      "metadata": {
        "id": "B-RvCCRCAgPt",
        "colab_type": "code",
        "outputId": "b91bad7e-770f-4ad8-ae0d-2aafb55546c9",
        "colab": {
          "base_uri": "https://localhost:8080/",
          "height": 523
        }
      },
      "source": [
        "fraud = training_df.loc[training_df['FraudResult'] == 1]\n",
        "sns.countplot(x='Hour_of_transaction',data=fraud);\n"
      ],
      "execution_count": 35,
      "outputs": [
        {
          "output_type": "display_data",
          "data": {
            "image/png": "[encoded data removed]",
            "text/plain": [
              "<Figure size 842.4x595.44 with 1 Axes>"
            ]
          },
          "metadata": {
            "tags": []
          }
        }
      ]
    },
    {
      "cell_type": "code",
      "metadata": {
        "id": "hASsn9huAuii",
        "colab_type": "code",
        "outputId": "3da97c60-3b72-4522-90d4-fdcd89c78699",
        "colab": {
          "base_uri": "https://localhost:8080/",
          "height": 442
        }
      },
      "source": [
        "fraud['Hour_of_transaction'].value_counts() / training_df['Hour_of_transaction'].value_counts()\n"
      ],
      "execution_count": 36,
      "outputs": [
        {
          "output_type": "execute_result",
          "data": {
            "text/plain": [
              "0     0.005952\n",
              "1          NaN\n",
              "2          NaN\n",
              "3     0.009804\n",
              "4          NaN\n",
              "5     0.001442\n",
              "6     0.001315\n",
              "7     0.001573\n",
              "8     0.001419\n",
              "9     0.001837\n",
              "10    0.000668\n",
              "11    0.001446\n",
              "12    0.004561\n",
              "13    0.003254\n",
              "14    0.001545\n",
              "15    0.001273\n",
              "16    0.002464\n",
              "17    0.001646\n",
              "18    0.002053\n",
              "19    0.000779\n",
              "20    0.002974\n",
              "21    0.010142\n",
              "22    0.005857\n",
              "23         NaN\n",
              "Name: Hour_of_transaction, dtype: float64"
            ]
          },
          "metadata": {
            "tags": []
          },
          "execution_count": 36
        }
      ]
    },
    {
      "cell_type": "code",
      "metadata": {
        "id": "4oLpn6WYBHaR",
        "colab_type": "code",
        "outputId": "40bf3de3-2f01-4329-feb4-241d1342cf74",
        "colab": {
          "base_uri": "https://localhost:8080/",
          "height": 153
        }
      },
      "source": [
        "fraud['Weekday'].value_counts() / training_df['Weekday'].value_counts()\n"
      ],
      "execution_count": 37,
      "outputs": [
        {
          "output_type": "execute_result",
          "data": {
            "text/plain": [
              "0    0.002450\n",
              "1    0.002060\n",
              "2    0.002834\n",
              "3    0.003080\n",
              "4    0.001082\n",
              "5    0.002475\n",
              "6    0.001549\n",
              "Name: Weekday, dtype: float64"
            ]
          },
          "metadata": {
            "tags": []
          },
          "execution_count": 37
        }
      ]
    },
    {
      "cell_type": "code",
      "metadata": {
        "id": "kb4U9ZnNCHi_",
        "colab_type": "code",
        "outputId": "0c638c32-8c8f-4948-d3cd-74448b48c391",
        "colab": {
          "base_uri": "https://localhost:8080/",
          "height": 224
        }
      },
      "source": [
        "training_df.head()"
      ],
      "execution_count": 38,
      "outputs": [
        {
          "output_type": "execute_result",
          "data": {
            "text/html": [
              "<div>\n",
              "<style scoped>\n",
              "    .dataframe tbody tr th:only-of-type {\n",
              "        vertical-align: middle;\n",
              "    }\n",
              "\n",
              "    .dataframe tbody tr th {\n",
              "        vertical-align: top;\n",
              "    }\n",
              "\n",
              "    .dataframe thead th {\n",
              "        text-align: right;\n",
              "    }\n",
              "</style>\n",
              "<table border=\"1\" class=\"dataframe\">\n",
              "  <thead>\n",
              "    <tr style=\"text-align: right;\">\n",
              "      <th></th>\n",
              "      <th>TransactionId</th>\n",
              "      <th>BatchId</th>\n",
              "      <th>AccountId</th>\n",
              "      <th>SubscriptionId</th>\n",
              "      <th>CustomerId</th>\n",
              "      <th>CurrencyCode</th>\n",
              "      <th>CountryCode</th>\n",
              "      <th>ProviderId</th>\n",
              "      <th>ProductId</th>\n",
              "      <th>ProductCategory</th>\n",
              "      <th>ChannelId</th>\n",
              "      <th>Amount</th>\n",
              "      <th>Value</th>\n",
              "      <th>TransactionStartTime</th>\n",
              "      <th>PricingStrategy</th>\n",
              "      <th>FraudResult</th>\n",
              "      <th>Weekday</th>\n",
              "      <th>Hour_of_transaction</th>\n",
              "    </tr>\n",
              "  </thead>\n",
              "  <tbody>\n",
              "    <tr>\n",
              "      <th>0</th>\n",
              "      <td>TransactionId_76871</td>\n",
              "      <td>BatchId_36123</td>\n",
              "      <td>AccountId_3957</td>\n",
              "      <td>SubscriptionId_887</td>\n",
              "      <td>CustomerId_4406</td>\n",
              "      <td>UGX</td>\n",
              "      <td>256</td>\n",
              "      <td>ProviderId_6</td>\n",
              "      <td>ProductId_10</td>\n",
              "      <td>airtime</td>\n",
              "      <td>ChannelId_3</td>\n",
              "      <td>1000.0</td>\n",
              "      <td>1000</td>\n",
              "      <td>2018-11-15T02:18:49Z</td>\n",
              "      <td>2</td>\n",
              "      <td>0</td>\n",
              "      <td>3</td>\n",
              "      <td>2</td>\n",
              "    </tr>\n",
              "    <tr>\n",
              "      <th>1</th>\n",
              "      <td>TransactionId_73770</td>\n",
              "      <td>BatchId_15642</td>\n",
              "      <td>AccountId_4841</td>\n",
              "      <td>SubscriptionId_3829</td>\n",
              "      <td>CustomerId_4406</td>\n",
              "      <td>UGX</td>\n",
              "      <td>256</td>\n",
              "      <td>ProviderId_4</td>\n",
              "      <td>ProductId_6</td>\n",
              "      <td>financial_services</td>\n",
              "      <td>ChannelId_2</td>\n",
              "      <td>-20.0</td>\n",
              "      <td>20</td>\n",
              "      <td>2018-11-15T02:19:08Z</td>\n",
              "      <td>2</td>\n",
              "      <td>0</td>\n",
              "      <td>3</td>\n",
              "      <td>2</td>\n",
              "    </tr>\n",
              "    <tr>\n",
              "      <th>2</th>\n",
              "      <td>TransactionId_26203</td>\n",
              "      <td>BatchId_53941</td>\n",
              "      <td>AccountId_4229</td>\n",
              "      <td>SubscriptionId_222</td>\n",
              "      <td>CustomerId_4683</td>\n",
              "      <td>UGX</td>\n",
              "      <td>256</td>\n",
              "      <td>ProviderId_6</td>\n",
              "      <td>ProductId_1</td>\n",
              "      <td>airtime</td>\n",
              "      <td>ChannelId_3</td>\n",
              "      <td>500.0</td>\n",
              "      <td>500</td>\n",
              "      <td>2018-11-15T02:44:21Z</td>\n",
              "      <td>2</td>\n",
              "      <td>0</td>\n",
              "      <td>3</td>\n",
              "      <td>2</td>\n",
              "    </tr>\n",
              "    <tr>\n",
              "      <th>3</th>\n",
              "      <td>TransactionId_380</td>\n",
              "      <td>BatchId_102363</td>\n",
              "      <td>AccountId_648</td>\n",
              "      <td>SubscriptionId_2185</td>\n",
              "      <td>CustomerId_988</td>\n",
              "      <td>UGX</td>\n",
              "      <td>256</td>\n",
              "      <td>ProviderId_1</td>\n",
              "      <td>ProductId_21</td>\n",
              "      <td>utility_bill</td>\n",
              "      <td>ChannelId_3</td>\n",
              "      <td>20000.0</td>\n",
              "      <td>21800</td>\n",
              "      <td>2018-11-15T03:32:55Z</td>\n",
              "      <td>2</td>\n",
              "      <td>0</td>\n",
              "      <td>3</td>\n",
              "      <td>3</td>\n",
              "    </tr>\n",
              "    <tr>\n",
              "      <th>4</th>\n",
              "      <td>TransactionId_28195</td>\n",
              "      <td>BatchId_38780</td>\n",
              "      <td>AccountId_4841</td>\n",
              "      <td>SubscriptionId_3829</td>\n",
              "      <td>CustomerId_988</td>\n",
              "      <td>UGX</td>\n",
              "      <td>256</td>\n",
              "      <td>ProviderId_4</td>\n",
              "      <td>ProductId_6</td>\n",
              "      <td>financial_services</td>\n",
              "      <td>ChannelId_2</td>\n",
              "      <td>-644.0</td>\n",
              "      <td>644</td>\n",
              "      <td>2018-11-15T03:34:21Z</td>\n",
              "      <td>2</td>\n",
              "      <td>0</td>\n",
              "      <td>3</td>\n",
              "      <td>3</td>\n",
              "    </tr>\n",
              "  </tbody>\n",
              "</table>\n",
              "</div>"
            ],
            "text/plain": [
              "         TransactionId         BatchId  ... Weekday Hour_of_transaction\n",
              "0  TransactionId_76871   BatchId_36123  ...       3                   2\n",
              "1  TransactionId_73770   BatchId_15642  ...       3                   2\n",
              "2  TransactionId_26203   BatchId_53941  ...       3                   2\n",
              "3    TransactionId_380  BatchId_102363  ...       3                   3\n",
              "4  TransactionId_28195   BatchId_38780  ...       3                   3\n",
              "\n",
              "[5 rows x 18 columns]"
            ]
          },
          "metadata": {
            "tags": []
          },
          "execution_count": 38
        }
      ]
    },
    {
      "cell_type": "code",
      "metadata": {
        "id": "iM5Ce_edFJ6s",
        "colab_type": "code",
        "outputId": "fc8ce78c-ca58-446e-8f66-3e1de30c3b1b",
        "colab": {
          "base_uri": "https://localhost:8080/",
          "height": 1000
        }
      },
      "source": [
        "fraud['BatchId'].value_counts()"
      ],
      "execution_count": 39,
      "outputs": [
        {
          "output_type": "execute_result",
          "data": {
            "text/plain": [
              "BatchId_126656    4\n",
              "BatchId_32834     2\n",
              "BatchId_40160     2\n",
              "BatchId_125211    2\n",
              "BatchId_7585      2\n",
              "BatchId_56782     2\n",
              "BatchId_66926     2\n",
              "BatchId_68081     2\n",
              "BatchId_93685     1\n",
              "BatchId_62465     1\n",
              "BatchId_131348    1\n",
              "BatchId_94007     1\n",
              "BatchId_34263     1\n",
              "BatchId_113961    1\n",
              "BatchId_48573     1\n",
              "BatchId_125935    1\n",
              "BatchId_134366    1\n",
              "BatchId_87400     1\n",
              "BatchId_5957      1\n",
              "BatchId_95619     1\n",
              "BatchId_55743     1\n",
              "BatchId_9913      1\n",
              "BatchId_132349    1\n",
              "BatchId_10711     1\n",
              "BatchId_33505     1\n",
              "BatchId_101131    1\n",
              "BatchId_129124    1\n",
              "BatchId_133354    1\n",
              "BatchId_43757     1\n",
              "BatchId_75522     1\n",
              "                 ..\n",
              "BatchId_29896     1\n",
              "BatchId_135975    1\n",
              "BatchId_116744    1\n",
              "BatchId_27577     1\n",
              "BatchId_135779    1\n",
              "BatchId_11016     1\n",
              "BatchId_134443    1\n",
              "BatchId_111976    1\n",
              "BatchId_125276    1\n",
              "BatchId_120561    1\n",
              "BatchId_36023     1\n",
              "BatchId_118851    1\n",
              "BatchId_1480      1\n",
              "BatchId_32463     1\n",
              "BatchId_56005     1\n",
              "BatchId_61860     1\n",
              "BatchId_40333     1\n",
              "BatchId_134068    1\n",
              "BatchId_9930      1\n",
              "BatchId_17683     1\n",
              "BatchId_15818     1\n",
              "BatchId_45675     1\n",
              "BatchId_22016     1\n",
              "BatchId_11229     1\n",
              "BatchId_8060      1\n",
              "BatchId_60549     1\n",
              "BatchId_5600      1\n",
              "BatchId_72547     1\n",
              "BatchId_84247     1\n",
              "BatchId_62457     1\n",
              "Name: BatchId, Length: 183, dtype: int64"
            ]
          },
          "metadata": {
            "tags": []
          },
          "execution_count": 39
        }
      ]
    },
    {
      "cell_type": "code",
      "metadata": {
        "id": "AZHNG5WtFQhA",
        "colab_type": "code",
        "outputId": "181bf4ea-58f9-4c94-925e-f19ba1978f69",
        "colab": {
          "base_uri": "https://localhost:8080/",
          "height": 918
        }
      },
      "source": [
        "fraud['AccountId'].value_counts()"
      ],
      "execution_count": 40,
      "outputs": [
        {
          "output_type": "execute_result",
          "data": {
            "text/plain": [
              "AccountId_572     31\n",
              "AccountId_4421    22\n",
              "AccountId_1609    14\n",
              "AccountId_4003    12\n",
              "AccountId_1909     8\n",
              "AccountId_2656     7\n",
              "AccountId_4590     7\n",
              "AccountId_1873     7\n",
              "AccountId_4687     7\n",
              "AccountId_3337     6\n",
              "AccountId_1178     6\n",
              "AccountId_1959     5\n",
              "AccountId_523      4\n",
              "AccountId_4249     4\n",
              "AccountId_3832     3\n",
              "AccountId_2366     3\n",
              "AccountId_953      3\n",
              "AccountId_1825     2\n",
              "AccountId_4004     2\n",
              "AccountId_1488     2\n",
              "AccountId_4465     2\n",
              "AccountId_830      2\n",
              "AccountId_1208     2\n",
              "AccountId_530      2\n",
              "AccountId_2043     2\n",
              "AccountId_3943     2\n",
              "AccountId_476      1\n",
              "AccountId_1898     1\n",
              "AccountId_2289     1\n",
              "AccountId_777      1\n",
              "AccountId_1520     1\n",
              "AccountId_4637     1\n",
              "AccountId_3692     1\n",
              "AccountId_368      1\n",
              "AccountId_3519     1\n",
              "AccountId_4841     1\n",
              "AccountId_352      1\n",
              "AccountId_1240     1\n",
              "AccountId_3041     1\n",
              "AccountId_2123     1\n",
              "AccountId_1823     1\n",
              "AccountId_1335     1\n",
              "AccountId_2244     1\n",
              "AccountId_1291     1\n",
              "AccountId_1317     1\n",
              "AccountId_1754     1\n",
              "AccountId_4655     1\n",
              "AccountId_2461     1\n",
              "AccountId_3686     1\n",
              "AccountId_1605     1\n",
              "AccountId_3636     1\n",
              "AccountId_1480     1\n",
              "Name: AccountId, dtype: int64"
            ]
          },
          "metadata": {
            "tags": []
          },
          "execution_count": 40
        }
      ]
    },
    {
      "cell_type": "code",
      "metadata": {
        "id": "v9nP_qEHFXNs",
        "colab_type": "code",
        "outputId": "f8204e83-3d05-4755-a3ad-b6b979630641",
        "colab": {
          "base_uri": "https://localhost:8080/",
          "height": 918
        }
      },
      "source": [
        "\n",
        "fraud['SubscriptionId'].value_counts()"
      ],
      "execution_count": 41,
      "outputs": [
        {
          "output_type": "execute_result",
          "data": {
            "text/plain": [
              "SubscriptionId_2950    31\n",
              "SubscriptionId_4038    22\n",
              "SubscriptionId_2872    14\n",
              "SubscriptionId_3002    12\n",
              "SubscriptionId_2496     8\n",
              "SubscriptionId_2912     7\n",
              "SubscriptionId_2964     7\n",
              "SubscriptionId_4160     7\n",
              "SubscriptionId_666      7\n",
              "SubscriptionId_1252     6\n",
              "SubscriptionId_2288     6\n",
              "SubscriptionId_1476     5\n",
              "SubscriptionId_4429     4\n",
              "SubscriptionId_2315     4\n",
              "SubscriptionId_162      3\n",
              "SubscriptionId_4834     3\n",
              "SubscriptionId_4161     3\n",
              "SubscriptionId_814      2\n",
              "SubscriptionId_842      2\n",
              "SubscriptionId_380      2\n",
              "SubscriptionId_1100     2\n",
              "SubscriptionId_1417     2\n",
              "SubscriptionId_1262     2\n",
              "SubscriptionId_1355     2\n",
              "SubscriptionId_4080     2\n",
              "SubscriptionId_135      2\n",
              "SubscriptionId_3125     1\n",
              "SubscriptionId_3303     1\n",
              "SubscriptionId_3829     1\n",
              "SubscriptionId_1456     1\n",
              "SubscriptionId_4427     1\n",
              "SubscriptionId_2940     1\n",
              "SubscriptionId_526      1\n",
              "SubscriptionId_2416     1\n",
              "SubscriptionId_2272     1\n",
              "SubscriptionId_3706     1\n",
              "SubscriptionId_3060     1\n",
              "SubscriptionId_539      1\n",
              "SubscriptionId_4672     1\n",
              "SubscriptionId_3476     1\n",
              "SubscriptionId_2562     1\n",
              "SubscriptionId_695      1\n",
              "SubscriptionId_3597     1\n",
              "SubscriptionId_726      1\n",
              "SubscriptionId_3451     1\n",
              "SubscriptionId_4174     1\n",
              "SubscriptionId_4345     1\n",
              "SubscriptionId_141      1\n",
              "SubscriptionId_2044     1\n",
              "SubscriptionId_1465     1\n",
              "SubscriptionId_2550     1\n",
              "SubscriptionId_385      1\n",
              "Name: SubscriptionId, dtype: int64"
            ]
          },
          "metadata": {
            "tags": []
          },
          "execution_count": 41
        }
      ]
    },
    {
      "cell_type": "code",
      "metadata": {
        "id": "SngCzt74Fdbw",
        "colab_type": "code",
        "outputId": "4238e558-e639-45d9-d7c1-6496d62b2a76",
        "colab": {
          "base_uri": "https://localhost:8080/",
          "height": 952
        }
      },
      "source": [
        "fraud['CustomerId'].value_counts()"
      ],
      "execution_count": 42,
      "outputs": [
        {
          "output_type": "execute_result",
          "data": {
            "text/plain": [
              "CustomerId_909     31\n",
              "CustomerId_4878    22\n",
              "CustomerId_1988    14\n",
              "CustomerId_4453    12\n",
              "CustomerId_2303     8\n",
              "CustomerId_5054     7\n",
              "CustomerId_2266     7\n",
              "CustomerId_5155     7\n",
              "CustomerId_3075     7\n",
              "CustomerId_1535     6\n",
              "CustomerId_3768     6\n",
              "CustomerId_2353     5\n",
              "CustomerId_856      4\n",
              "CustomerId_1302     3\n",
              "CustomerId_4275     3\n",
              "CustomerId_865      3\n",
              "CustomerId_2445     2\n",
              "CustomerId_1858     2\n",
              "CustomerId_2216     2\n",
              "CustomerId_1567     2\n",
              "CustomerId_7339     2\n",
              "CustomerId_4391     2\n",
              "CustomerId_4454     2\n",
              "CustomerId_4925     2\n",
              "CustomerId_1175     2\n",
              "CustomerId_7414     2\n",
              "CustomerId_1653     1\n",
              "CustomerId_3467     1\n",
              "CustomerId_7416     1\n",
              "CustomerId_1984     1\n",
              "CustomerId_806      1\n",
              "CustomerId_1602     1\n",
              "CustomerId_3956     1\n",
              "CustomerId_2656     1\n",
              "CustomerId_7401     1\n",
              "CustomerId_1850     1\n",
              "CustomerId_2292     1\n",
              "CustomerId_4075     1\n",
              "CustomerId_7429     1\n",
              "CustomerId_698      1\n",
              "CustomerId_4134     1\n",
              "CustomerId_5105     1\n",
              "CustomerId_1680     1\n",
              "CustomerId_1698     1\n",
              "CustomerId_4128     1\n",
              "CustomerId_2703     1\n",
              "CustomerId_682      1\n",
              "CustomerId_2214     1\n",
              "CustomerId_2877     1\n",
              "CustomerId_2143     1\n",
              "CustomerId_1122     1\n",
              "CustomerId_5123     1\n",
              "CustomerId_1891     1\n",
              "CustomerId_2528     1\n",
              "Name: CustomerId, dtype: int64"
            ]
          },
          "metadata": {
            "tags": []
          },
          "execution_count": 42
        }
      ]
    },
    {
      "cell_type": "markdown",
      "metadata": {
        "id": "TYmMoxBbDWK6",
        "colab_type": "text"
      },
      "source": [
        "## Conclusion data exploration\n",
        "\n",
        "- Drop CurrencyCode\n",
        "- Drop CountryCode\n",
        "- Change TransactionStartTime to weekday and transaction hour \n",
        "- Change ProviderId\tto numerical catergory  \n",
        "- Change ProductId\tto numerical catergory  \n",
        "- Change ProductCategory\tto numerical catergory  \n",
        "- Change ChannelId to numerical catergory  \n",
        "- Value and Amount contains similair information.\n",
        "- TransactionID does not contain any information about if the transation is fraudulent, it is simply an identifier. \n",
        "- Resampling is necessary as the number of fraud transaction are 1/500 of the total transactions.\n",
        "- Could be beneficial to split the data in two sets. One for previous customers and one for new customer, each would have their own ML algorithm. \n",
        "\n",
        "- Add feature dealing with the customers previous transaction. Such as number of previous fradulent transactions, number of previous transactions, \n",
        "\n",
        "- If a transactions value is larger than 0.4*10^7 then we flag it"
      ]
    },
    {
      "cell_type": "markdown",
      "metadata": {
        "id": "lHFYt0IpJ1d9",
        "colab_type": "text"
      },
      "source": [
        "## Feature engineering"
      ]
    },
    {
      "cell_type": "code",
      "metadata": {
        "id": "yhGycy4AJ3Om",
        "colab_type": "code",
        "colab": {}
      },
      "source": [
        "test_df = pd.read_csv('gdrive/My Drive/Colab Notebooks/Busura/Fraud_Detection/test.csv')\n",
        "training_df = pd.read_csv('gdrive/My Drive/Colab Notebooks/Busura/Fraud_Detection/training.csv')\n"
      ],
      "execution_count": 0,
      "outputs": []
    },
    {
      "cell_type": "code",
      "metadata": {
        "id": "zVH9dhq6KFEy",
        "colab_type": "code",
        "colab": {}
      },
      "source": [
        "y_train = training_df[['TransactionId','FraudResult']]\n"
      ],
      "execution_count": 0,
      "outputs": []
    },
    {
      "cell_type": "code",
      "metadata": {
        "id": "FlKbKPAJNB6V",
        "colab_type": "code",
        "outputId": "f6052d1f-f8c4-4284-e579-b4d5dc494920",
        "colab": {
          "base_uri": "https://localhost:8080/",
          "height": 1000
        }
      },
      "source": [
        "y_train"
      ],
      "execution_count": 45,
      "outputs": [
        {
          "output_type": "execute_result",
          "data": {
            "text/html": [
              "<div>\n",
              "<style scoped>\n",
              "    .dataframe tbody tr th:only-of-type {\n",
              "        vertical-align: middle;\n",
              "    }\n",
              "\n",
              "    .dataframe tbody tr th {\n",
              "        vertical-align: top;\n",
              "    }\n",
              "\n",
              "    .dataframe thead th {\n",
              "        text-align: right;\n",
              "    }\n",
              "</style>\n",
              "<table border=\"1\" class=\"dataframe\">\n",
              "  <thead>\n",
              "    <tr style=\"text-align: right;\">\n",
              "      <th></th>\n",
              "      <th>TransactionId</th>\n",
              "      <th>FraudResult</th>\n",
              "    </tr>\n",
              "  </thead>\n",
              "  <tbody>\n",
              "    <tr>\n",
              "      <th>0</th>\n",
              "      <td>TransactionId_76871</td>\n",
              "      <td>0</td>\n",
              "    </tr>\n",
              "    <tr>\n",
              "      <th>1</th>\n",
              "      <td>TransactionId_73770</td>\n",
              "      <td>0</td>\n",
              "    </tr>\n",
              "    <tr>\n",
              "      <th>2</th>\n",
              "      <td>TransactionId_26203</td>\n",
              "      <td>0</td>\n",
              "    </tr>\n",
              "    <tr>\n",
              "      <th>3</th>\n",
              "      <td>TransactionId_380</td>\n",
              "      <td>0</td>\n",
              "    </tr>\n",
              "    <tr>\n",
              "      <th>4</th>\n",
              "      <td>TransactionId_28195</td>\n",
              "      <td>0</td>\n",
              "    </tr>\n",
              "    <tr>\n",
              "      <th>5</th>\n",
              "      <td>TransactionId_23223</td>\n",
              "      <td>0</td>\n",
              "    </tr>\n",
              "    <tr>\n",
              "      <th>6</th>\n",
              "      <td>TransactionId_118063</td>\n",
              "      <td>0</td>\n",
              "    </tr>\n",
              "    <tr>\n",
              "      <th>7</th>\n",
              "      <td>TransactionId_100640</td>\n",
              "      <td>0</td>\n",
              "    </tr>\n",
              "    <tr>\n",
              "      <th>8</th>\n",
              "      <td>TransactionId_51905</td>\n",
              "      <td>0</td>\n",
              "    </tr>\n",
              "    <tr>\n",
              "      <th>9</th>\n",
              "      <td>TransactionId_130161</td>\n",
              "      <td>0</td>\n",
              "    </tr>\n",
              "    <tr>\n",
              "      <th>10</th>\n",
              "      <td>TransactionId_51800</td>\n",
              "      <td>0</td>\n",
              "    </tr>\n",
              "    <tr>\n",
              "      <th>11</th>\n",
              "      <td>TransactionId_33857</td>\n",
              "      <td>0</td>\n",
              "    </tr>\n",
              "    <tr>\n",
              "      <th>12</th>\n",
              "      <td>TransactionId_94963</td>\n",
              "      <td>0</td>\n",
              "    </tr>\n",
              "    <tr>\n",
              "      <th>13</th>\n",
              "      <td>TransactionId_104687</td>\n",
              "      <td>0</td>\n",
              "    </tr>\n",
              "    <tr>\n",
              "      <th>14</th>\n",
              "      <td>TransactionId_86903</td>\n",
              "      <td>0</td>\n",
              "    </tr>\n",
              "    <tr>\n",
              "      <th>15</th>\n",
              "      <td>TransactionId_118831</td>\n",
              "      <td>0</td>\n",
              "    </tr>\n",
              "    <tr>\n",
              "      <th>16</th>\n",
              "      <td>TransactionId_122975</td>\n",
              "      <td>0</td>\n",
              "    </tr>\n",
              "    <tr>\n",
              "      <th>17</th>\n",
              "      <td>TransactionId_98367</td>\n",
              "      <td>0</td>\n",
              "    </tr>\n",
              "    <tr>\n",
              "      <th>18</th>\n",
              "      <td>TransactionId_64044</td>\n",
              "      <td>0</td>\n",
              "    </tr>\n",
              "    <tr>\n",
              "      <th>19</th>\n",
              "      <td>TransactionId_119821</td>\n",
              "      <td>0</td>\n",
              "    </tr>\n",
              "    <tr>\n",
              "      <th>20</th>\n",
              "      <td>TransactionId_94363</td>\n",
              "      <td>0</td>\n",
              "    </tr>\n",
              "    <tr>\n",
              "      <th>21</th>\n",
              "      <td>TransactionId_93543</td>\n",
              "      <td>0</td>\n",
              "    </tr>\n",
              "    <tr>\n",
              "      <th>22</th>\n",
              "      <td>TransactionId_138139</td>\n",
              "      <td>0</td>\n",
              "    </tr>\n",
              "    <tr>\n",
              "      <th>23</th>\n",
              "      <td>TransactionId_79885</td>\n",
              "      <td>0</td>\n",
              "    </tr>\n",
              "    <tr>\n",
              "      <th>24</th>\n",
              "      <td>TransactionId_127132</td>\n",
              "      <td>0</td>\n",
              "    </tr>\n",
              "    <tr>\n",
              "      <th>25</th>\n",
              "      <td>TransactionId_74649</td>\n",
              "      <td>0</td>\n",
              "    </tr>\n",
              "    <tr>\n",
              "      <th>26</th>\n",
              "      <td>TransactionId_7396</td>\n",
              "      <td>0</td>\n",
              "    </tr>\n",
              "    <tr>\n",
              "      <th>27</th>\n",
              "      <td>TransactionId_126754</td>\n",
              "      <td>0</td>\n",
              "    </tr>\n",
              "    <tr>\n",
              "      <th>28</th>\n",
              "      <td>TransactionId_136360</td>\n",
              "      <td>0</td>\n",
              "    </tr>\n",
              "    <tr>\n",
              "      <th>29</th>\n",
              "      <td>TransactionId_89705</td>\n",
              "      <td>0</td>\n",
              "    </tr>\n",
              "    <tr>\n",
              "      <th>...</th>\n",
              "      <td>...</td>\n",
              "      <td>...</td>\n",
              "    </tr>\n",
              "    <tr>\n",
              "      <th>95632</th>\n",
              "      <td>TransactionId_70563</td>\n",
              "      <td>0</td>\n",
              "    </tr>\n",
              "    <tr>\n",
              "      <th>95633</th>\n",
              "      <td>TransactionId_66516</td>\n",
              "      <td>0</td>\n",
              "    </tr>\n",
              "    <tr>\n",
              "      <th>95634</th>\n",
              "      <td>TransactionId_5394</td>\n",
              "      <td>0</td>\n",
              "    </tr>\n",
              "    <tr>\n",
              "      <th>95635</th>\n",
              "      <td>TransactionId_11513</td>\n",
              "      <td>0</td>\n",
              "    </tr>\n",
              "    <tr>\n",
              "      <th>95636</th>\n",
              "      <td>TransactionId_112982</td>\n",
              "      <td>0</td>\n",
              "    </tr>\n",
              "    <tr>\n",
              "      <th>95637</th>\n",
              "      <td>TransactionId_53307</td>\n",
              "      <td>0</td>\n",
              "    </tr>\n",
              "    <tr>\n",
              "      <th>95638</th>\n",
              "      <td>TransactionId_20690</td>\n",
              "      <td>0</td>\n",
              "    </tr>\n",
              "    <tr>\n",
              "      <th>95639</th>\n",
              "      <td>TransactionId_73868</td>\n",
              "      <td>0</td>\n",
              "    </tr>\n",
              "    <tr>\n",
              "      <th>95640</th>\n",
              "      <td>TransactionId_131580</td>\n",
              "      <td>0</td>\n",
              "    </tr>\n",
              "    <tr>\n",
              "      <th>95641</th>\n",
              "      <td>TransactionId_134543</td>\n",
              "      <td>0</td>\n",
              "    </tr>\n",
              "    <tr>\n",
              "      <th>95642</th>\n",
              "      <td>TransactionId_117975</td>\n",
              "      <td>0</td>\n",
              "    </tr>\n",
              "    <tr>\n",
              "      <th>95643</th>\n",
              "      <td>TransactionId_114220</td>\n",
              "      <td>0</td>\n",
              "    </tr>\n",
              "    <tr>\n",
              "      <th>95644</th>\n",
              "      <td>TransactionId_49819</td>\n",
              "      <td>0</td>\n",
              "    </tr>\n",
              "    <tr>\n",
              "      <th>95645</th>\n",
              "      <td>TransactionId_131922</td>\n",
              "      <td>0</td>\n",
              "    </tr>\n",
              "    <tr>\n",
              "      <th>95646</th>\n",
              "      <td>TransactionId_128602</td>\n",
              "      <td>0</td>\n",
              "    </tr>\n",
              "    <tr>\n",
              "      <th>95647</th>\n",
              "      <td>TransactionId_74925</td>\n",
              "      <td>0</td>\n",
              "    </tr>\n",
              "    <tr>\n",
              "      <th>95648</th>\n",
              "      <td>TransactionId_96153</td>\n",
              "      <td>0</td>\n",
              "    </tr>\n",
              "    <tr>\n",
              "      <th>95649</th>\n",
              "      <td>TransactionId_138376</td>\n",
              "      <td>0</td>\n",
              "    </tr>\n",
              "    <tr>\n",
              "      <th>95650</th>\n",
              "      <td>TransactionId_36354</td>\n",
              "      <td>0</td>\n",
              "    </tr>\n",
              "    <tr>\n",
              "      <th>95651</th>\n",
              "      <td>TransactionId_16042</td>\n",
              "      <td>0</td>\n",
              "    </tr>\n",
              "    <tr>\n",
              "      <th>95652</th>\n",
              "      <td>TransactionId_71994</td>\n",
              "      <td>0</td>\n",
              "    </tr>\n",
              "    <tr>\n",
              "      <th>95653</th>\n",
              "      <td>TransactionId_68851</td>\n",
              "      <td>0</td>\n",
              "    </tr>\n",
              "    <tr>\n",
              "      <th>95654</th>\n",
              "      <td>TransactionId_18130</td>\n",
              "      <td>0</td>\n",
              "    </tr>\n",
              "    <tr>\n",
              "      <th>95655</th>\n",
              "      <td>TransactionId_38907</td>\n",
              "      <td>0</td>\n",
              "    </tr>\n",
              "    <tr>\n",
              "      <th>95656</th>\n",
              "      <td>TransactionId_68402</td>\n",
              "      <td>0</td>\n",
              "    </tr>\n",
              "    <tr>\n",
              "      <th>95657</th>\n",
              "      <td>TransactionId_89881</td>\n",
              "      <td>0</td>\n",
              "    </tr>\n",
              "    <tr>\n",
              "      <th>95658</th>\n",
              "      <td>TransactionId_91597</td>\n",
              "      <td>0</td>\n",
              "    </tr>\n",
              "    <tr>\n",
              "      <th>95659</th>\n",
              "      <td>TransactionId_82501</td>\n",
              "      <td>0</td>\n",
              "    </tr>\n",
              "    <tr>\n",
              "      <th>95660</th>\n",
              "      <td>TransactionId_136354</td>\n",
              "      <td>0</td>\n",
              "    </tr>\n",
              "    <tr>\n",
              "      <th>95661</th>\n",
              "      <td>TransactionId_35670</td>\n",
              "      <td>0</td>\n",
              "    </tr>\n",
              "  </tbody>\n",
              "</table>\n",
              "<p>95662 rows × 2 columns</p>\n",
              "</div>"
            ],
            "text/plain": [
              "              TransactionId  FraudResult\n",
              "0       TransactionId_76871            0\n",
              "1       TransactionId_73770            0\n",
              "2       TransactionId_26203            0\n",
              "3         TransactionId_380            0\n",
              "4       TransactionId_28195            0\n",
              "5       TransactionId_23223            0\n",
              "6      TransactionId_118063            0\n",
              "7      TransactionId_100640            0\n",
              "8       TransactionId_51905            0\n",
              "9      TransactionId_130161            0\n",
              "10      TransactionId_51800            0\n",
              "11      TransactionId_33857            0\n",
              "12      TransactionId_94963            0\n",
              "13     TransactionId_104687            0\n",
              "14      TransactionId_86903            0\n",
              "15     TransactionId_118831            0\n",
              "16     TransactionId_122975            0\n",
              "17      TransactionId_98367            0\n",
              "18      TransactionId_64044            0\n",
              "19     TransactionId_119821            0\n",
              "20      TransactionId_94363            0\n",
              "21      TransactionId_93543            0\n",
              "22     TransactionId_138139            0\n",
              "23      TransactionId_79885            0\n",
              "24     TransactionId_127132            0\n",
              "25      TransactionId_74649            0\n",
              "26       TransactionId_7396            0\n",
              "27     TransactionId_126754            0\n",
              "28     TransactionId_136360            0\n",
              "29      TransactionId_89705            0\n",
              "...                     ...          ...\n",
              "95632   TransactionId_70563            0\n",
              "95633   TransactionId_66516            0\n",
              "95634    TransactionId_5394            0\n",
              "95635   TransactionId_11513            0\n",
              "95636  TransactionId_112982            0\n",
              "95637   TransactionId_53307            0\n",
              "95638   TransactionId_20690            0\n",
              "95639   TransactionId_73868            0\n",
              "95640  TransactionId_131580            0\n",
              "95641  TransactionId_134543            0\n",
              "95642  TransactionId_117975            0\n",
              "95643  TransactionId_114220            0\n",
              "95644   TransactionId_49819            0\n",
              "95645  TransactionId_131922            0\n",
              "95646  TransactionId_128602            0\n",
              "95647   TransactionId_74925            0\n",
              "95648   TransactionId_96153            0\n",
              "95649  TransactionId_138376            0\n",
              "95650   TransactionId_36354            0\n",
              "95651   TransactionId_16042            0\n",
              "95652   TransactionId_71994            0\n",
              "95653   TransactionId_68851            0\n",
              "95654   TransactionId_18130            0\n",
              "95655   TransactionId_38907            0\n",
              "95656   TransactionId_68402            0\n",
              "95657   TransactionId_89881            0\n",
              "95658   TransactionId_91597            0\n",
              "95659   TransactionId_82501            0\n",
              "95660  TransactionId_136354            0\n",
              "95661   TransactionId_35670            0\n",
              "\n",
              "[95662 rows x 2 columns]"
            ]
          },
          "metadata": {
            "tags": []
          },
          "execution_count": 45
        }
      ]
    },
    {
      "cell_type": "code",
      "metadata": {
        "id": "OILqLmEGKMhD",
        "colab_type": "code",
        "colab": {}
      },
      "source": [
        "training_df.drop(columns=['FraudResult'],inplace=True)"
      ],
      "execution_count": 0,
      "outputs": []
    },
    {
      "cell_type": "code",
      "metadata": {
        "id": "-TMSjFgwKSDq",
        "colab_type": "code",
        "colab": {}
      },
      "source": [
        "df = pd.concat([training_df,test_df], ignore_index = True)\n"
      ],
      "execution_count": 0,
      "outputs": []
    },
    {
      "cell_type": "code",
      "metadata": {
        "id": "D6aBhGhpKasz",
        "colab_type": "code",
        "colab": {}
      },
      "source": [
        "df.drop(columns=['CurrencyCode','CountryCode'],inplace=True)"
      ],
      "execution_count": 0,
      "outputs": []
    },
    {
      "cell_type": "code",
      "metadata": {
        "id": "qBffU8cxKlT4",
        "colab_type": "code",
        "colab": {}
      },
      "source": [
        "from datetime import datetime\n",
        "L = []\n",
        "for index in range(0,df.shape[0]):\n",
        "  date = df['TransactionStartTime'][index][:10]\n",
        "  year = int(date[:4])\n",
        "  month = int(date[5:7])\n",
        "  day = int(date[8:10])\n",
        "  day_of_week = datetime(year, month, day).weekday()\n",
        "  L.append(day_of_week)\n",
        "weekday_df = pd.DataFrame(L, columns=['Weekday'])\n"
      ],
      "execution_count": 0,
      "outputs": []
    },
    {
      "cell_type": "code",
      "metadata": {
        "id": "w0ymkYU4K2-9",
        "colab_type": "code",
        "colab": {}
      },
      "source": [
        "df = pd.concat([df, weekday_df], axis=1)"
      ],
      "execution_count": 0,
      "outputs": []
    },
    {
      "cell_type": "code",
      "metadata": {
        "id": "j3DrhG68Kxib",
        "colab_type": "code",
        "colab": {}
      },
      "source": [
        "from datetime import datetime\n",
        "L = []\n",
        "for index in range(0,df.shape[0]):\n",
        "  hour_of_transaction = int(df['TransactionStartTime'][index][11:13])\n",
        "  L.append(hour_of_transaction)\n",
        "transaction_hour_df = pd.DataFrame(L, columns=['Hour_of_transaction'])"
      ],
      "execution_count": 0,
      "outputs": []
    },
    {
      "cell_type": "code",
      "metadata": {
        "id": "FO5_5y6OK76D",
        "colab_type": "code",
        "colab": {}
      },
      "source": [
        "df = pd.concat([df, transaction_hour_df], axis=1)"
      ],
      "execution_count": 0,
      "outputs": []
    },
    {
      "cell_type": "code",
      "metadata": {
        "id": "8Ku-EBCnMIHw",
        "colab_type": "code",
        "colab": {}
      },
      "source": [
        "df.drop(columns=['TransactionStartTime'],inplace=True)"
      ],
      "execution_count": 0,
      "outputs": []
    },
    {
      "cell_type": "code",
      "metadata": {
        "id": "K1tpwy_bLBBN",
        "colab_type": "code",
        "colab": {}
      },
      "source": [
        "df[\"ProviderId\"] = pd.Categorical(df[\"ProviderId\"])\n",
        "df[\"ProviderId\"] = df[\"ProviderId\"].cat.codes\n",
        "\n",
        "df[\"ProductId\"] = pd.Categorical(df[\"ProductId\"])\n",
        "df[\"ProductId\"] = df[\"ProductId\"].cat.codes\n",
        "\n",
        "df[\"ProductCategory\"] = pd.Categorical(df[\"ProductCategory\"])\n",
        "df[\"ProductCategory\"] = df[\"ProductCategory\"].cat.codes\n",
        "\n",
        "df[\"ChannelId\"] = pd.Categorical(df[\"ChannelId\"])\n",
        "df[\"ChannelId\"] = df[\"ChannelId\"].cat.codes\n"
      ],
      "execution_count": 0,
      "outputs": []
    },
    {
      "cell_type": "markdown",
      "metadata": {
        "id": "wvfs7f7hL2P2",
        "colab_type": "text"
      },
      "source": [
        "**Extract the training data**\n",
        "\n",
        "We do this to be able to apply oversampling of the minority class in a easy way."
      ]
    },
    {
      "cell_type": "code",
      "metadata": {
        "id": "FaomY2ANLzcO",
        "colab_type": "code",
        "colab": {}
      },
      "source": [
        "train_df = df.loc[df['TransactionId'].isin(training_df['TransactionId'])]"
      ],
      "execution_count": 0,
      "outputs": []
    },
    {
      "cell_type": "code",
      "metadata": {
        "id": "SS6gU02WRAkb",
        "colab_type": "code",
        "colab": {}
      },
      "source": [
        "test_df = df.loc[~df['TransactionId'].isin(training_df['TransactionId'])]"
      ],
      "execution_count": 0,
      "outputs": []
    },
    {
      "cell_type": "code",
      "metadata": {
        "id": "F33nszUBL8dv",
        "colab_type": "code",
        "outputId": "8d2eee30-f4b3-4608-fce9-bb543876df3b",
        "colab": {
          "base_uri": "https://localhost:8080/",
          "height": 224
        }
      },
      "source": [
        "train_df.head()"
      ],
      "execution_count": 57,
      "outputs": [
        {
          "output_type": "execute_result",
          "data": {
            "text/html": [
              "<div>\n",
              "<style scoped>\n",
              "    .dataframe tbody tr th:only-of-type {\n",
              "        vertical-align: middle;\n",
              "    }\n",
              "\n",
              "    .dataframe tbody tr th {\n",
              "        vertical-align: top;\n",
              "    }\n",
              "\n",
              "    .dataframe thead th {\n",
              "        text-align: right;\n",
              "    }\n",
              "</style>\n",
              "<table border=\"1\" class=\"dataframe\">\n",
              "  <thead>\n",
              "    <tr style=\"text-align: right;\">\n",
              "      <th></th>\n",
              "      <th>TransactionId</th>\n",
              "      <th>BatchId</th>\n",
              "      <th>AccountId</th>\n",
              "      <th>SubscriptionId</th>\n",
              "      <th>CustomerId</th>\n",
              "      <th>ProviderId</th>\n",
              "      <th>ProductId</th>\n",
              "      <th>ProductCategory</th>\n",
              "      <th>ChannelId</th>\n",
              "      <th>Amount</th>\n",
              "      <th>Value</th>\n",
              "      <th>PricingStrategy</th>\n",
              "      <th>Weekday</th>\n",
              "      <th>Hour_of_transaction</th>\n",
              "    </tr>\n",
              "  </thead>\n",
              "  <tbody>\n",
              "    <tr>\n",
              "      <th>0</th>\n",
              "      <td>TransactionId_76871</td>\n",
              "      <td>BatchId_36123</td>\n",
              "      <td>AccountId_3957</td>\n",
              "      <td>SubscriptionId_887</td>\n",
              "      <td>CustomerId_4406</td>\n",
              "      <td>5</td>\n",
              "      <td>1</td>\n",
              "      <td>0</td>\n",
              "      <td>2</td>\n",
              "      <td>1000.0</td>\n",
              "      <td>1000</td>\n",
              "      <td>2</td>\n",
              "      <td>3</td>\n",
              "      <td>2</td>\n",
              "    </tr>\n",
              "    <tr>\n",
              "      <th>1</th>\n",
              "      <td>TransactionId_73770</td>\n",
              "      <td>BatchId_15642</td>\n",
              "      <td>AccountId_4841</td>\n",
              "      <td>SubscriptionId_3829</td>\n",
              "      <td>CustomerId_4406</td>\n",
              "      <td>3</td>\n",
              "      <td>23</td>\n",
              "      <td>2</td>\n",
              "      <td>1</td>\n",
              "      <td>-20.0</td>\n",
              "      <td>20</td>\n",
              "      <td>2</td>\n",
              "      <td>3</td>\n",
              "      <td>2</td>\n",
              "    </tr>\n",
              "    <tr>\n",
              "      <th>2</th>\n",
              "      <td>TransactionId_26203</td>\n",
              "      <td>BatchId_53941</td>\n",
              "      <td>AccountId_4229</td>\n",
              "      <td>SubscriptionId_222</td>\n",
              "      <td>CustomerId_4683</td>\n",
              "      <td>5</td>\n",
              "      <td>0</td>\n",
              "      <td>0</td>\n",
              "      <td>2</td>\n",
              "      <td>500.0</td>\n",
              "      <td>500</td>\n",
              "      <td>2</td>\n",
              "      <td>3</td>\n",
              "      <td>2</td>\n",
              "    </tr>\n",
              "    <tr>\n",
              "      <th>3</th>\n",
              "      <td>TransactionId_380</td>\n",
              "      <td>BatchId_102363</td>\n",
              "      <td>AccountId_648</td>\n",
              "      <td>SubscriptionId_2185</td>\n",
              "      <td>CustomerId_988</td>\n",
              "      <td>0</td>\n",
              "      <td>13</td>\n",
              "      <td>9</td>\n",
              "      <td>2</td>\n",
              "      <td>20000.0</td>\n",
              "      <td>21800</td>\n",
              "      <td>2</td>\n",
              "      <td>3</td>\n",
              "      <td>3</td>\n",
              "    </tr>\n",
              "    <tr>\n",
              "      <th>4</th>\n",
              "      <td>TransactionId_28195</td>\n",
              "      <td>BatchId_38780</td>\n",
              "      <td>AccountId_4841</td>\n",
              "      <td>SubscriptionId_3829</td>\n",
              "      <td>CustomerId_988</td>\n",
              "      <td>3</td>\n",
              "      <td>23</td>\n",
              "      <td>2</td>\n",
              "      <td>1</td>\n",
              "      <td>-644.0</td>\n",
              "      <td>644</td>\n",
              "      <td>2</td>\n",
              "      <td>3</td>\n",
              "      <td>3</td>\n",
              "    </tr>\n",
              "  </tbody>\n",
              "</table>\n",
              "</div>"
            ],
            "text/plain": [
              "         TransactionId         BatchId  ... Weekday Hour_of_transaction\n",
              "0  TransactionId_76871   BatchId_36123  ...       3                   2\n",
              "1  TransactionId_73770   BatchId_15642  ...       3                   2\n",
              "2  TransactionId_26203   BatchId_53941  ...       3                   2\n",
              "3    TransactionId_380  BatchId_102363  ...       3                   3\n",
              "4  TransactionId_28195   BatchId_38780  ...       3                   3\n",
              "\n",
              "[5 rows x 14 columns]"
            ]
          },
          "metadata": {
            "tags": []
          },
          "execution_count": 57
        }
      ]
    },
    {
      "cell_type": "code",
      "metadata": {
        "id": "ruUIzuvCN_As",
        "colab_type": "code",
        "colab": {}
      },
      "source": [
        "X_train = train_df[['ProviderId','ProductCategory','ChannelId','Amount','PricingStrategy','Weekday','Hour_of_transaction']]"
      ],
      "execution_count": 0,
      "outputs": []
    },
    {
      "cell_type": "markdown",
      "metadata": {
        "id": "47Yp62CcVKTi",
        "colab_type": "text"
      },
      "source": [
        "## Dealing with imbalanced data\n",
        "\n",
        "- We will apply three different SMOTE functions."
      ]
    },
    {
      "cell_type": "code",
      "metadata": {
        "id": "DgFO7PszMBS5",
        "colab_type": "code",
        "colab": {}
      },
      "source": [
        "dict_smote = {}\n",
        "def apply_smote(X_train,y_train):\n",
        "  for sampling_ratio in range(1,11):\n",
        "    sm = SMOTE(random_state=2, sampling_strategy=sampling_ratio/10)\n",
        "    X_train_smote, y_train_smote = sm.fit_sample(X_train, y_train)\n",
        "\n",
        "    X_train_smote = pd.DataFrame(X_train_smote)\n",
        "    X_train_smote.columns = X_train.columns\n",
        "\n",
        "    y_train_smote = pd.DataFrame(y_train_smote)\n",
        "    y_train_smote.columns = y_train.columns\n",
        "\n",
        "    dict_smote[str(sampling_ratio)] = [X_train_smote,y_train_smote]\n",
        "  return dict_smote\n"
      ],
      "execution_count": 0,
      "outputs": []
    },
    {
      "cell_type": "code",
      "metadata": {
        "id": "PFS3ovjwaIrf",
        "colab_type": "code",
        "colab": {}
      },
      "source": [
        "from imblearn.combine import SMOTEENN\n",
        "\n",
        "dict_smoteenn = {}\n",
        "def apply_smoteenn(X_train,y_train):\n",
        "  for sampling_ratio in range(1,11):\n",
        "    sm_enn = SMOTEENN(random_state=2, sampling_strategy=sampling_ratio/10)\n",
        "    X_train_smoteenn, y_train_smoteenn = sm_enn.fit_resample(X_train, y_train)\n",
        "\n",
        "    X_train_smoteenn = pd.DataFrame(X_train_smoteenn)\n",
        "    X_train_smoteenn.columns = X_train.columns\n",
        "\n",
        "    y_train_smoteenn = pd.DataFrame(y_train_smoteenn)\n",
        "    y_train_smoteenn.columns = y_train.columns\n",
        "\n",
        "    dict_smoteenn[str(sampling_ratio)] = [X_train_smoteenn, y_train_smoteenn]\n",
        "  return dict_smoteenn\n"
      ],
      "execution_count": 0,
      "outputs": []
    },
    {
      "cell_type": "code",
      "metadata": {
        "id": "Xp-nnH4Yb1cG",
        "colab_type": "code",
        "colab": {}
      },
      "source": [
        "from imblearn.combine import SMOTETomek\n",
        "dict_smote_tomek = {}\n",
        "\n",
        "def apply_smote_tomek(X_train,y_train):\n",
        "  for sampling_ratio in range(1,11):\n",
        "    sm_tomek = SMOTETomek(random_state=2, sampling_strategy=sampling_ratio/10)\n",
        "    X_train_smote_tomek, y_train_smote_tomek = sm_tomek.fit_resample(X_train, y_train)\n",
        "\n",
        "    X_train_smote_tomek = pd.DataFrame(X_train_smote_tomek)\n",
        "    X_train_smote_tomek.columns = X_train.columns\n",
        "\n",
        "    y_train_smote_tomek = pd.DataFrame(y_train_smote_tomek)\n",
        "    y_train_smote_tomek.columns = y_train.columns\n",
        "\n",
        "    dict_smote_tomek[str(sampling_ratio)] = [X_train_smote_tomek, y_train_smote_tomek]\n",
        "  return dict_smote_tomek\n",
        "\n"
      ],
      "execution_count": 0,
      "outputs": []
    },
    {
      "cell_type": "code",
      "metadata": {
        "id": "9R8kHQTsEEaT",
        "colab_type": "code",
        "colab": {
          "base_uri": "https://localhost:8080/",
          "height": 80
        },
        "outputId": "893b9c2f-a1f7-4c05-bf01-806615c9c20e"
      },
      "source": [
        "X_test_.iloc[[0]]"
      ],
      "execution_count": 116,
      "outputs": [
        {
          "output_type": "execute_result",
          "data": {
            "text/html": [
              "<div>\n",
              "<style scoped>\n",
              "    .dataframe tbody tr th:only-of-type {\n",
              "        vertical-align: middle;\n",
              "    }\n",
              "\n",
              "    .dataframe tbody tr th {\n",
              "        vertical-align: top;\n",
              "    }\n",
              "\n",
              "    .dataframe thead th {\n",
              "        text-align: right;\n",
              "    }\n",
              "</style>\n",
              "<table border=\"1\" class=\"dataframe\">\n",
              "  <thead>\n",
              "    <tr style=\"text-align: right;\">\n",
              "      <th></th>\n",
              "      <th>ProviderId</th>\n",
              "      <th>ProductCategory</th>\n",
              "      <th>ChannelId</th>\n",
              "      <th>Amount</th>\n",
              "      <th>PricingStrategy</th>\n",
              "      <th>Weekday</th>\n",
              "      <th>Hour_of_transaction</th>\n",
              "    </tr>\n",
              "  </thead>\n",
              "  <tbody>\n",
              "    <tr>\n",
              "      <th>69075</th>\n",
              "      <td>0</td>\n",
              "      <td>0</td>\n",
              "      <td>2</td>\n",
              "      <td>2000.0</td>\n",
              "      <td>4</td>\n",
              "      <td>2</td>\n",
              "      <td>11</td>\n",
              "    </tr>\n",
              "  </tbody>\n",
              "</table>\n",
              "</div>"
            ],
            "text/plain": [
              "       ProviderId  ProductCategory  ...  Weekday  Hour_of_transaction\n",
              "69075           0                0  ...        2                   11\n",
              "\n",
              "[1 rows x 7 columns]"
            ]
          },
          "metadata": {
            "tags": []
          },
          "execution_count": 116
        }
      ]
    },
    {
      "cell_type": "code",
      "metadata": {
        "id": "STw9ECX1Bvxj",
        "colab_type": "code",
        "colab": {}
      },
      "source": [
        "def ML_homemade(X_train, X_test, y_train, y_test):\n",
        "  model = RandomForestClassifier(random_state=3, n_estimators=20)\n",
        "  model.fit(X_train, y_train)\n",
        "  L = []\n",
        "  for index in range(0,X_test.shape[0]):\n",
        "    if int(X_test['Amount'].iloc[index]) > 40000000:\n",
        "      L.append(1)\n",
        "    else: \n",
        "      pred = model.predict(X_test.iloc[[index]])\n",
        "      L.append(pred)\n",
        "      \n",
        "  return f1_score(y_test, L)"
      ],
      "execution_count": 0,
      "outputs": []
    },
    {
      "cell_type": "code",
      "metadata": {
        "id": "qUCmaUmY6_zJ",
        "colab_type": "code",
        "colab": {}
      },
      "source": [
        "def ML_models(X_train, X_test, y_train, y_test):\n",
        "  model = RandomForestClassifier(random_state=3, n_estimators=20)\n",
        "  model.fit(X_train, y_train)\n",
        "  rf_pred = model.predict(X_test)\n",
        "  print(f1_score(y_test, rf_pred)  )\n",
        "  \n",
        "  model = GradientBoostingClassifier(n_estimators=90, max_depth=3, random_state=8) \n",
        "  model.fit(X_train,y_train)\n",
        "  gb_pred = model.predict(X_test)\n",
        "  print(f1_score(y_test, gb_pred))\n",
        "  \n",
        "  #print(ML_homemade(X_train, X_test, y_train, y_test)) \n",
        "  \n",
        "  \n",
        "  \n",
        "  "
      ],
      "execution_count": 0,
      "outputs": []
    },
    {
      "cell_type": "code",
      "metadata": {
        "id": "Q-Sy28P59c7L",
        "colab_type": "code",
        "colab": {}
      },
      "source": [
        "def split_dataset(features, target):  \n",
        "  X_train, X_test, y_train, y_test = train_test_split( features, target, test_size=0.4, random_state=0)\n",
        "  return X_train, X_test, y_train, y_test"
      ],
      "execution_count": 0,
      "outputs": []
    },
    {
      "cell_type": "code",
      "metadata": {
        "id": "2siuM4AW6PYn",
        "colab_type": "code",
        "colab": {}
      },
      "source": [
        "X_train_, X_test_, y_train_, y_test_ = split_dataset(X_train, y_train[['FraudResult']])\n",
        "dict_smote = apply_smote(X_train_,y_train_)\n",
        "dict_smoteenn = apply_smoteenn(X_train_,y_train_)\n",
        "dict_smote_tomek = apply_smote_tomek(X_train_,y_train_)"
      ],
      "execution_count": 0,
      "outputs": []
    },
    {
      "cell_type": "code",
      "metadata": {
        "id": "UErFdyN18bpG",
        "colab_type": "code",
        "colab": {}
      },
      "source": [
        "for key,value in dict_smote.items():\n",
        "  X_train_,y_train_ = dict_smote[key]\n",
        "  print(key)\n",
        "  ML_models(X_train_, X_test_, y_train_, y_test_)"
      ],
      "execution_count": 0,
      "outputs": []
    },
    {
      "cell_type": "code",
      "metadata": {
        "id": "y-gFDW2c-w1C",
        "colab_type": "code",
        "colab": {}
      },
      "source": [
        "for key,value in dict_smote.items():\n",
        "  X_train_,y_train_ = dict_smoteenn[key]\n",
        "  print(key)\n",
        "  ML_models(X_train_, X_test_, y_train_, y_test_)"
      ],
      "execution_count": 0,
      "outputs": []
    },
    {
      "cell_type": "code",
      "metadata": {
        "id": "xnl4TfWM-0Yh",
        "colab_type": "code",
        "colab": {}
      },
      "source": [
        "for key,value in dict_smote.items():\n",
        "  X_train_,y_train_ = dict_smote_tomek[key]\n",
        "  print(key)\n",
        "  ML_models(X_train_, X_test_, y_train_, y_test_)"
      ],
      "execution_count": 0,
      "outputs": []
    },
    {
      "cell_type": "markdown",
      "metadata": {
        "id": "Eazas7JwW0ls",
        "colab_type": "text"
      },
      "source": [
        "# Submission"
      ]
    },
    {
      "cell_type": "code",
      "metadata": {
        "id": "B1c03UFoNOOA",
        "colab_type": "code",
        "colab": {
          "base_uri": "https://localhost:8080/",
          "height": 204
        },
        "outputId": "fb1cee11-4877-4dd6-b9f9-9f676fa428de"
      },
      "source": [
        "X_train.head()"
      ],
      "execution_count": 132,
      "outputs": [
        {
          "output_type": "execute_result",
          "data": {
            "text/html": [
              "<div>\n",
              "<style scoped>\n",
              "    .dataframe tbody tr th:only-of-type {\n",
              "        vertical-align: middle;\n",
              "    }\n",
              "\n",
              "    .dataframe tbody tr th {\n",
              "        vertical-align: top;\n",
              "    }\n",
              "\n",
              "    .dataframe thead th {\n",
              "        text-align: right;\n",
              "    }\n",
              "</style>\n",
              "<table border=\"1\" class=\"dataframe\">\n",
              "  <thead>\n",
              "    <tr style=\"text-align: right;\">\n",
              "      <th></th>\n",
              "      <th>ProviderId</th>\n",
              "      <th>ProductCategory</th>\n",
              "      <th>ChannelId</th>\n",
              "      <th>Amount</th>\n",
              "      <th>PricingStrategy</th>\n",
              "      <th>Weekday</th>\n",
              "      <th>Hour_of_transaction</th>\n",
              "    </tr>\n",
              "  </thead>\n",
              "  <tbody>\n",
              "    <tr>\n",
              "      <th>0</th>\n",
              "      <td>5</td>\n",
              "      <td>0</td>\n",
              "      <td>2</td>\n",
              "      <td>1000.0</td>\n",
              "      <td>2</td>\n",
              "      <td>3</td>\n",
              "      <td>2</td>\n",
              "    </tr>\n",
              "    <tr>\n",
              "      <th>1</th>\n",
              "      <td>3</td>\n",
              "      <td>2</td>\n",
              "      <td>1</td>\n",
              "      <td>-20.0</td>\n",
              "      <td>2</td>\n",
              "      <td>3</td>\n",
              "      <td>2</td>\n",
              "    </tr>\n",
              "    <tr>\n",
              "      <th>2</th>\n",
              "      <td>5</td>\n",
              "      <td>0</td>\n",
              "      <td>2</td>\n",
              "      <td>500.0</td>\n",
              "      <td>2</td>\n",
              "      <td>3</td>\n",
              "      <td>2</td>\n",
              "    </tr>\n",
              "    <tr>\n",
              "      <th>3</th>\n",
              "      <td>0</td>\n",
              "      <td>9</td>\n",
              "      <td>2</td>\n",
              "      <td>20000.0</td>\n",
              "      <td>2</td>\n",
              "      <td>3</td>\n",
              "      <td>3</td>\n",
              "    </tr>\n",
              "    <tr>\n",
              "      <th>4</th>\n",
              "      <td>3</td>\n",
              "      <td>2</td>\n",
              "      <td>1</td>\n",
              "      <td>-644.0</td>\n",
              "      <td>2</td>\n",
              "      <td>3</td>\n",
              "      <td>3</td>\n",
              "    </tr>\n",
              "  </tbody>\n",
              "</table>\n",
              "</div>"
            ],
            "text/plain": [
              "   ProviderId  ProductCategory  ...  Weekday  Hour_of_transaction\n",
              "0           5                0  ...        3                    2\n",
              "1           3                2  ...        3                    2\n",
              "2           5                0  ...        3                    2\n",
              "3           0                9  ...        3                    3\n",
              "4           3                2  ...        3                    3\n",
              "\n",
              "[5 rows x 7 columns]"
            ]
          },
          "metadata": {
            "tags": []
          },
          "execution_count": 132
        }
      ]
    },
    {
      "cell_type": "code",
      "metadata": {
        "id": "jn9KHBtvMjgf",
        "colab_type": "code",
        "colab": {}
      },
      "source": [
        "sm = SMOTE(random_state=2, sampling_strategy=1/10)\n",
        "X_train_smote, y_train_smote = sm.fit_sample(X_train, y_train['FraudResult'])\n",
        "\n",
        "model = RandomForestClassifier(random_state=3, n_estimators=20)\n",
        "model.fit(X_train_smote, y_train_smote)\n",
        "\n",
        "X_test = test_df[['ProviderId','ProductCategory','ChannelId','Amount','PricingStrategy','Weekday','Hour_of_transaction']]\n",
        "\n",
        "L = []\n",
        "for index in range(0,X_test.shape[0]):\n",
        "  if int(X_test['Amount'].iloc[index]) > 30000000:\n",
        "    L.append(1)\n",
        "  else: \n",
        "    pred = model.predict(X_test.iloc[[index]])\n",
        "    L.append(int(pred))"
      ],
      "execution_count": 0,
      "outputs": []
    },
    {
      "cell_type": "code",
      "metadata": {
        "id": "dcmblWm-RV_q",
        "colab_type": "code",
        "colab": {}
      },
      "source": [
        "\n",
        "submission = pd.DataFrame({'TransactionId':test_df['TransactionId'],'FraudResult':L})\n",
        "from google.colab import files\n",
        "submission.to_csv('final_busura_model.csv',index=False) \n",
        "files.download('final_busura_model.csv')"
      ],
      "execution_count": 0,
      "outputs": []
    }
  ]
}