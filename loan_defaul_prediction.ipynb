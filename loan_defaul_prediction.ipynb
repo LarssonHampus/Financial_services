{
  "nbformat": 4,
  "nbformat_minor": 0,
  "metadata": {
    "colab": {
      "name": "ONEFI_loan_defaul_prediction.ipynb",
      "version": "0.3.2",
      "provenance": [],
      "collapsed_sections": []
    },
    "kernelspec": {
      "name": "python3",
      "display_name": "Python 3"
    }
  },
  "cells": [
    {
      "cell_type": "markdown",
      "metadata": {
        "id": "2p6KMezD4z9n",
        "colab_type": "text"
      },
      "source": [
        "# Introduction "
      ]
    },
    {
      "cell_type": "code",
      "metadata": {
        "id": "8VtLrJIiYlN-",
        "colab_type": "code",
        "outputId": "75ada9cc-b826-41bc-d32e-adbeec3cbcee",
        "colab": {
          "base_uri": "https://localhost:8080/",
          "height": 122
        }
      },
      "source": [
        "from google.colab import drive \n",
        "drive.mount('/content/gdrive')"
      ],
      "execution_count": 0,
      "outputs": [
        {
          "output_type": "stream",
          "text": [
            "Go to this URL in a browser: https://accounts.google.com/o/oauth2/auth?client_id=947318989803-6bn6qk8qdgf4n4g3pfee6491hc0brc4i.apps.googleusercontent.com&redirect_uri=urn%3Aietf%3Awg%3Aoauth%3A2.0%3Aoob&scope=email%20https%3A%2F%2Fwww.googleapis.com%2Fauth%2Fdocs.test%20https%3A%2F%2Fwww.googleapis.com%2Fauth%2Fdrive%20https%3A%2F%2Fwww.googleapis.com%2Fauth%2Fdrive.photos.readonly%20https%3A%2F%2Fwww.googleapis.com%2Fauth%2Fpeopleapi.readonly&response_type=code\n",
            "\n",
            "Enter your authorization code:\n",
            "··········\n",
            "Mounted at /content/gdrive\n"
          ],
          "name": "stdout"
        }
      ]
    },
    {
      "cell_type": "code",
      "metadata": {
        "id": "iGhTWQGAYlSf",
        "colab_type": "code",
        "outputId": "f4858152-ca20-4547-91ad-8d57b7e4d6a7",
        "colab": {
          "base_uri": "https://localhost:8080/",
          "height": 71
        }
      },
      "source": [
        "#import libraries \n",
        "import pandas as pd\n",
        "import numpy as np\n",
        "import seaborn as sns\n",
        "from imblearn.over_sampling import SMOTE\n",
        "from sklearn.metrics import confusion_matrix\n",
        "from sklearn.preprocessing import Imputer\n",
        "\n",
        "from sklearn.svm import SVC\n",
        "\n",
        "import xgboost as XGB\n",
        "from sklearn.ensemble import RandomForestClassifier, GradientBoostingClassifier\n",
        "from sklearn.model_selection import train_test_split\n",
        "from sklearn.preprocessing import LabelEncoder\n",
        "import warnings\n",
        "warnings.filterwarnings('ignore')"
      ],
      "execution_count": 0,
      "outputs": [
        {
          "output_type": "stream",
          "text": [
            "/usr/local/lib/python3.6/dist-packages/sklearn/externals/six.py:31: DeprecationWarning: The module is deprecated in version 0.21 and will be removed in version 0.23 since we've dropped support for Python 2.7. Please rely on the official version of six (https://pypi.org/project/six/).\n",
            "  \"(https://pypi.org/project/six/).\", DeprecationWarning)\n"
          ],
          "name": "stderr"
        }
      ]
    },
    {
      "cell_type": "code",
      "metadata": {
        "id": "drA1YzhhYlUQ",
        "colab_type": "code",
        "colab": {}
      },
      "source": [
        "test_demo = pd.read_csv('gdrive/My Drive/Colab Notebooks/Busura/Loan_prediction/testdemographics.csv')\n",
        "test_perf = pd.read_csv('gdrive/My Drive/Colab Notebooks/Busura/Loan_prediction/testperf.csv')\n",
        "test_prevloan = pd.read_csv('gdrive/My Drive/Colab Notebooks/Busura/Loan_prediction/testprevloans.csv')\n",
        "\n",
        "train_demo = pd.read_csv('gdrive/My Drive/Colab Notebooks/Busura/Loan_prediction/traindemographics.csv')\n",
        "train_perf = pd.read_csv('gdrive/My Drive/Colab Notebooks/Busura/Loan_prediction/trainperf.csv')\n",
        "train_prevloan = pd.read_csv('gdrive/My Drive/Colab Notebooks/Busura/Loan_prediction/trainprevloans.csv')\n"
      ],
      "execution_count": 0,
      "outputs": []
    },
    {
      "cell_type": "markdown",
      "metadata": {
        "id": "8johPyk3goFn",
        "colab_type": "text"
      },
      "source": [
        "# Performance dataset "
      ]
    },
    {
      "cell_type": "code",
      "metadata": {
        "id": "2JHloMIrYlYP",
        "colab_type": "code",
        "outputId": "70069267-a970-4d32-ca0f-f7965024a04f",
        "colab": {
          "base_uri": "https://localhost:8080/",
          "height": 309
        }
      },
      "source": [
        "train_perf.head()"
      ],
      "execution_count": 0,
      "outputs": [
        {
          "output_type": "execute_result",
          "data": {
            "text/html": [
              "<div>\n",
              "<style scoped>\n",
              "    .dataframe tbody tr th:only-of-type {\n",
              "        vertical-align: middle;\n",
              "    }\n",
              "\n",
              "    .dataframe tbody tr th {\n",
              "        vertical-align: top;\n",
              "    }\n",
              "\n",
              "    .dataframe thead th {\n",
              "        text-align: right;\n",
              "    }\n",
              "</style>\n",
              "<table border=\"1\" class=\"dataframe\">\n",
              "  <thead>\n",
              "    <tr style=\"text-align: right;\">\n",
              "      <th></th>\n",
              "      <th>customerid</th>\n",
              "      <th>systemloanid</th>\n",
              "      <th>loannumber</th>\n",
              "      <th>approveddate</th>\n",
              "      <th>creationdate</th>\n",
              "      <th>loanamount</th>\n",
              "      <th>totaldue</th>\n",
              "      <th>termdays</th>\n",
              "      <th>referredby</th>\n",
              "      <th>good_bad_flag</th>\n",
              "    </tr>\n",
              "  </thead>\n",
              "  <tbody>\n",
              "    <tr>\n",
              "      <th>0</th>\n",
              "      <td>8a2a81a74ce8c05d014cfb32a0da1049</td>\n",
              "      <td>301994762</td>\n",
              "      <td>12</td>\n",
              "      <td>2017-07-25 08:22:56.000000</td>\n",
              "      <td>2017-07-25 07:22:47.000000</td>\n",
              "      <td>30000.0</td>\n",
              "      <td>34500.0</td>\n",
              "      <td>30</td>\n",
              "      <td>NaN</td>\n",
              "      <td>Good</td>\n",
              "    </tr>\n",
              "    <tr>\n",
              "      <th>1</th>\n",
              "      <td>8a85886e54beabf90154c0a29ae757c0</td>\n",
              "      <td>301965204</td>\n",
              "      <td>2</td>\n",
              "      <td>2017-07-05 17:04:41.000000</td>\n",
              "      <td>2017-07-05 16:04:18.000000</td>\n",
              "      <td>15000.0</td>\n",
              "      <td>17250.0</td>\n",
              "      <td>30</td>\n",
              "      <td>NaN</td>\n",
              "      <td>Good</td>\n",
              "    </tr>\n",
              "    <tr>\n",
              "      <th>2</th>\n",
              "      <td>8a8588f35438fe12015444567666018e</td>\n",
              "      <td>301966580</td>\n",
              "      <td>7</td>\n",
              "      <td>2017-07-06 14:52:57.000000</td>\n",
              "      <td>2017-07-06 13:52:51.000000</td>\n",
              "      <td>20000.0</td>\n",
              "      <td>22250.0</td>\n",
              "      <td>15</td>\n",
              "      <td>NaN</td>\n",
              "      <td>Good</td>\n",
              "    </tr>\n",
              "    <tr>\n",
              "      <th>3</th>\n",
              "      <td>8a85890754145ace015429211b513e16</td>\n",
              "      <td>301999343</td>\n",
              "      <td>3</td>\n",
              "      <td>2017-07-27 19:00:41.000000</td>\n",
              "      <td>2017-07-27 18:00:35.000000</td>\n",
              "      <td>10000.0</td>\n",
              "      <td>11500.0</td>\n",
              "      <td>15</td>\n",
              "      <td>NaN</td>\n",
              "      <td>Good</td>\n",
              "    </tr>\n",
              "    <tr>\n",
              "      <th>4</th>\n",
              "      <td>8a858970548359cc0154883481981866</td>\n",
              "      <td>301962360</td>\n",
              "      <td>9</td>\n",
              "      <td>2017-07-03 23:42:45.000000</td>\n",
              "      <td>2017-07-03 22:42:39.000000</td>\n",
              "      <td>40000.0</td>\n",
              "      <td>44000.0</td>\n",
              "      <td>30</td>\n",
              "      <td>NaN</td>\n",
              "      <td>Good</td>\n",
              "    </tr>\n",
              "  </tbody>\n",
              "</table>\n",
              "</div>"
            ],
            "text/plain": [
              "                         customerid  systemloanid  ...  referredby good_bad_flag\n",
              "0  8a2a81a74ce8c05d014cfb32a0da1049     301994762  ...         NaN          Good\n",
              "1  8a85886e54beabf90154c0a29ae757c0     301965204  ...         NaN          Good\n",
              "2  8a8588f35438fe12015444567666018e     301966580  ...         NaN          Good\n",
              "3  8a85890754145ace015429211b513e16     301999343  ...         NaN          Good\n",
              "4  8a858970548359cc0154883481981866     301962360  ...         NaN          Good\n",
              "\n",
              "[5 rows x 10 columns]"
            ]
          },
          "metadata": {
            "tags": []
          },
          "execution_count": 5
        }
      ]
    },
    {
      "cell_type": "code",
      "metadata": {
        "id": "suqItnxlcAAJ",
        "colab_type": "code",
        "colab": {}
      },
      "source": [
        "train_perf['good_bad_flag'] = train_perf['good_bad_flag'].replace(to_replace=['Bad', 'Good'], value=[0, 1])"
      ],
      "execution_count": 0,
      "outputs": []
    },
    {
      "cell_type": "code",
      "metadata": {
        "id": "R6nihvrRhM2O",
        "colab_type": "code",
        "outputId": "c025cc62-bd34-4610-f793-6d417b9614f7",
        "colab": {
          "base_uri": "https://localhost:8080/",
          "height": 204
        }
      },
      "source": [
        "train_perf.isna().sum() "
      ],
      "execution_count": 0,
      "outputs": [
        {
          "output_type": "execute_result",
          "data": {
            "text/plain": [
              "customerid          0\n",
              "systemloanid        0\n",
              "loannumber          0\n",
              "approveddate        0\n",
              "creationdate        0\n",
              "loanamount          0\n",
              "totaldue            0\n",
              "termdays            0\n",
              "referredby       3781\n",
              "good_bad_flag       0\n",
              "dtype: int64"
            ]
          },
          "metadata": {
            "tags": []
          },
          "execution_count": 7
        }
      ]
    },
    {
      "cell_type": "code",
      "metadata": {
        "id": "Pq9V6iRJhO3s",
        "colab_type": "code",
        "outputId": "2a1eae7a-6226-4321-f119-22cd95d1b2a2",
        "colab": {
          "base_uri": "https://localhost:8080/",
          "height": 34
        }
      },
      "source": [
        "train_perf.shape[0]"
      ],
      "execution_count": 0,
      "outputs": [
        {
          "output_type": "execute_result",
          "data": {
            "text/plain": [
              "4368"
            ]
          },
          "metadata": {
            "tags": []
          },
          "execution_count": 8
        }
      ]
    },
    {
      "cell_type": "code",
      "metadata": {
        "id": "52MBpNTYcngh",
        "colab_type": "code",
        "outputId": "62a4231c-d9f2-43f5-8644-177a1907bbdc",
        "colab": {
          "base_uri": "https://localhost:8080/",
          "height": 515
        }
      },
      "source": [
        "from matplotlib import pyplot\n",
        "\n",
        "a4_dims = (11.7, 8.27)\n",
        "fig, ax = pyplot.subplots(figsize=a4_dims)\n",
        "sns.countplot(ax=ax,x='loanamount',hue='good_bad_flag',data=train_perf);\n"
      ],
      "execution_count": 0,
      "outputs": [
        {
          "output_type": "display_data",
          "data": {
            "image/png": "[encoded data removed]",
            "text/plain": [
              "<Figure size 842.4x595.44 with 1 Axes>"
            ]
          },
          "metadata": {
            "tags": []
          }
        }
      ]
    },
    {
      "cell_type": "markdown",
      "metadata": {
        "id": "cD4P7QnupKjc",
        "colab_type": "text"
      },
      "source": [
        "A large proportion of the loans are for 10 000, and it is also where we find the most \"Bad\" customers. This indicates that it might be beneficial to, depending on the other features, to create an individual model for loans of 10 000. "
      ]
    },
    {
      "cell_type": "code",
      "metadata": {
        "id": "XPjZH6SYpxLv",
        "colab_type": "code",
        "outputId": "e2b6af5b-f270-46da-ad62-6f5686c6e56d",
        "colab": {
          "base_uri": "https://localhost:8080/",
          "height": 283
        }
      },
      "source": [
        "sns.countplot(x='termdays',data=train_perf[train_perf['loanamount']==10000.0]);\n"
      ],
      "execution_count": 0,
      "outputs": [
        {
          "output_type": "display_data",
          "data": {
            "image/png": "[encoded data removed]",
            "text/plain": [
              "<Figure size 432x288 with 1 Axes>"
            ]
          },
          "metadata": {
            "tags": []
          }
        }
      ]
    },
    {
      "cell_type": "code",
      "metadata": {
        "id": "zI4BGlF6p22M",
        "colab_type": "code",
        "outputId": "703aa8dc-3b28-44a4-fdc2-e12c24badf00",
        "colab": {
          "base_uri": "https://localhost:8080/",
          "height": 283
        }
      },
      "source": [
        "sns.countplot(x='termdays',data=train_perf, hue='good_bad_flag');\n"
      ],
      "execution_count": 0,
      "outputs": [
        {
          "output_type": "display_data",
          "data": {
            "image/png": "[encoded data removed]",
            "text/plain": [
              "<Figure size 432x288 with 1 Axes>"
            ]
          },
          "metadata": {
            "tags": []
          }
        }
      ]
    },
    {
      "cell_type": "code",
      "metadata": {
        "id": "xG00Bt6Aqfh-",
        "colab_type": "code",
        "outputId": "820470c2-42fb-46a1-f7ce-4da631a943a3",
        "colab": {
          "base_uri": "https://localhost:8080/",
          "height": 542
        }
      },
      "source": [
        "sns.set(rc={'figure.figsize':(11.7,8.27)})\n",
        "sns.heatmap(train_perf.corr(),annot=True)\n"
      ],
      "execution_count": 0,
      "outputs": [
        {
          "output_type": "execute_result",
          "data": {
            "text/plain": [
              "<matplotlib.axes._subplots.AxesSubplot at 0x7fda0d5194a8>"
            ]
          },
          "metadata": {
            "tags": []
          },
          "execution_count": 12
        },
        {
          "output_type": "display_data",
          "data": {
            "image/png": "[encoded data removed]",
            "text/plain": [
              "<Figure size 842.4x595.44 with 2 Axes>"
            ]
          },
          "metadata": {
            "tags": []
          }
        }
      ]
    },
    {
      "cell_type": "markdown",
      "metadata": {
        "id": "RfeZa6wZ6ArJ",
        "colab_type": "text"
      },
      "source": [
        "Now we will look at if the referredby column has an impact. \n"
      ]
    },
    {
      "cell_type": "code",
      "metadata": {
        "id": "bFTH96Io3QD0",
        "colab_type": "code",
        "colab": {}
      },
      "source": [
        "referredby_df = train_perf"
      ],
      "execution_count": 0,
      "outputs": []
    },
    {
      "cell_type": "code",
      "metadata": {
        "id": "QcbH7upl3PF5",
        "colab_type": "code",
        "colab": {}
      },
      "source": [
        "referredby_df = referredby_df.fillna(0)\n",
        "referredby_df.loc[referredby_df['referredby'] != 0, 'referredby'] = 1"
      ],
      "execution_count": 0,
      "outputs": []
    },
    {
      "cell_type": "code",
      "metadata": {
        "id": "QZqEJPgG5kN4",
        "colab_type": "code",
        "outputId": "0ae9d6c0-a89c-40d8-fb93-5653edf152c8",
        "colab": {
          "base_uri": "https://localhost:8080/",
          "height": 523
        }
      },
      "source": [
        "sns.countplot(x='referredby',data=referredby_df, hue='good_bad_flag');\n"
      ],
      "execution_count": 0,
      "outputs": [
        {
          "output_type": "display_data",
          "data": {
            "image/png": "[encoded data removed]",
            "text/plain": [
              "<Figure size 842.4x595.44 with 1 Axes>"
            ]
          },
          "metadata": {
            "tags": []
          }
        }
      ]
    },
    {
      "cell_type": "code",
      "metadata": {
        "id": "2UBuMCRK6LO7",
        "colab_type": "code",
        "outputId": "b24ed821-f87b-4bef-fd30-5ad59cbe62fe",
        "colab": {
          "base_uri": "https://localhost:8080/",
          "height": 523
        }
      },
      "source": [
        "sns.countplot(x='referredby',data=referredby_df[referredby_df['loanamount']==10000.0],hue='good_bad_flag');\n"
      ],
      "execution_count": 0,
      "outputs": [
        {
          "output_type": "display_data",
          "data": {
            "image/png": "[encoded data removed]",
            "text/plain": [
              "<Figure size 842.4x595.44 with 1 Axes>"
            ]
          },
          "metadata": {
            "tags": []
          }
        }
      ]
    },
    {
      "cell_type": "markdown",
      "metadata": {
        "id": "UzqkBveA5wbL",
        "colab_type": "text"
      },
      "source": [
        "The proportions between good/bad is similair no matter if the customer was referred or not. Now we will analyze if the good/bad proportions are different depending on the good/bad status of the the referer. "
      ]
    },
    {
      "cell_type": "code",
      "metadata": {
        "id": "CoJCrGTi660h",
        "colab_type": "code",
        "colab": {}
      },
      "source": [
        "train_perf['referredby'].fillna(0,inplace = True)"
      ],
      "execution_count": 0,
      "outputs": []
    },
    {
      "cell_type": "code",
      "metadata": {
        "id": "QUL4WiLo7Ad-",
        "colab_type": "code",
        "colab": {}
      },
      "source": [
        "\n",
        "L = []\n",
        "\n",
        "for index in range(0,train_perf.shape[0]):\n",
        "  \n",
        "  if str(train_perf['referredby'][index]) != str(0):\n",
        "    refer_customerid = train_perf['referredby'][index]\n",
        "    \n",
        "    refer_customer = train_perf.loc[train_perf['customerid'] == refer_customerid]\n",
        "    try:\n",
        "      goodbad = refer_customer.iloc[0]['good_bad_flag']\n",
        "    except:\n",
        "      goodbad = 'NaN'\n",
        "    L.append(goodbad)\n",
        "  else:\n",
        "    L.append('NaN')\n",
        "  \n",
        "referer_goodbad = pd.DataFrame(L, columns=['ref_goodbad'])\n"
      ],
      "execution_count": 0,
      "outputs": []
    },
    {
      "cell_type": "code",
      "metadata": {
        "id": "CM38sqDI9Y1r",
        "colab_type": "code",
        "outputId": "1cca6411-cc2f-4349-bf27-b9fee2f1aafc",
        "colab": {
          "base_uri": "https://localhost:8080/",
          "height": 85
        }
      },
      "source": [
        "referer_goodbad['ref_goodbad'].value_counts()"
      ],
      "execution_count": 0,
      "outputs": [
        {
          "output_type": "execute_result",
          "data": {
            "text/plain": [
              "NaN    4167\n",
              "1       173\n",
              "0        28\n",
              "Name: ref_goodbad, dtype: int64"
            ]
          },
          "metadata": {
            "tags": []
          },
          "execution_count": 19
        }
      ]
    },
    {
      "cell_type": "code",
      "metadata": {
        "id": "5uhO0sNa-ApC",
        "colab_type": "code",
        "colab": {}
      },
      "source": [
        "train_perf = pd.concat([train_perf, referer_goodbad], axis=1)"
      ],
      "execution_count": 0,
      "outputs": []
    },
    {
      "cell_type": "code",
      "metadata": {
        "id": "heeIG9sKB1FX",
        "colab_type": "code",
        "outputId": "cc1c4abb-abb0-4043-bc47-699604104d37",
        "colab": {
          "base_uri": "https://localhost:8080/",
          "height": 523
        }
      },
      "source": [
        "sns.countplot(x='ref_goodbad',data=train_perf, hue='good_bad_flag');\n"
      ],
      "execution_count": 0,
      "outputs": [
        {
          "output_type": "display_data",
          "data": {
            "image/png": "[encoded data removed]",
            "text/plain": [
              "<Figure size 842.4x595.44 with 1 Axes>"
            ]
          },
          "metadata": {
            "tags": []
          }
        }
      ]
    },
    {
      "cell_type": "code",
      "metadata": {
        "id": "O8dHReNVC8zn",
        "colab_type": "code",
        "outputId": "95907ea1-4734-4fdd-b518-b7a850ecdbd7",
        "colab": {
          "base_uri": "https://localhost:8080/",
          "height": 518
        }
      },
      "source": [
        "import matplotlib.pyplot as plt \n",
        "\n",
        "total = len(train_perf)*1.\n",
        "plt.figure(figsize=(12,8))\n",
        "ax = sns.countplot(x='ref_goodbad',data=train_perf, hue='good_bad_flag');\n",
        "\n",
        "plt.title('Distribution of Truck Configurations')\n",
        "plt.xlabel('Refered by NaN, bad, or Good customer')\n",
        "plt.ylabel('Frequency [%]')\n",
        "\n",
        "for p in ax.patches:\n",
        "        ax.annotate('{:.1f}%'.format(100*p.get_height()/total), (p.get_x()+0.1, p.get_height()+5))\n",
        "\n",
        "#put 11 ticks (therefore 10 steps), from 0 to the total number of rows in the dataframe\n",
        "ax.yaxis.set_ticks(np.linspace(0, total, 11))\n",
        "\n",
        "#adjust the ticklabel to the desired format, without changing the position of the ticks. \n",
        "_ = ax.set_yticklabels(map('{:.1f}%'.format, 100*ax.yaxis.get_majorticklocs()/total))"
      ],
      "execution_count": 0,
      "outputs": [
        {
          "output_type": "display_data",
          "data": {
            "image/png": "[encoded data removed]",
            "text/plain": [
              "<Figure size 864x576 with 1 Axes>"
            ]
          },
          "metadata": {
            "tags": []
          }
        }
      ]
    },
    {
      "cell_type": "markdown",
      "metadata": {
        "id": "DZ8O-Nk5EWX4",
        "colab_type": "text"
      },
      "source": [
        "If refered by NaN which mean refered by noone or refered by user whom we dont have data for, the ratio between good/bad customer is approximatly 75/20 ≈ 3.75. \n",
        "\n",
        "\n",
        "If refered by bad customer then the ratio between good/bad customer is approximatly 0.3/0.3 ≈ 1. However we only have 4368 * 0.006 ≈ 30 datapoints. So about 15 datapoint in each category. \n",
        "\n",
        "If refered by good customer, the ratio between good/bad customer is approximatly 3.3/0.6 ≈ 5.5. However,  only 4% of the data is in this category which is about 175 datapoints. \n",
        "\n",
        "It might be beneficial to penalize the customer if they are refered to by a bad customer, however this would only result in the customer not inputing a referal. Thus, it might be better to reward customer whom has been refered to by good customers. "
      ]
    },
    {
      "cell_type": "markdown",
      "metadata": {
        "id": "irUAz_bPHhEt",
        "colab_type": "text"
      },
      "source": [
        "### Interest\n",
        "\n",
        "Now we will add the column \"interest\" which is the amount payed due to interest rates. We will see if there is any correlation between interest rate and the amount payed back. "
      ]
    },
    {
      "cell_type": "code",
      "metadata": {
        "id": "dLUott7pGjIC",
        "colab_type": "code",
        "outputId": "6946f70c-5a14-4686-9653-5fea944669e4",
        "colab": {
          "base_uri": "https://localhost:8080/",
          "height": 523
        }
      },
      "source": [
        "train_perf['interest'] = train_perf['totaldue'] - train_perf['loanamount']\n",
        "\n",
        "import seaborn as sns; sns.set()\n",
        "import matplotlib.pyplot as plt\n",
        "ax = sns.scatterplot(y=\"interest\", x=\"good_bad_flag\", data=train_perf)"
      ],
      "execution_count": 0,
      "outputs": [
        {
          "output_type": "display_data",
          "data": {
            "image/png": "[encoded data removed]",
            "text/plain": [
              "<Figure size 842.4x595.44 with 1 Axes>"
            ]
          },
          "metadata": {
            "tags": []
          }
        }
      ]
    },
    {
      "cell_type": "code",
      "metadata": {
        "id": "dfwicICSHZqt",
        "colab_type": "code",
        "outputId": "c3666533-1a29-4387-8f3d-eaf04fea6b6f",
        "colab": {
          "base_uri": "https://localhost:8080/",
          "height": 524
        }
      },
      "source": [
        "sns.set(rc={'figure.figsize':(11.7,8.27)})\n",
        "sns.heatmap(train_perf.corr(),annot=True)"
      ],
      "execution_count": 0,
      "outputs": [
        {
          "output_type": "execute_result",
          "data": {
            "text/plain": [
              "<matplotlib.axes._subplots.AxesSubplot at 0x7fda0bfb4940>"
            ]
          },
          "metadata": {
            "tags": []
          },
          "execution_count": 24
        },
        {
          "output_type": "display_data",
          "data": {
            "image/png": "[encoded data removed]",
            "text/plain": [
              "<Figure size 842.4x595.44 with 2 Axes>"
            ]
          },
          "metadata": {
            "tags": []
          }
        }
      ]
    },
    {
      "cell_type": "markdown",
      "metadata": {
        "id": "_o0zltAaHzUE",
        "colab_type": "text"
      },
      "source": [
        "Interest is correlated with the loanamount and loanamount has some correlation with good/bad customer. However, we see very low correlation between interest rate and good/bad customer. "
      ]
    },
    {
      "cell_type": "markdown",
      "metadata": {
        "id": "jD17dIDaF5l-",
        "colab_type": "text"
      },
      "source": [
        "## Conclusion\n",
        "\n",
        "To conclude this section;\n",
        "\n",
        "- It might be beneficial to split the data into two categories based on the amount. With customer whom has taken a loan of 10 000 into one dataset and the rest in another.\n",
        "\n",
        "- It might be beneficial to reward customer whom has been refered to by good customers.  "
      ]
    },
    {
      "cell_type": "markdown",
      "metadata": {
        "id": "1oGHPVfkgsZJ",
        "colab_type": "text"
      },
      "source": [
        "# Demographic dataset"
      ]
    },
    {
      "cell_type": "code",
      "metadata": {
        "id": "vs5oaYzQYlWP",
        "colab_type": "code",
        "outputId": "f6d6c176-54a3-499b-92a2-dee73e758e3d",
        "colab": {
          "base_uri": "https://localhost:8080/",
          "height": 309
        }
      },
      "source": [
        "train_demo.head()"
      ],
      "execution_count": 0,
      "outputs": [
        {
          "output_type": "execute_result",
          "data": {
            "text/html": [
              "<div>\n",
              "<style scoped>\n",
              "    .dataframe tbody tr th:only-of-type {\n",
              "        vertical-align: middle;\n",
              "    }\n",
              "\n",
              "    .dataframe tbody tr th {\n",
              "        vertical-align: top;\n",
              "    }\n",
              "\n",
              "    .dataframe thead th {\n",
              "        text-align: right;\n",
              "    }\n",
              "</style>\n",
              "<table border=\"1\" class=\"dataframe\">\n",
              "  <thead>\n",
              "    <tr style=\"text-align: right;\">\n",
              "      <th></th>\n",
              "      <th>customerid</th>\n",
              "      <th>birthdate</th>\n",
              "      <th>bank_account_type</th>\n",
              "      <th>longitude_gps</th>\n",
              "      <th>latitude_gps</th>\n",
              "      <th>bank_name_clients</th>\n",
              "      <th>bank_branch_clients</th>\n",
              "      <th>employment_status_clients</th>\n",
              "      <th>level_of_education_clients</th>\n",
              "    </tr>\n",
              "  </thead>\n",
              "  <tbody>\n",
              "    <tr>\n",
              "      <th>0</th>\n",
              "      <td>8a858e135cb22031015cbafc76964ebd</td>\n",
              "      <td>1973-10-10 00:00:00.000000</td>\n",
              "      <td>Savings</td>\n",
              "      <td>3.319219</td>\n",
              "      <td>6.528604</td>\n",
              "      <td>GT Bank</td>\n",
              "      <td>NaN</td>\n",
              "      <td>NaN</td>\n",
              "      <td>NaN</td>\n",
              "    </tr>\n",
              "    <tr>\n",
              "      <th>1</th>\n",
              "      <td>8a858e275c7ea5ec015c82482d7c3996</td>\n",
              "      <td>1986-01-21 00:00:00.000000</td>\n",
              "      <td>Savings</td>\n",
              "      <td>3.325598</td>\n",
              "      <td>7.119403</td>\n",
              "      <td>Sterling Bank</td>\n",
              "      <td>NaN</td>\n",
              "      <td>Permanent</td>\n",
              "      <td>NaN</td>\n",
              "    </tr>\n",
              "    <tr>\n",
              "      <th>2</th>\n",
              "      <td>8a858e5b5bd99460015bdc95cd485634</td>\n",
              "      <td>1987-04-01 00:00:00.000000</td>\n",
              "      <td>Savings</td>\n",
              "      <td>5.746100</td>\n",
              "      <td>5.563174</td>\n",
              "      <td>Fidelity Bank</td>\n",
              "      <td>NaN</td>\n",
              "      <td>NaN</td>\n",
              "      <td>NaN</td>\n",
              "    </tr>\n",
              "    <tr>\n",
              "      <th>3</th>\n",
              "      <td>8a858efd5ca70688015cabd1f1e94b55</td>\n",
              "      <td>1991-07-19 00:00:00.000000</td>\n",
              "      <td>Savings</td>\n",
              "      <td>3.362850</td>\n",
              "      <td>6.642485</td>\n",
              "      <td>GT Bank</td>\n",
              "      <td>NaN</td>\n",
              "      <td>Permanent</td>\n",
              "      <td>NaN</td>\n",
              "    </tr>\n",
              "    <tr>\n",
              "      <th>4</th>\n",
              "      <td>8a858e785acd3412015acd48f4920d04</td>\n",
              "      <td>1982-11-22 00:00:00.000000</td>\n",
              "      <td>Savings</td>\n",
              "      <td>8.455332</td>\n",
              "      <td>11.971410</td>\n",
              "      <td>GT Bank</td>\n",
              "      <td>NaN</td>\n",
              "      <td>Permanent</td>\n",
              "      <td>NaN</td>\n",
              "    </tr>\n",
              "  </tbody>\n",
              "</table>\n",
              "</div>"
            ],
            "text/plain": [
              "                         customerid  ... level_of_education_clients\n",
              "0  8a858e135cb22031015cbafc76964ebd  ...                        NaN\n",
              "1  8a858e275c7ea5ec015c82482d7c3996  ...                        NaN\n",
              "2  8a858e5b5bd99460015bdc95cd485634  ...                        NaN\n",
              "3  8a858efd5ca70688015cabd1f1e94b55  ...                        NaN\n",
              "4  8a858e785acd3412015acd48f4920d04  ...                        NaN\n",
              "\n",
              "[5 rows x 9 columns]"
            ]
          },
          "metadata": {
            "tags": []
          },
          "execution_count": 25
        }
      ]
    },
    {
      "cell_type": "code",
      "metadata": {
        "id": "lMLZWQ8TIg9Q",
        "colab_type": "code",
        "colab": {}
      },
      "source": [
        "train_demo = train_demo.drop_duplicates(subset='customerid',keep='last')\n"
      ],
      "execution_count": 0,
      "outputs": []
    },
    {
      "cell_type": "markdown",
      "metadata": {
        "id": "hR8Y21cWJ13-",
        "colab_type": "text"
      },
      "source": [
        "Now we will analyze if there is any NaNs in this dataset"
      ]
    },
    {
      "cell_type": "code",
      "metadata": {
        "id": "sEb5hDGJhcHB",
        "colab_type": "code",
        "outputId": "6275c087-b383-419d-dfbe-8bc28a91b9e1",
        "colab": {
          "base_uri": "https://localhost:8080/",
          "height": 187
        }
      },
      "source": [
        "train_demo.isna().sum()"
      ],
      "execution_count": 0,
      "outputs": [
        {
          "output_type": "execute_result",
          "data": {
            "text/plain": [
              "customerid                       0\n",
              "birthdate                        0\n",
              "bank_account_type                0\n",
              "longitude_gps                    0\n",
              "latitude_gps                     0\n",
              "bank_name_clients                0\n",
              "bank_branch_clients           4283\n",
              "employment_status_clients      648\n",
              "level_of_education_clients    3748\n",
              "dtype: int64"
            ]
          },
          "metadata": {
            "tags": []
          },
          "execution_count": 27
        }
      ]
    },
    {
      "cell_type": "code",
      "metadata": {
        "id": "fXTlHfABheL3",
        "colab_type": "code",
        "outputId": "fadd1811-e465-46b6-d8e3-da56160fe866",
        "colab": {
          "base_uri": "https://localhost:8080/",
          "height": 34
        }
      },
      "source": [
        "train_demo.shape[0]"
      ],
      "execution_count": 0,
      "outputs": [
        {
          "output_type": "execute_result",
          "data": {
            "text/plain": [
              "4334"
            ]
          },
          "metadata": {
            "tags": []
          },
          "execution_count": 28
        }
      ]
    },
    {
      "cell_type": "markdown",
      "metadata": {
        "id": "TtSZfOREJ94q",
        "colab_type": "text"
      },
      "source": [
        "We see that bank_branch_clients are almost all NaN as well as level_of_education_clients. This two columns might be beneficial to drop. employment_status_clients has about 12% NaN, which indicated this column might be beneficial to drop, but also, it might be beneficial to interpolate this values or keep NaN values."
      ]
    },
    {
      "cell_type": "markdown",
      "metadata": {
        "id": "TpqQ6QmXKmfA",
        "colab_type": "text"
      },
      "source": [
        "Now we will analyze the distribution between the different bank account types."
      ]
    },
    {
      "cell_type": "code",
      "metadata": {
        "id": "xsV1YApdJzlb",
        "colab_type": "code",
        "outputId": "fcff4a1d-cf2e-475d-d45a-feeb1422861d",
        "colab": {
          "base_uri": "https://localhost:8080/",
          "height": 540
        }
      },
      "source": [
        "sns.countplot(x='bank_account_type',data=train_demo)\n"
      ],
      "execution_count": 0,
      "outputs": [
        {
          "output_type": "execute_result",
          "data": {
            "text/plain": [
              "<matplotlib.axes._subplots.AxesSubplot at 0x7fda0bfa78d0>"
            ]
          },
          "metadata": {
            "tags": []
          },
          "execution_count": 29
        },
        {
          "output_type": "display_data",
          "data": {
            "image/png": "[encoded data removed]",
            "text/plain": [
              "<Figure size 842.4x595.44 with 1 Axes>"
            ]
          },
          "metadata": {
            "tags": []
          }
        }
      ]
    },
    {
      "cell_type": "markdown",
      "metadata": {
        "id": "D11NaNRJLRqU",
        "colab_type": "text"
      },
      "source": [
        "Now we will analyze the distribution of employment status. "
      ]
    },
    {
      "cell_type": "code",
      "metadata": {
        "id": "Jh40rTGtKw1C",
        "colab_type": "code",
        "outputId": "4f1852d4-380c-49c0-e8a6-14d610c4d52b",
        "colab": {
          "base_uri": "https://localhost:8080/",
          "height": 540
        }
      },
      "source": [
        "\n",
        "sns.countplot(x='employment_status_clients',data=train_demo)\n"
      ],
      "execution_count": 0,
      "outputs": [
        {
          "output_type": "execute_result",
          "data": {
            "text/plain": [
              "<matplotlib.axes._subplots.AxesSubplot at 0x7fda0bedae10>"
            ]
          },
          "metadata": {
            "tags": []
          },
          "execution_count": 30
        },
        {
          "output_type": "display_data",
          "data": {
            "image/png": "[encoded data removed]",
            "text/plain": [
              "<Figure size 842.4x595.44 with 1 Axes>"
            ]
          },
          "metadata": {
            "tags": []
          }
        }
      ]
    },
    {
      "cell_type": "markdown",
      "metadata": {
        "id": "lTlfhKgVMODI",
        "colab_type": "text"
      },
      "source": [
        "Now we will analyze the distribution of age in the datset"
      ]
    },
    {
      "cell_type": "code",
      "metadata": {
        "id": "zZwOtGvqLQsf",
        "colab_type": "code",
        "outputId": "6a8a35fe-31b2-484f-c996-720679a5a7b2",
        "colab": {
          "base_uri": "https://localhost:8080/",
          "height": 540
        }
      },
      "source": [
        "from datetime import date, timedelta\n",
        "# Pop off '00:00:00.000000' from birthdate\n",
        "train_demo['age'] = train_demo['birthdate'].apply(lambda x: x.split().pop(0)[:10])\n",
        "# Sanity Check\n",
        "train_demo['age'].head()\n",
        "# Split the birth date (This converts each observation into a list)\n",
        "train_demo['age'] = train_demo['age'].apply(lambda x: x.split('-'))\n",
        "\n",
        "# Convert all elements in each observation(list) from str to int\n",
        "train_demo['age'] = train_demo['age'].apply(lambda x: [int(y) for y in x ])\n",
        "\n",
        "# Convert each observation into a date format\n",
        "train_demo['age'] = train_demo['age'].apply(lambda x : date(x[0], x[1], x[2]))\n",
        "\n",
        "# Calculate Age!\n",
        "train_demo['age'] = train_demo['age'].apply(lambda x:(date(2017,7,1) - x) // timedelta(days=365.2425) )\n",
        "\n",
        "sns.distplot((train_demo['age']))\n"
      ],
      "execution_count": 0,
      "outputs": [
        {
          "output_type": "execute_result",
          "data": {
            "text/plain": [
              "<matplotlib.axes._subplots.AxesSubplot at 0x7fda0be73ac8>"
            ]
          },
          "metadata": {
            "tags": []
          },
          "execution_count": 31
        },
        {
          "output_type": "display_data",
          "data": {
            "image/png": "[encoded data removed]",
            "text/plain": [
              "<Figure size 842.4x595.44 with 1 Axes>"
            ]
          },
          "metadata": {
            "tags": []
          }
        }
      ]
    },
    {
      "cell_type": "code",
      "metadata": {
        "id": "br0FUYLPdUG0",
        "colab_type": "code",
        "outputId": "97f0bb33-0166-40fe-c31b-cedba2a15230",
        "colab": {
          "base_uri": "https://localhost:8080/",
          "height": 309
        }
      },
      "source": [
        "train_demo.head()"
      ],
      "execution_count": 0,
      "outputs": [
        {
          "output_type": "execute_result",
          "data": {
            "text/html": [
              "<div>\n",
              "<style scoped>\n",
              "    .dataframe tbody tr th:only-of-type {\n",
              "        vertical-align: middle;\n",
              "    }\n",
              "\n",
              "    .dataframe tbody tr th {\n",
              "        vertical-align: top;\n",
              "    }\n",
              "\n",
              "    .dataframe thead th {\n",
              "        text-align: right;\n",
              "    }\n",
              "</style>\n",
              "<table border=\"1\" class=\"dataframe\">\n",
              "  <thead>\n",
              "    <tr style=\"text-align: right;\">\n",
              "      <th></th>\n",
              "      <th>customerid</th>\n",
              "      <th>birthdate</th>\n",
              "      <th>bank_account_type</th>\n",
              "      <th>longitude_gps</th>\n",
              "      <th>latitude_gps</th>\n",
              "      <th>bank_name_clients</th>\n",
              "      <th>bank_branch_clients</th>\n",
              "      <th>employment_status_clients</th>\n",
              "      <th>level_of_education_clients</th>\n",
              "      <th>age</th>\n",
              "    </tr>\n",
              "  </thead>\n",
              "  <tbody>\n",
              "    <tr>\n",
              "      <th>0</th>\n",
              "      <td>8a858e135cb22031015cbafc76964ebd</td>\n",
              "      <td>1973-10-10 00:00:00.000000</td>\n",
              "      <td>Savings</td>\n",
              "      <td>3.319219</td>\n",
              "      <td>6.528604</td>\n",
              "      <td>GT Bank</td>\n",
              "      <td>NaN</td>\n",
              "      <td>NaN</td>\n",
              "      <td>NaN</td>\n",
              "      <td>43</td>\n",
              "    </tr>\n",
              "    <tr>\n",
              "      <th>1</th>\n",
              "      <td>8a858e275c7ea5ec015c82482d7c3996</td>\n",
              "      <td>1986-01-21 00:00:00.000000</td>\n",
              "      <td>Savings</td>\n",
              "      <td>3.325598</td>\n",
              "      <td>7.119403</td>\n",
              "      <td>Sterling Bank</td>\n",
              "      <td>NaN</td>\n",
              "      <td>Permanent</td>\n",
              "      <td>NaN</td>\n",
              "      <td>31</td>\n",
              "    </tr>\n",
              "    <tr>\n",
              "      <th>2</th>\n",
              "      <td>8a858e5b5bd99460015bdc95cd485634</td>\n",
              "      <td>1987-04-01 00:00:00.000000</td>\n",
              "      <td>Savings</td>\n",
              "      <td>5.746100</td>\n",
              "      <td>5.563174</td>\n",
              "      <td>Fidelity Bank</td>\n",
              "      <td>NaN</td>\n",
              "      <td>NaN</td>\n",
              "      <td>NaN</td>\n",
              "      <td>30</td>\n",
              "    </tr>\n",
              "    <tr>\n",
              "      <th>3</th>\n",
              "      <td>8a858efd5ca70688015cabd1f1e94b55</td>\n",
              "      <td>1991-07-19 00:00:00.000000</td>\n",
              "      <td>Savings</td>\n",
              "      <td>3.362850</td>\n",
              "      <td>6.642485</td>\n",
              "      <td>GT Bank</td>\n",
              "      <td>NaN</td>\n",
              "      <td>Permanent</td>\n",
              "      <td>NaN</td>\n",
              "      <td>25</td>\n",
              "    </tr>\n",
              "    <tr>\n",
              "      <th>4</th>\n",
              "      <td>8a858e785acd3412015acd48f4920d04</td>\n",
              "      <td>1982-11-22 00:00:00.000000</td>\n",
              "      <td>Savings</td>\n",
              "      <td>8.455332</td>\n",
              "      <td>11.971410</td>\n",
              "      <td>GT Bank</td>\n",
              "      <td>NaN</td>\n",
              "      <td>Permanent</td>\n",
              "      <td>NaN</td>\n",
              "      <td>34</td>\n",
              "    </tr>\n",
              "  </tbody>\n",
              "</table>\n",
              "</div>"
            ],
            "text/plain": [
              "                         customerid  ... age\n",
              "0  8a858e135cb22031015cbafc76964ebd  ...  43\n",
              "1  8a858e275c7ea5ec015c82482d7c3996  ...  31\n",
              "2  8a858e5b5bd99460015bdc95cd485634  ...  30\n",
              "3  8a858efd5ca70688015cabd1f1e94b55  ...  25\n",
              "4  8a858e785acd3412015acd48f4920d04  ...  34\n",
              "\n",
              "[5 rows x 10 columns]"
            ]
          },
          "metadata": {
            "tags": []
          },
          "execution_count": 32
        }
      ]
    },
    {
      "cell_type": "markdown",
      "metadata": {
        "id": "h7v3X9H1MV8X",
        "colab_type": "text"
      },
      "source": [
        "## Conclusion\n",
        "\n",
        "Conclusion from this section; \n",
        "\n",
        "- It might be beneficial to drop the columns bank_branch_clients and level_of_education_clients as they consist of 85+% NaN. employment_status_clients has about 12% NaN, which indicated this column might be beneficial to drop, but also, it might be beneficial to interpolate this values or keep NaN values.\n",
        "\n"
      ]
    },
    {
      "cell_type": "markdown",
      "metadata": {
        "id": "7cgYgspqg2rb",
        "colab_type": "text"
      },
      "source": [
        "# Previous Loan dataset "
      ]
    },
    {
      "cell_type": "code",
      "metadata": {
        "id": "CldxUxjbau6b",
        "colab_type": "code",
        "outputId": "357fba43-1597-4bc6-e0e4-d603a130eafc",
        "colab": {
          "base_uri": "https://localhost:8080/",
          "height": 309
        }
      },
      "source": [
        "train_prevloan.head()"
      ],
      "execution_count": 0,
      "outputs": [
        {
          "output_type": "execute_result",
          "data": {
            "text/html": [
              "<div>\n",
              "<style scoped>\n",
              "    .dataframe tbody tr th:only-of-type {\n",
              "        vertical-align: middle;\n",
              "    }\n",
              "\n",
              "    .dataframe tbody tr th {\n",
              "        vertical-align: top;\n",
              "    }\n",
              "\n",
              "    .dataframe thead th {\n",
              "        text-align: right;\n",
              "    }\n",
              "</style>\n",
              "<table border=\"1\" class=\"dataframe\">\n",
              "  <thead>\n",
              "    <tr style=\"text-align: right;\">\n",
              "      <th></th>\n",
              "      <th>customerid</th>\n",
              "      <th>systemloanid</th>\n",
              "      <th>loannumber</th>\n",
              "      <th>approveddate</th>\n",
              "      <th>creationdate</th>\n",
              "      <th>loanamount</th>\n",
              "      <th>totaldue</th>\n",
              "      <th>termdays</th>\n",
              "      <th>closeddate</th>\n",
              "      <th>referredby</th>\n",
              "      <th>firstduedate</th>\n",
              "      <th>firstrepaiddate</th>\n",
              "    </tr>\n",
              "  </thead>\n",
              "  <tbody>\n",
              "    <tr>\n",
              "      <th>0</th>\n",
              "      <td>8a2a81a74ce8c05d014cfb32a0da1049</td>\n",
              "      <td>301682320</td>\n",
              "      <td>2</td>\n",
              "      <td>2016-08-15 18:22:40.000000</td>\n",
              "      <td>2016-08-15 17:22:32.000000</td>\n",
              "      <td>10000.0</td>\n",
              "      <td>13000.0</td>\n",
              "      <td>30</td>\n",
              "      <td>2016-09-01 16:06:48.000000</td>\n",
              "      <td>NaN</td>\n",
              "      <td>2016-09-14 00:00:00.000000</td>\n",
              "      <td>2016-09-01 15:51:43.000000</td>\n",
              "    </tr>\n",
              "    <tr>\n",
              "      <th>1</th>\n",
              "      <td>8a2a81a74ce8c05d014cfb32a0da1049</td>\n",
              "      <td>301883808</td>\n",
              "      <td>9</td>\n",
              "      <td>2017-04-28 18:39:07.000000</td>\n",
              "      <td>2017-04-28 17:38:53.000000</td>\n",
              "      <td>10000.0</td>\n",
              "      <td>13000.0</td>\n",
              "      <td>30</td>\n",
              "      <td>2017-05-28 14:44:49.000000</td>\n",
              "      <td>NaN</td>\n",
              "      <td>2017-05-30 00:00:00.000000</td>\n",
              "      <td>2017-05-26 00:00:00.000000</td>\n",
              "    </tr>\n",
              "    <tr>\n",
              "      <th>2</th>\n",
              "      <td>8a2a81a74ce8c05d014cfb32a0da1049</td>\n",
              "      <td>301831714</td>\n",
              "      <td>8</td>\n",
              "      <td>2017-03-05 10:56:25.000000</td>\n",
              "      <td>2017-03-05 09:56:19.000000</td>\n",
              "      <td>20000.0</td>\n",
              "      <td>23800.0</td>\n",
              "      <td>30</td>\n",
              "      <td>2017-04-26 22:18:56.000000</td>\n",
              "      <td>NaN</td>\n",
              "      <td>2017-04-04 00:00:00.000000</td>\n",
              "      <td>2017-04-26 22:03:47.000000</td>\n",
              "    </tr>\n",
              "    <tr>\n",
              "      <th>3</th>\n",
              "      <td>8a8588f35438fe12015444567666018e</td>\n",
              "      <td>301861541</td>\n",
              "      <td>5</td>\n",
              "      <td>2017-04-09 18:25:55.000000</td>\n",
              "      <td>2017-04-09 17:25:42.000000</td>\n",
              "      <td>10000.0</td>\n",
              "      <td>11500.0</td>\n",
              "      <td>15</td>\n",
              "      <td>2017-04-24 01:35:52.000000</td>\n",
              "      <td>NaN</td>\n",
              "      <td>2017-04-24 00:00:00.000000</td>\n",
              "      <td>2017-04-24 00:48:43.000000</td>\n",
              "    </tr>\n",
              "    <tr>\n",
              "      <th>4</th>\n",
              "      <td>8a85890754145ace015429211b513e16</td>\n",
              "      <td>301941754</td>\n",
              "      <td>2</td>\n",
              "      <td>2017-06-17 09:29:57.000000</td>\n",
              "      <td>2017-06-17 08:29:50.000000</td>\n",
              "      <td>10000.0</td>\n",
              "      <td>11500.0</td>\n",
              "      <td>15</td>\n",
              "      <td>2017-07-14 21:18:43.000000</td>\n",
              "      <td>NaN</td>\n",
              "      <td>2017-07-03 00:00:00.000000</td>\n",
              "      <td>2017-07-14 21:08:35.000000</td>\n",
              "    </tr>\n",
              "  </tbody>\n",
              "</table>\n",
              "</div>"
            ],
            "text/plain": [
              "                         customerid  ...             firstrepaiddate\n",
              "0  8a2a81a74ce8c05d014cfb32a0da1049  ...  2016-09-01 15:51:43.000000\n",
              "1  8a2a81a74ce8c05d014cfb32a0da1049  ...  2017-05-26 00:00:00.000000\n",
              "2  8a2a81a74ce8c05d014cfb32a0da1049  ...  2017-04-26 22:03:47.000000\n",
              "3  8a8588f35438fe12015444567666018e  ...  2017-04-24 00:48:43.000000\n",
              "4  8a85890754145ace015429211b513e16  ...  2017-07-14 21:08:35.000000\n",
              "\n",
              "[5 rows x 12 columns]"
            ]
          },
          "metadata": {
            "tags": []
          },
          "execution_count": 33
        }
      ]
    },
    {
      "cell_type": "code",
      "metadata": {
        "id": "0XauG0Dug7eL",
        "colab_type": "code",
        "outputId": "6d8538d8-50bb-4871-d491-945fbf77e1fa",
        "colab": {
          "base_uri": "https://localhost:8080/",
          "height": 238
        }
      },
      "source": [
        "train_prevloan.isna().sum() "
      ],
      "execution_count": 0,
      "outputs": [
        {
          "output_type": "execute_result",
          "data": {
            "text/plain": [
              "customerid             0\n",
              "systemloanid           0\n",
              "loannumber             0\n",
              "approveddate           0\n",
              "creationdate           0\n",
              "loanamount             0\n",
              "totaldue               0\n",
              "termdays               0\n",
              "closeddate             0\n",
              "referredby         17157\n",
              "firstduedate           0\n",
              "firstrepaiddate        0\n",
              "dtype: int64"
            ]
          },
          "metadata": {
            "tags": []
          },
          "execution_count": 34
        }
      ]
    },
    {
      "cell_type": "code",
      "metadata": {
        "id": "gMKcjp3shnAg",
        "colab_type": "code",
        "outputId": "a8866f1f-4ba8-4b27-b2eb-74a483faf573",
        "colab": {
          "base_uri": "https://localhost:8080/",
          "height": 34
        }
      },
      "source": [
        "train_prevloan.shape[0]"
      ],
      "execution_count": 0,
      "outputs": [
        {
          "output_type": "execute_result",
          "data": {
            "text/plain": [
              "18183"
            ]
          },
          "metadata": {
            "tags": []
          },
          "execution_count": 35
        }
      ]
    },
    {
      "cell_type": "markdown",
      "metadata": {
        "id": "k85x1UOJyW9C",
        "colab_type": "text"
      },
      "source": [
        "Now we want to look at if the person missed the duedate for their payment. This can be done for the loans by analyzing the approveddate and the term, and in some sence \"add them up\" to get the duedate. This means that the closeddate should be before that date for the loan to be successfully paid back within the time period. We will try to measure two factors;\n",
        "\n",
        "1. Ability to pay\n",
        "2. Willingness to pay \n",
        "\n",
        "Ability to pay will be measure as, did the customer payback the loan before the given duedate (yes/no). Willingness to pay will be measure as the time between the first payment date and the duedate. Paying back the loan faster would, presumably, be correlated with the willingness to payback (as well as the ability). \n"
      ]
    },
    {
      "cell_type": "code",
      "metadata": {
        "id": "SFFIx9ge_ZM6",
        "colab_type": "code",
        "colab": {}
      },
      "source": [
        "import time \n",
        "from datetime import datetime, timedelta\n",
        "import math\n",
        "\n",
        "L = []\n",
        "L2 = []\n",
        "\n",
        "for index in range(0,train_prevloan.shape[0]):\n",
        " \n",
        "    approveddate  = datetime.strptime(train_prevloan['approveddate'][index].replace(\".000000\",''), '%Y-%m-%d %H:%M:%S')\n",
        "    duedate = approveddate + timedelta(days=int(train_prevloan['termdays'][index]))\n",
        "    duedate = datetime.strftime(duedate, '%Y-%m-%d %H:%M:%S')\n",
        "    \n",
        "    duedate = math.ceil(int(time.mktime(datetime.strptime(duedate, '%Y-%m-%d %H:%M:%S').timetuple()))/(60*60*24))*(60*60*24)\n",
        "    closeddate = int(time.mktime(datetime.strptime(train_prevloan['closeddate'][index].replace(\".000000\",''), '%Y-%m-%d %H:%M:%S').timetuple()))\n",
        "\n",
        "    if closeddate <= duedate:\n",
        "      L.append(1)\n",
        "    else:\n",
        "      L.append(0)\n",
        "    L2.append(duedate-closeddate)\n",
        "\n",
        "payback_df = pd.DataFrame(L, columns=['payed_before_duedate'])\n",
        "timedelta_df = pd.DataFrame(L2, columns=['Time_delta_payback'])"
      ],
      "execution_count": 0,
      "outputs": []
    },
    {
      "cell_type": "code",
      "metadata": {
        "id": "liyFFx398HLv",
        "colab_type": "code",
        "outputId": "627d010e-b221-4138-f131-744d6e6791db",
        "colab": {
          "base_uri": "https://localhost:8080/",
          "height": 204
        }
      },
      "source": [
        "payback_df.head()"
      ],
      "execution_count": 0,
      "outputs": [
        {
          "output_type": "execute_result",
          "data": {
            "text/html": [
              "<div>\n",
              "<style scoped>\n",
              "    .dataframe tbody tr th:only-of-type {\n",
              "        vertical-align: middle;\n",
              "    }\n",
              "\n",
              "    .dataframe tbody tr th {\n",
              "        vertical-align: top;\n",
              "    }\n",
              "\n",
              "    .dataframe thead th {\n",
              "        text-align: right;\n",
              "    }\n",
              "</style>\n",
              "<table border=\"1\" class=\"dataframe\">\n",
              "  <thead>\n",
              "    <tr style=\"text-align: right;\">\n",
              "      <th></th>\n",
              "      <th>payed_before_duedate</th>\n",
              "    </tr>\n",
              "  </thead>\n",
              "  <tbody>\n",
              "    <tr>\n",
              "      <th>0</th>\n",
              "      <td>1</td>\n",
              "    </tr>\n",
              "    <tr>\n",
              "      <th>1</th>\n",
              "      <td>1</td>\n",
              "    </tr>\n",
              "    <tr>\n",
              "      <th>2</th>\n",
              "      <td>0</td>\n",
              "    </tr>\n",
              "    <tr>\n",
              "      <th>3</th>\n",
              "      <td>1</td>\n",
              "    </tr>\n",
              "    <tr>\n",
              "      <th>4</th>\n",
              "      <td>0</td>\n",
              "    </tr>\n",
              "  </tbody>\n",
              "</table>\n",
              "</div>"
            ],
            "text/plain": [
              "   payed_before_duedate\n",
              "0                     1\n",
              "1                     1\n",
              "2                     0\n",
              "3                     1\n",
              "4                     0"
            ]
          },
          "metadata": {
            "tags": []
          },
          "execution_count": 38
        }
      ]
    },
    {
      "cell_type": "code",
      "metadata": {
        "id": "gQITrM6P8JGn",
        "colab_type": "code",
        "outputId": "161d7001-7984-4e59-99a4-7220d38916bc",
        "colab": {
          "base_uri": "https://localhost:8080/",
          "height": 204
        }
      },
      "source": [
        "timedelta_df.head()"
      ],
      "execution_count": 0,
      "outputs": [
        {
          "output_type": "execute_result",
          "data": {
            "text/html": [
              "<div>\n",
              "<style scoped>\n",
              "    .dataframe tbody tr th:only-of-type {\n",
              "        vertical-align: middle;\n",
              "    }\n",
              "\n",
              "    .dataframe tbody tr th {\n",
              "        vertical-align: top;\n",
              "    }\n",
              "\n",
              "    .dataframe thead th {\n",
              "        text-align: right;\n",
              "    }\n",
              "</style>\n",
              "<table border=\"1\" class=\"dataframe\">\n",
              "  <thead>\n",
              "    <tr style=\"text-align: right;\">\n",
              "      <th></th>\n",
              "      <th>Time_delta_payback</th>\n",
              "    </tr>\n",
              "  </thead>\n",
              "  <tbody>\n",
              "    <tr>\n",
              "      <th>0</th>\n",
              "      <td>1151592</td>\n",
              "    </tr>\n",
              "    <tr>\n",
              "      <th>1</th>\n",
              "      <td>33311</td>\n",
              "    </tr>\n",
              "    <tr>\n",
              "      <th>2</th>\n",
              "      <td>-1894736</td>\n",
              "    </tr>\n",
              "    <tr>\n",
              "      <th>3</th>\n",
              "      <td>80648</td>\n",
              "    </tr>\n",
              "    <tr>\n",
              "      <th>4</th>\n",
              "      <td>-1027123</td>\n",
              "    </tr>\n",
              "  </tbody>\n",
              "</table>\n",
              "</div>"
            ],
            "text/plain": [
              "   Time_delta_payback\n",
              "0             1151592\n",
              "1               33311\n",
              "2            -1894736\n",
              "3               80648\n",
              "4            -1027123"
            ]
          },
          "metadata": {
            "tags": []
          },
          "execution_count": 39
        }
      ]
    },
    {
      "cell_type": "markdown",
      "metadata": {
        "id": "C9muCHUfHgkI",
        "colab_type": "text"
      },
      "source": [
        "Now lets add these two new features to the dataset of previous loans."
      ]
    },
    {
      "cell_type": "code",
      "metadata": {
        "id": "lSgyGWqt8VJR",
        "colab_type": "code",
        "colab": {}
      },
      "source": [
        "\n",
        "train_prevloan = pd.merge(train_prevloan, payback_df, left_index=True, right_index=True)\n",
        "\n",
        "train_prevloan = pd.merge(train_prevloan, timedelta_df, left_index=True, right_index=True)\n"
      ],
      "execution_count": 0,
      "outputs": []
    },
    {
      "cell_type": "code",
      "metadata": {
        "id": "m8HVg3L980C2",
        "colab_type": "code",
        "outputId": "0293e642-81f4-48d2-f33d-d633239e30e9",
        "colab": {
          "base_uri": "https://localhost:8080/",
          "height": 309
        }
      },
      "source": [
        "train_prevloan.head()"
      ],
      "execution_count": 0,
      "outputs": [
        {
          "output_type": "execute_result",
          "data": {
            "text/html": [
              "<div>\n",
              "<style scoped>\n",
              "    .dataframe tbody tr th:only-of-type {\n",
              "        vertical-align: middle;\n",
              "    }\n",
              "\n",
              "    .dataframe tbody tr th {\n",
              "        vertical-align: top;\n",
              "    }\n",
              "\n",
              "    .dataframe thead th {\n",
              "        text-align: right;\n",
              "    }\n",
              "</style>\n",
              "<table border=\"1\" class=\"dataframe\">\n",
              "  <thead>\n",
              "    <tr style=\"text-align: right;\">\n",
              "      <th></th>\n",
              "      <th>customerid</th>\n",
              "      <th>systemloanid</th>\n",
              "      <th>loannumber</th>\n",
              "      <th>approveddate</th>\n",
              "      <th>creationdate</th>\n",
              "      <th>loanamount</th>\n",
              "      <th>totaldue</th>\n",
              "      <th>termdays</th>\n",
              "      <th>closeddate</th>\n",
              "      <th>referredby</th>\n",
              "      <th>firstduedate</th>\n",
              "      <th>firstrepaiddate</th>\n",
              "      <th>payed_before_duedate</th>\n",
              "      <th>Time_delta_payback</th>\n",
              "    </tr>\n",
              "  </thead>\n",
              "  <tbody>\n",
              "    <tr>\n",
              "      <th>0</th>\n",
              "      <td>8a2a81a74ce8c05d014cfb32a0da1049</td>\n",
              "      <td>301682320</td>\n",
              "      <td>2</td>\n",
              "      <td>2016-08-15 18:22:40.000000</td>\n",
              "      <td>2016-08-15 17:22:32.000000</td>\n",
              "      <td>10000.0</td>\n",
              "      <td>13000.0</td>\n",
              "      <td>30</td>\n",
              "      <td>2016-09-01 16:06:48.000000</td>\n",
              "      <td>NaN</td>\n",
              "      <td>2016-09-14 00:00:00.000000</td>\n",
              "      <td>2016-09-01 15:51:43.000000</td>\n",
              "      <td>1</td>\n",
              "      <td>1151592</td>\n",
              "    </tr>\n",
              "    <tr>\n",
              "      <th>1</th>\n",
              "      <td>8a2a81a74ce8c05d014cfb32a0da1049</td>\n",
              "      <td>301883808</td>\n",
              "      <td>9</td>\n",
              "      <td>2017-04-28 18:39:07.000000</td>\n",
              "      <td>2017-04-28 17:38:53.000000</td>\n",
              "      <td>10000.0</td>\n",
              "      <td>13000.0</td>\n",
              "      <td>30</td>\n",
              "      <td>2017-05-28 14:44:49.000000</td>\n",
              "      <td>NaN</td>\n",
              "      <td>2017-05-30 00:00:00.000000</td>\n",
              "      <td>2017-05-26 00:00:00.000000</td>\n",
              "      <td>1</td>\n",
              "      <td>33311</td>\n",
              "    </tr>\n",
              "    <tr>\n",
              "      <th>2</th>\n",
              "      <td>8a2a81a74ce8c05d014cfb32a0da1049</td>\n",
              "      <td>301831714</td>\n",
              "      <td>8</td>\n",
              "      <td>2017-03-05 10:56:25.000000</td>\n",
              "      <td>2017-03-05 09:56:19.000000</td>\n",
              "      <td>20000.0</td>\n",
              "      <td>23800.0</td>\n",
              "      <td>30</td>\n",
              "      <td>2017-04-26 22:18:56.000000</td>\n",
              "      <td>NaN</td>\n",
              "      <td>2017-04-04 00:00:00.000000</td>\n",
              "      <td>2017-04-26 22:03:47.000000</td>\n",
              "      <td>0</td>\n",
              "      <td>-1894736</td>\n",
              "    </tr>\n",
              "    <tr>\n",
              "      <th>3</th>\n",
              "      <td>8a8588f35438fe12015444567666018e</td>\n",
              "      <td>301861541</td>\n",
              "      <td>5</td>\n",
              "      <td>2017-04-09 18:25:55.000000</td>\n",
              "      <td>2017-04-09 17:25:42.000000</td>\n",
              "      <td>10000.0</td>\n",
              "      <td>11500.0</td>\n",
              "      <td>15</td>\n",
              "      <td>2017-04-24 01:35:52.000000</td>\n",
              "      <td>NaN</td>\n",
              "      <td>2017-04-24 00:00:00.000000</td>\n",
              "      <td>2017-04-24 00:48:43.000000</td>\n",
              "      <td>1</td>\n",
              "      <td>80648</td>\n",
              "    </tr>\n",
              "    <tr>\n",
              "      <th>4</th>\n",
              "      <td>8a85890754145ace015429211b513e16</td>\n",
              "      <td>301941754</td>\n",
              "      <td>2</td>\n",
              "      <td>2017-06-17 09:29:57.000000</td>\n",
              "      <td>2017-06-17 08:29:50.000000</td>\n",
              "      <td>10000.0</td>\n",
              "      <td>11500.0</td>\n",
              "      <td>15</td>\n",
              "      <td>2017-07-14 21:18:43.000000</td>\n",
              "      <td>NaN</td>\n",
              "      <td>2017-07-03 00:00:00.000000</td>\n",
              "      <td>2017-07-14 21:08:35.000000</td>\n",
              "      <td>0</td>\n",
              "      <td>-1027123</td>\n",
              "    </tr>\n",
              "  </tbody>\n",
              "</table>\n",
              "</div>"
            ],
            "text/plain": [
              "                         customerid  ...  Time_delta_payback\n",
              "0  8a2a81a74ce8c05d014cfb32a0da1049  ...             1151592\n",
              "1  8a2a81a74ce8c05d014cfb32a0da1049  ...               33311\n",
              "2  8a2a81a74ce8c05d014cfb32a0da1049  ...            -1894736\n",
              "3  8a8588f35438fe12015444567666018e  ...               80648\n",
              "4  8a85890754145ace015429211b513e16  ...            -1027123\n",
              "\n",
              "[5 rows x 14 columns]"
            ]
          },
          "metadata": {
            "tags": []
          },
          "execution_count": 41
        }
      ]
    },
    {
      "cell_type": "markdown",
      "metadata": {
        "id": "q29_99hMM-LK",
        "colab_type": "text"
      },
      "source": [
        "# Merging \n",
        "\n",
        "Here we will will merge the dataset for visualization that includes the several training datasets that we can utlize. "
      ]
    },
    {
      "cell_type": "code",
      "metadata": {
        "id": "U2N4fp5uNGAW",
        "colab_type": "code",
        "colab": {}
      },
      "source": [
        "train_perf_demo = pd.merge(train_perf, train_demo, on='customerid')\n"
      ],
      "execution_count": 0,
      "outputs": []
    },
    {
      "cell_type": "code",
      "metadata": {
        "id": "GmkYkvBcNJ-a",
        "colab_type": "code",
        "outputId": "43420f6b-87a3-4366-add9-34244c681a98",
        "colab": {
          "base_uri": "https://localhost:8080/",
          "height": 309
        }
      },
      "source": [
        "train_perf_demo.head(5)"
      ],
      "execution_count": 0,
      "outputs": [
        {
          "output_type": "execute_result",
          "data": {
            "text/html": [
              "<div>\n",
              "<style scoped>\n",
              "    .dataframe tbody tr th:only-of-type {\n",
              "        vertical-align: middle;\n",
              "    }\n",
              "\n",
              "    .dataframe tbody tr th {\n",
              "        vertical-align: top;\n",
              "    }\n",
              "\n",
              "    .dataframe thead th {\n",
              "        text-align: right;\n",
              "    }\n",
              "</style>\n",
              "<table border=\"1\" class=\"dataframe\">\n",
              "  <thead>\n",
              "    <tr style=\"text-align: right;\">\n",
              "      <th></th>\n",
              "      <th>customerid</th>\n",
              "      <th>systemloanid</th>\n",
              "      <th>loannumber</th>\n",
              "      <th>approveddate</th>\n",
              "      <th>creationdate</th>\n",
              "      <th>loanamount</th>\n",
              "      <th>totaldue</th>\n",
              "      <th>termdays</th>\n",
              "      <th>referredby</th>\n",
              "      <th>good_bad_flag</th>\n",
              "      <th>ref_goodbad</th>\n",
              "      <th>interest</th>\n",
              "      <th>birthdate</th>\n",
              "      <th>bank_account_type</th>\n",
              "      <th>longitude_gps</th>\n",
              "      <th>latitude_gps</th>\n",
              "      <th>bank_name_clients</th>\n",
              "      <th>bank_branch_clients</th>\n",
              "      <th>employment_status_clients</th>\n",
              "      <th>level_of_education_clients</th>\n",
              "      <th>age</th>\n",
              "    </tr>\n",
              "  </thead>\n",
              "  <tbody>\n",
              "    <tr>\n",
              "      <th>0</th>\n",
              "      <td>8a2a81a74ce8c05d014cfb32a0da1049</td>\n",
              "      <td>301994762</td>\n",
              "      <td>12</td>\n",
              "      <td>2017-07-25 08:22:56.000000</td>\n",
              "      <td>2017-07-25 07:22:47.000000</td>\n",
              "      <td>30000.0</td>\n",
              "      <td>34500.0</td>\n",
              "      <td>30</td>\n",
              "      <td>0</td>\n",
              "      <td>1</td>\n",
              "      <td>NaN</td>\n",
              "      <td>4500.0</td>\n",
              "      <td>1972-01-15 00:00:00.000000</td>\n",
              "      <td>Other</td>\n",
              "      <td>3.432010</td>\n",
              "      <td>6.433055</td>\n",
              "      <td>Diamond Bank</td>\n",
              "      <td>NaN</td>\n",
              "      <td>Permanent</td>\n",
              "      <td>Post-Graduate</td>\n",
              "      <td>45</td>\n",
              "    </tr>\n",
              "    <tr>\n",
              "      <th>1</th>\n",
              "      <td>8a85886e54beabf90154c0a29ae757c0</td>\n",
              "      <td>301965204</td>\n",
              "      <td>2</td>\n",
              "      <td>2017-07-05 17:04:41.000000</td>\n",
              "      <td>2017-07-05 16:04:18.000000</td>\n",
              "      <td>15000.0</td>\n",
              "      <td>17250.0</td>\n",
              "      <td>30</td>\n",
              "      <td>0</td>\n",
              "      <td>1</td>\n",
              "      <td>NaN</td>\n",
              "      <td>2250.0</td>\n",
              "      <td>1985-08-23 00:00:00.000000</td>\n",
              "      <td>Savings</td>\n",
              "      <td>3.885298</td>\n",
              "      <td>7.320700</td>\n",
              "      <td>GT Bank</td>\n",
              "      <td>DUGBE,IBADAN</td>\n",
              "      <td>Permanent</td>\n",
              "      <td>Graduate</td>\n",
              "      <td>31</td>\n",
              "    </tr>\n",
              "    <tr>\n",
              "      <th>2</th>\n",
              "      <td>8a8588f35438fe12015444567666018e</td>\n",
              "      <td>301966580</td>\n",
              "      <td>7</td>\n",
              "      <td>2017-07-06 14:52:57.000000</td>\n",
              "      <td>2017-07-06 13:52:51.000000</td>\n",
              "      <td>20000.0</td>\n",
              "      <td>22250.0</td>\n",
              "      <td>15</td>\n",
              "      <td>0</td>\n",
              "      <td>1</td>\n",
              "      <td>NaN</td>\n",
              "      <td>2250.0</td>\n",
              "      <td>1984-09-18 00:00:00.000000</td>\n",
              "      <td>Other</td>\n",
              "      <td>11.139350</td>\n",
              "      <td>10.292041</td>\n",
              "      <td>EcoBank</td>\n",
              "      <td>NaN</td>\n",
              "      <td>Permanent</td>\n",
              "      <td>NaN</td>\n",
              "      <td>32</td>\n",
              "    </tr>\n",
              "    <tr>\n",
              "      <th>3</th>\n",
              "      <td>8a85890754145ace015429211b513e16</td>\n",
              "      <td>301999343</td>\n",
              "      <td>3</td>\n",
              "      <td>2017-07-27 19:00:41.000000</td>\n",
              "      <td>2017-07-27 18:00:35.000000</td>\n",
              "      <td>10000.0</td>\n",
              "      <td>11500.0</td>\n",
              "      <td>15</td>\n",
              "      <td>0</td>\n",
              "      <td>1</td>\n",
              "      <td>NaN</td>\n",
              "      <td>1500.0</td>\n",
              "      <td>1977-10-10 00:00:00.000000</td>\n",
              "      <td>Savings</td>\n",
              "      <td>3.985770</td>\n",
              "      <td>7.491708</td>\n",
              "      <td>First Bank</td>\n",
              "      <td>NaN</td>\n",
              "      <td>Permanent</td>\n",
              "      <td>NaN</td>\n",
              "      <td>39</td>\n",
              "    </tr>\n",
              "    <tr>\n",
              "      <th>4</th>\n",
              "      <td>8a858970548359cc0154883481981866</td>\n",
              "      <td>301962360</td>\n",
              "      <td>9</td>\n",
              "      <td>2017-07-03 23:42:45.000000</td>\n",
              "      <td>2017-07-03 22:42:39.000000</td>\n",
              "      <td>40000.0</td>\n",
              "      <td>44000.0</td>\n",
              "      <td>30</td>\n",
              "      <td>0</td>\n",
              "      <td>1</td>\n",
              "      <td>NaN</td>\n",
              "      <td>4000.0</td>\n",
              "      <td>1986-09-07 00:00:00.000000</td>\n",
              "      <td>Other</td>\n",
              "      <td>7.457913</td>\n",
              "      <td>9.076574</td>\n",
              "      <td>GT Bank</td>\n",
              "      <td>NaN</td>\n",
              "      <td>Permanent</td>\n",
              "      <td>Primary</td>\n",
              "      <td>30</td>\n",
              "    </tr>\n",
              "  </tbody>\n",
              "</table>\n",
              "</div>"
            ],
            "text/plain": [
              "                         customerid  ...  age\n",
              "0  8a2a81a74ce8c05d014cfb32a0da1049  ...   45\n",
              "1  8a85886e54beabf90154c0a29ae757c0  ...   31\n",
              "2  8a8588f35438fe12015444567666018e  ...   32\n",
              "3  8a85890754145ace015429211b513e16  ...   39\n",
              "4  8a858970548359cc0154883481981866  ...   30\n",
              "\n",
              "[5 rows x 21 columns]"
            ]
          },
          "metadata": {
            "tags": []
          },
          "execution_count": 43
        }
      ]
    },
    {
      "cell_type": "code",
      "metadata": {
        "id": "qlHfnIfcsru5",
        "colab_type": "code",
        "outputId": "ab284d1e-3cc7-4a71-ccb2-6480e0d59e38",
        "colab": {
          "base_uri": "https://localhost:8080/",
          "height": 34
        }
      },
      "source": [
        "train_perf_demo.shape[0]"
      ],
      "execution_count": 0,
      "outputs": [
        {
          "output_type": "execute_result",
          "data": {
            "text/plain": [
              "3269"
            ]
          },
          "metadata": {
            "tags": []
          },
          "execution_count": 44
        }
      ]
    },
    {
      "cell_type": "code",
      "metadata": {
        "id": "iXfySUhTrtMR",
        "colab_type": "code",
        "colab": {}
      },
      "source": [
        "train_perf_demo['level_of_education_clients'] = train_perf_demo['level_of_education_clients'].fillna('Missing Info')"
      ],
      "execution_count": 0,
      "outputs": []
    },
    {
      "cell_type": "code",
      "metadata": {
        "id": "ipTW9rWsNLkJ",
        "colab_type": "code",
        "outputId": "0458d1eb-2491-4e74-c111-84bf885c5825",
        "colab": {
          "base_uri": "https://localhost:8080/",
          "height": 540
        }
      },
      "source": [
        "sns.countplot(x='level_of_education_clients',data=train_perf_demo,hue='good_bad_flag')\n"
      ],
      "execution_count": 0,
      "outputs": [
        {
          "output_type": "execute_result",
          "data": {
            "text/plain": [
              "<matplotlib.axes._subplots.AxesSubplot at 0x7fda0d5ee550>"
            ]
          },
          "metadata": {
            "tags": []
          },
          "execution_count": 46
        },
        {
          "output_type": "display_data",
          "data": {
            "image/png": "[encoded data removed]",
            "text/plain": [
              "<Figure size 842.4x595.44 with 1 Axes>"
            ]
          },
          "metadata": {
            "tags": []
          }
        }
      ]
    },
    {
      "cell_type": "code",
      "metadata": {
        "id": "9obKo6dkNYzF",
        "colab_type": "code",
        "outputId": "c3b045e1-debd-4737-ed03-acd20c94d45f",
        "colab": {
          "base_uri": "https://localhost:8080/",
          "height": 540
        }
      },
      "source": [
        "sns.countplot(x='bank_account_type',data=train_perf_demo,hue='good_bad_flag')\n"
      ],
      "execution_count": 0,
      "outputs": [
        {
          "output_type": "execute_result",
          "data": {
            "text/plain": [
              "<matplotlib.axes._subplots.AxesSubplot at 0x7fda0bea7e48>"
            ]
          },
          "metadata": {
            "tags": []
          },
          "execution_count": 47
        },
        {
          "output_type": "display_data",
          "data": {
            "image/png": "[encoded data removed]",
            "text/plain": [
              "<Figure size 842.4x595.44 with 1 Axes>"
            ]
          },
          "metadata": {
            "tags": []
          }
        }
      ]
    },
    {
      "cell_type": "code",
      "metadata": {
        "id": "6bHJyQROsT8j",
        "colab_type": "code",
        "outputId": "ba9f8487-970c-46c8-9ca5-6d2f0ce44c25",
        "colab": {
          "base_uri": "https://localhost:8080/",
          "height": 593
        }
      },
      "source": [
        "sns.set(rc={'figure.figsize':(11.7,8.27)})\n",
        "sns.heatmap(train_perf_demo.corr(),annot=True)"
      ],
      "execution_count": 0,
      "outputs": [
        {
          "output_type": "execute_result",
          "data": {
            "text/plain": [
              "<matplotlib.axes._subplots.AxesSubplot at 0x7fda0bde2cf8>"
            ]
          },
          "metadata": {
            "tags": []
          },
          "execution_count": 48
        },
        {
          "output_type": "display_data",
          "data": {
            "image/png": "[encoded data removed]",
            "text/plain": [
              "<Figure size 842.4x595.44 with 2 Axes>"
            ]
          },
          "metadata": {
            "tags": []
          }
        }
      ]
    },
    {
      "cell_type": "markdown",
      "metadata": {
        "id": "maMZu9lpv-Eo",
        "colab_type": "text"
      },
      "source": [
        "It seems that it might be beneficial to include the information gained with in the demographic dataset. "
      ]
    },
    {
      "cell_type": "code",
      "metadata": {
        "id": "vyoo1N4NtX0b",
        "colab_type": "code",
        "outputId": "da16e011-0cc7-42c0-bfbc-4a39cd158037",
        "colab": {
          "base_uri": "https://localhost:8080/",
          "height": 309
        }
      },
      "source": [
        "train_prevloan.head(5)"
      ],
      "execution_count": 0,
      "outputs": [
        {
          "output_type": "execute_result",
          "data": {
            "text/html": [
              "<div>\n",
              "<style scoped>\n",
              "    .dataframe tbody tr th:only-of-type {\n",
              "        vertical-align: middle;\n",
              "    }\n",
              "\n",
              "    .dataframe tbody tr th {\n",
              "        vertical-align: top;\n",
              "    }\n",
              "\n",
              "    .dataframe thead th {\n",
              "        text-align: right;\n",
              "    }\n",
              "</style>\n",
              "<table border=\"1\" class=\"dataframe\">\n",
              "  <thead>\n",
              "    <tr style=\"text-align: right;\">\n",
              "      <th></th>\n",
              "      <th>customerid</th>\n",
              "      <th>systemloanid</th>\n",
              "      <th>loannumber</th>\n",
              "      <th>approveddate</th>\n",
              "      <th>creationdate</th>\n",
              "      <th>loanamount</th>\n",
              "      <th>totaldue</th>\n",
              "      <th>termdays</th>\n",
              "      <th>closeddate</th>\n",
              "      <th>referredby</th>\n",
              "      <th>firstduedate</th>\n",
              "      <th>firstrepaiddate</th>\n",
              "      <th>payed_before_duedate</th>\n",
              "      <th>Time_delta_payback</th>\n",
              "    </tr>\n",
              "  </thead>\n",
              "  <tbody>\n",
              "    <tr>\n",
              "      <th>0</th>\n",
              "      <td>8a2a81a74ce8c05d014cfb32a0da1049</td>\n",
              "      <td>301682320</td>\n",
              "      <td>2</td>\n",
              "      <td>2016-08-15 18:22:40.000000</td>\n",
              "      <td>2016-08-15 17:22:32.000000</td>\n",
              "      <td>10000.0</td>\n",
              "      <td>13000.0</td>\n",
              "      <td>30</td>\n",
              "      <td>2016-09-01 16:06:48.000000</td>\n",
              "      <td>NaN</td>\n",
              "      <td>2016-09-14 00:00:00.000000</td>\n",
              "      <td>2016-09-01 15:51:43.000000</td>\n",
              "      <td>1</td>\n",
              "      <td>1151592</td>\n",
              "    </tr>\n",
              "    <tr>\n",
              "      <th>1</th>\n",
              "      <td>8a2a81a74ce8c05d014cfb32a0da1049</td>\n",
              "      <td>301883808</td>\n",
              "      <td>9</td>\n",
              "      <td>2017-04-28 18:39:07.000000</td>\n",
              "      <td>2017-04-28 17:38:53.000000</td>\n",
              "      <td>10000.0</td>\n",
              "      <td>13000.0</td>\n",
              "      <td>30</td>\n",
              "      <td>2017-05-28 14:44:49.000000</td>\n",
              "      <td>NaN</td>\n",
              "      <td>2017-05-30 00:00:00.000000</td>\n",
              "      <td>2017-05-26 00:00:00.000000</td>\n",
              "      <td>1</td>\n",
              "      <td>33311</td>\n",
              "    </tr>\n",
              "    <tr>\n",
              "      <th>2</th>\n",
              "      <td>8a2a81a74ce8c05d014cfb32a0da1049</td>\n",
              "      <td>301831714</td>\n",
              "      <td>8</td>\n",
              "      <td>2017-03-05 10:56:25.000000</td>\n",
              "      <td>2017-03-05 09:56:19.000000</td>\n",
              "      <td>20000.0</td>\n",
              "      <td>23800.0</td>\n",
              "      <td>30</td>\n",
              "      <td>2017-04-26 22:18:56.000000</td>\n",
              "      <td>NaN</td>\n",
              "      <td>2017-04-04 00:00:00.000000</td>\n",
              "      <td>2017-04-26 22:03:47.000000</td>\n",
              "      <td>0</td>\n",
              "      <td>-1894736</td>\n",
              "    </tr>\n",
              "    <tr>\n",
              "      <th>3</th>\n",
              "      <td>8a8588f35438fe12015444567666018e</td>\n",
              "      <td>301861541</td>\n",
              "      <td>5</td>\n",
              "      <td>2017-04-09 18:25:55.000000</td>\n",
              "      <td>2017-04-09 17:25:42.000000</td>\n",
              "      <td>10000.0</td>\n",
              "      <td>11500.0</td>\n",
              "      <td>15</td>\n",
              "      <td>2017-04-24 01:35:52.000000</td>\n",
              "      <td>NaN</td>\n",
              "      <td>2017-04-24 00:00:00.000000</td>\n",
              "      <td>2017-04-24 00:48:43.000000</td>\n",
              "      <td>1</td>\n",
              "      <td>80648</td>\n",
              "    </tr>\n",
              "    <tr>\n",
              "      <th>4</th>\n",
              "      <td>8a85890754145ace015429211b513e16</td>\n",
              "      <td>301941754</td>\n",
              "      <td>2</td>\n",
              "      <td>2017-06-17 09:29:57.000000</td>\n",
              "      <td>2017-06-17 08:29:50.000000</td>\n",
              "      <td>10000.0</td>\n",
              "      <td>11500.0</td>\n",
              "      <td>15</td>\n",
              "      <td>2017-07-14 21:18:43.000000</td>\n",
              "      <td>NaN</td>\n",
              "      <td>2017-07-03 00:00:00.000000</td>\n",
              "      <td>2017-07-14 21:08:35.000000</td>\n",
              "      <td>0</td>\n",
              "      <td>-1027123</td>\n",
              "    </tr>\n",
              "  </tbody>\n",
              "</table>\n",
              "</div>"
            ],
            "text/plain": [
              "                         customerid  ...  Time_delta_payback\n",
              "0  8a2a81a74ce8c05d014cfb32a0da1049  ...             1151592\n",
              "1  8a2a81a74ce8c05d014cfb32a0da1049  ...               33311\n",
              "2  8a2a81a74ce8c05d014cfb32a0da1049  ...            -1894736\n",
              "3  8a8588f35438fe12015444567666018e  ...               80648\n",
              "4  8a85890754145ace015429211b513e16  ...            -1027123\n",
              "\n",
              "[5 rows x 14 columns]"
            ]
          },
          "metadata": {
            "tags": []
          },
          "execution_count": 49
        }
      ]
    },
    {
      "cell_type": "code",
      "metadata": {
        "id": "DHhwL3b2t9T5",
        "colab_type": "code",
        "outputId": "c3d79519-77b4-4036-fd22-80f5d5fefc4b",
        "colab": {
          "base_uri": "https://localhost:8080/",
          "height": 309
        }
      },
      "source": [
        "train_perf.head(5)"
      ],
      "execution_count": 0,
      "outputs": [
        {
          "output_type": "execute_result",
          "data": {
            "text/html": [
              "<div>\n",
              "<style scoped>\n",
              "    .dataframe tbody tr th:only-of-type {\n",
              "        vertical-align: middle;\n",
              "    }\n",
              "\n",
              "    .dataframe tbody tr th {\n",
              "        vertical-align: top;\n",
              "    }\n",
              "\n",
              "    .dataframe thead th {\n",
              "        text-align: right;\n",
              "    }\n",
              "</style>\n",
              "<table border=\"1\" class=\"dataframe\">\n",
              "  <thead>\n",
              "    <tr style=\"text-align: right;\">\n",
              "      <th></th>\n",
              "      <th>customerid</th>\n",
              "      <th>systemloanid</th>\n",
              "      <th>loannumber</th>\n",
              "      <th>approveddate</th>\n",
              "      <th>creationdate</th>\n",
              "      <th>loanamount</th>\n",
              "      <th>totaldue</th>\n",
              "      <th>termdays</th>\n",
              "      <th>referredby</th>\n",
              "      <th>good_bad_flag</th>\n",
              "      <th>ref_goodbad</th>\n",
              "      <th>interest</th>\n",
              "    </tr>\n",
              "  </thead>\n",
              "  <tbody>\n",
              "    <tr>\n",
              "      <th>0</th>\n",
              "      <td>8a2a81a74ce8c05d014cfb32a0da1049</td>\n",
              "      <td>301994762</td>\n",
              "      <td>12</td>\n",
              "      <td>2017-07-25 08:22:56.000000</td>\n",
              "      <td>2017-07-25 07:22:47.000000</td>\n",
              "      <td>30000.0</td>\n",
              "      <td>34500.0</td>\n",
              "      <td>30</td>\n",
              "      <td>0</td>\n",
              "      <td>1</td>\n",
              "      <td>NaN</td>\n",
              "      <td>4500.0</td>\n",
              "    </tr>\n",
              "    <tr>\n",
              "      <th>1</th>\n",
              "      <td>8a85886e54beabf90154c0a29ae757c0</td>\n",
              "      <td>301965204</td>\n",
              "      <td>2</td>\n",
              "      <td>2017-07-05 17:04:41.000000</td>\n",
              "      <td>2017-07-05 16:04:18.000000</td>\n",
              "      <td>15000.0</td>\n",
              "      <td>17250.0</td>\n",
              "      <td>30</td>\n",
              "      <td>0</td>\n",
              "      <td>1</td>\n",
              "      <td>NaN</td>\n",
              "      <td>2250.0</td>\n",
              "    </tr>\n",
              "    <tr>\n",
              "      <th>2</th>\n",
              "      <td>8a8588f35438fe12015444567666018e</td>\n",
              "      <td>301966580</td>\n",
              "      <td>7</td>\n",
              "      <td>2017-07-06 14:52:57.000000</td>\n",
              "      <td>2017-07-06 13:52:51.000000</td>\n",
              "      <td>20000.0</td>\n",
              "      <td>22250.0</td>\n",
              "      <td>15</td>\n",
              "      <td>0</td>\n",
              "      <td>1</td>\n",
              "      <td>NaN</td>\n",
              "      <td>2250.0</td>\n",
              "    </tr>\n",
              "    <tr>\n",
              "      <th>3</th>\n",
              "      <td>8a85890754145ace015429211b513e16</td>\n",
              "      <td>301999343</td>\n",
              "      <td>3</td>\n",
              "      <td>2017-07-27 19:00:41.000000</td>\n",
              "      <td>2017-07-27 18:00:35.000000</td>\n",
              "      <td>10000.0</td>\n",
              "      <td>11500.0</td>\n",
              "      <td>15</td>\n",
              "      <td>0</td>\n",
              "      <td>1</td>\n",
              "      <td>NaN</td>\n",
              "      <td>1500.0</td>\n",
              "    </tr>\n",
              "    <tr>\n",
              "      <th>4</th>\n",
              "      <td>8a858970548359cc0154883481981866</td>\n",
              "      <td>301962360</td>\n",
              "      <td>9</td>\n",
              "      <td>2017-07-03 23:42:45.000000</td>\n",
              "      <td>2017-07-03 22:42:39.000000</td>\n",
              "      <td>40000.0</td>\n",
              "      <td>44000.0</td>\n",
              "      <td>30</td>\n",
              "      <td>0</td>\n",
              "      <td>1</td>\n",
              "      <td>NaN</td>\n",
              "      <td>4000.0</td>\n",
              "    </tr>\n",
              "  </tbody>\n",
              "</table>\n",
              "</div>"
            ],
            "text/plain": [
              "                         customerid  systemloanid  ...  ref_goodbad interest\n",
              "0  8a2a81a74ce8c05d014cfb32a0da1049     301994762  ...          NaN   4500.0\n",
              "1  8a85886e54beabf90154c0a29ae757c0     301965204  ...          NaN   2250.0\n",
              "2  8a8588f35438fe12015444567666018e     301966580  ...          NaN   2250.0\n",
              "3  8a85890754145ace015429211b513e16     301999343  ...          NaN   1500.0\n",
              "4  8a858970548359cc0154883481981866     301962360  ...          NaN   4000.0\n",
              "\n",
              "[5 rows x 12 columns]"
            ]
          },
          "metadata": {
            "tags": []
          },
          "execution_count": 50
        }
      ]
    },
    {
      "cell_type": "markdown",
      "metadata": {
        "id": "O1M4-MnJINqx",
        "colab_type": "text"
      },
      "source": [
        "Now lets see if there is a correlation between having payed back their loans and paying back their new loans. "
      ]
    },
    {
      "cell_type": "code",
      "metadata": {
        "id": "907smcaNIVkD",
        "colab_type": "code",
        "colab": {}
      },
      "source": [
        "L = []\n",
        "L2 = []\n",
        "L3 = []\n",
        "L4 = []\n",
        "L5 = []\n",
        "for index in range(0,train_perf.shape[0]): #\n",
        "  customerid = train_perf['customerid'][index]\n",
        "  prevloans_df = train_prevloan.loc[train_prevloan['customerid'] == customerid]\n",
        "  num_prevloans = prevloans_df.shape[0]\n",
        "\n",
        "  if num_prevloans >0:\n",
        "    average_payback_timedelta = prevloans_df['Time_delta_payback'].sum() / num_prevloans\n",
        "    payedback_ontime = prevloans_df['payed_before_duedate'].sum()\n",
        "    not_payedback_ontime = num_prevloans - payedback_ontime\n",
        "    ratio_payedback_loans = payedback_ontime / num_prevloans\n",
        "  \n",
        "    L.append(num_prevloans)\n",
        "    L2.append(average_payback_timedelta)\n",
        "    L3.append(ratio_payedback_loans)\n",
        "    L4.append(payedback_ontime)\n",
        "    L5.append(not_payedback_ontime)\n",
        "  else:\n",
        "    L.append(num_prevloans)\n",
        "    L2.append('NaN')\n",
        "    L3.append('NaN')\n",
        "    L4.append('NaN')\n",
        "    L5.append('NaN')\n",
        "num_prevloans = pd.DataFrame(L, columns=['num_previous_loans'])\n",
        "avg_payback_time = pd.DataFrame(L2, columns=['average_payback_timedelta']) \n",
        "ratio_payback_ontime = pd.DataFrame(L3, columns=['ratio_payback_ontime'])  \n",
        "payback_ontime = pd.DataFrame(L4, columns=['Num_loans_ontime'])  \n",
        "not_payback_ontime = pd.DataFrame(L5, columns=['Num_loans_NOT_ontime'])  \n",
        "\n",
        "\n"
      ],
      "execution_count": 0,
      "outputs": []
    },
    {
      "cell_type": "code",
      "metadata": {
        "id": "WX751cNLM4Ef",
        "colab_type": "code",
        "colab": {}
      },
      "source": [
        "\n",
        "train_perf = pd.merge(train_perf, num_prevloans, left_index=True, right_index=True)\n",
        "train_perf = pd.merge(train_perf, avg_payback_time, left_index=True, right_index=True)\n",
        "train_perf = pd.merge(train_perf, ratio_payback_ontime, left_index=True, right_index=True)\n",
        "train_perf = pd.merge(train_perf, payback_ontime, left_index=True, right_index=True)\n",
        "train_perf = pd.merge(train_perf, not_payback_ontime, left_index=True, right_index=True)\n",
        "\n"
      ],
      "execution_count": 0,
      "outputs": []
    },
    {
      "cell_type": "code",
      "metadata": {
        "id": "BdiNNG3dO9sh",
        "colab_type": "code",
        "outputId": "62ea4c91-5e69-4b64-d812-65ce21fdc071",
        "colab": {
          "base_uri": "https://localhost:8080/",
          "height": 309
        }
      },
      "source": [
        "train_perf.head()"
      ],
      "execution_count": 0,
      "outputs": [
        {
          "output_type": "execute_result",
          "data": {
            "text/html": [
              "<div>\n",
              "<style scoped>\n",
              "    .dataframe tbody tr th:only-of-type {\n",
              "        vertical-align: middle;\n",
              "    }\n",
              "\n",
              "    .dataframe tbody tr th {\n",
              "        vertical-align: top;\n",
              "    }\n",
              "\n",
              "    .dataframe thead th {\n",
              "        text-align: right;\n",
              "    }\n",
              "</style>\n",
              "<table border=\"1\" class=\"dataframe\">\n",
              "  <thead>\n",
              "    <tr style=\"text-align: right;\">\n",
              "      <th></th>\n",
              "      <th>customerid</th>\n",
              "      <th>systemloanid</th>\n",
              "      <th>loannumber</th>\n",
              "      <th>approveddate</th>\n",
              "      <th>creationdate</th>\n",
              "      <th>loanamount</th>\n",
              "      <th>totaldue</th>\n",
              "      <th>termdays</th>\n",
              "      <th>referredby</th>\n",
              "      <th>good_bad_flag</th>\n",
              "      <th>ref_goodbad</th>\n",
              "      <th>interest</th>\n",
              "      <th>num_previous_loans</th>\n",
              "      <th>average_payback_timedelta</th>\n",
              "      <th>ratio_payback_ontime</th>\n",
              "      <th>Num_loans_ontime</th>\n",
              "      <th>Num_loans_NOT_ontime</th>\n",
              "    </tr>\n",
              "  </thead>\n",
              "  <tbody>\n",
              "    <tr>\n",
              "      <th>0</th>\n",
              "      <td>8a2a81a74ce8c05d014cfb32a0da1049</td>\n",
              "      <td>301994762</td>\n",
              "      <td>12</td>\n",
              "      <td>2017-07-25 08:22:56.000000</td>\n",
              "      <td>2017-07-25 07:22:47.000000</td>\n",
              "      <td>30000.0</td>\n",
              "      <td>34500.0</td>\n",
              "      <td>30</td>\n",
              "      <td>0</td>\n",
              "      <td>1</td>\n",
              "      <td>NaN</td>\n",
              "      <td>4500.0</td>\n",
              "      <td>11</td>\n",
              "      <td>35411.3</td>\n",
              "      <td>0.636364</td>\n",
              "      <td>7</td>\n",
              "      <td>4</td>\n",
              "    </tr>\n",
              "    <tr>\n",
              "      <th>1</th>\n",
              "      <td>8a85886e54beabf90154c0a29ae757c0</td>\n",
              "      <td>301965204</td>\n",
              "      <td>2</td>\n",
              "      <td>2017-07-05 17:04:41.000000</td>\n",
              "      <td>2017-07-05 16:04:18.000000</td>\n",
              "      <td>15000.0</td>\n",
              "      <td>17250.0</td>\n",
              "      <td>30</td>\n",
              "      <td>0</td>\n",
              "      <td>1</td>\n",
              "      <td>NaN</td>\n",
              "      <td>2250.0</td>\n",
              "      <td>0</td>\n",
              "      <td>NaN</td>\n",
              "      <td>NaN</td>\n",
              "      <td>NaN</td>\n",
              "      <td>NaN</td>\n",
              "    </tr>\n",
              "    <tr>\n",
              "      <th>2</th>\n",
              "      <td>8a8588f35438fe12015444567666018e</td>\n",
              "      <td>301966580</td>\n",
              "      <td>7</td>\n",
              "      <td>2017-07-06 14:52:57.000000</td>\n",
              "      <td>2017-07-06 13:52:51.000000</td>\n",
              "      <td>20000.0</td>\n",
              "      <td>22250.0</td>\n",
              "      <td>15</td>\n",
              "      <td>0</td>\n",
              "      <td>1</td>\n",
              "      <td>NaN</td>\n",
              "      <td>2250.0</td>\n",
              "      <td>6</td>\n",
              "      <td>-59803</td>\n",
              "      <td>0.833333</td>\n",
              "      <td>5</td>\n",
              "      <td>1</td>\n",
              "    </tr>\n",
              "    <tr>\n",
              "      <th>3</th>\n",
              "      <td>8a85890754145ace015429211b513e16</td>\n",
              "      <td>301999343</td>\n",
              "      <td>3</td>\n",
              "      <td>2017-07-27 19:00:41.000000</td>\n",
              "      <td>2017-07-27 18:00:35.000000</td>\n",
              "      <td>10000.0</td>\n",
              "      <td>11500.0</td>\n",
              "      <td>15</td>\n",
              "      <td>0</td>\n",
              "      <td>1</td>\n",
              "      <td>NaN</td>\n",
              "      <td>1500.0</td>\n",
              "      <td>2</td>\n",
              "      <td>-771174</td>\n",
              "      <td>0</td>\n",
              "      <td>0</td>\n",
              "      <td>2</td>\n",
              "    </tr>\n",
              "    <tr>\n",
              "      <th>4</th>\n",
              "      <td>8a858970548359cc0154883481981866</td>\n",
              "      <td>301962360</td>\n",
              "      <td>9</td>\n",
              "      <td>2017-07-03 23:42:45.000000</td>\n",
              "      <td>2017-07-03 22:42:39.000000</td>\n",
              "      <td>40000.0</td>\n",
              "      <td>44000.0</td>\n",
              "      <td>30</td>\n",
              "      <td>0</td>\n",
              "      <td>1</td>\n",
              "      <td>NaN</td>\n",
              "      <td>4000.0</td>\n",
              "      <td>8</td>\n",
              "      <td>899494</td>\n",
              "      <td>1</td>\n",
              "      <td>8</td>\n",
              "      <td>0</td>\n",
              "    </tr>\n",
              "  </tbody>\n",
              "</table>\n",
              "</div>"
            ],
            "text/plain": [
              "                         customerid  ...  Num_loans_NOT_ontime\n",
              "0  8a2a81a74ce8c05d014cfb32a0da1049  ...                     4\n",
              "1  8a85886e54beabf90154c0a29ae757c0  ...                   NaN\n",
              "2  8a8588f35438fe12015444567666018e  ...                     1\n",
              "3  8a85890754145ace015429211b513e16  ...                     2\n",
              "4  8a858970548359cc0154883481981866  ...                     0\n",
              "\n",
              "[5 rows x 17 columns]"
            ]
          },
          "metadata": {
            "tags": []
          },
          "execution_count": 53
        }
      ]
    },
    {
      "cell_type": "code",
      "metadata": {
        "id": "56ZHPVABNO2x",
        "colab_type": "code",
        "outputId": "c42e61a1-80c2-4003-f59e-9ad9994c8060",
        "colab": {
          "base_uri": "https://localhost:8080/",
          "height": 540
        }
      },
      "source": [
        "\n",
        "sns.countplot(x='num_previous_loans',data=train_perf,hue='good_bad_flag')\n"
      ],
      "execution_count": 0,
      "outputs": [
        {
          "output_type": "execute_result",
          "data": {
            "text/plain": [
              "<matplotlib.axes._subplots.AxesSubplot at 0x7fda0bcc9978>"
            ]
          },
          "metadata": {
            "tags": []
          },
          "execution_count": 54
        },
        {
          "output_type": "display_data",
          "data": {
            "image/png": "[encoded data removed]",
            "text/plain": [
              "<Figure size 842.4x595.44 with 1 Axes>"
            ]
          },
          "metadata": {
            "tags": []
          }
        }
      ]
    },
    {
      "cell_type": "code",
      "metadata": {
        "id": "o4nK7xLXP1xB",
        "colab_type": "code",
        "outputId": "812300bb-3814-4999-b8a3-94bfd33a266a",
        "colab": {
          "base_uri": "https://localhost:8080/",
          "height": 540
        }
      },
      "source": [
        "sns.countplot(x='Num_loans_ontime',data=train_perf,hue='good_bad_flag')\n"
      ],
      "execution_count": 0,
      "outputs": [
        {
          "output_type": "execute_result",
          "data": {
            "text/plain": [
              "<matplotlib.axes._subplots.AxesSubplot at 0x7fda0a462a20>"
            ]
          },
          "metadata": {
            "tags": []
          },
          "execution_count": 55
        },
        {
          "output_type": "display_data",
          "data": {
            "image/png": "[encoded data removed]",
            "text/plain": [
              "<Figure size 842.4x595.44 with 1 Axes>"
            ]
          },
          "metadata": {
            "tags": []
          }
        }
      ]
    },
    {
      "cell_type": "code",
      "metadata": {
        "id": "-y4mwncGVXae",
        "colab_type": "code",
        "outputId": "71383623-0544-4d5b-f00f-0b29d20e7cba",
        "colab": {
          "base_uri": "https://localhost:8080/",
          "height": 540
        }
      },
      "source": [
        "sns.countplot(x='Num_loans_NOT_ontime',data=train_perf,hue='good_bad_flag')\n"
      ],
      "execution_count": 0,
      "outputs": [
        {
          "output_type": "execute_result",
          "data": {
            "text/plain": [
              "<matplotlib.axes._subplots.AxesSubplot at 0x7fda0a334a20>"
            ]
          },
          "metadata": {
            "tags": []
          },
          "execution_count": 56
        },
        {
          "output_type": "display_data",
          "data": {
            "image/png": "[encoded data removed]",
            "text/plain": [
              "<Figure size 842.4x595.44 with 1 Axes>"
            ]
          },
          "metadata": {
            "tags": []
          }
        }
      ]
    },
    {
      "cell_type": "code",
      "metadata": {
        "id": "znM0iFG8VbxH",
        "colab_type": "code",
        "outputId": "9c4927d5-ee59-4242-bc18-19650585c05d",
        "colab": {
          "base_uri": "https://localhost:8080/",
          "height": 523
        }
      },
      "source": [
        "ax = sns.scatterplot(x=\"ratio_payback_ontime\", y=\"good_bad_flag\",\n",
        "                    data=train_perf)"
      ],
      "execution_count": 0,
      "outputs": [
        {
          "output_type": "display_data",
          "data": {
            "image/png": "[encoded data removed]",
            "text/plain": [
              "<Figure size 842.4x595.44 with 1 Axes>"
            ]
          },
          "metadata": {
            "tags": []
          }
        }
      ]
    },
    {
      "cell_type": "code",
      "metadata": {
        "id": "gxAc4pJeYZKi",
        "colab_type": "code",
        "outputId": "025e6680-947e-464a-8b3e-02dcf603e6ab",
        "colab": {
          "base_uri": "https://localhost:8080/",
          "height": 309
        }
      },
      "source": [
        "train_perf.head()"
      ],
      "execution_count": 0,
      "outputs": [
        {
          "output_type": "execute_result",
          "data": {
            "text/html": [
              "<div>\n",
              "<style scoped>\n",
              "    .dataframe tbody tr th:only-of-type {\n",
              "        vertical-align: middle;\n",
              "    }\n",
              "\n",
              "    .dataframe tbody tr th {\n",
              "        vertical-align: top;\n",
              "    }\n",
              "\n",
              "    .dataframe thead th {\n",
              "        text-align: right;\n",
              "    }\n",
              "</style>\n",
              "<table border=\"1\" class=\"dataframe\">\n",
              "  <thead>\n",
              "    <tr style=\"text-align: right;\">\n",
              "      <th></th>\n",
              "      <th>customerid</th>\n",
              "      <th>systemloanid</th>\n",
              "      <th>loannumber</th>\n",
              "      <th>approveddate</th>\n",
              "      <th>creationdate</th>\n",
              "      <th>loanamount</th>\n",
              "      <th>totaldue</th>\n",
              "      <th>termdays</th>\n",
              "      <th>referredby</th>\n",
              "      <th>good_bad_flag</th>\n",
              "      <th>ref_goodbad</th>\n",
              "      <th>interest</th>\n",
              "      <th>num_previous_loans</th>\n",
              "      <th>average_payback_timedelta</th>\n",
              "      <th>ratio_payback_ontime</th>\n",
              "      <th>Num_loans_ontime</th>\n",
              "      <th>Num_loans_NOT_ontime</th>\n",
              "    </tr>\n",
              "  </thead>\n",
              "  <tbody>\n",
              "    <tr>\n",
              "      <th>0</th>\n",
              "      <td>8a2a81a74ce8c05d014cfb32a0da1049</td>\n",
              "      <td>301994762</td>\n",
              "      <td>12</td>\n",
              "      <td>2017-07-25 08:22:56.000000</td>\n",
              "      <td>2017-07-25 07:22:47.000000</td>\n",
              "      <td>30000.0</td>\n",
              "      <td>34500.0</td>\n",
              "      <td>30</td>\n",
              "      <td>0</td>\n",
              "      <td>1</td>\n",
              "      <td>NaN</td>\n",
              "      <td>4500.0</td>\n",
              "      <td>11</td>\n",
              "      <td>35411.3</td>\n",
              "      <td>0.636364</td>\n",
              "      <td>7</td>\n",
              "      <td>4</td>\n",
              "    </tr>\n",
              "    <tr>\n",
              "      <th>1</th>\n",
              "      <td>8a85886e54beabf90154c0a29ae757c0</td>\n",
              "      <td>301965204</td>\n",
              "      <td>2</td>\n",
              "      <td>2017-07-05 17:04:41.000000</td>\n",
              "      <td>2017-07-05 16:04:18.000000</td>\n",
              "      <td>15000.0</td>\n",
              "      <td>17250.0</td>\n",
              "      <td>30</td>\n",
              "      <td>0</td>\n",
              "      <td>1</td>\n",
              "      <td>NaN</td>\n",
              "      <td>2250.0</td>\n",
              "      <td>0</td>\n",
              "      <td>NaN</td>\n",
              "      <td>NaN</td>\n",
              "      <td>NaN</td>\n",
              "      <td>NaN</td>\n",
              "    </tr>\n",
              "    <tr>\n",
              "      <th>2</th>\n",
              "      <td>8a8588f35438fe12015444567666018e</td>\n",
              "      <td>301966580</td>\n",
              "      <td>7</td>\n",
              "      <td>2017-07-06 14:52:57.000000</td>\n",
              "      <td>2017-07-06 13:52:51.000000</td>\n",
              "      <td>20000.0</td>\n",
              "      <td>22250.0</td>\n",
              "      <td>15</td>\n",
              "      <td>0</td>\n",
              "      <td>1</td>\n",
              "      <td>NaN</td>\n",
              "      <td>2250.0</td>\n",
              "      <td>6</td>\n",
              "      <td>-59803</td>\n",
              "      <td>0.833333</td>\n",
              "      <td>5</td>\n",
              "      <td>1</td>\n",
              "    </tr>\n",
              "    <tr>\n",
              "      <th>3</th>\n",
              "      <td>8a85890754145ace015429211b513e16</td>\n",
              "      <td>301999343</td>\n",
              "      <td>3</td>\n",
              "      <td>2017-07-27 19:00:41.000000</td>\n",
              "      <td>2017-07-27 18:00:35.000000</td>\n",
              "      <td>10000.0</td>\n",
              "      <td>11500.0</td>\n",
              "      <td>15</td>\n",
              "      <td>0</td>\n",
              "      <td>1</td>\n",
              "      <td>NaN</td>\n",
              "      <td>1500.0</td>\n",
              "      <td>2</td>\n",
              "      <td>-771174</td>\n",
              "      <td>0</td>\n",
              "      <td>0</td>\n",
              "      <td>2</td>\n",
              "    </tr>\n",
              "    <tr>\n",
              "      <th>4</th>\n",
              "      <td>8a858970548359cc0154883481981866</td>\n",
              "      <td>301962360</td>\n",
              "      <td>9</td>\n",
              "      <td>2017-07-03 23:42:45.000000</td>\n",
              "      <td>2017-07-03 22:42:39.000000</td>\n",
              "      <td>40000.0</td>\n",
              "      <td>44000.0</td>\n",
              "      <td>30</td>\n",
              "      <td>0</td>\n",
              "      <td>1</td>\n",
              "      <td>NaN</td>\n",
              "      <td>4000.0</td>\n",
              "      <td>8</td>\n",
              "      <td>899494</td>\n",
              "      <td>1</td>\n",
              "      <td>8</td>\n",
              "      <td>0</td>\n",
              "    </tr>\n",
              "  </tbody>\n",
              "</table>\n",
              "</div>"
            ],
            "text/plain": [
              "                         customerid  ...  Num_loans_NOT_ontime\n",
              "0  8a2a81a74ce8c05d014cfb32a0da1049  ...                     4\n",
              "1  8a85886e54beabf90154c0a29ae757c0  ...                   NaN\n",
              "2  8a8588f35438fe12015444567666018e  ...                     1\n",
              "3  8a85890754145ace015429211b513e16  ...                     2\n",
              "4  8a858970548359cc0154883481981866  ...                     0\n",
              "\n",
              "[5 rows x 17 columns]"
            ]
          },
          "metadata": {
            "tags": []
          },
          "execution_count": 58
        }
      ]
    },
    {
      "cell_type": "markdown",
      "metadata": {
        "id": "eCIv8OCqasMl",
        "colab_type": "text"
      },
      "source": [
        "Now we will analyze the correlation between the features and we will do so for both the entire dataset and the subset of the dataset with customers with one or more loans. "
      ]
    },
    {
      "cell_type": "code",
      "metadata": {
        "id": "HUw5E2pBatUi",
        "colab_type": "code",
        "outputId": "2a4d04ec-b52a-4778-b939-3e216917b6f5",
        "colab": {
          "base_uri": "https://localhost:8080/",
          "height": 625
        }
      },
      "source": [
        "sns.set(rc={'figure.figsize':(11.7,8.27)})\n",
        "sns.heatmap(train_perf.corr(),annot=True)"
      ],
      "execution_count": 0,
      "outputs": [
        {
          "output_type": "execute_result",
          "data": {
            "text/plain": [
              "<matplotlib.axes._subplots.AxesSubplot at 0x7fda0a254a90>"
            ]
          },
          "metadata": {
            "tags": []
          },
          "execution_count": 59
        },
        {
          "output_type": "display_data",
          "data": {
            "image/png": "[encoded data removed]",
            "text/plain": [
              "<Figure size 842.4x595.44 with 2 Axes>"
            ]
          },
          "metadata": {
            "tags": []
          }
        }
      ]
    },
    {
      "cell_type": "code",
      "metadata": {
        "id": "cZiE0z5zbIf7",
        "colab_type": "code",
        "colab": {}
      },
      "source": [
        "train_perf_has_prevloan = train_perf.loc[train_perf['num_previous_loans'] > 0]\n"
      ],
      "execution_count": 0,
      "outputs": []
    },
    {
      "cell_type": "code",
      "metadata": {
        "id": "9p9mBN00bChH",
        "colab_type": "code",
        "outputId": "c38244fd-bded-4161-e407-6dc54584a568",
        "colab": {
          "base_uri": "https://localhost:8080/",
          "height": 625
        }
      },
      "source": [
        "sns.set(rc={'figure.figsize':(11.7,8.27)})\n",
        "sns.heatmap(train_perf_has_prevloan.corr(),annot=True)"
      ],
      "execution_count": 0,
      "outputs": [
        {
          "output_type": "execute_result",
          "data": {
            "text/plain": [
              "<matplotlib.axes._subplots.AxesSubplot at 0x7fda0a31fe80>"
            ]
          },
          "metadata": {
            "tags": []
          },
          "execution_count": 61
        },
        {
          "output_type": "display_data",
          "data": {
            "image/png": "[encoded data removed]",
            "text/plain": [
              "<Figure size 842.4x595.44 with 2 Axes>"
            ]
          },
          "metadata": {
            "tags": []
          }
        }
      ]
    },
    {
      "cell_type": "markdown",
      "metadata": {
        "id": "-i_Zm5PjbxBd",
        "colab_type": "text"
      },
      "source": [
        "### Conclusion\n",
        "\n",
        "There seems to be little change in correlation between good/bad customer and the features for the entire dataset in comparison to  the dataset of only customer with one or more previous loans. Looking at the distribution between good/bad customer for features such as number of previous loans, there seems to be no big difference between the values of that feature. \n",
        "\n",
        "It might be beneficial to include the demographic information such as age in the algorithm.\n",
        "\n",
        "Moving forward, it might be beneficial to have a seperate algorithm for the customer with previous loans as there is more data to utilize.  "
      ]
    },
    {
      "cell_type": "markdown",
      "metadata": {
        "id": "gcAa3EkPce39",
        "colab_type": "text"
      },
      "source": [
        "# Summary of conclusions from data exploration\n",
        "\n",
        "\n",
        "- It might be beneficial to drop the columns bank_branch_clients and level_of_education_clients as they consist of 85+% NaN. employment_status_clients has about 12% NaN, which indicated this column might be beneficial to drop, but also, it might be beneficial to interpolate this values or keep NaN values.\n",
        "\n",
        "- It might be beneficial to split the data into two categories based on the amount. With customer whom has taken a loan of 10 000 into one dataset and the rest in another.\n",
        "\n",
        "- It might be beneficial to reward customer whom has been refered to by good customers.  \n",
        "\n",
        "- It might be beneficial to have a seperate algorithm for customer with previous loans as they have more data. \n",
        "\n",
        "- It might be beneficial to include the demographic information such as age in the algorithm.\n",
        " "
      ]
    },
    {
      "cell_type": "markdown",
      "metadata": {
        "id": "Wy_1X9SxeOoi",
        "colab_type": "text"
      },
      "source": [
        "# Feature engineering\n",
        "\n",
        "We will now add features to both dataset the training and testing data. \n",
        "\n",
        "##  Feature construction\n",
        "\n",
        "Features that will be added are: \n",
        "- Interest\n",
        "- Num_previous_loans\n",
        "- Average_payback_timedelta\t\n",
        "- Ratio_payback_ontime\t\n",
        "- Num_loans_ontime\n",
        "- Num_loans_NOT_ontime\n",
        "- ref_goodbad\n",
        "- Age\n",
        "\n",
        "\n",
        "Features to be removed:\n",
        "- systemloanid\n",
        "- loannumber\n",
        "- approveddate\n",
        "- creationdate\n",
        "- birthdate\t\n",
        "- longitude_gps\n",
        "- latitude_gps\t\t\n",
        "- bank_branch_clients\t\n",
        "- level_of_education_clients\t\n",
        "\n",
        "Features that will be interpolated:\n",
        "- employment_status_clients\n",
        "\n",
        "\n",
        "Following this we will merge all three datasets."
      ]
    },
    {
      "cell_type": "code",
      "metadata": {
        "id": "aIr7SEiOpDHd",
        "colab_type": "code",
        "colab": {}
      },
      "source": [
        "test_demo = pd.read_csv('gdrive/My Drive/Colab Notebooks/Busura/Loan_prediction/testdemographics.csv')\n",
        "test_perf = pd.read_csv('gdrive/My Drive/Colab Notebooks/Busura/Loan_prediction/testperf.csv')\n",
        "test_prevloan = pd.read_csv('gdrive/My Drive/Colab Notebooks/Busura/Loan_prediction/testprevloans.csv')\n",
        "\n",
        "train_demo = pd.read_csv('gdrive/My Drive/Colab Notebooks/Busura/Loan_prediction/traindemographics.csv')\n",
        "train_perf = pd.read_csv('gdrive/My Drive/Colab Notebooks/Busura/Loan_prediction/trainperf.csv')\n",
        "train_prevloan = pd.read_csv('gdrive/My Drive/Colab Notebooks/Busura/Loan_prediction/trainprevloans.csv')\n"
      ],
      "execution_count": 0,
      "outputs": []
    },
    {
      "cell_type": "code",
      "metadata": {
        "id": "FpH_hqe_pcST",
        "colab_type": "code",
        "outputId": "710c1427-ea86-4bf4-8f05-a0d2fbee394a",
        "colab": {
          "base_uri": "https://localhost:8080/",
          "height": 204
        }
      },
      "source": [
        "test_perf.head()"
      ],
      "execution_count": 0,
      "outputs": [
        {
          "output_type": "execute_result",
          "data": {
            "text/html": [
              "<div>\n",
              "<style scoped>\n",
              "    .dataframe tbody tr th:only-of-type {\n",
              "        vertical-align: middle;\n",
              "    }\n",
              "\n",
              "    .dataframe tbody tr th {\n",
              "        vertical-align: top;\n",
              "    }\n",
              "\n",
              "    .dataframe thead th {\n",
              "        text-align: right;\n",
              "    }\n",
              "</style>\n",
              "<table border=\"1\" class=\"dataframe\">\n",
              "  <thead>\n",
              "    <tr style=\"text-align: right;\">\n",
              "      <th></th>\n",
              "      <th>customerid</th>\n",
              "      <th>systemloanid</th>\n",
              "      <th>loannumber</th>\n",
              "      <th>approveddate</th>\n",
              "      <th>creationdate</th>\n",
              "      <th>loanamount</th>\n",
              "      <th>totaldue</th>\n",
              "      <th>termdays</th>\n",
              "      <th>referredby</th>\n",
              "    </tr>\n",
              "  </thead>\n",
              "  <tbody>\n",
              "    <tr>\n",
              "      <th>0</th>\n",
              "      <td>8a858899538ddb8e015390510b321f08</td>\n",
              "      <td>301998974</td>\n",
              "      <td>4</td>\n",
              "      <td>40:48.0</td>\n",
              "      <td>39:35.0</td>\n",
              "      <td>10000</td>\n",
              "      <td>12250.0</td>\n",
              "      <td>30</td>\n",
              "      <td>NaN</td>\n",
              "    </tr>\n",
              "    <tr>\n",
              "      <th>1</th>\n",
              "      <td>8a858959537a097401537a4e316e25f7</td>\n",
              "      <td>301963615</td>\n",
              "      <td>10</td>\n",
              "      <td>43:40.0</td>\n",
              "      <td>42:34.0</td>\n",
              "      <td>40000</td>\n",
              "      <td>44000.0</td>\n",
              "      <td>30</td>\n",
              "      <td>NaN</td>\n",
              "    </tr>\n",
              "    <tr>\n",
              "      <th>2</th>\n",
              "      <td>8a8589c253ace09b0153af6ba58f1f31</td>\n",
              "      <td>301982236</td>\n",
              "      <td>6</td>\n",
              "      <td>15:11.0</td>\n",
              "      <td>15:04.0</td>\n",
              "      <td>20000</td>\n",
              "      <td>24500.0</td>\n",
              "      <td>30</td>\n",
              "      <td>NaN</td>\n",
              "    </tr>\n",
              "    <tr>\n",
              "      <th>3</th>\n",
              "      <td>8a858e095aae82b7015aae86ca1e030b</td>\n",
              "      <td>301971730</td>\n",
              "      <td>8</td>\n",
              "      <td>00:54.0</td>\n",
              "      <td>00:49.0</td>\n",
              "      <td>30000</td>\n",
              "      <td>34500.0</td>\n",
              "      <td>30</td>\n",
              "      <td>NaN</td>\n",
              "    </tr>\n",
              "    <tr>\n",
              "      <th>4</th>\n",
              "      <td>8a858e225a28c713015a30db5c48383d</td>\n",
              "      <td>301959177</td>\n",
              "      <td>4</td>\n",
              "      <td>04:33.0</td>\n",
              "      <td>04:27.0</td>\n",
              "      <td>20000</td>\n",
              "      <td>24500.0</td>\n",
              "      <td>30</td>\n",
              "      <td>NaN</td>\n",
              "    </tr>\n",
              "  </tbody>\n",
              "</table>\n",
              "</div>"
            ],
            "text/plain": [
              "                         customerid  systemloanid  ...  termdays referredby\n",
              "0  8a858899538ddb8e015390510b321f08     301998974  ...        30        NaN\n",
              "1  8a858959537a097401537a4e316e25f7     301963615  ...        30        NaN\n",
              "2  8a8589c253ace09b0153af6ba58f1f31     301982236  ...        30        NaN\n",
              "3  8a858e095aae82b7015aae86ca1e030b     301971730  ...        30        NaN\n",
              "4  8a858e225a28c713015a30db5c48383d     301959177  ...        30        NaN\n",
              "\n",
              "[5 rows x 9 columns]"
            ]
          },
          "metadata": {
            "tags": []
          },
          "execution_count": 345
        }
      ]
    },
    {
      "cell_type": "code",
      "metadata": {
        "id": "3E5MMjuApD8m",
        "colab_type": "code",
        "colab": {}
      },
      "source": [
        "y_train = train_perf[['customerid','good_bad_flag']]\n",
        "train_perf.drop(columns=['good_bad_flag'],inplace=True)"
      ],
      "execution_count": 0,
      "outputs": []
    },
    {
      "cell_type": "code",
      "metadata": {
        "id": "0nokP3AmpgKS",
        "colab_type": "code",
        "outputId": "48698c04-37e4-4ee0-8fb0-89bb17611ca1",
        "colab": {
          "base_uri": "https://localhost:8080/",
          "height": 204
        }
      },
      "source": [
        "y_train.head()"
      ],
      "execution_count": 0,
      "outputs": [
        {
          "output_type": "execute_result",
          "data": {
            "text/html": [
              "<div>\n",
              "<style scoped>\n",
              "    .dataframe tbody tr th:only-of-type {\n",
              "        vertical-align: middle;\n",
              "    }\n",
              "\n",
              "    .dataframe tbody tr th {\n",
              "        vertical-align: top;\n",
              "    }\n",
              "\n",
              "    .dataframe thead th {\n",
              "        text-align: right;\n",
              "    }\n",
              "</style>\n",
              "<table border=\"1\" class=\"dataframe\">\n",
              "  <thead>\n",
              "    <tr style=\"text-align: right;\">\n",
              "      <th></th>\n",
              "      <th>customerid</th>\n",
              "      <th>good_bad_flag</th>\n",
              "    </tr>\n",
              "  </thead>\n",
              "  <tbody>\n",
              "    <tr>\n",
              "      <th>0</th>\n",
              "      <td>8a2a81a74ce8c05d014cfb32a0da1049</td>\n",
              "      <td>Good</td>\n",
              "    </tr>\n",
              "    <tr>\n",
              "      <th>1</th>\n",
              "      <td>8a85886e54beabf90154c0a29ae757c0</td>\n",
              "      <td>Good</td>\n",
              "    </tr>\n",
              "    <tr>\n",
              "      <th>2</th>\n",
              "      <td>8a8588f35438fe12015444567666018e</td>\n",
              "      <td>Good</td>\n",
              "    </tr>\n",
              "    <tr>\n",
              "      <th>3</th>\n",
              "      <td>8a85890754145ace015429211b513e16</td>\n",
              "      <td>Good</td>\n",
              "    </tr>\n",
              "    <tr>\n",
              "      <th>4</th>\n",
              "      <td>8a858970548359cc0154883481981866</td>\n",
              "      <td>Good</td>\n",
              "    </tr>\n",
              "  </tbody>\n",
              "</table>\n",
              "</div>"
            ],
            "text/plain": [
              "                         customerid good_bad_flag\n",
              "0  8a2a81a74ce8c05d014cfb32a0da1049          Good\n",
              "1  8a85886e54beabf90154c0a29ae757c0          Good\n",
              "2  8a8588f35438fe12015444567666018e          Good\n",
              "3  8a85890754145ace015429211b513e16          Good\n",
              "4  8a858970548359cc0154883481981866          Good"
            ]
          },
          "metadata": {
            "tags": []
          },
          "execution_count": 347
        }
      ]
    },
    {
      "cell_type": "code",
      "metadata": {
        "id": "XCnCOCuiwkh1",
        "colab_type": "code",
        "colab": {}
      },
      "source": [
        "y_train['good_bad_flag'] = y_train['good_bad_flag'].replace(to_replace=['Bad', 'Good'], value=[0, 1])"
      ],
      "execution_count": 0,
      "outputs": []
    },
    {
      "cell_type": "code",
      "metadata": {
        "id": "hYuKTJS8p7an",
        "colab_type": "code",
        "outputId": "69d59ac3-c9d3-41ba-fbde-670e21f76434",
        "colab": {
          "base_uri": "https://localhost:8080/",
          "height": 289
        }
      },
      "source": [
        "train_perf.head()"
      ],
      "execution_count": 0,
      "outputs": [
        {
          "output_type": "execute_result",
          "data": {
            "text/html": [
              "<div>\n",
              "<style scoped>\n",
              "    .dataframe tbody tr th:only-of-type {\n",
              "        vertical-align: middle;\n",
              "    }\n",
              "\n",
              "    .dataframe tbody tr th {\n",
              "        vertical-align: top;\n",
              "    }\n",
              "\n",
              "    .dataframe thead th {\n",
              "        text-align: right;\n",
              "    }\n",
              "</style>\n",
              "<table border=\"1\" class=\"dataframe\">\n",
              "  <thead>\n",
              "    <tr style=\"text-align: right;\">\n",
              "      <th></th>\n",
              "      <th>customerid</th>\n",
              "      <th>systemloanid</th>\n",
              "      <th>loannumber</th>\n",
              "      <th>approveddate</th>\n",
              "      <th>creationdate</th>\n",
              "      <th>loanamount</th>\n",
              "      <th>totaldue</th>\n",
              "      <th>termdays</th>\n",
              "      <th>referredby</th>\n",
              "    </tr>\n",
              "  </thead>\n",
              "  <tbody>\n",
              "    <tr>\n",
              "      <th>0</th>\n",
              "      <td>8a2a81a74ce8c05d014cfb32a0da1049</td>\n",
              "      <td>301994762</td>\n",
              "      <td>12</td>\n",
              "      <td>2017-07-25 08:22:56.000000</td>\n",
              "      <td>2017-07-25 07:22:47.000000</td>\n",
              "      <td>30000.0</td>\n",
              "      <td>34500.0</td>\n",
              "      <td>30</td>\n",
              "      <td>NaN</td>\n",
              "    </tr>\n",
              "    <tr>\n",
              "      <th>1</th>\n",
              "      <td>8a85886e54beabf90154c0a29ae757c0</td>\n",
              "      <td>301965204</td>\n",
              "      <td>2</td>\n",
              "      <td>2017-07-05 17:04:41.000000</td>\n",
              "      <td>2017-07-05 16:04:18.000000</td>\n",
              "      <td>15000.0</td>\n",
              "      <td>17250.0</td>\n",
              "      <td>30</td>\n",
              "      <td>NaN</td>\n",
              "    </tr>\n",
              "    <tr>\n",
              "      <th>2</th>\n",
              "      <td>8a8588f35438fe12015444567666018e</td>\n",
              "      <td>301966580</td>\n",
              "      <td>7</td>\n",
              "      <td>2017-07-06 14:52:57.000000</td>\n",
              "      <td>2017-07-06 13:52:51.000000</td>\n",
              "      <td>20000.0</td>\n",
              "      <td>22250.0</td>\n",
              "      <td>15</td>\n",
              "      <td>NaN</td>\n",
              "    </tr>\n",
              "    <tr>\n",
              "      <th>3</th>\n",
              "      <td>8a85890754145ace015429211b513e16</td>\n",
              "      <td>301999343</td>\n",
              "      <td>3</td>\n",
              "      <td>2017-07-27 19:00:41.000000</td>\n",
              "      <td>2017-07-27 18:00:35.000000</td>\n",
              "      <td>10000.0</td>\n",
              "      <td>11500.0</td>\n",
              "      <td>15</td>\n",
              "      <td>NaN</td>\n",
              "    </tr>\n",
              "    <tr>\n",
              "      <th>4</th>\n",
              "      <td>8a858970548359cc0154883481981866</td>\n",
              "      <td>301962360</td>\n",
              "      <td>9</td>\n",
              "      <td>2017-07-03 23:42:45.000000</td>\n",
              "      <td>2017-07-03 22:42:39.000000</td>\n",
              "      <td>40000.0</td>\n",
              "      <td>44000.0</td>\n",
              "      <td>30</td>\n",
              "      <td>NaN</td>\n",
              "    </tr>\n",
              "  </tbody>\n",
              "</table>\n",
              "</div>"
            ],
            "text/plain": [
              "                         customerid  systemloanid  ...  termdays referredby\n",
              "0  8a2a81a74ce8c05d014cfb32a0da1049     301994762  ...        30        NaN\n",
              "1  8a85886e54beabf90154c0a29ae757c0     301965204  ...        30        NaN\n",
              "2  8a8588f35438fe12015444567666018e     301966580  ...        15        NaN\n",
              "3  8a85890754145ace015429211b513e16     301999343  ...        15        NaN\n",
              "4  8a858970548359cc0154883481981866     301962360  ...        30        NaN\n",
              "\n",
              "[5 rows x 9 columns]"
            ]
          },
          "metadata": {
            "tags": []
          },
          "execution_count": 349
        }
      ]
    },
    {
      "cell_type": "markdown",
      "metadata": {
        "id": "ZentH0iFnP6Y",
        "colab_type": "text"
      },
      "source": [
        "Now lets merge the training and testing datasets to be able to do feature engineering. "
      ]
    },
    {
      "cell_type": "code",
      "metadata": {
        "id": "QwnQUnfBqOjY",
        "colab_type": "code",
        "colab": {}
      },
      "source": [
        "df_perf = pd.concat([train_perf,test_perf], ignore_index = True)\n",
        "df_demo = pd.concat([train_demo,test_demo], ignore_index = True)\n",
        "df_prevloan = pd.concat([train_prevloan,test_prevloan], ignore_index = True)\n"
      ],
      "execution_count": 0,
      "outputs": []
    },
    {
      "cell_type": "code",
      "metadata": {
        "id": "bXCUlZax7KYn",
        "colab_type": "code",
        "colab": {}
      },
      "source": [
        "df_demo['customerid'].drop_duplicates(inplace=True)"
      ],
      "execution_count": 0,
      "outputs": []
    },
    {
      "cell_type": "code",
      "metadata": {
        "id": "ptvDLMmpqt8z",
        "colab_type": "code",
        "outputId": "df9f2bfb-0eff-4c54-91c9-36e51948c1c6",
        "colab": {
          "base_uri": "https://localhost:8080/",
          "height": 289
        }
      },
      "source": [
        "print('Number of rows for all datasets')\n",
        "\n",
        "print('\\nTraining data')\n",
        "print('performance',train_perf.shape[0])\n",
        "print('demographic',train_demo.shape[0])\n",
        "print('previousloan',train_prevloan.shape[0])\n",
        "\n",
        "print('\\nTesting data')\n",
        "print('performance',test_perf.shape[0])\n",
        "print('demographic',test_demo.shape[0])\n",
        "print('previousloan',test_prevloan.shape[0])\n",
        "\n",
        "print('\\nmerged dataset')\n",
        "print('performance',df_perf.shape[0])\n",
        "print('demographic',df_demo.shape[0])\n",
        "print('previousloan',df_prevloan.shape[0])\n"
      ],
      "execution_count": 0,
      "outputs": [
        {
          "output_type": "stream",
          "text": [
            "Number of rows for all datasets\n",
            "\n",
            "Training data\n",
            "performance 4368\n",
            "demographic 4346\n",
            "previousloan 18183\n",
            "\n",
            "Testing data\n",
            "performance 1450\n",
            "demographic 1487\n",
            "previousloan 5907\n",
            "\n",
            "merged dataset\n",
            "performance 5818\n",
            "demographic 5833\n",
            "previousloan 24090\n"
          ],
          "name": "stdout"
        }
      ]
    },
    {
      "cell_type": "markdown",
      "metadata": {
        "id": "OTinOSDIxDkE",
        "colab_type": "text"
      },
      "source": [
        "## Performance dataset"
      ]
    },
    {
      "cell_type": "code",
      "metadata": {
        "id": "GlNIAebXwRnG",
        "colab_type": "code",
        "colab": {}
      },
      "source": [
        "df_perf['referredby'].fillna(0,inplace = True)\n",
        "L = []\n",
        "\n",
        "for index in range(0,df_perf.shape[0]):\n",
        "  \n",
        "  if str(df_perf['referredby'][index]) != str(0):\n",
        "    refer_customerid = df_perf['referredby'][index]\n",
        "    \n",
        "    refer_customer = df_perf.loc[df_perf['customerid'] == refer_customerid]\n",
        "    try:\n",
        "      goodbad = refer_customer.iloc[0]['good_bad_flag']\n",
        "    except:\n",
        "      goodbad = 'NaN'\n",
        "    L.append(goodbad)\n",
        "  else:\n",
        "    L.append('NaN')\n",
        "  \n",
        "referer_goodbad = pd.DataFrame(L, columns=['ref_goodbad'])"
      ],
      "execution_count": 0,
      "outputs": []
    },
    {
      "cell_type": "code",
      "metadata": {
        "id": "A9otLpavwZ57",
        "colab_type": "code",
        "colab": {}
      },
      "source": [
        "df_perf = pd.concat([df_perf, referer_goodbad], axis=1)"
      ],
      "execution_count": 0,
      "outputs": []
    },
    {
      "cell_type": "code",
      "metadata": {
        "id": "Sg3HtHU2wy5C",
        "colab_type": "code",
        "colab": {}
      },
      "source": [
        "df_perf['interest'] = df_perf['totaldue'] - df_perf['loanamount']\n"
      ],
      "execution_count": 0,
      "outputs": []
    },
    {
      "cell_type": "markdown",
      "metadata": {
        "id": "uuzo7DYkxk_w",
        "colab_type": "text"
      },
      "source": [
        "## Demographic dataset\n",
        "''"
      ]
    },
    {
      "cell_type": "code",
      "metadata": {
        "id": "DZz6tjVrxBtW",
        "colab_type": "code",
        "colab": {}
      },
      "source": [
        "from datetime import date, timedelta\n",
        "# Pop off '00:00:00.000000' from birthdate\n",
        "df_demo['age'] = df_demo['birthdate'].apply(lambda x: x.split().pop(0)[:10])\n",
        "# Sanity Check\n",
        "df_demo['age'].head()\n",
        "# Split the birth date (This converts each observation into a list)\n",
        "df_demo['age'] = df_demo['age'].apply(lambda x: x.split('-'))\n",
        "\n",
        "# Convert all elements in each observation(list) from str to int\n",
        "df_demo['age'] = df_demo['age'].apply(lambda x: [int(y) for y in x ])\n",
        "\n",
        "# Convert each observation into a date format\n",
        "df_demo['age'] = df_demo['age'].apply(lambda x : date(x[0], x[1], x[2]))\n",
        "\n",
        "# Calculate Age!\n",
        "df_demo['age'] = df_demo['age'].apply(lambda x:(date(2017,7,1) - x) // timedelta(days=365.2425) )\n",
        "\n"
      ],
      "execution_count": 0,
      "outputs": []
    },
    {
      "cell_type": "code",
      "metadata": {
        "id": "2NX59iOW6o-h",
        "colab_type": "code",
        "outputId": "ae504df1-1fcf-4b65-a79b-0c83041b68b6",
        "colab": {
          "base_uri": "https://localhost:8080/",
          "height": 309
        }
      },
      "source": [
        "df_demo.head()"
      ],
      "execution_count": 0,
      "outputs": [
        {
          "output_type": "execute_result",
          "data": {
            "text/html": [
              "<div>\n",
              "<style scoped>\n",
              "    .dataframe tbody tr th:only-of-type {\n",
              "        vertical-align: middle;\n",
              "    }\n",
              "\n",
              "    .dataframe tbody tr th {\n",
              "        vertical-align: top;\n",
              "    }\n",
              "\n",
              "    .dataframe thead th {\n",
              "        text-align: right;\n",
              "    }\n",
              "</style>\n",
              "<table border=\"1\" class=\"dataframe\">\n",
              "  <thead>\n",
              "    <tr style=\"text-align: right;\">\n",
              "      <th></th>\n",
              "      <th>customerid</th>\n",
              "      <th>birthdate</th>\n",
              "      <th>bank_account_type</th>\n",
              "      <th>longitude_gps</th>\n",
              "      <th>latitude_gps</th>\n",
              "      <th>bank_name_clients</th>\n",
              "      <th>bank_branch_clients</th>\n",
              "      <th>employment_status_clients</th>\n",
              "      <th>level_of_education_clients</th>\n",
              "      <th>age</th>\n",
              "    </tr>\n",
              "  </thead>\n",
              "  <tbody>\n",
              "    <tr>\n",
              "      <th>0</th>\n",
              "      <td>8a858e135cb22031015cbafc76964ebd</td>\n",
              "      <td>1973-10-10 00:00:00.000000</td>\n",
              "      <td>Savings</td>\n",
              "      <td>3.319219</td>\n",
              "      <td>6.528604</td>\n",
              "      <td>GT Bank</td>\n",
              "      <td>NaN</td>\n",
              "      <td>NaN</td>\n",
              "      <td>NaN</td>\n",
              "      <td>43</td>\n",
              "    </tr>\n",
              "    <tr>\n",
              "      <th>1</th>\n",
              "      <td>8a858e275c7ea5ec015c82482d7c3996</td>\n",
              "      <td>1986-01-21 00:00:00.000000</td>\n",
              "      <td>Savings</td>\n",
              "      <td>3.325598</td>\n",
              "      <td>7.119403</td>\n",
              "      <td>Sterling Bank</td>\n",
              "      <td>NaN</td>\n",
              "      <td>Permanent</td>\n",
              "      <td>NaN</td>\n",
              "      <td>31</td>\n",
              "    </tr>\n",
              "    <tr>\n",
              "      <th>2</th>\n",
              "      <td>8a858e5b5bd99460015bdc95cd485634</td>\n",
              "      <td>1987-04-01 00:00:00.000000</td>\n",
              "      <td>Savings</td>\n",
              "      <td>5.746100</td>\n",
              "      <td>5.563174</td>\n",
              "      <td>Fidelity Bank</td>\n",
              "      <td>NaN</td>\n",
              "      <td>NaN</td>\n",
              "      <td>NaN</td>\n",
              "      <td>30</td>\n",
              "    </tr>\n",
              "    <tr>\n",
              "      <th>3</th>\n",
              "      <td>8a858efd5ca70688015cabd1f1e94b55</td>\n",
              "      <td>1991-07-19 00:00:00.000000</td>\n",
              "      <td>Savings</td>\n",
              "      <td>3.362850</td>\n",
              "      <td>6.642485</td>\n",
              "      <td>GT Bank</td>\n",
              "      <td>NaN</td>\n",
              "      <td>Permanent</td>\n",
              "      <td>NaN</td>\n",
              "      <td>25</td>\n",
              "    </tr>\n",
              "    <tr>\n",
              "      <th>4</th>\n",
              "      <td>8a858e785acd3412015acd48f4920d04</td>\n",
              "      <td>1982-11-22 00:00:00.000000</td>\n",
              "      <td>Savings</td>\n",
              "      <td>8.455332</td>\n",
              "      <td>11.971410</td>\n",
              "      <td>GT Bank</td>\n",
              "      <td>NaN</td>\n",
              "      <td>Permanent</td>\n",
              "      <td>NaN</td>\n",
              "      <td>34</td>\n",
              "    </tr>\n",
              "  </tbody>\n",
              "</table>\n",
              "</div>"
            ],
            "text/plain": [
              "                         customerid  ... age\n",
              "0  8a858e135cb22031015cbafc76964ebd  ...  43\n",
              "1  8a858e275c7ea5ec015c82482d7c3996  ...  31\n",
              "2  8a858e5b5bd99460015bdc95cd485634  ...  30\n",
              "3  8a858efd5ca70688015cabd1f1e94b55  ...  25\n",
              "4  8a858e785acd3412015acd48f4920d04  ...  34\n",
              "\n",
              "[5 rows x 10 columns]"
            ]
          },
          "metadata": {
            "tags": []
          },
          "execution_count": 363
        }
      ]
    },
    {
      "cell_type": "markdown",
      "metadata": {
        "id": "kGCIvJ5ZyIds",
        "colab_type": "text"
      },
      "source": [
        "## Previous loan dataset"
      ]
    },
    {
      "cell_type": "code",
      "metadata": {
        "id": "JxPIaJNFyH-X",
        "colab_type": "code",
        "colab": {}
      },
      "source": [
        "\n",
        "import time \n",
        "from datetime import datetime, timedelta\n",
        "import math\n",
        "\n",
        "L = []\n",
        "L2 = []\n",
        "\n",
        "for index in range(0,df_prevloan.shape[0]):\n",
        " \n",
        "    approveddate  = datetime.strptime(df_prevloan['approveddate'][index].replace(\".000000\",''), '%Y-%m-%d %H:%M:%S')\n",
        "    duedate = approveddate + timedelta(days=int(df_prevloan['termdays'][index]))\n",
        "    duedate = datetime.strftime(duedate, '%Y-%m-%d %H:%M:%S')\n",
        "    \n",
        "    duedate = math.ceil(int(time.mktime(datetime.strptime(duedate, '%Y-%m-%d %H:%M:%S').timetuple()))/(60*60*24))*(60*60*24)\n",
        "    closeddate = int(time.mktime(datetime.strptime(df_prevloan['closeddate'][index].replace(\".000000\",''), '%Y-%m-%d %H:%M:%S').timetuple()))\n",
        "\n",
        "    if closeddate <= duedate:\n",
        "      L.append(1)\n",
        "    else:\n",
        "      L.append(0)\n",
        "    L2.append(duedate-closeddate)\n",
        "\n",
        "payback_df = pd.DataFrame(L, columns=['payed_before_duedate'])\n",
        "timedelta_df = pd.DataFrame(L2, columns=['Time_delta_payback'])\n",
        "df_prevloan = pd.merge(df_prevloan, payback_df, left_index=True, right_index=True)\n",
        "df_prevloan = pd.merge(df_prevloan, timedelta_df, left_index=True, right_index=True)"
      ],
      "execution_count": 0,
      "outputs": []
    },
    {
      "cell_type": "code",
      "metadata": {
        "id": "A0HPW_J9zV9I",
        "colab_type": "code",
        "outputId": "364e3e3f-f38b-4d78-c9a5-d79a620795a1",
        "colab": {
          "base_uri": "https://localhost:8080/",
          "height": 309
        }
      },
      "source": [
        "df_prevloan.head()"
      ],
      "execution_count": 0,
      "outputs": [
        {
          "output_type": "execute_result",
          "data": {
            "text/html": [
              "<div>\n",
              "<style scoped>\n",
              "    .dataframe tbody tr th:only-of-type {\n",
              "        vertical-align: middle;\n",
              "    }\n",
              "\n",
              "    .dataframe tbody tr th {\n",
              "        vertical-align: top;\n",
              "    }\n",
              "\n",
              "    .dataframe thead th {\n",
              "        text-align: right;\n",
              "    }\n",
              "</style>\n",
              "<table border=\"1\" class=\"dataframe\">\n",
              "  <thead>\n",
              "    <tr style=\"text-align: right;\">\n",
              "      <th></th>\n",
              "      <th>customerid</th>\n",
              "      <th>systemloanid</th>\n",
              "      <th>loannumber</th>\n",
              "      <th>approveddate</th>\n",
              "      <th>creationdate</th>\n",
              "      <th>loanamount</th>\n",
              "      <th>totaldue</th>\n",
              "      <th>termdays</th>\n",
              "      <th>closeddate</th>\n",
              "      <th>referredby</th>\n",
              "      <th>firstduedate</th>\n",
              "      <th>firstrepaiddate</th>\n",
              "      <th>payed_before_duedate</th>\n",
              "      <th>Time_delta_payback</th>\n",
              "    </tr>\n",
              "  </thead>\n",
              "  <tbody>\n",
              "    <tr>\n",
              "      <th>0</th>\n",
              "      <td>8a2a81a74ce8c05d014cfb32a0da1049</td>\n",
              "      <td>301682320</td>\n",
              "      <td>2</td>\n",
              "      <td>2016-08-15 18:22:40.000000</td>\n",
              "      <td>2016-08-15 17:22:32.000000</td>\n",
              "      <td>10000.0</td>\n",
              "      <td>13000.0</td>\n",
              "      <td>30</td>\n",
              "      <td>2016-09-01 16:06:48.000000</td>\n",
              "      <td>NaN</td>\n",
              "      <td>2016-09-14 00:00:00.000000</td>\n",
              "      <td>2016-09-01 15:51:43.000000</td>\n",
              "      <td>1</td>\n",
              "      <td>1151592</td>\n",
              "    </tr>\n",
              "    <tr>\n",
              "      <th>1</th>\n",
              "      <td>8a2a81a74ce8c05d014cfb32a0da1049</td>\n",
              "      <td>301883808</td>\n",
              "      <td>9</td>\n",
              "      <td>2017-04-28 18:39:07.000000</td>\n",
              "      <td>2017-04-28 17:38:53.000000</td>\n",
              "      <td>10000.0</td>\n",
              "      <td>13000.0</td>\n",
              "      <td>30</td>\n",
              "      <td>2017-05-28 14:44:49.000000</td>\n",
              "      <td>NaN</td>\n",
              "      <td>2017-05-30 00:00:00.000000</td>\n",
              "      <td>2017-05-26 00:00:00.000000</td>\n",
              "      <td>1</td>\n",
              "      <td>33311</td>\n",
              "    </tr>\n",
              "    <tr>\n",
              "      <th>2</th>\n",
              "      <td>8a2a81a74ce8c05d014cfb32a0da1049</td>\n",
              "      <td>301831714</td>\n",
              "      <td>8</td>\n",
              "      <td>2017-03-05 10:56:25.000000</td>\n",
              "      <td>2017-03-05 09:56:19.000000</td>\n",
              "      <td>20000.0</td>\n",
              "      <td>23800.0</td>\n",
              "      <td>30</td>\n",
              "      <td>2017-04-26 22:18:56.000000</td>\n",
              "      <td>NaN</td>\n",
              "      <td>2017-04-04 00:00:00.000000</td>\n",
              "      <td>2017-04-26 22:03:47.000000</td>\n",
              "      <td>0</td>\n",
              "      <td>-1894736</td>\n",
              "    </tr>\n",
              "    <tr>\n",
              "      <th>3</th>\n",
              "      <td>8a8588f35438fe12015444567666018e</td>\n",
              "      <td>301861541</td>\n",
              "      <td>5</td>\n",
              "      <td>2017-04-09 18:25:55.000000</td>\n",
              "      <td>2017-04-09 17:25:42.000000</td>\n",
              "      <td>10000.0</td>\n",
              "      <td>11500.0</td>\n",
              "      <td>15</td>\n",
              "      <td>2017-04-24 01:35:52.000000</td>\n",
              "      <td>NaN</td>\n",
              "      <td>2017-04-24 00:00:00.000000</td>\n",
              "      <td>2017-04-24 00:48:43.000000</td>\n",
              "      <td>1</td>\n",
              "      <td>80648</td>\n",
              "    </tr>\n",
              "    <tr>\n",
              "      <th>4</th>\n",
              "      <td>8a85890754145ace015429211b513e16</td>\n",
              "      <td>301941754</td>\n",
              "      <td>2</td>\n",
              "      <td>2017-06-17 09:29:57.000000</td>\n",
              "      <td>2017-06-17 08:29:50.000000</td>\n",
              "      <td>10000.0</td>\n",
              "      <td>11500.0</td>\n",
              "      <td>15</td>\n",
              "      <td>2017-07-14 21:18:43.000000</td>\n",
              "      <td>NaN</td>\n",
              "      <td>2017-07-03 00:00:00.000000</td>\n",
              "      <td>2017-07-14 21:08:35.000000</td>\n",
              "      <td>0</td>\n",
              "      <td>-1027123</td>\n",
              "    </tr>\n",
              "  </tbody>\n",
              "</table>\n",
              "</div>"
            ],
            "text/plain": [
              "                         customerid  ...  Time_delta_payback\n",
              "0  8a2a81a74ce8c05d014cfb32a0da1049  ...             1151592\n",
              "1  8a2a81a74ce8c05d014cfb32a0da1049  ...               33311\n",
              "2  8a2a81a74ce8c05d014cfb32a0da1049  ...            -1894736\n",
              "3  8a8588f35438fe12015444567666018e  ...               80648\n",
              "4  8a85890754145ace015429211b513e16  ...            -1027123\n",
              "\n",
              "[5 rows x 14 columns]"
            ]
          },
          "metadata": {
            "tags": []
          },
          "execution_count": 365
        }
      ]
    },
    {
      "cell_type": "markdown",
      "metadata": {
        "id": "JkLpcE7-ydoa",
        "colab_type": "text"
      },
      "source": [
        "# Merging datasets"
      ]
    },
    {
      "cell_type": "code",
      "metadata": {
        "id": "S0i4ZW3iyuoJ",
        "colab_type": "code",
        "colab": {}
      },
      "source": [
        "L = []\n",
        "L2 = []\n",
        "L3 = []\n",
        "L4 = []\n",
        "L5 = []\n",
        "for index in range(0,df_perf.shape[0]): #\n",
        "  customerid = df_perf['customerid'][index]\n",
        "  prevloans_df = df_prevloan.loc[df_prevloan['customerid'] == customerid]\n",
        "  num_prevloans = prevloans_df.shape[0]\n",
        "\n",
        "  if num_prevloans >0:\n",
        "    average_payback_timedelta = prevloans_df['Time_delta_payback'].sum() / num_prevloans\n",
        "    payedback_ontime = prevloans_df['payed_before_duedate'].sum()\n",
        "    not_payedback_ontime = num_prevloans - payedback_ontime\n",
        "    ratio_payedback_loans = payedback_ontime / num_prevloans\n",
        "  \n",
        "    L.append(num_prevloans)\n",
        "    L2.append(average_payback_timedelta)\n",
        "    L3.append(ratio_payedback_loans)\n",
        "    L4.append(payedback_ontime)\n",
        "    L5.append(not_payedback_ontime)\n",
        "  else:\n",
        "    L.append(num_prevloans)\n",
        "    L2.append('NaN')\n",
        "    L3.append('NaN')\n",
        "    L4.append('NaN')\n",
        "    L5.append('NaN')\n",
        "num_prevloans = pd.DataFrame(L, columns=['num_previous_loans'])\n",
        "avg_payback_time = pd.DataFrame(L2, columns=['average_payback_timedelta']) \n",
        "ratio_payback_ontime = pd.DataFrame(L3, columns=['ratio_payback_ontime'])  \n",
        "payback_ontime = pd.DataFrame(L4, columns=['Num_loans_ontime'])  \n",
        "not_payback_ontime = pd.DataFrame(L5, columns=['Num_loans_NOT_ontime'])  \n",
        "\n",
        "\n",
        "df_perf = pd.merge(df_perf, num_prevloans, left_index=True, right_index=True)\n",
        "df_perf = pd.merge(df_perf, avg_payback_time, left_index=True, right_index=True)\n",
        "df_perf = pd.merge(df_perf, ratio_payback_ontime, left_index=True, right_index=True)\n",
        "df_perf = pd.merge(df_perf, payback_ontime, left_index=True, right_index=True)\n",
        "df_perf = pd.merge(df_perf, not_payback_ontime, left_index=True, right_index=True)\n",
        "\n"
      ],
      "execution_count": 0,
      "outputs": []
    },
    {
      "cell_type": "code",
      "metadata": {
        "id": "HdU2MoUhz7vu",
        "colab_type": "code",
        "colab": {}
      },
      "source": [
        "df_perf = pd.merge(df_perf, df_demo, on='customerid')"
      ],
      "execution_count": 0,
      "outputs": []
    },
    {
      "cell_type": "code",
      "metadata": {
        "id": "TRb9cNYR0On5",
        "colab_type": "code",
        "outputId": "84bf0006-e79e-4a6a-9ac1-0c4c80149e32",
        "colab": {
          "base_uri": "https://localhost:8080/",
          "height": 34
        }
      },
      "source": [
        "df_perf.shape[0]"
      ],
      "execution_count": 0,
      "outputs": [
        {
          "output_type": "execute_result",
          "data": {
            "text/plain": [
              "5833"
            ]
          },
          "metadata": {
            "tags": []
          },
          "execution_count": 369
        }
      ]
    },
    {
      "cell_type": "code",
      "metadata": {
        "id": "OcF0YFdE0pra",
        "colab_type": "code",
        "colab": {}
      },
      "source": [
        "columns_drop = ['systemloanid','loannumber','approveddate','creationdate']"
      ],
      "execution_count": 0,
      "outputs": []
    },
    {
      "cell_type": "code",
      "metadata": {
        "id": "mbKvTfYu1B_o",
        "colab_type": "code",
        "colab": {}
      },
      "source": [
        "df_perf.drop(columns =columns_drop, inplace = True )"
      ],
      "execution_count": 0,
      "outputs": []
    },
    {
      "cell_type": "code",
      "metadata": {
        "id": "znYiWO-91LXD",
        "colab_type": "code",
        "outputId": "c4e6b58e-b505-4ea8-d179-2138b9c7becc",
        "colab": {
          "base_uri": "https://localhost:8080/",
          "height": 309
        }
      },
      "source": [
        "df_perf.head()"
      ],
      "execution_count": 0,
      "outputs": [
        {
          "output_type": "execute_result",
          "data": {
            "text/html": [
              "<div>\n",
              "<style scoped>\n",
              "    .dataframe tbody tr th:only-of-type {\n",
              "        vertical-align: middle;\n",
              "    }\n",
              "\n",
              "    .dataframe tbody tr th {\n",
              "        vertical-align: top;\n",
              "    }\n",
              "\n",
              "    .dataframe thead th {\n",
              "        text-align: right;\n",
              "    }\n",
              "</style>\n",
              "<table border=\"1\" class=\"dataframe\">\n",
              "  <thead>\n",
              "    <tr style=\"text-align: right;\">\n",
              "      <th></th>\n",
              "      <th>customerid</th>\n",
              "      <th>loanamount</th>\n",
              "      <th>totaldue</th>\n",
              "      <th>termdays</th>\n",
              "      <th>referredby</th>\n",
              "      <th>ref_goodbad</th>\n",
              "      <th>interest</th>\n",
              "      <th>num_previous_loans</th>\n",
              "      <th>average_payback_timedelta</th>\n",
              "      <th>ratio_payback_ontime</th>\n",
              "      <th>Num_loans_ontime</th>\n",
              "      <th>Num_loans_NOT_ontime</th>\n",
              "      <th>birthdate</th>\n",
              "      <th>bank_account_type</th>\n",
              "      <th>longitude_gps</th>\n",
              "      <th>latitude_gps</th>\n",
              "      <th>bank_name_clients</th>\n",
              "      <th>bank_branch_clients</th>\n",
              "      <th>employment_status_clients</th>\n",
              "      <th>level_of_education_clients</th>\n",
              "      <th>age</th>\n",
              "    </tr>\n",
              "  </thead>\n",
              "  <tbody>\n",
              "    <tr>\n",
              "      <th>0</th>\n",
              "      <td>8a2a81a74ce8c05d014cfb32a0da1049</td>\n",
              "      <td>30000.0</td>\n",
              "      <td>34500.0</td>\n",
              "      <td>30</td>\n",
              "      <td>0</td>\n",
              "      <td>NaN</td>\n",
              "      <td>4500.0</td>\n",
              "      <td>11</td>\n",
              "      <td>35411.3</td>\n",
              "      <td>0.636364</td>\n",
              "      <td>7</td>\n",
              "      <td>4</td>\n",
              "      <td>1972-01-15 00:00:00.000000</td>\n",
              "      <td>Other</td>\n",
              "      <td>3.432010</td>\n",
              "      <td>6.433055</td>\n",
              "      <td>Diamond Bank</td>\n",
              "      <td>NaN</td>\n",
              "      <td>Permanent</td>\n",
              "      <td>Post-Graduate</td>\n",
              "      <td>45</td>\n",
              "    </tr>\n",
              "    <tr>\n",
              "      <th>1</th>\n",
              "      <td>8a85886e54beabf90154c0a29ae757c0</td>\n",
              "      <td>15000.0</td>\n",
              "      <td>17250.0</td>\n",
              "      <td>30</td>\n",
              "      <td>0</td>\n",
              "      <td>NaN</td>\n",
              "      <td>2250.0</td>\n",
              "      <td>0</td>\n",
              "      <td>NaN</td>\n",
              "      <td>NaN</td>\n",
              "      <td>NaN</td>\n",
              "      <td>NaN</td>\n",
              "      <td>1985-08-23 00:00:00.000000</td>\n",
              "      <td>Savings</td>\n",
              "      <td>3.885298</td>\n",
              "      <td>7.320700</td>\n",
              "      <td>GT Bank</td>\n",
              "      <td>DUGBE,IBADAN</td>\n",
              "      <td>Permanent</td>\n",
              "      <td>Graduate</td>\n",
              "      <td>31</td>\n",
              "    </tr>\n",
              "    <tr>\n",
              "      <th>2</th>\n",
              "      <td>8a8588f35438fe12015444567666018e</td>\n",
              "      <td>20000.0</td>\n",
              "      <td>22250.0</td>\n",
              "      <td>15</td>\n",
              "      <td>0</td>\n",
              "      <td>NaN</td>\n",
              "      <td>2250.0</td>\n",
              "      <td>6</td>\n",
              "      <td>-59803</td>\n",
              "      <td>0.833333</td>\n",
              "      <td>5</td>\n",
              "      <td>1</td>\n",
              "      <td>1984-09-18 00:00:00.000000</td>\n",
              "      <td>Other</td>\n",
              "      <td>11.139350</td>\n",
              "      <td>10.292041</td>\n",
              "      <td>EcoBank</td>\n",
              "      <td>NaN</td>\n",
              "      <td>Permanent</td>\n",
              "      <td>NaN</td>\n",
              "      <td>32</td>\n",
              "    </tr>\n",
              "    <tr>\n",
              "      <th>3</th>\n",
              "      <td>8a85890754145ace015429211b513e16</td>\n",
              "      <td>10000.0</td>\n",
              "      <td>11500.0</td>\n",
              "      <td>15</td>\n",
              "      <td>0</td>\n",
              "      <td>NaN</td>\n",
              "      <td>1500.0</td>\n",
              "      <td>2</td>\n",
              "      <td>-771174</td>\n",
              "      <td>0</td>\n",
              "      <td>0</td>\n",
              "      <td>2</td>\n",
              "      <td>1977-10-10 00:00:00.000000</td>\n",
              "      <td>Savings</td>\n",
              "      <td>3.985770</td>\n",
              "      <td>7.491708</td>\n",
              "      <td>First Bank</td>\n",
              "      <td>NaN</td>\n",
              "      <td>Permanent</td>\n",
              "      <td>NaN</td>\n",
              "      <td>39</td>\n",
              "    </tr>\n",
              "    <tr>\n",
              "      <th>4</th>\n",
              "      <td>8a858970548359cc0154883481981866</td>\n",
              "      <td>40000.0</td>\n",
              "      <td>44000.0</td>\n",
              "      <td>30</td>\n",
              "      <td>0</td>\n",
              "      <td>NaN</td>\n",
              "      <td>4000.0</td>\n",
              "      <td>8</td>\n",
              "      <td>899494</td>\n",
              "      <td>1</td>\n",
              "      <td>8</td>\n",
              "      <td>0</td>\n",
              "      <td>1986-09-07 00:00:00.000000</td>\n",
              "      <td>Other</td>\n",
              "      <td>7.457913</td>\n",
              "      <td>9.076574</td>\n",
              "      <td>GT Bank</td>\n",
              "      <td>NaN</td>\n",
              "      <td>Permanent</td>\n",
              "      <td>Primary</td>\n",
              "      <td>30</td>\n",
              "    </tr>\n",
              "  </tbody>\n",
              "</table>\n",
              "</div>"
            ],
            "text/plain": [
              "                         customerid  loanamount  ...  level_of_education_clients  age\n",
              "0  8a2a81a74ce8c05d014cfb32a0da1049     30000.0  ...               Post-Graduate   45\n",
              "1  8a85886e54beabf90154c0a29ae757c0     15000.0  ...                    Graduate   31\n",
              "2  8a8588f35438fe12015444567666018e     20000.0  ...                         NaN   32\n",
              "3  8a85890754145ace015429211b513e16     10000.0  ...                         NaN   39\n",
              "4  8a858970548359cc0154883481981866     40000.0  ...                     Primary   30\n",
              "\n",
              "[5 rows x 21 columns]"
            ]
          },
          "metadata": {
            "tags": []
          },
          "execution_count": 372
        }
      ]
    },
    {
      "cell_type": "code",
      "metadata": {
        "id": "fBA8WcPw8cUB",
        "colab_type": "code",
        "colab": {}
      },
      "source": [
        "columns_drop = ['birthdate','longitude_gps','latitude_gps','bank_branch_clients','level_of_education_clients','employment_status_clients']\n",
        "df_perf.drop(columns =columns_drop, inplace = True )"
      ],
      "execution_count": 0,
      "outputs": []
    },
    {
      "cell_type": "code",
      "metadata": {
        "id": "vgIL-x8N8q76",
        "colab_type": "code",
        "outputId": "31058859-5a2e-492b-c8c0-0e3e3661cc34",
        "colab": {
          "base_uri": "https://localhost:8080/",
          "height": 224
        }
      },
      "source": [
        "df_perf.head()"
      ],
      "execution_count": 0,
      "outputs": [
        {
          "output_type": "execute_result",
          "data": {
            "text/html": [
              "<div>\n",
              "<style scoped>\n",
              "    .dataframe tbody tr th:only-of-type {\n",
              "        vertical-align: middle;\n",
              "    }\n",
              "\n",
              "    .dataframe tbody tr th {\n",
              "        vertical-align: top;\n",
              "    }\n",
              "\n",
              "    .dataframe thead th {\n",
              "        text-align: right;\n",
              "    }\n",
              "</style>\n",
              "<table border=\"1\" class=\"dataframe\">\n",
              "  <thead>\n",
              "    <tr style=\"text-align: right;\">\n",
              "      <th></th>\n",
              "      <th>customerid</th>\n",
              "      <th>loanamount</th>\n",
              "      <th>totaldue</th>\n",
              "      <th>termdays</th>\n",
              "      <th>referredby</th>\n",
              "      <th>ref_goodbad</th>\n",
              "      <th>interest</th>\n",
              "      <th>num_previous_loans</th>\n",
              "      <th>average_payback_timedelta</th>\n",
              "      <th>ratio_payback_ontime</th>\n",
              "      <th>Num_loans_ontime</th>\n",
              "      <th>Num_loans_NOT_ontime</th>\n",
              "      <th>bank_account_type</th>\n",
              "      <th>bank_name_clients</th>\n",
              "      <th>age</th>\n",
              "    </tr>\n",
              "  </thead>\n",
              "  <tbody>\n",
              "    <tr>\n",
              "      <th>0</th>\n",
              "      <td>8a2a81a74ce8c05d014cfb32a0da1049</td>\n",
              "      <td>30000.0</td>\n",
              "      <td>34500.0</td>\n",
              "      <td>30</td>\n",
              "      <td>0</td>\n",
              "      <td>NaN</td>\n",
              "      <td>4500.0</td>\n",
              "      <td>11</td>\n",
              "      <td>35411.3</td>\n",
              "      <td>0.636364</td>\n",
              "      <td>7</td>\n",
              "      <td>4</td>\n",
              "      <td>Other</td>\n",
              "      <td>Diamond Bank</td>\n",
              "      <td>45</td>\n",
              "    </tr>\n",
              "    <tr>\n",
              "      <th>1</th>\n",
              "      <td>8a85886e54beabf90154c0a29ae757c0</td>\n",
              "      <td>15000.0</td>\n",
              "      <td>17250.0</td>\n",
              "      <td>30</td>\n",
              "      <td>0</td>\n",
              "      <td>NaN</td>\n",
              "      <td>2250.0</td>\n",
              "      <td>0</td>\n",
              "      <td>NaN</td>\n",
              "      <td>NaN</td>\n",
              "      <td>NaN</td>\n",
              "      <td>NaN</td>\n",
              "      <td>Savings</td>\n",
              "      <td>GT Bank</td>\n",
              "      <td>31</td>\n",
              "    </tr>\n",
              "    <tr>\n",
              "      <th>2</th>\n",
              "      <td>8a8588f35438fe12015444567666018e</td>\n",
              "      <td>20000.0</td>\n",
              "      <td>22250.0</td>\n",
              "      <td>15</td>\n",
              "      <td>0</td>\n",
              "      <td>NaN</td>\n",
              "      <td>2250.0</td>\n",
              "      <td>6</td>\n",
              "      <td>-59803</td>\n",
              "      <td>0.833333</td>\n",
              "      <td>5</td>\n",
              "      <td>1</td>\n",
              "      <td>Other</td>\n",
              "      <td>EcoBank</td>\n",
              "      <td>32</td>\n",
              "    </tr>\n",
              "    <tr>\n",
              "      <th>3</th>\n",
              "      <td>8a85890754145ace015429211b513e16</td>\n",
              "      <td>10000.0</td>\n",
              "      <td>11500.0</td>\n",
              "      <td>15</td>\n",
              "      <td>0</td>\n",
              "      <td>NaN</td>\n",
              "      <td>1500.0</td>\n",
              "      <td>2</td>\n",
              "      <td>-771174</td>\n",
              "      <td>0</td>\n",
              "      <td>0</td>\n",
              "      <td>2</td>\n",
              "      <td>Savings</td>\n",
              "      <td>First Bank</td>\n",
              "      <td>39</td>\n",
              "    </tr>\n",
              "    <tr>\n",
              "      <th>4</th>\n",
              "      <td>8a858970548359cc0154883481981866</td>\n",
              "      <td>40000.0</td>\n",
              "      <td>44000.0</td>\n",
              "      <td>30</td>\n",
              "      <td>0</td>\n",
              "      <td>NaN</td>\n",
              "      <td>4000.0</td>\n",
              "      <td>8</td>\n",
              "      <td>899494</td>\n",
              "      <td>1</td>\n",
              "      <td>8</td>\n",
              "      <td>0</td>\n",
              "      <td>Other</td>\n",
              "      <td>GT Bank</td>\n",
              "      <td>30</td>\n",
              "    </tr>\n",
              "  </tbody>\n",
              "</table>\n",
              "</div>"
            ],
            "text/plain": [
              "                         customerid  loanamount  ...  bank_name_clients  age\n",
              "0  8a2a81a74ce8c05d014cfb32a0da1049     30000.0  ...       Diamond Bank   45\n",
              "1  8a85886e54beabf90154c0a29ae757c0     15000.0  ...            GT Bank   31\n",
              "2  8a8588f35438fe12015444567666018e     20000.0  ...            EcoBank   32\n",
              "3  8a85890754145ace015429211b513e16     10000.0  ...         First Bank   39\n",
              "4  8a858970548359cc0154883481981866     40000.0  ...            GT Bank   30\n",
              "\n",
              "[5 rows x 15 columns]"
            ]
          },
          "metadata": {
            "tags": []
          },
          "execution_count": 374
        }
      ]
    },
    {
      "cell_type": "code",
      "metadata": {
        "id": "_EGXr_Ht9ApH",
        "colab_type": "code",
        "outputId": "c8f83f7f-7e66-40ed-e90c-8077e3b867d5",
        "colab": {
          "base_uri": "https://localhost:8080/",
          "height": 289
        }
      },
      "source": [
        "df_perf.isna().sum() "
      ],
      "execution_count": 0,
      "outputs": [
        {
          "output_type": "execute_result",
          "data": {
            "text/plain": [
              "customerid                   0\n",
              "loanamount                   0\n",
              "totaldue                     0\n",
              "termdays                     0\n",
              "referredby                   0\n",
              "ref_goodbad                  0\n",
              "interest                     0\n",
              "num_previous_loans           0\n",
              "average_payback_timedelta    0\n",
              "ratio_payback_ontime         0\n",
              "Num_loans_ontime             0\n",
              "Num_loans_NOT_ontime         0\n",
              "bank_account_type            0\n",
              "bank_name_clients            0\n",
              "age                          0\n",
              "dtype: int64"
            ]
          },
          "metadata": {
            "tags": []
          },
          "execution_count": 375
        }
      ]
    },
    {
      "cell_type": "code",
      "metadata": {
        "id": "i2nLE5mn1Tu8",
        "colab_type": "code",
        "outputId": "f345483f-2802-47f7-ba28-d832b60449eb",
        "colab": {
          "base_uri": "https://localhost:8080/",
          "height": 34
        }
      },
      "source": [
        "train_perf.shape[0] + test_perf.shape[0]"
      ],
      "execution_count": 0,
      "outputs": [
        {
          "output_type": "execute_result",
          "data": {
            "text/plain": [
              "5818"
            ]
          },
          "metadata": {
            "tags": []
          },
          "execution_count": 376
        }
      ]
    },
    {
      "cell_type": "code",
      "metadata": {
        "id": "SI9mMO7B1fYq",
        "colab_type": "code",
        "outputId": "826a1116-fe3f-41d2-f7aa-56cbfb227a1f",
        "colab": {
          "base_uri": "https://localhost:8080/",
          "height": 34
        }
      },
      "source": [
        "df_perf.shape[0]"
      ],
      "execution_count": 0,
      "outputs": [
        {
          "output_type": "execute_result",
          "data": {
            "text/plain": [
              "5833"
            ]
          },
          "metadata": {
            "tags": []
          },
          "execution_count": 377
        }
      ]
    },
    {
      "cell_type": "markdown",
      "metadata": {
        "id": "JGqXOes5naCf",
        "colab_type": "text"
      },
      "source": [
        "Lets make the the features with categorial data in string format to categorial in numerical. \n"
      ]
    },
    {
      "cell_type": "code",
      "metadata": {
        "id": "fIhz1yjnCtFW",
        "colab_type": "code",
        "colab": {}
      },
      "source": [
        "df_perf[\"bank_name_clients\"] = pd.Categorical(df_perf[\"bank_name_clients\"])\n",
        "df_perf[\"bank_name_clients\"] = df_perf[\"bank_name_clients\"].cat.codes\n",
        "\n",
        "df_perf[\"bank_account_type\"] = pd.Categorical(df_perf[\"bank_account_type\"])\n",
        "df_perf[\"bank_account_type\"] = df_perf[\"bank_account_type\"].cat.codes\n",
        "\n"
      ],
      "execution_count": 0,
      "outputs": []
    },
    {
      "cell_type": "code",
      "metadata": {
        "id": "grPld5sbDob6",
        "colab_type": "code",
        "outputId": "1f800ad1-1b12-4832-db3a-8f7da59af960",
        "colab": {
          "base_uri": "https://localhost:8080/",
          "height": 224
        }
      },
      "source": [
        "df_perf.head()"
      ],
      "execution_count": 0,
      "outputs": [
        {
          "output_type": "execute_result",
          "data": {
            "text/html": [
              "<div>\n",
              "<style scoped>\n",
              "    .dataframe tbody tr th:only-of-type {\n",
              "        vertical-align: middle;\n",
              "    }\n",
              "\n",
              "    .dataframe tbody tr th {\n",
              "        vertical-align: top;\n",
              "    }\n",
              "\n",
              "    .dataframe thead th {\n",
              "        text-align: right;\n",
              "    }\n",
              "</style>\n",
              "<table border=\"1\" class=\"dataframe\">\n",
              "  <thead>\n",
              "    <tr style=\"text-align: right;\">\n",
              "      <th></th>\n",
              "      <th>customerid</th>\n",
              "      <th>loanamount</th>\n",
              "      <th>totaldue</th>\n",
              "      <th>termdays</th>\n",
              "      <th>referredby</th>\n",
              "      <th>ref_goodbad</th>\n",
              "      <th>interest</th>\n",
              "      <th>num_previous_loans</th>\n",
              "      <th>average_payback_timedelta</th>\n",
              "      <th>ratio_payback_ontime</th>\n",
              "      <th>Num_loans_ontime</th>\n",
              "      <th>Num_loans_NOT_ontime</th>\n",
              "      <th>bank_account_type</th>\n",
              "      <th>bank_name_clients</th>\n",
              "      <th>age</th>\n",
              "    </tr>\n",
              "  </thead>\n",
              "  <tbody>\n",
              "    <tr>\n",
              "      <th>0</th>\n",
              "      <td>8a2a81a74ce8c05d014cfb32a0da1049</td>\n",
              "      <td>30000.0</td>\n",
              "      <td>34500.0</td>\n",
              "      <td>30</td>\n",
              "      <td>0</td>\n",
              "      <td>NaN</td>\n",
              "      <td>4500.0</td>\n",
              "      <td>11</td>\n",
              "      <td>35411.3</td>\n",
              "      <td>0.636364</td>\n",
              "      <td>7</td>\n",
              "      <td>4</td>\n",
              "      <td>1</td>\n",
              "      <td>1</td>\n",
              "      <td>45</td>\n",
              "    </tr>\n",
              "    <tr>\n",
              "      <th>1</th>\n",
              "      <td>8a85886e54beabf90154c0a29ae757c0</td>\n",
              "      <td>15000.0</td>\n",
              "      <td>17250.0</td>\n",
              "      <td>30</td>\n",
              "      <td>0</td>\n",
              "      <td>NaN</td>\n",
              "      <td>2250.0</td>\n",
              "      <td>0</td>\n",
              "      <td>NaN</td>\n",
              "      <td>NaN</td>\n",
              "      <td>NaN</td>\n",
              "      <td>NaN</td>\n",
              "      <td>2</td>\n",
              "      <td>6</td>\n",
              "      <td>31</td>\n",
              "    </tr>\n",
              "    <tr>\n",
              "      <th>2</th>\n",
              "      <td>8a8588f35438fe12015444567666018e</td>\n",
              "      <td>20000.0</td>\n",
              "      <td>22250.0</td>\n",
              "      <td>15</td>\n",
              "      <td>0</td>\n",
              "      <td>NaN</td>\n",
              "      <td>2250.0</td>\n",
              "      <td>6</td>\n",
              "      <td>-59803</td>\n",
              "      <td>0.833333</td>\n",
              "      <td>5</td>\n",
              "      <td>1</td>\n",
              "      <td>1</td>\n",
              "      <td>2</td>\n",
              "      <td>32</td>\n",
              "    </tr>\n",
              "    <tr>\n",
              "      <th>3</th>\n",
              "      <td>8a85890754145ace015429211b513e16</td>\n",
              "      <td>10000.0</td>\n",
              "      <td>11500.0</td>\n",
              "      <td>15</td>\n",
              "      <td>0</td>\n",
              "      <td>NaN</td>\n",
              "      <td>1500.0</td>\n",
              "      <td>2</td>\n",
              "      <td>-771174</td>\n",
              "      <td>0</td>\n",
              "      <td>0</td>\n",
              "      <td>2</td>\n",
              "      <td>2</td>\n",
              "      <td>5</td>\n",
              "      <td>39</td>\n",
              "    </tr>\n",
              "    <tr>\n",
              "      <th>4</th>\n",
              "      <td>8a858970548359cc0154883481981866</td>\n",
              "      <td>40000.0</td>\n",
              "      <td>44000.0</td>\n",
              "      <td>30</td>\n",
              "      <td>0</td>\n",
              "      <td>NaN</td>\n",
              "      <td>4000.0</td>\n",
              "      <td>8</td>\n",
              "      <td>899494</td>\n",
              "      <td>1</td>\n",
              "      <td>8</td>\n",
              "      <td>0</td>\n",
              "      <td>1</td>\n",
              "      <td>6</td>\n",
              "      <td>30</td>\n",
              "    </tr>\n",
              "  </tbody>\n",
              "</table>\n",
              "</div>"
            ],
            "text/plain": [
              "                         customerid  loanamount  ...  bank_name_clients  age\n",
              "0  8a2a81a74ce8c05d014cfb32a0da1049     30000.0  ...                  1   45\n",
              "1  8a85886e54beabf90154c0a29ae757c0     15000.0  ...                  6   31\n",
              "2  8a8588f35438fe12015444567666018e     20000.0  ...                  2   32\n",
              "3  8a85890754145ace015429211b513e16     10000.0  ...                  5   39\n",
              "4  8a858970548359cc0154883481981866     40000.0  ...                  6   30\n",
              "\n",
              "[5 rows x 15 columns]"
            ]
          },
          "metadata": {
            "tags": []
          },
          "execution_count": 518
        }
      ]
    },
    {
      "cell_type": "markdown",
      "metadata": {
        "id": "H4SgNk74gB71",
        "colab_type": "text"
      },
      "source": [
        "# Machine Learning Algorithm\n",
        "\n",
        "From the merged dataset we will construct four subsets based on two criterias.\n",
        "1. Is the loan for more than 10k\n",
        "2. Does the customer have previous loans \n",
        "\n",
        "\n",
        "This will result in four algorithms. However, the subset of customer without previous loans can utlize the data from custoer with previous loans to train the algorithm but without taking into account the previousloan information. "
      ]
    },
    {
      "cell_type": "markdown",
      "metadata": {
        "id": "7dqWdDlo_fjx",
        "colab_type": "text"
      },
      "source": [
        "First we will split the data based on the loanamount."
      ]
    },
    {
      "cell_type": "markdown",
      "metadata": {
        "id": "wKuIRoMAAQoP",
        "colab_type": "text"
      },
      "source": [
        "## Create training set"
      ]
    },
    {
      "cell_type": "code",
      "metadata": {
        "id": "LEqVcn-O_7zH",
        "colab_type": "code",
        "colab": {}
      },
      "source": [
        "train_df = df_perf.loc[df_perf['customerid'].isin(train_perf['customerid'])]"
      ],
      "execution_count": 0,
      "outputs": []
    },
    {
      "cell_type": "code",
      "metadata": {
        "id": "lKSdHuoEAGvg",
        "colab_type": "code",
        "outputId": "9abb4319-028c-448c-d32b-70398b7ccc30",
        "colab": {
          "base_uri": "https://localhost:8080/",
          "height": 224
        }
      },
      "source": [
        "train_df.head()"
      ],
      "execution_count": 0,
      "outputs": [
        {
          "output_type": "execute_result",
          "data": {
            "text/html": [
              "<div>\n",
              "<style scoped>\n",
              "    .dataframe tbody tr th:only-of-type {\n",
              "        vertical-align: middle;\n",
              "    }\n",
              "\n",
              "    .dataframe tbody tr th {\n",
              "        vertical-align: top;\n",
              "    }\n",
              "\n",
              "    .dataframe thead th {\n",
              "        text-align: right;\n",
              "    }\n",
              "</style>\n",
              "<table border=\"1\" class=\"dataframe\">\n",
              "  <thead>\n",
              "    <tr style=\"text-align: right;\">\n",
              "      <th></th>\n",
              "      <th>customerid</th>\n",
              "      <th>loanamount</th>\n",
              "      <th>totaldue</th>\n",
              "      <th>termdays</th>\n",
              "      <th>referredby</th>\n",
              "      <th>ref_goodbad</th>\n",
              "      <th>interest</th>\n",
              "      <th>num_previous_loans</th>\n",
              "      <th>average_payback_timedelta</th>\n",
              "      <th>ratio_payback_ontime</th>\n",
              "      <th>Num_loans_ontime</th>\n",
              "      <th>Num_loans_NOT_ontime</th>\n",
              "      <th>bank_account_type</th>\n",
              "      <th>bank_name_clients</th>\n",
              "      <th>age</th>\n",
              "    </tr>\n",
              "  </thead>\n",
              "  <tbody>\n",
              "    <tr>\n",
              "      <th>0</th>\n",
              "      <td>8a2a81a74ce8c05d014cfb32a0da1049</td>\n",
              "      <td>30000.0</td>\n",
              "      <td>34500.0</td>\n",
              "      <td>30</td>\n",
              "      <td>0</td>\n",
              "      <td>NaN</td>\n",
              "      <td>4500.0</td>\n",
              "      <td>11</td>\n",
              "      <td>35411.3</td>\n",
              "      <td>0.636364</td>\n",
              "      <td>7</td>\n",
              "      <td>4</td>\n",
              "      <td>1</td>\n",
              "      <td>1</td>\n",
              "      <td>45</td>\n",
              "    </tr>\n",
              "    <tr>\n",
              "      <th>1</th>\n",
              "      <td>8a85886e54beabf90154c0a29ae757c0</td>\n",
              "      <td>15000.0</td>\n",
              "      <td>17250.0</td>\n",
              "      <td>30</td>\n",
              "      <td>0</td>\n",
              "      <td>NaN</td>\n",
              "      <td>2250.0</td>\n",
              "      <td>0</td>\n",
              "      <td>NaN</td>\n",
              "      <td>NaN</td>\n",
              "      <td>NaN</td>\n",
              "      <td>NaN</td>\n",
              "      <td>2</td>\n",
              "      <td>6</td>\n",
              "      <td>31</td>\n",
              "    </tr>\n",
              "    <tr>\n",
              "      <th>2</th>\n",
              "      <td>8a8588f35438fe12015444567666018e</td>\n",
              "      <td>20000.0</td>\n",
              "      <td>22250.0</td>\n",
              "      <td>15</td>\n",
              "      <td>0</td>\n",
              "      <td>NaN</td>\n",
              "      <td>2250.0</td>\n",
              "      <td>6</td>\n",
              "      <td>-59803</td>\n",
              "      <td>0.833333</td>\n",
              "      <td>5</td>\n",
              "      <td>1</td>\n",
              "      <td>1</td>\n",
              "      <td>2</td>\n",
              "      <td>32</td>\n",
              "    </tr>\n",
              "    <tr>\n",
              "      <th>3</th>\n",
              "      <td>8a85890754145ace015429211b513e16</td>\n",
              "      <td>10000.0</td>\n",
              "      <td>11500.0</td>\n",
              "      <td>15</td>\n",
              "      <td>0</td>\n",
              "      <td>NaN</td>\n",
              "      <td>1500.0</td>\n",
              "      <td>2</td>\n",
              "      <td>-771174</td>\n",
              "      <td>0</td>\n",
              "      <td>0</td>\n",
              "      <td>2</td>\n",
              "      <td>2</td>\n",
              "      <td>5</td>\n",
              "      <td>39</td>\n",
              "    </tr>\n",
              "    <tr>\n",
              "      <th>4</th>\n",
              "      <td>8a858970548359cc0154883481981866</td>\n",
              "      <td>40000.0</td>\n",
              "      <td>44000.0</td>\n",
              "      <td>30</td>\n",
              "      <td>0</td>\n",
              "      <td>NaN</td>\n",
              "      <td>4000.0</td>\n",
              "      <td>8</td>\n",
              "      <td>899494</td>\n",
              "      <td>1</td>\n",
              "      <td>8</td>\n",
              "      <td>0</td>\n",
              "      <td>1</td>\n",
              "      <td>6</td>\n",
              "      <td>30</td>\n",
              "    </tr>\n",
              "  </tbody>\n",
              "</table>\n",
              "</div>"
            ],
            "text/plain": [
              "                         customerid  loanamount  ...  bank_name_clients  age\n",
              "0  8a2a81a74ce8c05d014cfb32a0da1049     30000.0  ...                  1   45\n",
              "1  8a85886e54beabf90154c0a29ae757c0     15000.0  ...                  6   31\n",
              "2  8a8588f35438fe12015444567666018e     20000.0  ...                  2   32\n",
              "3  8a85890754145ace015429211b513e16     10000.0  ...                  5   39\n",
              "4  8a858970548359cc0154883481981866     40000.0  ...                  6   30\n",
              "\n",
              "[5 rows x 15 columns]"
            ]
          },
          "metadata": {
            "tags": []
          },
          "execution_count": 520
        }
      ]
    },
    {
      "cell_type": "code",
      "metadata": {
        "id": "tqXSQWRzAJ7y",
        "colab_type": "code",
        "outputId": "9fb84326-95ff-4bd2-a3a7-762ae3031a48",
        "colab": {
          "base_uri": "https://localhost:8080/",
          "height": 34
        }
      },
      "source": [
        "train_df.shape[0]"
      ],
      "execution_count": 0,
      "outputs": [
        {
          "output_type": "execute_result",
          "data": {
            "text/plain": [
              "4379"
            ]
          },
          "metadata": {
            "tags": []
          },
          "execution_count": 521
        }
      ]
    },
    {
      "cell_type": "markdown",
      "metadata": {
        "id": "4FgAEIykAVBC",
        "colab_type": "text"
      },
      "source": [
        "## Create test set"
      ]
    },
    {
      "cell_type": "code",
      "metadata": {
        "id": "a51J5-2oAXFP",
        "colab_type": "code",
        "colab": {}
      },
      "source": [
        "test_df = df_perf.loc[df_perf['customerid'].isin(test_perf['customerid'])]\n",
        "test_df.reset_index(inplace = True,drop=True)\n"
      ],
      "execution_count": 0,
      "outputs": []
    },
    {
      "cell_type": "code",
      "metadata": {
        "id": "b-93ERSJAaMJ",
        "colab_type": "code",
        "outputId": "ed000ff5-1177-4547-cdb8-282a1915e880",
        "colab": {
          "base_uri": "https://localhost:8080/",
          "height": 224
        }
      },
      "source": [
        "test_df.head()"
      ],
      "execution_count": 0,
      "outputs": [
        {
          "output_type": "execute_result",
          "data": {
            "text/html": [
              "<div>\n",
              "<style scoped>\n",
              "    .dataframe tbody tr th:only-of-type {\n",
              "        vertical-align: middle;\n",
              "    }\n",
              "\n",
              "    .dataframe tbody tr th {\n",
              "        vertical-align: top;\n",
              "    }\n",
              "\n",
              "    .dataframe thead th {\n",
              "        text-align: right;\n",
              "    }\n",
              "</style>\n",
              "<table border=\"1\" class=\"dataframe\">\n",
              "  <thead>\n",
              "    <tr style=\"text-align: right;\">\n",
              "      <th></th>\n",
              "      <th>customerid</th>\n",
              "      <th>loanamount</th>\n",
              "      <th>totaldue</th>\n",
              "      <th>termdays</th>\n",
              "      <th>referredby</th>\n",
              "      <th>ref_goodbad</th>\n",
              "      <th>interest</th>\n",
              "      <th>num_previous_loans</th>\n",
              "      <th>average_payback_timedelta</th>\n",
              "      <th>ratio_payback_ontime</th>\n",
              "      <th>Num_loans_ontime</th>\n",
              "      <th>Num_loans_NOT_ontime</th>\n",
              "      <th>bank_account_type</th>\n",
              "      <th>bank_name_clients</th>\n",
              "      <th>age</th>\n",
              "    </tr>\n",
              "  </thead>\n",
              "  <tbody>\n",
              "    <tr>\n",
              "      <th>0</th>\n",
              "      <td>8a858899538ddb8e015390510b321f08</td>\n",
              "      <td>10000.0</td>\n",
              "      <td>12250.0</td>\n",
              "      <td>30</td>\n",
              "      <td>0</td>\n",
              "      <td>NaN</td>\n",
              "      <td>2250.0</td>\n",
              "      <td>3</td>\n",
              "      <td>-288233</td>\n",
              "      <td>0.333333</td>\n",
              "      <td>1</td>\n",
              "      <td>2</td>\n",
              "      <td>1</td>\n",
              "      <td>5</td>\n",
              "      <td>33</td>\n",
              "    </tr>\n",
              "    <tr>\n",
              "      <th>1</th>\n",
              "      <td>8a858959537a097401537a4e316e25f7</td>\n",
              "      <td>40000.0</td>\n",
              "      <td>44000.0</td>\n",
              "      <td>30</td>\n",
              "      <td>0</td>\n",
              "      <td>NaN</td>\n",
              "      <td>4000.0</td>\n",
              "      <td>9</td>\n",
              "      <td>641672</td>\n",
              "      <td>0.777778</td>\n",
              "      <td>7</td>\n",
              "      <td>2</td>\n",
              "      <td>2</td>\n",
              "      <td>5</td>\n",
              "      <td>31</td>\n",
              "    </tr>\n",
              "    <tr>\n",
              "      <th>2</th>\n",
              "      <td>8a8589c253ace09b0153af6ba58f1f31</td>\n",
              "      <td>20000.0</td>\n",
              "      <td>24500.0</td>\n",
              "      <td>30</td>\n",
              "      <td>0</td>\n",
              "      <td>NaN</td>\n",
              "      <td>4500.0</td>\n",
              "      <td>5</td>\n",
              "      <td>-378504</td>\n",
              "      <td>0.4</td>\n",
              "      <td>2</td>\n",
              "      <td>3</td>\n",
              "      <td>2</td>\n",
              "      <td>13</td>\n",
              "      <td>35</td>\n",
              "    </tr>\n",
              "    <tr>\n",
              "      <th>3</th>\n",
              "      <td>8a858e095aae82b7015aae86ca1e030b</td>\n",
              "      <td>30000.0</td>\n",
              "      <td>34500.0</td>\n",
              "      <td>30</td>\n",
              "      <td>0</td>\n",
              "      <td>NaN</td>\n",
              "      <td>4500.0</td>\n",
              "      <td>7</td>\n",
              "      <td>314524</td>\n",
              "      <td>1</td>\n",
              "      <td>7</td>\n",
              "      <td>0</td>\n",
              "      <td>2</td>\n",
              "      <td>17</td>\n",
              "      <td>39</td>\n",
              "    </tr>\n",
              "    <tr>\n",
              "      <th>4</th>\n",
              "      <td>8a858e225a28c713015a30db5c48383d</td>\n",
              "      <td>20000.0</td>\n",
              "      <td>24500.0</td>\n",
              "      <td>30</td>\n",
              "      <td>0</td>\n",
              "      <td>NaN</td>\n",
              "      <td>4500.0</td>\n",
              "      <td>3</td>\n",
              "      <td>271218</td>\n",
              "      <td>1</td>\n",
              "      <td>3</td>\n",
              "      <td>0</td>\n",
              "      <td>2</td>\n",
              "      <td>13</td>\n",
              "      <td>41</td>\n",
              "    </tr>\n",
              "  </tbody>\n",
              "</table>\n",
              "</div>"
            ],
            "text/plain": [
              "                         customerid  loanamount  ...  bank_name_clients  age\n",
              "0  8a858899538ddb8e015390510b321f08     10000.0  ...                  5   33\n",
              "1  8a858959537a097401537a4e316e25f7     40000.0  ...                  5   31\n",
              "2  8a8589c253ace09b0153af6ba58f1f31     20000.0  ...                 13   35\n",
              "3  8a858e095aae82b7015aae86ca1e030b     30000.0  ...                 17   39\n",
              "4  8a858e225a28c713015a30db5c48383d     20000.0  ...                 13   41\n",
              "\n",
              "[5 rows x 15 columns]"
            ]
          },
          "metadata": {
            "tags": []
          },
          "execution_count": 523
        }
      ]
    },
    {
      "cell_type": "code",
      "metadata": {
        "id": "hRfszkhgAdP4",
        "colab_type": "code",
        "outputId": "ca246792-e821-4ffd-8541-5a89efc6209c",
        "colab": {
          "base_uri": "https://localhost:8080/",
          "height": 34
        }
      },
      "source": [
        "test_df.shape[0]"
      ],
      "execution_count": 0,
      "outputs": [
        {
          "output_type": "execute_result",
          "data": {
            "text/plain": [
              "1454"
            ]
          },
          "metadata": {
            "tags": []
          },
          "execution_count": 524
        }
      ]
    },
    {
      "cell_type": "markdown",
      "metadata": {
        "id": "bJlEPpMJBIe8",
        "colab_type": "text"
      },
      "source": [
        "## Creating subsets within the training data"
      ]
    },
    {
      "cell_type": "code",
      "metadata": {
        "id": "-k1PVxwg-_Hs",
        "colab_type": "code",
        "colab": {}
      },
      "source": [
        "subset_10k = train_df.loc[train_df['loanamount'] == 10000.0]\n"
      ],
      "execution_count": 0,
      "outputs": []
    },
    {
      "cell_type": "code",
      "metadata": {
        "id": "v5merXkb_Wal",
        "colab_type": "code",
        "outputId": "41cae091-d119-4105-9e85-68e5fafc326b",
        "colab": {
          "base_uri": "https://localhost:8080/",
          "height": 224
        }
      },
      "source": [
        "subset_10k.head()"
      ],
      "execution_count": 0,
      "outputs": [
        {
          "output_type": "execute_result",
          "data": {
            "text/html": [
              "<div>\n",
              "<style scoped>\n",
              "    .dataframe tbody tr th:only-of-type {\n",
              "        vertical-align: middle;\n",
              "    }\n",
              "\n",
              "    .dataframe tbody tr th {\n",
              "        vertical-align: top;\n",
              "    }\n",
              "\n",
              "    .dataframe thead th {\n",
              "        text-align: right;\n",
              "    }\n",
              "</style>\n",
              "<table border=\"1\" class=\"dataframe\">\n",
              "  <thead>\n",
              "    <tr style=\"text-align: right;\">\n",
              "      <th></th>\n",
              "      <th>customerid</th>\n",
              "      <th>loanamount</th>\n",
              "      <th>totaldue</th>\n",
              "      <th>termdays</th>\n",
              "      <th>referredby</th>\n",
              "      <th>ref_goodbad</th>\n",
              "      <th>interest</th>\n",
              "      <th>num_previous_loans</th>\n",
              "      <th>average_payback_timedelta</th>\n",
              "      <th>ratio_payback_ontime</th>\n",
              "      <th>Num_loans_ontime</th>\n",
              "      <th>Num_loans_NOT_ontime</th>\n",
              "      <th>bank_account_type</th>\n",
              "      <th>bank_name_clients</th>\n",
              "      <th>age</th>\n",
              "    </tr>\n",
              "  </thead>\n",
              "  <tbody>\n",
              "    <tr>\n",
              "      <th>3</th>\n",
              "      <td>8a85890754145ace015429211b513e16</td>\n",
              "      <td>10000.0</td>\n",
              "      <td>11500.0</td>\n",
              "      <td>15</td>\n",
              "      <td>0</td>\n",
              "      <td>NaN</td>\n",
              "      <td>1500.0</td>\n",
              "      <td>2</td>\n",
              "      <td>-771174</td>\n",
              "      <td>0</td>\n",
              "      <td>0</td>\n",
              "      <td>2</td>\n",
              "      <td>2</td>\n",
              "      <td>5</td>\n",
              "      <td>39</td>\n",
              "    </tr>\n",
              "    <tr>\n",
              "      <th>6</th>\n",
              "      <td>8a858e095c59b91b015c5e5cea3719bc</td>\n",
              "      <td>10000.0</td>\n",
              "      <td>13000.0</td>\n",
              "      <td>30</td>\n",
              "      <td>0</td>\n",
              "      <td>NaN</td>\n",
              "      <td>3000.0</td>\n",
              "      <td>2</td>\n",
              "      <td>263252</td>\n",
              "      <td>1</td>\n",
              "      <td>2</td>\n",
              "      <td>0</td>\n",
              "      <td>2</td>\n",
              "      <td>6</td>\n",
              "      <td>28</td>\n",
              "    </tr>\n",
              "    <tr>\n",
              "      <th>8</th>\n",
              "      <td>8a858e185b4923b4015b4ae48d28646a</td>\n",
              "      <td>10000.0</td>\n",
              "      <td>11500.0</td>\n",
              "      <td>15</td>\n",
              "      <td>0</td>\n",
              "      <td>NaN</td>\n",
              "      <td>1500.0</td>\n",
              "      <td>3</td>\n",
              "      <td>-224188</td>\n",
              "      <td>0.666667</td>\n",
              "      <td>2</td>\n",
              "      <td>1</td>\n",
              "      <td>2</td>\n",
              "      <td>6</td>\n",
              "      <td>30</td>\n",
              "    </tr>\n",
              "    <tr>\n",
              "      <th>9</th>\n",
              "      <td>8a858e1d5cd58f9e015ceda4bdb63673</td>\n",
              "      <td>10000.0</td>\n",
              "      <td>11500.0</td>\n",
              "      <td>15</td>\n",
              "      <td>0</td>\n",
              "      <td>NaN</td>\n",
              "      <td>1500.0</td>\n",
              "      <td>1</td>\n",
              "      <td>294694</td>\n",
              "      <td>1</td>\n",
              "      <td>1</td>\n",
              "      <td>0</td>\n",
              "      <td>2</td>\n",
              "      <td>0</td>\n",
              "      <td>32</td>\n",
              "    </tr>\n",
              "    <tr>\n",
              "      <th>10</th>\n",
              "      <td>8a858e245c214660015c2ba8187976f7</td>\n",
              "      <td>10000.0</td>\n",
              "      <td>13000.0</td>\n",
              "      <td>30</td>\n",
              "      <td>0</td>\n",
              "      <td>NaN</td>\n",
              "      <td>3000.0</td>\n",
              "      <td>1</td>\n",
              "      <td>174051</td>\n",
              "      <td>1</td>\n",
              "      <td>1</td>\n",
              "      <td>0</td>\n",
              "      <td>2</td>\n",
              "      <td>2</td>\n",
              "      <td>34</td>\n",
              "    </tr>\n",
              "  </tbody>\n",
              "</table>\n",
              "</div>"
            ],
            "text/plain": [
              "                          customerid  loanamount  ...  bank_name_clients  age\n",
              "3   8a85890754145ace015429211b513e16     10000.0  ...                  5   39\n",
              "6   8a858e095c59b91b015c5e5cea3719bc     10000.0  ...                  6   28\n",
              "8   8a858e185b4923b4015b4ae48d28646a     10000.0  ...                  6   30\n",
              "9   8a858e1d5cd58f9e015ceda4bdb63673     10000.0  ...                  0   32\n",
              "10  8a858e245c214660015c2ba8187976f7     10000.0  ...                  2   34\n",
              "\n",
              "[5 rows x 15 columns]"
            ]
          },
          "metadata": {
            "tags": []
          },
          "execution_count": 526
        }
      ]
    },
    {
      "cell_type": "code",
      "metadata": {
        "id": "BGH7qLdi_Z-C",
        "colab_type": "code",
        "outputId": "466a4fe7-0446-4ca2-abe0-7824270d9477",
        "colab": {
          "base_uri": "https://localhost:8080/",
          "height": 34
        }
      },
      "source": [
        "subset_10k.shape[0]"
      ],
      "execution_count": 0,
      "outputs": [
        {
          "output_type": "execute_result",
          "data": {
            "text/plain": [
              "2469"
            ]
          },
          "metadata": {
            "tags": []
          },
          "execution_count": 527
        }
      ]
    },
    {
      "cell_type": "code",
      "metadata": {
        "id": "9FAWNUWv_c3t",
        "colab_type": "code",
        "colab": {}
      },
      "source": [
        "subset_not_10k = train_df.loc[train_df['loanamount'] != 10000.0]\n"
      ],
      "execution_count": 0,
      "outputs": []
    },
    {
      "cell_type": "code",
      "metadata": {
        "id": "-qcT3lHX_l1I",
        "colab_type": "code",
        "outputId": "8cfc7eec-8ff1-4d7d-a52e-55b6d2628519",
        "colab": {
          "base_uri": "https://localhost:8080/",
          "height": 224
        }
      },
      "source": [
        "subset_not_10k.head()"
      ],
      "execution_count": 0,
      "outputs": [
        {
          "output_type": "execute_result",
          "data": {
            "text/html": [
              "<div>\n",
              "<style scoped>\n",
              "    .dataframe tbody tr th:only-of-type {\n",
              "        vertical-align: middle;\n",
              "    }\n",
              "\n",
              "    .dataframe tbody tr th {\n",
              "        vertical-align: top;\n",
              "    }\n",
              "\n",
              "    .dataframe thead th {\n",
              "        text-align: right;\n",
              "    }\n",
              "</style>\n",
              "<table border=\"1\" class=\"dataframe\">\n",
              "  <thead>\n",
              "    <tr style=\"text-align: right;\">\n",
              "      <th></th>\n",
              "      <th>customerid</th>\n",
              "      <th>loanamount</th>\n",
              "      <th>totaldue</th>\n",
              "      <th>termdays</th>\n",
              "      <th>referredby</th>\n",
              "      <th>ref_goodbad</th>\n",
              "      <th>interest</th>\n",
              "      <th>num_previous_loans</th>\n",
              "      <th>average_payback_timedelta</th>\n",
              "      <th>ratio_payback_ontime</th>\n",
              "      <th>Num_loans_ontime</th>\n",
              "      <th>Num_loans_NOT_ontime</th>\n",
              "      <th>bank_account_type</th>\n",
              "      <th>bank_name_clients</th>\n",
              "      <th>age</th>\n",
              "    </tr>\n",
              "  </thead>\n",
              "  <tbody>\n",
              "    <tr>\n",
              "      <th>0</th>\n",
              "      <td>8a2a81a74ce8c05d014cfb32a0da1049</td>\n",
              "      <td>30000.0</td>\n",
              "      <td>34500.0</td>\n",
              "      <td>30</td>\n",
              "      <td>0</td>\n",
              "      <td>NaN</td>\n",
              "      <td>4500.0</td>\n",
              "      <td>11</td>\n",
              "      <td>35411.3</td>\n",
              "      <td>0.636364</td>\n",
              "      <td>7</td>\n",
              "      <td>4</td>\n",
              "      <td>1</td>\n",
              "      <td>1</td>\n",
              "      <td>45</td>\n",
              "    </tr>\n",
              "    <tr>\n",
              "      <th>1</th>\n",
              "      <td>8a85886e54beabf90154c0a29ae757c0</td>\n",
              "      <td>15000.0</td>\n",
              "      <td>17250.0</td>\n",
              "      <td>30</td>\n",
              "      <td>0</td>\n",
              "      <td>NaN</td>\n",
              "      <td>2250.0</td>\n",
              "      <td>0</td>\n",
              "      <td>NaN</td>\n",
              "      <td>NaN</td>\n",
              "      <td>NaN</td>\n",
              "      <td>NaN</td>\n",
              "      <td>2</td>\n",
              "      <td>6</td>\n",
              "      <td>31</td>\n",
              "    </tr>\n",
              "    <tr>\n",
              "      <th>2</th>\n",
              "      <td>8a8588f35438fe12015444567666018e</td>\n",
              "      <td>20000.0</td>\n",
              "      <td>22250.0</td>\n",
              "      <td>15</td>\n",
              "      <td>0</td>\n",
              "      <td>NaN</td>\n",
              "      <td>2250.0</td>\n",
              "      <td>6</td>\n",
              "      <td>-59803</td>\n",
              "      <td>0.833333</td>\n",
              "      <td>5</td>\n",
              "      <td>1</td>\n",
              "      <td>1</td>\n",
              "      <td>2</td>\n",
              "      <td>32</td>\n",
              "    </tr>\n",
              "    <tr>\n",
              "      <th>4</th>\n",
              "      <td>8a858970548359cc0154883481981866</td>\n",
              "      <td>40000.0</td>\n",
              "      <td>44000.0</td>\n",
              "      <td>30</td>\n",
              "      <td>0</td>\n",
              "      <td>NaN</td>\n",
              "      <td>4000.0</td>\n",
              "      <td>8</td>\n",
              "      <td>899494</td>\n",
              "      <td>1</td>\n",
              "      <td>8</td>\n",
              "      <td>0</td>\n",
              "      <td>1</td>\n",
              "      <td>6</td>\n",
              "      <td>30</td>\n",
              "    </tr>\n",
              "    <tr>\n",
              "      <th>5</th>\n",
              "      <td>8a8589f35451855401546b0738c42524</td>\n",
              "      <td>30000.0</td>\n",
              "      <td>39000.0</td>\n",
              "      <td>60</td>\n",
              "      <td>0</td>\n",
              "      <td>NaN</td>\n",
              "      <td>9000.0</td>\n",
              "      <td>7</td>\n",
              "      <td>453918</td>\n",
              "      <td>0.714286</td>\n",
              "      <td>5</td>\n",
              "      <td>2</td>\n",
              "      <td>2</td>\n",
              "      <td>0</td>\n",
              "      <td>44</td>\n",
              "    </tr>\n",
              "  </tbody>\n",
              "</table>\n",
              "</div>"
            ],
            "text/plain": [
              "                         customerid  loanamount  ...  bank_name_clients  age\n",
              "0  8a2a81a74ce8c05d014cfb32a0da1049     30000.0  ...                  1   45\n",
              "1  8a85886e54beabf90154c0a29ae757c0     15000.0  ...                  6   31\n",
              "2  8a8588f35438fe12015444567666018e     20000.0  ...                  2   32\n",
              "4  8a858970548359cc0154883481981866     40000.0  ...                  6   30\n",
              "5  8a8589f35451855401546b0738c42524     30000.0  ...                  0   44\n",
              "\n",
              "[5 rows x 15 columns]"
            ]
          },
          "metadata": {
            "tags": []
          },
          "execution_count": 529
        }
      ]
    },
    {
      "cell_type": "code",
      "metadata": {
        "id": "qlc0KVyu_pVQ",
        "colab_type": "code",
        "outputId": "792f6780-7bc2-4ff3-bd0e-0d908dcad9f2",
        "colab": {
          "base_uri": "https://localhost:8080/",
          "height": 34
        }
      },
      "source": [
        "subset_not_10k.shape[0]"
      ],
      "execution_count": 0,
      "outputs": [
        {
          "output_type": "execute_result",
          "data": {
            "text/plain": [
              "1910"
            ]
          },
          "metadata": {
            "tags": []
          },
          "execution_count": 530
        }
      ]
    },
    {
      "cell_type": "markdown",
      "metadata": {
        "id": "I2uLkfUzBcw1",
        "colab_type": "text"
      },
      "source": [
        "The subsets based on loanamount is reasonable split in terms of sizes of both subsets."
      ]
    },
    {
      "cell_type": "markdown",
      "metadata": {
        "id": "3XJ_c-YfCInT",
        "colab_type": "text"
      },
      "source": [
        "## Splitting the data based on previos loans or not\n",
        "\n",
        "Note that we will only split the data if they have previous loans. For the subset with no previous loans we will instead remove features connected to previous loans. "
      ]
    },
    {
      "cell_type": "code",
      "metadata": {
        "id": "wiB3k1rT_rIs",
        "colab_type": "code",
        "colab": {}
      },
      "source": [
        "subset_10k_prevloan = subset_10k.loc[subset_10k['num_previous_loans'] > 0]\n"
      ],
      "execution_count": 0,
      "outputs": []
    },
    {
      "cell_type": "code",
      "metadata": {
        "id": "ZJJNkroHB77z",
        "colab_type": "code",
        "outputId": "0c94662e-3456-4ff4-dc07-fcb14957345c",
        "colab": {
          "base_uri": "https://localhost:8080/",
          "height": 34
        }
      },
      "source": [
        "subset_10k_prevloan.shape[0]"
      ],
      "execution_count": 0,
      "outputs": [
        {
          "output_type": "execute_result",
          "data": {
            "text/plain": [
              "2462"
            ]
          },
          "metadata": {
            "tags": []
          },
          "execution_count": 532
        }
      ]
    },
    {
      "cell_type": "code",
      "metadata": {
        "id": "yIEcRiTAB9mr",
        "colab_type": "code",
        "colab": {}
      },
      "source": [
        "subset_not_10k_prevloan = subset_not_10k.loc[subset_not_10k['num_previous_loans'] > 0]\n"
      ],
      "execution_count": 0,
      "outputs": []
    },
    {
      "cell_type": "code",
      "metadata": {
        "id": "oGrhKGZ8CE3c",
        "colab_type": "code",
        "outputId": "8088d9ff-2b1a-4635-80bc-bf50d3ad8133",
        "colab": {
          "base_uri": "https://localhost:8080/",
          "height": 34
        }
      },
      "source": [
        "subset_not_10k_prevloan.shape[0]"
      ],
      "execution_count": 0,
      "outputs": [
        {
          "output_type": "execute_result",
          "data": {
            "text/plain": [
              "1908"
            ]
          },
          "metadata": {
            "tags": []
          },
          "execution_count": 534
        }
      ]
    },
    {
      "cell_type": "code",
      "metadata": {
        "id": "6g4cZ48OCGix",
        "colab_type": "code",
        "colab": {}
      },
      "source": [
        "subset_10k_no_prevloan = subset_10k_prevloan[['customerid','loanamount','totaldue','termdays','referredby','ref_goodbad','interest','bank_account_type','bank_name_clients','age']]"
      ],
      "execution_count": 0,
      "outputs": []
    },
    {
      "cell_type": "code",
      "metadata": {
        "id": "SdMmjD5yDMWo",
        "colab_type": "code",
        "colab": {}
      },
      "source": [
        "subset_not_10k_no_prevloan = subset_not_10k_prevloan[['customerid','loanamount','totaldue','termdays','referredby','ref_goodbad','interest','bank_account_type','bank_name_clients','age']]"
      ],
      "execution_count": 0,
      "outputs": []
    },
    {
      "cell_type": "code",
      "metadata": {
        "id": "yPPm8ojlCpMJ",
        "colab_type": "code",
        "outputId": "0d3512de-b445-4527-be91-e1969693260d",
        "colab": {
          "base_uri": "https://localhost:8080/",
          "height": 204
        }
      },
      "source": [
        "subset_not_10k_no_prevloan.head()"
      ],
      "execution_count": 0,
      "outputs": [
        {
          "output_type": "execute_result",
          "data": {
            "text/html": [
              "<div>\n",
              "<style scoped>\n",
              "    .dataframe tbody tr th:only-of-type {\n",
              "        vertical-align: middle;\n",
              "    }\n",
              "\n",
              "    .dataframe tbody tr th {\n",
              "        vertical-align: top;\n",
              "    }\n",
              "\n",
              "    .dataframe thead th {\n",
              "        text-align: right;\n",
              "    }\n",
              "</style>\n",
              "<table border=\"1\" class=\"dataframe\">\n",
              "  <thead>\n",
              "    <tr style=\"text-align: right;\">\n",
              "      <th></th>\n",
              "      <th>customerid</th>\n",
              "      <th>loanamount</th>\n",
              "      <th>totaldue</th>\n",
              "      <th>termdays</th>\n",
              "      <th>referredby</th>\n",
              "      <th>ref_goodbad</th>\n",
              "      <th>interest</th>\n",
              "      <th>bank_account_type</th>\n",
              "      <th>bank_name_clients</th>\n",
              "      <th>age</th>\n",
              "    </tr>\n",
              "  </thead>\n",
              "  <tbody>\n",
              "    <tr>\n",
              "      <th>0</th>\n",
              "      <td>8a2a81a74ce8c05d014cfb32a0da1049</td>\n",
              "      <td>30000.0</td>\n",
              "      <td>34500.0</td>\n",
              "      <td>30</td>\n",
              "      <td>0</td>\n",
              "      <td>NaN</td>\n",
              "      <td>4500.0</td>\n",
              "      <td>1</td>\n",
              "      <td>1</td>\n",
              "      <td>45</td>\n",
              "    </tr>\n",
              "    <tr>\n",
              "      <th>2</th>\n",
              "      <td>8a8588f35438fe12015444567666018e</td>\n",
              "      <td>20000.0</td>\n",
              "      <td>22250.0</td>\n",
              "      <td>15</td>\n",
              "      <td>0</td>\n",
              "      <td>NaN</td>\n",
              "      <td>2250.0</td>\n",
              "      <td>1</td>\n",
              "      <td>2</td>\n",
              "      <td>32</td>\n",
              "    </tr>\n",
              "    <tr>\n",
              "      <th>4</th>\n",
              "      <td>8a858970548359cc0154883481981866</td>\n",
              "      <td>40000.0</td>\n",
              "      <td>44000.0</td>\n",
              "      <td>30</td>\n",
              "      <td>0</td>\n",
              "      <td>NaN</td>\n",
              "      <td>4000.0</td>\n",
              "      <td>1</td>\n",
              "      <td>6</td>\n",
              "      <td>30</td>\n",
              "    </tr>\n",
              "    <tr>\n",
              "      <th>5</th>\n",
              "      <td>8a8589f35451855401546b0738c42524</td>\n",
              "      <td>30000.0</td>\n",
              "      <td>39000.0</td>\n",
              "      <td>60</td>\n",
              "      <td>0</td>\n",
              "      <td>NaN</td>\n",
              "      <td>9000.0</td>\n",
              "      <td>2</td>\n",
              "      <td>0</td>\n",
              "      <td>44</td>\n",
              "    </tr>\n",
              "    <tr>\n",
              "      <th>7</th>\n",
              "      <td>8a858e1158dc4d830158f7bde4f47ea7</td>\n",
              "      <td>30000.0</td>\n",
              "      <td>34500.0</td>\n",
              "      <td>30</td>\n",
              "      <td>0</td>\n",
              "      <td>NaN</td>\n",
              "      <td>4500.0</td>\n",
              "      <td>2</td>\n",
              "      <td>5</td>\n",
              "      <td>29</td>\n",
              "    </tr>\n",
              "  </tbody>\n",
              "</table>\n",
              "</div>"
            ],
            "text/plain": [
              "                         customerid  loanamount  ...  bank_name_clients  age\n",
              "0  8a2a81a74ce8c05d014cfb32a0da1049     30000.0  ...                  1   45\n",
              "2  8a8588f35438fe12015444567666018e     20000.0  ...                  2   32\n",
              "4  8a858970548359cc0154883481981866     40000.0  ...                  6   30\n",
              "5  8a8589f35451855401546b0738c42524     30000.0  ...                  0   44\n",
              "7  8a858e1158dc4d830158f7bde4f47ea7     30000.0  ...                  5   29\n",
              "\n",
              "[5 rows x 10 columns]"
            ]
          },
          "metadata": {
            "tags": []
          },
          "execution_count": 537
        }
      ]
    },
    {
      "cell_type": "markdown",
      "metadata": {
        "id": "WFWR_biqDWuC",
        "colab_type": "text"
      },
      "source": [
        "## Training the machine learning algorithm\n",
        "\n",
        "Now we have our four subsets of the dataset and will now train machine learning algorithms with those data. We will also analyze one full model, containing all subsets. "
      ]
    },
    {
      "cell_type": "code",
      "metadata": {
        "id": "JPLFpshsEBZV",
        "colab_type": "code",
        "colab": {}
      },
      "source": [
        "from sklearn.model_selection import train_test_split\n",
        "from sklearn.linear_model import LogisticRegression\n",
        "from sklearn.ensemble import RandomForestClassifier\n",
        "from sklearn.tree import DecisionTreeClassifier, export_graphviz\n",
        "from sklearn import metrics\n",
        "from sklearn.model_selection import KFold\n",
        "from sklearn.model_selection import cross_val_score\n",
        "from sklearn.preprocessing import StandardScaler\n",
        "from sklearn.datasets import make_moons, make_circles, make_classification\n",
        "from sklearn.neural_network import MLPClassifier\n",
        "from sklearn.neighbors import KNeighborsClassifier\n",
        "from sklearn.svm import SVC\n",
        "from sklearn.gaussian_process import GaussianProcessClassifier\n",
        "from sklearn.gaussian_process.kernels import RBF\n",
        "from sklearn.tree import DecisionTreeClassifier\n",
        "from sklearn.ensemble import RandomForestClassifier, AdaBoostClassifier\n",
        "from sklearn.naive_bayes import GaussianNB\n",
        "from sklearn.discriminant_analysis import QuadraticDiscriminantAnalysis\n"
      ],
      "execution_count": 0,
      "outputs": []
    },
    {
      "cell_type": "markdown",
      "metadata": {
        "id": "ziEgX32RDqOi",
        "colab_type": "text"
      },
      "source": [
        "### Model 1\n",
        "\n",
        "This model is for the subset with more than 10k in loanamount and with previousloans. "
      ]
    },
    {
      "cell_type": "code",
      "metadata": {
        "id": "uKjmFZldFQBr",
        "colab_type": "code",
        "outputId": "68b17e5b-fdaa-471c-a820-2542f5b1f1d0",
        "colab": {
          "base_uri": "https://localhost:8080/",
          "height": 34
        }
      },
      "source": [
        "subset_more_10k = train_df.loc[train_df['loanamount'] > 10000]\n",
        "subset_more_10k_prevloan = subset_more_10k.loc[subset_more_10k['num_previous_loans'] > 0]\n",
        "subset_more_10k_prevloan.head(3)\n",
        "print(subset_more_10k.shape[0])"
      ],
      "execution_count": 0,
      "outputs": [
        {
          "output_type": "stream",
          "text": [
            "1910\n"
          ],
          "name": "stdout"
        }
      ]
    },
    {
      "cell_type": "code",
      "metadata": {
        "id": "C-i4FWf8EH3b",
        "colab_type": "code",
        "outputId": "0b3cc17d-a1b1-46c1-e09c-f22054766ce7",
        "colab": {
          "base_uri": "https://localhost:8080/",
          "height": 34
        }
      },
      "source": [
        "y_train.shape[0]"
      ],
      "execution_count": 0,
      "outputs": [
        {
          "output_type": "execute_result",
          "data": {
            "text/plain": [
              "4368"
            ]
          },
          "metadata": {
            "tags": []
          },
          "execution_count": 540
        }
      ]
    },
    {
      "cell_type": "code",
      "metadata": {
        "id": "Bx9xDIoqEwga",
        "colab_type": "code",
        "colab": {}
      },
      "source": [
        "model1_df = pd.merge(subset_more_10k_prevloan, y_train, on=\"customerid\")\n"
      ],
      "execution_count": 0,
      "outputs": []
    },
    {
      "cell_type": "code",
      "metadata": {
        "id": "ah82xV1rDgqP",
        "colab_type": "code",
        "outputId": "88f10b9e-b65e-4a10-e726-5fd0eeefd557",
        "colab": {
          "base_uri": "https://localhost:8080/",
          "height": 224
        }
      },
      "source": [
        "model1_df.head()"
      ],
      "execution_count": 0,
      "outputs": [
        {
          "output_type": "execute_result",
          "data": {
            "text/html": [
              "<div>\n",
              "<style scoped>\n",
              "    .dataframe tbody tr th:only-of-type {\n",
              "        vertical-align: middle;\n",
              "    }\n",
              "\n",
              "    .dataframe tbody tr th {\n",
              "        vertical-align: top;\n",
              "    }\n",
              "\n",
              "    .dataframe thead th {\n",
              "        text-align: right;\n",
              "    }\n",
              "</style>\n",
              "<table border=\"1\" class=\"dataframe\">\n",
              "  <thead>\n",
              "    <tr style=\"text-align: right;\">\n",
              "      <th></th>\n",
              "      <th>customerid</th>\n",
              "      <th>loanamount</th>\n",
              "      <th>totaldue</th>\n",
              "      <th>termdays</th>\n",
              "      <th>referredby</th>\n",
              "      <th>ref_goodbad</th>\n",
              "      <th>interest</th>\n",
              "      <th>num_previous_loans</th>\n",
              "      <th>average_payback_timedelta</th>\n",
              "      <th>ratio_payback_ontime</th>\n",
              "      <th>Num_loans_ontime</th>\n",
              "      <th>Num_loans_NOT_ontime</th>\n",
              "      <th>bank_account_type</th>\n",
              "      <th>bank_name_clients</th>\n",
              "      <th>age</th>\n",
              "      <th>good_bad_flag</th>\n",
              "    </tr>\n",
              "  </thead>\n",
              "  <tbody>\n",
              "    <tr>\n",
              "      <th>0</th>\n",
              "      <td>8a2a81a74ce8c05d014cfb32a0da1049</td>\n",
              "      <td>30000.0</td>\n",
              "      <td>34500.0</td>\n",
              "      <td>30</td>\n",
              "      <td>0</td>\n",
              "      <td>NaN</td>\n",
              "      <td>4500.0</td>\n",
              "      <td>11</td>\n",
              "      <td>35411.3</td>\n",
              "      <td>0.636364</td>\n",
              "      <td>7</td>\n",
              "      <td>4</td>\n",
              "      <td>1</td>\n",
              "      <td>1</td>\n",
              "      <td>45</td>\n",
              "      <td>1</td>\n",
              "    </tr>\n",
              "    <tr>\n",
              "      <th>1</th>\n",
              "      <td>8a8588f35438fe12015444567666018e</td>\n",
              "      <td>20000.0</td>\n",
              "      <td>22250.0</td>\n",
              "      <td>15</td>\n",
              "      <td>0</td>\n",
              "      <td>NaN</td>\n",
              "      <td>2250.0</td>\n",
              "      <td>6</td>\n",
              "      <td>-59803</td>\n",
              "      <td>0.833333</td>\n",
              "      <td>5</td>\n",
              "      <td>1</td>\n",
              "      <td>1</td>\n",
              "      <td>2</td>\n",
              "      <td>32</td>\n",
              "      <td>1</td>\n",
              "    </tr>\n",
              "    <tr>\n",
              "      <th>2</th>\n",
              "      <td>8a858970548359cc0154883481981866</td>\n",
              "      <td>40000.0</td>\n",
              "      <td>44000.0</td>\n",
              "      <td>30</td>\n",
              "      <td>0</td>\n",
              "      <td>NaN</td>\n",
              "      <td>4000.0</td>\n",
              "      <td>8</td>\n",
              "      <td>899494</td>\n",
              "      <td>1</td>\n",
              "      <td>8</td>\n",
              "      <td>0</td>\n",
              "      <td>1</td>\n",
              "      <td>6</td>\n",
              "      <td>30</td>\n",
              "      <td>1</td>\n",
              "    </tr>\n",
              "    <tr>\n",
              "      <th>3</th>\n",
              "      <td>8a8589f35451855401546b0738c42524</td>\n",
              "      <td>30000.0</td>\n",
              "      <td>39000.0</td>\n",
              "      <td>60</td>\n",
              "      <td>0</td>\n",
              "      <td>NaN</td>\n",
              "      <td>9000.0</td>\n",
              "      <td>7</td>\n",
              "      <td>453918</td>\n",
              "      <td>0.714286</td>\n",
              "      <td>5</td>\n",
              "      <td>2</td>\n",
              "      <td>2</td>\n",
              "      <td>0</td>\n",
              "      <td>44</td>\n",
              "      <td>1</td>\n",
              "    </tr>\n",
              "    <tr>\n",
              "      <th>4</th>\n",
              "      <td>8a858e1158dc4d830158f7bde4f47ea7</td>\n",
              "      <td>30000.0</td>\n",
              "      <td>34500.0</td>\n",
              "      <td>30</td>\n",
              "      <td>0</td>\n",
              "      <td>NaN</td>\n",
              "      <td>4500.0</td>\n",
              "      <td>9</td>\n",
              "      <td>100023</td>\n",
              "      <td>1</td>\n",
              "      <td>9</td>\n",
              "      <td>0</td>\n",
              "      <td>2</td>\n",
              "      <td>5</td>\n",
              "      <td>29</td>\n",
              "      <td>1</td>\n",
              "    </tr>\n",
              "  </tbody>\n",
              "</table>\n",
              "</div>"
            ],
            "text/plain": [
              "                         customerid  loanamount  ...  age  good_bad_flag\n",
              "0  8a2a81a74ce8c05d014cfb32a0da1049     30000.0  ...   45              1\n",
              "1  8a8588f35438fe12015444567666018e     20000.0  ...   32              1\n",
              "2  8a858970548359cc0154883481981866     40000.0  ...   30              1\n",
              "3  8a8589f35451855401546b0738c42524     30000.0  ...   44              1\n",
              "4  8a858e1158dc4d830158f7bde4f47ea7     30000.0  ...   29              1\n",
              "\n",
              "[5 rows x 16 columns]"
            ]
          },
          "metadata": {
            "tags": []
          },
          "execution_count": 542
        }
      ]
    },
    {
      "cell_type": "code",
      "metadata": {
        "id": "yeddBQtiCjNh",
        "colab_type": "code",
        "colab": {}
      },
      "source": [
        ""
      ],
      "execution_count": 0,
      "outputs": []
    },
    {
      "cell_type": "code",
      "metadata": {
        "id": "rCwFJm5eFGH8",
        "colab_type": "code",
        "outputId": "a2df5558-500c-47cb-fefe-ef67324af199",
        "colab": {
          "base_uri": "https://localhost:8080/",
          "height": 34
        }
      },
      "source": [
        "model1_df.shape[0]"
      ],
      "execution_count": 0,
      "outputs": [
        {
          "output_type": "execute_result",
          "data": {
            "text/plain": [
              "1908"
            ]
          },
          "metadata": {
            "tags": []
          },
          "execution_count": 543
        }
      ]
    },
    {
      "cell_type": "code",
      "metadata": {
        "id": "oOQGx3IgU4VD",
        "colab_type": "code",
        "colab": {}
      },
      "source": [
        "model1_features = model1_df[['loanamount','totaldue',\t'termdays',\t'interest','num_previous_loans','average_payback_timedelta','ratio_payback_ontime','Num_loans_ontime','Num_loans_NOT_ontime',\t'age']]\n",
        "model1_target = model1_df[['good_bad_flag']]"
      ],
      "execution_count": 0,
      "outputs": []
    },
    {
      "cell_type": "code",
      "metadata": {
        "id": "ObfTKBQ0_SqF",
        "colab_type": "code",
        "colab": {}
      },
      "source": [
        ""
      ],
      "execution_count": 0,
      "outputs": []
    },
    {
      "cell_type": "code",
      "metadata": {
        "id": "s005oBCk_U7p",
        "colab_type": "code",
        "outputId": "c046ec74-e751-41b9-a158-6054dd0890ad",
        "colab": {
          "base_uri": "https://localhost:8080/",
          "height": 224
        }
      },
      "source": [
        "model1_features.head()"
      ],
      "execution_count": 0,
      "outputs": [
        {
          "output_type": "execute_result",
          "data": {
            "text/html": [
              "<div>\n",
              "<style scoped>\n",
              "    .dataframe tbody tr th:only-of-type {\n",
              "        vertical-align: middle;\n",
              "    }\n",
              "\n",
              "    .dataframe tbody tr th {\n",
              "        vertical-align: top;\n",
              "    }\n",
              "\n",
              "    .dataframe thead th {\n",
              "        text-align: right;\n",
              "    }\n",
              "</style>\n",
              "<table border=\"1\" class=\"dataframe\">\n",
              "  <thead>\n",
              "    <tr style=\"text-align: right;\">\n",
              "      <th></th>\n",
              "      <th>loanamount</th>\n",
              "      <th>totaldue</th>\n",
              "      <th>termdays</th>\n",
              "      <th>interest</th>\n",
              "      <th>num_previous_loans</th>\n",
              "      <th>average_payback_timedelta</th>\n",
              "      <th>ratio_payback_ontime</th>\n",
              "      <th>Num_loans_ontime</th>\n",
              "      <th>Num_loans_NOT_ontime</th>\n",
              "      <th>age</th>\n",
              "    </tr>\n",
              "  </thead>\n",
              "  <tbody>\n",
              "    <tr>\n",
              "      <th>0</th>\n",
              "      <td>30000.0</td>\n",
              "      <td>34500.0</td>\n",
              "      <td>30</td>\n",
              "      <td>4500.0</td>\n",
              "      <td>11</td>\n",
              "      <td>35411.3</td>\n",
              "      <td>0.636364</td>\n",
              "      <td>7</td>\n",
              "      <td>4</td>\n",
              "      <td>45</td>\n",
              "    </tr>\n",
              "    <tr>\n",
              "      <th>1</th>\n",
              "      <td>20000.0</td>\n",
              "      <td>22250.0</td>\n",
              "      <td>15</td>\n",
              "      <td>2250.0</td>\n",
              "      <td>6</td>\n",
              "      <td>-59803</td>\n",
              "      <td>0.833333</td>\n",
              "      <td>5</td>\n",
              "      <td>1</td>\n",
              "      <td>32</td>\n",
              "    </tr>\n",
              "    <tr>\n",
              "      <th>2</th>\n",
              "      <td>40000.0</td>\n",
              "      <td>44000.0</td>\n",
              "      <td>30</td>\n",
              "      <td>4000.0</td>\n",
              "      <td>8</td>\n",
              "      <td>899494</td>\n",
              "      <td>1</td>\n",
              "      <td>8</td>\n",
              "      <td>0</td>\n",
              "      <td>30</td>\n",
              "    </tr>\n",
              "    <tr>\n",
              "      <th>3</th>\n",
              "      <td>30000.0</td>\n",
              "      <td>39000.0</td>\n",
              "      <td>60</td>\n",
              "      <td>9000.0</td>\n",
              "      <td>7</td>\n",
              "      <td>453918</td>\n",
              "      <td>0.714286</td>\n",
              "      <td>5</td>\n",
              "      <td>2</td>\n",
              "      <td>44</td>\n",
              "    </tr>\n",
              "    <tr>\n",
              "      <th>4</th>\n",
              "      <td>30000.0</td>\n",
              "      <td>34500.0</td>\n",
              "      <td>30</td>\n",
              "      <td>4500.0</td>\n",
              "      <td>9</td>\n",
              "      <td>100023</td>\n",
              "      <td>1</td>\n",
              "      <td>9</td>\n",
              "      <td>0</td>\n",
              "      <td>29</td>\n",
              "    </tr>\n",
              "  </tbody>\n",
              "</table>\n",
              "</div>"
            ],
            "text/plain": [
              "   loanamount  totaldue  termdays  ...  Num_loans_ontime  Num_loans_NOT_ontime age\n",
              "0     30000.0   34500.0        30  ...                 7                     4  45\n",
              "1     20000.0   22250.0        15  ...                 5                     1  32\n",
              "2     40000.0   44000.0        30  ...                 8                     0  30\n",
              "3     30000.0   39000.0        60  ...                 5                     2  44\n",
              "4     30000.0   34500.0        30  ...                 9                     0  29\n",
              "\n",
              "[5 rows x 10 columns]"
            ]
          },
          "metadata": {
            "tags": []
          },
          "execution_count": 545
        }
      ]
    },
    {
      "cell_type": "code",
      "metadata": {
        "id": "BKYLeWwIVYlx",
        "colab_type": "code",
        "outputId": "91803113-cdfb-48a5-8dfd-810e73dfeceb",
        "colab": {
          "base_uri": "https://localhost:8080/",
          "height": 34
        }
      },
      "source": [
        "X_train, X_test, target, y_test = train_test_split( model1_features, model1_target, test_size=0.4, random_state=0)\n",
        "\n",
        "clf=RandomForestClassifier().fit(X_train, target)\n",
        "print(('RF: ', clf.score(X_test,y_test)))\n"
      ],
      "execution_count": 0,
      "outputs": [
        {
          "output_type": "stream",
          "text": [
            "('RF: ', 0.8036649214659686)\n"
          ],
          "name": "stdout"
        }
      ]
    },
    {
      "cell_type": "code",
      "metadata": {
        "id": "QxAkrOiFVoXu",
        "colab_type": "code",
        "outputId": "649b5c99-fff9-4c4c-f13b-f3b9b7dc0b5d",
        "colab": {
          "base_uri": "https://localhost:8080/",
          "height": 34
        }
      },
      "source": [
        "clf=LogisticRegression().fit(X_train, target)\n",
        "print(('LR: ', clf.score(X_test,y_test)))\n"
      ],
      "execution_count": 0,
      "outputs": [
        {
          "output_type": "stream",
          "text": [
            "('LR: ', 0.8324607329842932)\n"
          ],
          "name": "stdout"
        }
      ]
    },
    {
      "cell_type": "code",
      "metadata": {
        "id": "cYXbtD4uV1Le",
        "colab_type": "code",
        "outputId": "1722450f-fa1b-420c-dca6-cc3d49daf87f",
        "colab": {
          "base_uri": "https://localhost:8080/",
          "height": 34
        }
      },
      "source": [
        "from sklearn import svm\n",
        "clf = svm.SVC(kernel='rbf', C=1).fit(X_train, target)\n",
        "print(('SVC (rbf): ', clf.score(X_test, y_test)))\n"
      ],
      "execution_count": 0,
      "outputs": [
        {
          "output_type": "stream",
          "text": [
            "('SVC (rbf): ', 0.8324607329842932)\n"
          ],
          "name": "stdout"
        }
      ]
    },
    {
      "cell_type": "code",
      "metadata": {
        "id": "Fimx0uYxWPHj",
        "colab_type": "code",
        "colab": {}
      },
      "source": [
        ""
      ],
      "execution_count": 0,
      "outputs": []
    },
    {
      "cell_type": "markdown",
      "metadata": {
        "id": "0JzgKy5FWaXN",
        "colab_type": "text"
      },
      "source": [
        "### Model 2"
      ]
    },
    {
      "cell_type": "code",
      "metadata": {
        "colab_type": "code",
        "outputId": "1f3a4b94-6098-4084-d712-b240ea459920",
        "id": "6C30DbQoWfig",
        "colab": {
          "base_uri": "https://localhost:8080/",
          "height": 34
        }
      },
      "source": [
        "subset_more_10k = train_df.loc[train_df['loanamount'] > 10000]\n",
        "print(subset_more_10k.shape[0])"
      ],
      "execution_count": 0,
      "outputs": [
        {
          "output_type": "stream",
          "text": [
            "1910\n"
          ],
          "name": "stdout"
        }
      ]
    },
    {
      "cell_type": "code",
      "metadata": {
        "colab_type": "code",
        "outputId": "aaaec897-d583-4724-e3d1-6287fae0b4ee",
        "id": "VJUBUbtAWfil",
        "colab": {
          "base_uri": "https://localhost:8080/",
          "height": 34
        }
      },
      "source": [
        "\n",
        "y_train.shape[0]"
      ],
      "execution_count": 0,
      "outputs": [
        {
          "output_type": "execute_result",
          "data": {
            "text/plain": [
              "4368"
            ]
          },
          "metadata": {
            "tags": []
          },
          "execution_count": 550
        }
      ]
    },
    {
      "cell_type": "code",
      "metadata": {
        "colab_type": "code",
        "id": "yeK_tbJvWfio",
        "colab": {}
      },
      "source": [
        "model2_df = pd.merge(subset_more_10k, y_train, on=\"customerid\")\n"
      ],
      "execution_count": 0,
      "outputs": []
    },
    {
      "cell_type": "code",
      "metadata": {
        "colab_type": "code",
        "outputId": "9a30bd51-9438-44cc-b617-7c4e34bac685",
        "id": "l56u1FP4Wfit",
        "colab": {
          "base_uri": "https://localhost:8080/",
          "height": 224
        }
      },
      "source": [
        "model2_df.head()"
      ],
      "execution_count": 0,
      "outputs": [
        {
          "output_type": "execute_result",
          "data": {
            "text/html": [
              "<div>\n",
              "<style scoped>\n",
              "    .dataframe tbody tr th:only-of-type {\n",
              "        vertical-align: middle;\n",
              "    }\n",
              "\n",
              "    .dataframe tbody tr th {\n",
              "        vertical-align: top;\n",
              "    }\n",
              "\n",
              "    .dataframe thead th {\n",
              "        text-align: right;\n",
              "    }\n",
              "</style>\n",
              "<table border=\"1\" class=\"dataframe\">\n",
              "  <thead>\n",
              "    <tr style=\"text-align: right;\">\n",
              "      <th></th>\n",
              "      <th>customerid</th>\n",
              "      <th>loanamount</th>\n",
              "      <th>totaldue</th>\n",
              "      <th>termdays</th>\n",
              "      <th>referredby</th>\n",
              "      <th>ref_goodbad</th>\n",
              "      <th>interest</th>\n",
              "      <th>num_previous_loans</th>\n",
              "      <th>average_payback_timedelta</th>\n",
              "      <th>ratio_payback_ontime</th>\n",
              "      <th>Num_loans_ontime</th>\n",
              "      <th>Num_loans_NOT_ontime</th>\n",
              "      <th>bank_account_type</th>\n",
              "      <th>bank_name_clients</th>\n",
              "      <th>age</th>\n",
              "      <th>good_bad_flag</th>\n",
              "    </tr>\n",
              "  </thead>\n",
              "  <tbody>\n",
              "    <tr>\n",
              "      <th>0</th>\n",
              "      <td>8a2a81a74ce8c05d014cfb32a0da1049</td>\n",
              "      <td>30000.0</td>\n",
              "      <td>34500.0</td>\n",
              "      <td>30</td>\n",
              "      <td>0</td>\n",
              "      <td>NaN</td>\n",
              "      <td>4500.0</td>\n",
              "      <td>11</td>\n",
              "      <td>35411.3</td>\n",
              "      <td>0.636364</td>\n",
              "      <td>7</td>\n",
              "      <td>4</td>\n",
              "      <td>1</td>\n",
              "      <td>1</td>\n",
              "      <td>45</td>\n",
              "      <td>1</td>\n",
              "    </tr>\n",
              "    <tr>\n",
              "      <th>1</th>\n",
              "      <td>8a85886e54beabf90154c0a29ae757c0</td>\n",
              "      <td>15000.0</td>\n",
              "      <td>17250.0</td>\n",
              "      <td>30</td>\n",
              "      <td>0</td>\n",
              "      <td>NaN</td>\n",
              "      <td>2250.0</td>\n",
              "      <td>0</td>\n",
              "      <td>NaN</td>\n",
              "      <td>NaN</td>\n",
              "      <td>NaN</td>\n",
              "      <td>NaN</td>\n",
              "      <td>2</td>\n",
              "      <td>6</td>\n",
              "      <td>31</td>\n",
              "      <td>1</td>\n",
              "    </tr>\n",
              "    <tr>\n",
              "      <th>2</th>\n",
              "      <td>8a8588f35438fe12015444567666018e</td>\n",
              "      <td>20000.0</td>\n",
              "      <td>22250.0</td>\n",
              "      <td>15</td>\n",
              "      <td>0</td>\n",
              "      <td>NaN</td>\n",
              "      <td>2250.0</td>\n",
              "      <td>6</td>\n",
              "      <td>-59803</td>\n",
              "      <td>0.833333</td>\n",
              "      <td>5</td>\n",
              "      <td>1</td>\n",
              "      <td>1</td>\n",
              "      <td>2</td>\n",
              "      <td>32</td>\n",
              "      <td>1</td>\n",
              "    </tr>\n",
              "    <tr>\n",
              "      <th>3</th>\n",
              "      <td>8a858970548359cc0154883481981866</td>\n",
              "      <td>40000.0</td>\n",
              "      <td>44000.0</td>\n",
              "      <td>30</td>\n",
              "      <td>0</td>\n",
              "      <td>NaN</td>\n",
              "      <td>4000.0</td>\n",
              "      <td>8</td>\n",
              "      <td>899494</td>\n",
              "      <td>1</td>\n",
              "      <td>8</td>\n",
              "      <td>0</td>\n",
              "      <td>1</td>\n",
              "      <td>6</td>\n",
              "      <td>30</td>\n",
              "      <td>1</td>\n",
              "    </tr>\n",
              "    <tr>\n",
              "      <th>4</th>\n",
              "      <td>8a8589f35451855401546b0738c42524</td>\n",
              "      <td>30000.0</td>\n",
              "      <td>39000.0</td>\n",
              "      <td>60</td>\n",
              "      <td>0</td>\n",
              "      <td>NaN</td>\n",
              "      <td>9000.0</td>\n",
              "      <td>7</td>\n",
              "      <td>453918</td>\n",
              "      <td>0.714286</td>\n",
              "      <td>5</td>\n",
              "      <td>2</td>\n",
              "      <td>2</td>\n",
              "      <td>0</td>\n",
              "      <td>44</td>\n",
              "      <td>1</td>\n",
              "    </tr>\n",
              "  </tbody>\n",
              "</table>\n",
              "</div>"
            ],
            "text/plain": [
              "                         customerid  loanamount  ...  age  good_bad_flag\n",
              "0  8a2a81a74ce8c05d014cfb32a0da1049     30000.0  ...   45              1\n",
              "1  8a85886e54beabf90154c0a29ae757c0     15000.0  ...   31              1\n",
              "2  8a8588f35438fe12015444567666018e     20000.0  ...   32              1\n",
              "3  8a858970548359cc0154883481981866     40000.0  ...   30              1\n",
              "4  8a8589f35451855401546b0738c42524     30000.0  ...   44              1\n",
              "\n",
              "[5 rows x 16 columns]"
            ]
          },
          "metadata": {
            "tags": []
          },
          "execution_count": 552
        }
      ]
    },
    {
      "cell_type": "code",
      "metadata": {
        "colab_type": "code",
        "outputId": "a5153969-bc9b-4519-b3ee-872337a26cc1",
        "id": "2aILhxHxWfix",
        "colab": {
          "base_uri": "https://localhost:8080/",
          "height": 34
        }
      },
      "source": [
        "model2_df.shape[0]"
      ],
      "execution_count": 0,
      "outputs": [
        {
          "output_type": "execute_result",
          "data": {
            "text/plain": [
              "1910"
            ]
          },
          "metadata": {
            "tags": []
          },
          "execution_count": 553
        }
      ]
    },
    {
      "cell_type": "code",
      "metadata": {
        "colab_type": "code",
        "id": "0o5PGJrAWfi1",
        "colab": {}
      },
      "source": [
        "model1_features = model2_df[['loanamount','totaldue',\t'termdays',\t'interest','num_previous_loans','age']]\n",
        "model1_target = model2_df[['good_bad_flag']]"
      ],
      "execution_count": 0,
      "outputs": []
    },
    {
      "cell_type": "code",
      "metadata": {
        "id": "Bx0cfCWB_77E",
        "colab_type": "code",
        "colab": {}
      },
      "source": [
        ""
      ],
      "execution_count": 0,
      "outputs": []
    },
    {
      "cell_type": "code",
      "metadata": {
        "colab_type": "code",
        "outputId": "226de4ac-157f-429e-836c-e28e66ac1c55",
        "id": "reDFf1PXWfi5",
        "colab": {
          "base_uri": "https://localhost:8080/",
          "height": 34
        }
      },
      "source": [
        "X_train, X_test, target, y_test = train_test_split( model1_features, model1_target, test_size=0.4, random_state=0)\n",
        "\n",
        "clf=RandomForestClassifier().fit(X_train, target)\n",
        "print(('RF: ', clf.score(X_test,y_test)))\n"
      ],
      "execution_count": 0,
      "outputs": [
        {
          "output_type": "stream",
          "text": [
            "('RF: ', 0.7945026178010471)\n"
          ],
          "name": "stdout"
        }
      ]
    },
    {
      "cell_type": "code",
      "metadata": {
        "colab_type": "code",
        "outputId": "02bc8ae6-cc2b-40a8-94ee-7a5e89ab18bf",
        "id": "Ar9VPBtrWfi7",
        "colab": {
          "base_uri": "https://localhost:8080/",
          "height": 34
        }
      },
      "source": [
        "clf=LogisticRegression().fit(X_train, target)\n",
        "print(('LR: ', clf.score(X_test,y_test)))\n"
      ],
      "execution_count": 0,
      "outputs": [
        {
          "output_type": "stream",
          "text": [
            "('LR: ', 0.8455497382198953)\n"
          ],
          "name": "stdout"
        }
      ]
    },
    {
      "cell_type": "code",
      "metadata": {
        "colab_type": "code",
        "outputId": "90ac0f47-0867-41b8-ae91-ae492685f9d9",
        "id": "VkgSI8SWWfjA",
        "colab": {
          "base_uri": "https://localhost:8080/",
          "height": 34
        }
      },
      "source": [
        "from sklearn import svm\n",
        "clf = svm.SVC(kernel='rbf', C=1).fit(X_train, target)\n",
        "print(('SVC (rbf): ', clf.score(X_test, y_test)))\n"
      ],
      "execution_count": 0,
      "outputs": [
        {
          "output_type": "stream",
          "text": [
            "('SVC (rbf): ', 0.8455497382198953)\n"
          ],
          "name": "stdout"
        }
      ]
    },
    {
      "cell_type": "code",
      "metadata": {
        "id": "gpPTUh96W8pX",
        "colab_type": "code",
        "colab": {}
      },
      "source": [
        ""
      ],
      "execution_count": 0,
      "outputs": []
    },
    {
      "cell_type": "markdown",
      "metadata": {
        "id": "MZOVcPRNXAqW",
        "colab_type": "text"
      },
      "source": [
        "### Model 3"
      ]
    },
    {
      "cell_type": "code",
      "metadata": {
        "colab_type": "code",
        "outputId": "360ea6ff-74f6-4ea6-88c0-953a8011bf7b",
        "id": "Xa9fO377XFSD",
        "colab": {
          "base_uri": "https://localhost:8080/",
          "height": 34
        }
      },
      "source": [
        "subset_more_10k = train_df.loc[train_df['loanamount'] == 10000]\n",
        "subset_more_10k_prevloan = subset_more_10k.loc[subset_more_10k['num_previous_loans'] > 0]\n",
        "subset_more_10k_prevloan.head(3)\n",
        "print(subset_more_10k.shape[0])"
      ],
      "execution_count": 0,
      "outputs": [
        {
          "output_type": "stream",
          "text": [
            "2469\n"
          ],
          "name": "stdout"
        }
      ]
    },
    {
      "cell_type": "code",
      "metadata": {
        "colab_type": "code",
        "outputId": "c9c7faa0-bc7b-48b7-be03-f652a1db0be5",
        "id": "5iBxoxqUXFSH",
        "colab": {
          "base_uri": "https://localhost:8080/",
          "height": 34
        }
      },
      "source": [
        "y_train.shape[0]"
      ],
      "execution_count": 0,
      "outputs": [
        {
          "output_type": "execute_result",
          "data": {
            "text/plain": [
              "4368"
            ]
          },
          "metadata": {
            "tags": []
          },
          "execution_count": 559
        }
      ]
    },
    {
      "cell_type": "code",
      "metadata": {
        "colab_type": "code",
        "id": "ifsr_D3yXFSL",
        "colab": {}
      },
      "source": [
        "model3_df = pd.merge(subset_more_10k_prevloan, y_train, on=\"customerid\")\n"
      ],
      "execution_count": 0,
      "outputs": []
    },
    {
      "cell_type": "code",
      "metadata": {
        "colab_type": "code",
        "outputId": "fc2f64c1-6747-4ad7-a6d0-f9912c73edc2",
        "id": "oZ3RVMPEXFSS",
        "colab": {
          "base_uri": "https://localhost:8080/",
          "height": 224
        }
      },
      "source": [
        "model3_df.head()"
      ],
      "execution_count": 0,
      "outputs": [
        {
          "output_type": "execute_result",
          "data": {
            "text/html": [
              "<div>\n",
              "<style scoped>\n",
              "    .dataframe tbody tr th:only-of-type {\n",
              "        vertical-align: middle;\n",
              "    }\n",
              "\n",
              "    .dataframe tbody tr th {\n",
              "        vertical-align: top;\n",
              "    }\n",
              "\n",
              "    .dataframe thead th {\n",
              "        text-align: right;\n",
              "    }\n",
              "</style>\n",
              "<table border=\"1\" class=\"dataframe\">\n",
              "  <thead>\n",
              "    <tr style=\"text-align: right;\">\n",
              "      <th></th>\n",
              "      <th>customerid</th>\n",
              "      <th>loanamount</th>\n",
              "      <th>totaldue</th>\n",
              "      <th>termdays</th>\n",
              "      <th>referredby</th>\n",
              "      <th>ref_goodbad</th>\n",
              "      <th>interest</th>\n",
              "      <th>num_previous_loans</th>\n",
              "      <th>average_payback_timedelta</th>\n",
              "      <th>ratio_payback_ontime</th>\n",
              "      <th>Num_loans_ontime</th>\n",
              "      <th>Num_loans_NOT_ontime</th>\n",
              "      <th>bank_account_type</th>\n",
              "      <th>bank_name_clients</th>\n",
              "      <th>age</th>\n",
              "      <th>good_bad_flag</th>\n",
              "    </tr>\n",
              "  </thead>\n",
              "  <tbody>\n",
              "    <tr>\n",
              "      <th>0</th>\n",
              "      <td>8a85890754145ace015429211b513e16</td>\n",
              "      <td>10000.0</td>\n",
              "      <td>11500.0</td>\n",
              "      <td>15</td>\n",
              "      <td>0</td>\n",
              "      <td>NaN</td>\n",
              "      <td>1500.0</td>\n",
              "      <td>2</td>\n",
              "      <td>-771174</td>\n",
              "      <td>0</td>\n",
              "      <td>0</td>\n",
              "      <td>2</td>\n",
              "      <td>2</td>\n",
              "      <td>5</td>\n",
              "      <td>39</td>\n",
              "      <td>1</td>\n",
              "    </tr>\n",
              "    <tr>\n",
              "      <th>1</th>\n",
              "      <td>8a858e095c59b91b015c5e5cea3719bc</td>\n",
              "      <td>10000.0</td>\n",
              "      <td>13000.0</td>\n",
              "      <td>30</td>\n",
              "      <td>0</td>\n",
              "      <td>NaN</td>\n",
              "      <td>3000.0</td>\n",
              "      <td>2</td>\n",
              "      <td>263252</td>\n",
              "      <td>1</td>\n",
              "      <td>2</td>\n",
              "      <td>0</td>\n",
              "      <td>2</td>\n",
              "      <td>6</td>\n",
              "      <td>28</td>\n",
              "      <td>1</td>\n",
              "    </tr>\n",
              "    <tr>\n",
              "      <th>2</th>\n",
              "      <td>8a858e185b4923b4015b4ae48d28646a</td>\n",
              "      <td>10000.0</td>\n",
              "      <td>11500.0</td>\n",
              "      <td>15</td>\n",
              "      <td>0</td>\n",
              "      <td>NaN</td>\n",
              "      <td>1500.0</td>\n",
              "      <td>3</td>\n",
              "      <td>-224188</td>\n",
              "      <td>0.666667</td>\n",
              "      <td>2</td>\n",
              "      <td>1</td>\n",
              "      <td>2</td>\n",
              "      <td>6</td>\n",
              "      <td>30</td>\n",
              "      <td>1</td>\n",
              "    </tr>\n",
              "    <tr>\n",
              "      <th>3</th>\n",
              "      <td>8a858e1d5cd58f9e015ceda4bdb63673</td>\n",
              "      <td>10000.0</td>\n",
              "      <td>11500.0</td>\n",
              "      <td>15</td>\n",
              "      <td>0</td>\n",
              "      <td>NaN</td>\n",
              "      <td>1500.0</td>\n",
              "      <td>1</td>\n",
              "      <td>294694</td>\n",
              "      <td>1</td>\n",
              "      <td>1</td>\n",
              "      <td>0</td>\n",
              "      <td>2</td>\n",
              "      <td>0</td>\n",
              "      <td>32</td>\n",
              "      <td>1</td>\n",
              "    </tr>\n",
              "    <tr>\n",
              "      <th>4</th>\n",
              "      <td>8a858e245c214660015c2ba8187976f7</td>\n",
              "      <td>10000.0</td>\n",
              "      <td>13000.0</td>\n",
              "      <td>30</td>\n",
              "      <td>0</td>\n",
              "      <td>NaN</td>\n",
              "      <td>3000.0</td>\n",
              "      <td>1</td>\n",
              "      <td>174051</td>\n",
              "      <td>1</td>\n",
              "      <td>1</td>\n",
              "      <td>0</td>\n",
              "      <td>2</td>\n",
              "      <td>2</td>\n",
              "      <td>34</td>\n",
              "      <td>1</td>\n",
              "    </tr>\n",
              "  </tbody>\n",
              "</table>\n",
              "</div>"
            ],
            "text/plain": [
              "                         customerid  loanamount  ...  age  good_bad_flag\n",
              "0  8a85890754145ace015429211b513e16     10000.0  ...   39              1\n",
              "1  8a858e095c59b91b015c5e5cea3719bc     10000.0  ...   28              1\n",
              "2  8a858e185b4923b4015b4ae48d28646a     10000.0  ...   30              1\n",
              "3  8a858e1d5cd58f9e015ceda4bdb63673     10000.0  ...   32              1\n",
              "4  8a858e245c214660015c2ba8187976f7     10000.0  ...   34              1\n",
              "\n",
              "[5 rows x 16 columns]"
            ]
          },
          "metadata": {
            "tags": []
          },
          "execution_count": 561
        }
      ]
    },
    {
      "cell_type": "code",
      "metadata": {
        "colab_type": "code",
        "outputId": "b01f0c92-de3d-4eca-a4d0-6874dba46dd0",
        "id": "Ie261Fh0XFSV",
        "colab": {
          "base_uri": "https://localhost:8080/",
          "height": 34
        }
      },
      "source": [
        "model3_df.shape[0]"
      ],
      "execution_count": 0,
      "outputs": [
        {
          "output_type": "execute_result",
          "data": {
            "text/plain": [
              "2462"
            ]
          },
          "metadata": {
            "tags": []
          },
          "execution_count": 562
        }
      ]
    },
    {
      "cell_type": "code",
      "metadata": {
        "colab_type": "code",
        "id": "YSMTwMbMXFSb",
        "colab": {}
      },
      "source": [
        "model1_features = model3_df[['loanamount','totaldue',\t'termdays',\t'interest','num_previous_loans','average_payback_timedelta','ratio_payback_ontime','Num_loans_ontime','Num_loans_NOT_ontime',\t'age']]\n",
        "model1_target = model3_df[['good_bad_flag']]"
      ],
      "execution_count": 0,
      "outputs": []
    },
    {
      "cell_type": "code",
      "metadata": {
        "colab_type": "code",
        "id": "vgmoGyrRXFSi",
        "colab": {}
      },
      "source": [
        "X_train, X_test, target, y_test = train_test_split( model1_features, model1_target, test_size=0.4, random_state=0)\n"
      ],
      "execution_count": 0,
      "outputs": []
    },
    {
      "cell_type": "code",
      "metadata": {
        "id": "HkQaZYHaBuxn",
        "colab_type": "code",
        "outputId": "55e20437-bf1d-4c6f-a04f-7bd3fb6089aa",
        "colab": {
          "base_uri": "https://localhost:8080/",
          "height": 224
        }
      },
      "source": [
        "X_train.head()"
      ],
      "execution_count": 0,
      "outputs": [
        {
          "output_type": "execute_result",
          "data": {
            "text/html": [
              "<div>\n",
              "<style scoped>\n",
              "    .dataframe tbody tr th:only-of-type {\n",
              "        vertical-align: middle;\n",
              "    }\n",
              "\n",
              "    .dataframe tbody tr th {\n",
              "        vertical-align: top;\n",
              "    }\n",
              "\n",
              "    .dataframe thead th {\n",
              "        text-align: right;\n",
              "    }\n",
              "</style>\n",
              "<table border=\"1\" class=\"dataframe\">\n",
              "  <thead>\n",
              "    <tr style=\"text-align: right;\">\n",
              "      <th></th>\n",
              "      <th>loanamount</th>\n",
              "      <th>totaldue</th>\n",
              "      <th>termdays</th>\n",
              "      <th>interest</th>\n",
              "      <th>num_previous_loans</th>\n",
              "      <th>average_payback_timedelta</th>\n",
              "      <th>ratio_payback_ontime</th>\n",
              "      <th>Num_loans_ontime</th>\n",
              "      <th>Num_loans_NOT_ontime</th>\n",
              "      <th>age</th>\n",
              "    </tr>\n",
              "  </thead>\n",
              "  <tbody>\n",
              "    <tr>\n",
              "      <th>2278</th>\n",
              "      <td>10000.0</td>\n",
              "      <td>13000.0</td>\n",
              "      <td>30</td>\n",
              "      <td>3000.0</td>\n",
              "      <td>1</td>\n",
              "      <td>122551</td>\n",
              "      <td>1</td>\n",
              "      <td>1</td>\n",
              "      <td>0</td>\n",
              "      <td>28</td>\n",
              "    </tr>\n",
              "    <tr>\n",
              "      <th>298</th>\n",
              "      <td>10000.0</td>\n",
              "      <td>13000.0</td>\n",
              "      <td>30</td>\n",
              "      <td>3000.0</td>\n",
              "      <td>1</td>\n",
              "      <td>77799</td>\n",
              "      <td>1</td>\n",
              "      <td>1</td>\n",
              "      <td>0</td>\n",
              "      <td>24</td>\n",
              "    </tr>\n",
              "    <tr>\n",
              "      <th>52</th>\n",
              "      <td>10000.0</td>\n",
              "      <td>11500.0</td>\n",
              "      <td>15</td>\n",
              "      <td>1500.0</td>\n",
              "      <td>1</td>\n",
              "      <td>747975</td>\n",
              "      <td>1</td>\n",
              "      <td>1</td>\n",
              "      <td>0</td>\n",
              "      <td>46</td>\n",
              "    </tr>\n",
              "    <tr>\n",
              "      <th>796</th>\n",
              "      <td>10000.0</td>\n",
              "      <td>11500.0</td>\n",
              "      <td>15</td>\n",
              "      <td>1500.0</td>\n",
              "      <td>1</td>\n",
              "      <td>1.08413e+06</td>\n",
              "      <td>1</td>\n",
              "      <td>1</td>\n",
              "      <td>0</td>\n",
              "      <td>26</td>\n",
              "    </tr>\n",
              "    <tr>\n",
              "      <th>1137</th>\n",
              "      <td>10000.0</td>\n",
              "      <td>13000.0</td>\n",
              "      <td>30</td>\n",
              "      <td>3000.0</td>\n",
              "      <td>1</td>\n",
              "      <td>344228</td>\n",
              "      <td>1</td>\n",
              "      <td>1</td>\n",
              "      <td>0</td>\n",
              "      <td>26</td>\n",
              "    </tr>\n",
              "  </tbody>\n",
              "</table>\n",
              "</div>"
            ],
            "text/plain": [
              "      loanamount  totaldue  termdays  ...  Num_loans_ontime  Num_loans_NOT_ontime age\n",
              "2278     10000.0   13000.0        30  ...                 1                     0  28\n",
              "298      10000.0   13000.0        30  ...                 1                     0  24\n",
              "52       10000.0   11500.0        15  ...                 1                     0  46\n",
              "796      10000.0   11500.0        15  ...                 1                     0  26\n",
              "1137     10000.0   13000.0        30  ...                 1                     0  26\n",
              "\n",
              "[5 rows x 10 columns]"
            ]
          },
          "metadata": {
            "tags": []
          },
          "execution_count": 565
        }
      ]
    },
    {
      "cell_type": "code",
      "metadata": {
        "id": "-xC1YTmQBtA3",
        "colab_type": "code",
        "outputId": "d9e8f52e-ee2e-4d04-c9f8-fa6d50342bfb",
        "colab": {
          "base_uri": "https://localhost:8080/",
          "height": 34
        }
      },
      "source": [
        "\n",
        "clf=RandomForestClassifier().fit(X_train, target)\n",
        "print(('RF: ', clf.score(X_test,y_test)))\n"
      ],
      "execution_count": 0,
      "outputs": [
        {
          "output_type": "stream",
          "text": [
            "('RF: ', 0.6568527918781726)\n"
          ],
          "name": "stdout"
        }
      ]
    },
    {
      "cell_type": "code",
      "metadata": {
        "colab_type": "code",
        "outputId": "444d6326-a12a-4f59-cc28-28921dbd13bb",
        "id": "3XlkudeTXFSm",
        "colab": {
          "base_uri": "https://localhost:8080/",
          "height": 34
        }
      },
      "source": [
        "clf=LogisticRegression().fit(X_train, target)\n",
        "print(('LR: ', clf.score(X_test,y_test)))\n"
      ],
      "execution_count": 0,
      "outputs": [
        {
          "output_type": "stream",
          "text": [
            "('LR: ', 0.7715736040609137)\n"
          ],
          "name": "stdout"
        }
      ]
    },
    {
      "cell_type": "code",
      "metadata": {
        "colab_type": "code",
        "outputId": "ea34c4b6-f2c0-4cd3-f3c5-2828051839d6",
        "id": "niVmPKGuXFSo",
        "colab": {
          "base_uri": "https://localhost:8080/",
          "height": 34
        }
      },
      "source": [
        "from sklearn import svm\n",
        "clf = svm.SVC(kernel='rbf', C=1).fit(X_train, target)\n",
        "print(('SVC (rbf): ', clf.score(X_test, y_test)))\n"
      ],
      "execution_count": 0,
      "outputs": [
        {
          "output_type": "stream",
          "text": [
            "('SVC (rbf): ', 0.7563451776649747)\n"
          ],
          "name": "stdout"
        }
      ]
    },
    {
      "cell_type": "code",
      "metadata": {
        "id": "FF1zl7Um68Qg",
        "colab_type": "code",
        "colab": {}
      },
      "source": [
        ""
      ],
      "execution_count": 0,
      "outputs": []
    },
    {
      "cell_type": "markdown",
      "metadata": {
        "id": "nq4QvTBiXfAx",
        "colab_type": "text"
      },
      "source": [
        "### Model 4"
      ]
    },
    {
      "cell_type": "code",
      "metadata": {
        "colab_type": "code",
        "outputId": "c67acedf-6ca0-4f2b-d57f-e6287191f6c4",
        "id": "cdYpTfGqXgHU",
        "colab": {
          "base_uri": "https://localhost:8080/",
          "height": 34
        }
      },
      "source": [
        "subset_more_10k = train_df.loc[train_df['loanamount'] == 10000]\n",
        "subset_more_10k_prevloan.head(3)\n",
        "print(subset_more_10k.shape[0])"
      ],
      "execution_count": 0,
      "outputs": [
        {
          "output_type": "stream",
          "text": [
            "2469\n"
          ],
          "name": "stdout"
        }
      ]
    },
    {
      "cell_type": "code",
      "metadata": {
        "colab_type": "code",
        "outputId": "ebf782fd-ef3e-4d17-93a0-a76c3ee2fb1d",
        "id": "q7hitTU3XgHc",
        "colab": {
          "base_uri": "https://localhost:8080/",
          "height": 34
        }
      },
      "source": [
        "y_train.shape[0]"
      ],
      "execution_count": 0,
      "outputs": [
        {
          "output_type": "execute_result",
          "data": {
            "text/plain": [
              "4368"
            ]
          },
          "metadata": {
            "tags": []
          },
          "execution_count": 570
        }
      ]
    },
    {
      "cell_type": "code",
      "metadata": {
        "colab_type": "code",
        "id": "pespb8UwXgHf",
        "colab": {}
      },
      "source": [
        "model4_df = pd.merge(subset_more_10k_prevloan, y_train, on=\"customerid\")\n"
      ],
      "execution_count": 0,
      "outputs": []
    },
    {
      "cell_type": "code",
      "metadata": {
        "colab_type": "code",
        "outputId": "3170869f-ed0a-46e2-c235-be88b7ba4610",
        "id": "V9FFYeMUXgHh",
        "colab": {
          "base_uri": "https://localhost:8080/",
          "height": 224
        }
      },
      "source": [
        "model4_df.head()"
      ],
      "execution_count": 0,
      "outputs": [
        {
          "output_type": "execute_result",
          "data": {
            "text/html": [
              "<div>\n",
              "<style scoped>\n",
              "    .dataframe tbody tr th:only-of-type {\n",
              "        vertical-align: middle;\n",
              "    }\n",
              "\n",
              "    .dataframe tbody tr th {\n",
              "        vertical-align: top;\n",
              "    }\n",
              "\n",
              "    .dataframe thead th {\n",
              "        text-align: right;\n",
              "    }\n",
              "</style>\n",
              "<table border=\"1\" class=\"dataframe\">\n",
              "  <thead>\n",
              "    <tr style=\"text-align: right;\">\n",
              "      <th></th>\n",
              "      <th>customerid</th>\n",
              "      <th>loanamount</th>\n",
              "      <th>totaldue</th>\n",
              "      <th>termdays</th>\n",
              "      <th>referredby</th>\n",
              "      <th>ref_goodbad</th>\n",
              "      <th>interest</th>\n",
              "      <th>num_previous_loans</th>\n",
              "      <th>average_payback_timedelta</th>\n",
              "      <th>ratio_payback_ontime</th>\n",
              "      <th>Num_loans_ontime</th>\n",
              "      <th>Num_loans_NOT_ontime</th>\n",
              "      <th>bank_account_type</th>\n",
              "      <th>bank_name_clients</th>\n",
              "      <th>age</th>\n",
              "      <th>good_bad_flag</th>\n",
              "    </tr>\n",
              "  </thead>\n",
              "  <tbody>\n",
              "    <tr>\n",
              "      <th>0</th>\n",
              "      <td>8a85890754145ace015429211b513e16</td>\n",
              "      <td>10000.0</td>\n",
              "      <td>11500.0</td>\n",
              "      <td>15</td>\n",
              "      <td>0</td>\n",
              "      <td>NaN</td>\n",
              "      <td>1500.0</td>\n",
              "      <td>2</td>\n",
              "      <td>-771174</td>\n",
              "      <td>0</td>\n",
              "      <td>0</td>\n",
              "      <td>2</td>\n",
              "      <td>2</td>\n",
              "      <td>5</td>\n",
              "      <td>39</td>\n",
              "      <td>1</td>\n",
              "    </tr>\n",
              "    <tr>\n",
              "      <th>1</th>\n",
              "      <td>8a858e095c59b91b015c5e5cea3719bc</td>\n",
              "      <td>10000.0</td>\n",
              "      <td>13000.0</td>\n",
              "      <td>30</td>\n",
              "      <td>0</td>\n",
              "      <td>NaN</td>\n",
              "      <td>3000.0</td>\n",
              "      <td>2</td>\n",
              "      <td>263252</td>\n",
              "      <td>1</td>\n",
              "      <td>2</td>\n",
              "      <td>0</td>\n",
              "      <td>2</td>\n",
              "      <td>6</td>\n",
              "      <td>28</td>\n",
              "      <td>1</td>\n",
              "    </tr>\n",
              "    <tr>\n",
              "      <th>2</th>\n",
              "      <td>8a858e185b4923b4015b4ae48d28646a</td>\n",
              "      <td>10000.0</td>\n",
              "      <td>11500.0</td>\n",
              "      <td>15</td>\n",
              "      <td>0</td>\n",
              "      <td>NaN</td>\n",
              "      <td>1500.0</td>\n",
              "      <td>3</td>\n",
              "      <td>-224188</td>\n",
              "      <td>0.666667</td>\n",
              "      <td>2</td>\n",
              "      <td>1</td>\n",
              "      <td>2</td>\n",
              "      <td>6</td>\n",
              "      <td>30</td>\n",
              "      <td>1</td>\n",
              "    </tr>\n",
              "    <tr>\n",
              "      <th>3</th>\n",
              "      <td>8a858e1d5cd58f9e015ceda4bdb63673</td>\n",
              "      <td>10000.0</td>\n",
              "      <td>11500.0</td>\n",
              "      <td>15</td>\n",
              "      <td>0</td>\n",
              "      <td>NaN</td>\n",
              "      <td>1500.0</td>\n",
              "      <td>1</td>\n",
              "      <td>294694</td>\n",
              "      <td>1</td>\n",
              "      <td>1</td>\n",
              "      <td>0</td>\n",
              "      <td>2</td>\n",
              "      <td>0</td>\n",
              "      <td>32</td>\n",
              "      <td>1</td>\n",
              "    </tr>\n",
              "    <tr>\n",
              "      <th>4</th>\n",
              "      <td>8a858e245c214660015c2ba8187976f7</td>\n",
              "      <td>10000.0</td>\n",
              "      <td>13000.0</td>\n",
              "      <td>30</td>\n",
              "      <td>0</td>\n",
              "      <td>NaN</td>\n",
              "      <td>3000.0</td>\n",
              "      <td>1</td>\n",
              "      <td>174051</td>\n",
              "      <td>1</td>\n",
              "      <td>1</td>\n",
              "      <td>0</td>\n",
              "      <td>2</td>\n",
              "      <td>2</td>\n",
              "      <td>34</td>\n",
              "      <td>1</td>\n",
              "    </tr>\n",
              "  </tbody>\n",
              "</table>\n",
              "</div>"
            ],
            "text/plain": [
              "                         customerid  loanamount  ...  age  good_bad_flag\n",
              "0  8a85890754145ace015429211b513e16     10000.0  ...   39              1\n",
              "1  8a858e095c59b91b015c5e5cea3719bc     10000.0  ...   28              1\n",
              "2  8a858e185b4923b4015b4ae48d28646a     10000.0  ...   30              1\n",
              "3  8a858e1d5cd58f9e015ceda4bdb63673     10000.0  ...   32              1\n",
              "4  8a858e245c214660015c2ba8187976f7     10000.0  ...   34              1\n",
              "\n",
              "[5 rows x 16 columns]"
            ]
          },
          "metadata": {
            "tags": []
          },
          "execution_count": 572
        }
      ]
    },
    {
      "cell_type": "code",
      "metadata": {
        "colab_type": "code",
        "outputId": "ac2eef80-3405-4b36-acd6-a0648feee2ce",
        "id": "m4OsEVBNXgHl",
        "colab": {
          "base_uri": "https://localhost:8080/",
          "height": 34
        }
      },
      "source": [
        "model4_df.shape[0]"
      ],
      "execution_count": 0,
      "outputs": [
        {
          "output_type": "execute_result",
          "data": {
            "text/plain": [
              "2462"
            ]
          },
          "metadata": {
            "tags": []
          },
          "execution_count": 573
        }
      ]
    },
    {
      "cell_type": "code",
      "metadata": {
        "colab_type": "code",
        "id": "wdtdrjysXgHq",
        "colab": {}
      },
      "source": [
        "model1_features = model4_df[['loanamount','totaldue',\t'termdays',\t'interest','num_previous_loans','age']]\n",
        "model1_target = model4_df[['good_bad_flag']]"
      ],
      "execution_count": 0,
      "outputs": []
    },
    {
      "cell_type": "code",
      "metadata": {
        "id": "OQQWSNOtAjmu",
        "colab_type": "code",
        "colab": {}
      },
      "source": [
        ""
      ],
      "execution_count": 0,
      "outputs": []
    },
    {
      "cell_type": "code",
      "metadata": {
        "colab_type": "code",
        "outputId": "5b1f386c-1600-4560-9267-03ebb6904685",
        "id": "9fkkBOjAXgHs",
        "colab": {
          "base_uri": "https://localhost:8080/",
          "height": 34
        }
      },
      "source": [
        "\n",
        "clf=RandomForestClassifier().fit(X_train, target)\n",
        "print(('RF: ', clf.score(X_test,y_test)))\n"
      ],
      "execution_count": 0,
      "outputs": [
        {
          "output_type": "stream",
          "text": [
            "('RF: ', 0.6720812182741117)\n"
          ],
          "name": "stdout"
        }
      ]
    },
    {
      "cell_type": "code",
      "metadata": {
        "colab_type": "code",
        "outputId": "a0e8b49e-b16b-4cf1-e983-1bba27b3da52",
        "id": "tvgmd9NfXgHu",
        "colab": {
          "base_uri": "https://localhost:8080/",
          "height": 34
        }
      },
      "source": [
        "clf=LogisticRegression().fit(X_train, target)\n",
        "print(('LR: ', clf.score(X_test,y_test)))\n"
      ],
      "execution_count": 0,
      "outputs": [
        {
          "output_type": "stream",
          "text": [
            "('LR: ', 0.7715736040609137)\n"
          ],
          "name": "stdout"
        }
      ]
    },
    {
      "cell_type": "code",
      "metadata": {
        "colab_type": "code",
        "id": "xHUTS92PXgH0",
        "outputId": "08e2ab56-3b9e-447e-af17-4d72344fca34",
        "colab": {
          "base_uri": "https://localhost:8080/",
          "height": 34
        }
      },
      "source": [
        "from sklearn import svm\n",
        "clf = svm.SVC(kernel='rbf', C=1).fit(X_train, target)\n",
        "print(('SVC (rbf): ', clf.score(X_test, y_test)))\n"
      ],
      "execution_count": 0,
      "outputs": [
        {
          "output_type": "stream",
          "text": [
            "('SVC (rbf): ', 0.7563451776649747)\n"
          ],
          "name": "stdout"
        }
      ]
    },
    {
      "cell_type": "code",
      "metadata": {
        "id": "hcudf-jl1FT7",
        "colab_type": "code",
        "colab": {}
      },
      "source": [
        ""
      ],
      "execution_count": 0,
      "outputs": []
    },
    {
      "cell_type": "markdown",
      "metadata": {
        "id": "DHojHuEGaG0O",
        "colab_type": "text"
      },
      "source": [
        "### Final Model\n",
        "\n",
        "This is the final model, which is an combination of the most successfull models in each model n section. "
      ]
    },
    {
      "cell_type": "code",
      "metadata": {
        "id": "ABWIOh8Ca2me",
        "colab_type": "code",
        "colab": {}
      },
      "source": [
        "\n",
        "model1_features = model1_df[['loanamount','totaldue',\t'termdays',\t'interest','num_previous_loans','average_payback_timedelta','ratio_payback_ontime','Num_loans_ontime','Num_loans_NOT_ontime','age','bank_account_type',\t'bank_name_clients']]\n",
        "model1_target = model1_df[['good_bad_flag']]\n",
        "\n",
        "\n",
        "model2_features = model2_df[['loanamount','totaldue',\t'termdays',\t'interest','num_previous_loans','age','bank_account_type','bank_name_clients']]\n",
        "model2_target = model2_df[['good_bad_flag']]\n",
        "\n",
        "model3_features = model3_df[['loanamount','totaldue',\t'termdays',\t'interest','num_previous_loans','average_payback_timedelta','ratio_payback_ontime','Num_loans_ontime','Num_loans_NOT_ontime','age','bank_account_type','bank_name_clients']]\n",
        "model3_target = model3_df[['good_bad_flag']]\n",
        "\n",
        "\n",
        "model4_features = model4_df[['loanamount','totaldue',\t'termdays',\t'interest','num_previous_loans','age','bank_account_type','bank_name_clients']]\n",
        "model4_target = model4_df[['good_bad_flag']]"
      ],
      "execution_count": 0,
      "outputs": []
    },
    {
      "cell_type": "code",
      "metadata": {
        "id": "AmUn2xsRfz1q",
        "colab_type": "code",
        "colab": {}
      },
      "source": [
        "model_1 = LogisticRegression().fit(model1_features, model1_target)\n",
        "model_2 = svm.SVC(kernel='rbf', C=1).fit(model2_features, model2_target)\n",
        "\n",
        "model_3_lr = LogisticRegression().fit(model3_features, model3_target)\n",
        "model_3_rf = LogisticRegression().fit(model3_features, model3_target)\n",
        "model_3_SVC = LogisticRegression().fit(model3_features, model3_target)\n",
        "\n",
        "model_4 = RandomForestClassifier().fit(model4_features, model4_target)"
      ],
      "execution_count": 0,
      "outputs": []
    },
    {
      "cell_type": "code",
      "metadata": {
        "id": "zUx7LWz7gUZQ",
        "colab_type": "code",
        "colab": {}
      },
      "source": [
        "#feature = test_df.iloc[[index]][['loanamount','totaldue',\t'termdays',\t'interest','num_previous_loans','average_payback_timedelta','ratio_payback_ontime','Num_loans_ontime','Num_loans_NOT_ontime']]\n",
        "#feature.head()"
      ],
      "execution_count": 0,
      "outputs": []
    },
    {
      "cell_type": "code",
      "metadata": {
        "id": "DyWv4i8ki956",
        "colab_type": "code",
        "colab": {}
      },
      "source": [
        "#print(model_3.predict(feature))"
      ],
      "execution_count": 0,
      "outputs": []
    },
    {
      "cell_type": "code",
      "metadata": {
        "id": "4CGEQRLwaIR-",
        "colab_type": "code",
        "colab": {}
      },
      "source": [
        "predictions = []\n",
        "for index in range(0,test_df.shape[0]):\n",
        "  loanamount = int(test_df['loanamount'][index])\n",
        "  num_prevloans = int(test_df['num_previous_loans'][index]) \n",
        "  if loanamount == 1000:\n",
        "    if num_prevloans >0:\n",
        "      \n",
        "      #model 3 \n",
        "      feature = test_df.iloc[[index]][['loanamount','totaldue',\t'termdays',\t'interest','num_previous_loans','average_payback_timedelta','ratio_payback_ontime','Num_loans_ontime','Num_loans_NOT_ontime','age','bank_account_type','bank_name_clients']]\n",
        "      pred = model_3.predict(feature)\n",
        "      predictions.append(int(pred))\n",
        "    else: \n",
        "      #model 4\n",
        "      feature = test_df.iloc[[index]][['loanamount','totaldue',\t'termdays',\t'interest','num_previous_loans','age','bank_account_type','bank_name_clients']]\n",
        "      pred = model_4.predict(feature)\n",
        "      predictions.append(int(pred))\n",
        "  else:\n",
        "    if num_prevloans >0:\n",
        "      #model 1 \n",
        "      feature = test_df.iloc[[index]][['loanamount','totaldue',\t'termdays',\t'interest','num_previous_loans','average_payback_timedelta','ratio_payback_ontime','Num_loans_ontime','Num_loans_NOT_ontime','age','bank_account_type','bank_name_clients']]\n",
        "      pred = model_1.predict(feature)\n",
        "      predictions.append(int(pred))\n",
        "    else:  \n",
        "      #model 2 \n",
        "      feature = test_df.iloc[[index]][['loanamount','totaldue',\t'termdays',\t'interest','num_previous_loans','age','bank_account_type','bank_name_clients']]\n",
        "      pred = model_2.predict(feature)\n",
        "      predictions.append(int(pred))"
      ],
      "execution_count": 0,
      "outputs": []
    },
    {
      "cell_type": "markdown",
      "metadata": {
        "id": "DgPne7SPnzrY",
        "colab_type": "text"
      },
      "source": [
        "### Submission\n",
        "\n",
        "Here we create an excel file with a submission"
      ]
    },
    {
      "cell_type": "code",
      "metadata": {
        "id": "oZrKxSXnac3y",
        "colab_type": "code",
        "colab": {}
      },
      "source": [
        "\n",
        "submission = pd.DataFrame({'customerid':test_df['customerid'],'Good_Bad_flag':predictions})\n",
        "from google.colab import files\n",
        "submission.to_csv('final_busura_model.csv',index=False) \n",
        "files.download('final_busura_model.csv')\n"
      ],
      "execution_count": 0,
      "outputs": []
    },
    {
      "cell_type": "code",
      "metadata": {
        "id": "JreSc91N8G5b",
        "colab_type": "code",
        "colab": {}
      },
      "source": [
        ""
      ],
      "execution_count": 0,
      "outputs": []
    }
  ]
}